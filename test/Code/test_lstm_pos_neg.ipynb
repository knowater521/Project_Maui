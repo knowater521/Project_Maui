{
 "cells": [
  {
   "cell_type": "markdown",
   "metadata": {},
   "source": [
    "### Suggestions from Tutor\n",
    "* Perhaps with SPY or other indices\n",
    "* perform an hourly training/5 min traning, etc. \n",
    "* store pre-trained model \n",
    "* current data for prediction\n",
    "* load model\n",
    "* get ticker name input\n",
    "* predict usining model\n",
    "* show results"
   ]
  },
  {
   "cell_type": "markdown",
   "metadata": {},
   "source": [
    "### Initial ML Attempt using LSTM RNN\n",
    "\n",
    "\n",
    "**LSTM provides better predictions for the direction of price moves on negative news sentiments compared to positive sentiments**\n",
    "\n",
    "\n",
    "\n",
    "### Resources:\n",
    "\n",
    "\n",
    "_**Binary Keras LSTM model does not output binary predictions**_\n",
    "\n",
    "\"There is no 'binary' in neural networks, but a continuous function within limits.\n",
    "Only with continuous functions a model can train and learn using \"stochastic gradient descent\".\n",
    "For trying to achieve binary results, we use the sigmoid function, which goes from 0 to 1. But initially, your model is not trained, all its \"weights\" are sort of initialised randomly. \n",
    "The result is indeed results tending to mean values, which are 0.5 in sigmoid functions.\n",
    "All you need is to train your model with enough data for enough epochs, \n",
    "so the results will gradually approach (but never hit) 0 or 1 (or whatever targets \"y\" you have in your training data)\"\n",
    "\n",
    "Source: https://stackoverflow.com/questions/46040656/binary-keras-lstm-model-does-not-output-binary-predictions"
   ]
  },
  {
   "cell_type": "code",
   "execution_count": 372,
   "metadata": {},
   "outputs": [],
   "source": [
    "#Source: https://github.com/Derrick-Sherrill/DerrickSherrill.com/blob/master/stocks.py\n",
    "\n",
    "import os\n",
    "import pandas as pd\n",
    "\n",
    "# importing libraries\n",
    "from pathlib import Path\n",
    "import pandas as pd\n",
    "import ipywidgets as widgets\n",
    "from IPython.display import display\n",
    "from datetime import datetime, timedelta\n",
    "from iexfinance.stocks import get_historical_data\n",
    "\n",
    "\n",
    "from alpha_vantage.timeseries import TimeSeries\n",
    "import time\n",
    "from path import Path\n",
    "%matplotlib inline\n",
    "from datetime import datetime as dt\n",
    "from dateutil.tz import gettz\n",
    "import re\n",
    "import numpy as np\n",
    "import pandas as pd\n",
    "import hvplot.pandas\n",
    "from sklearn.preprocessing import OneHotEncoder, StandardScaler\n",
    "import tensorflow as tf\n",
    "import keras\n",
    "from newsapi import NewsApiClient\n",
    "\n",
    "#!pip install alpha_vantage\n",
    "# get API from alpha vantage\n",
    "api_key_stocks = os.getenv(\"ALPHA_VANTAGE_API_KEY\")\n",
    "\n",
    "#import nltk\n",
    "#nltk.download()\n",
    "from nltk.corpus import reuters\n",
    "from nltk.sentiment.vader import SentimentIntensityAnalyzer\n",
    "analyzer = SentimentIntensityAnalyzer()\n",
    "\n",
    "# Read your api key environment variable\n",
    "api_key_news = os.getenv(\"NEWS_API_KEY\")\n",
    "# Create a newsapi client\n",
    "newsapi = NewsApiClient(api_key=api_key_news)\n"
   ]
  },
  {
   "cell_type": "markdown",
   "metadata": {},
   "source": [
    "# News Data"
   ]
  },
  {
   "cell_type": "code",
   "execution_count": 373,
   "metadata": {},
   "outputs": [
    {
     "name": "stdin",
     "output_type": "stream",
     "text": [
      "Enter ticker : DIS\n"
     ]
    }
   ],
   "source": [
    "#TODO: To be replaced by dropdown widgets from maui_stock_data.ipynb\n",
    "tickers = ['SPY','DJIA','AAPL', 'GOOG', 'FB', 'NFLX','DIS', 'MSFT', 'IBM']\n",
    "ticker = input (\"Enter ticker :\") "
   ]
  },
  {
   "cell_type": "code",
   "execution_count": 562,
   "metadata": {},
   "outputs": [],
   "source": [
    "#df = pd.read_pickle('../Data/DIS_clean.pickle') # data as of 4/16/2020"
   ]
  },
  {
   "cell_type": "code",
   "execution_count": 618,
   "metadata": {},
   "outputs": [],
   "source": [
    "df = pd.read_pickle('../Data/dis_ln_dum.pickle') # data as of 4/14/2020"
   ]
  },
  {
   "cell_type": "code",
   "execution_count": 619,
   "metadata": {},
   "outputs": [
    {
     "data": {
      "text/html": [
       "<div>\n",
       "<style scoped>\n",
       "    .dataframe tbody tr th:only-of-type {\n",
       "        vertical-align: middle;\n",
       "    }\n",
       "\n",
       "    .dataframe tbody tr th {\n",
       "        vertical-align: top;\n",
       "    }\n",
       "\n",
       "    .dataframe thead th {\n",
       "        text-align: right;\n",
       "    }\n",
       "</style>\n",
       "<table border=\"1\" class=\"dataframe\">\n",
       "  <thead>\n",
       "    <tr style=\"text-align: right;\">\n",
       "      <th></th>\n",
       "      <th>compound</th>\n",
       "      <th>positive</th>\n",
       "      <th>negative</th>\n",
       "      <th>neutral</th>\n",
       "      <th>close</th>\n",
       "      <th>lagged_return_1d</th>\n",
       "      <th>lagged_return_3d</th>\n",
       "      <th>lagged_return_5d</th>\n",
       "      <th>return</th>\n",
       "      <th>Increase</th>\n",
       "    </tr>\n",
       "    <tr>\n",
       "      <th>date</th>\n",
       "      <th></th>\n",
       "      <th></th>\n",
       "      <th></th>\n",
       "      <th></th>\n",
       "      <th></th>\n",
       "      <th></th>\n",
       "      <th></th>\n",
       "      <th></th>\n",
       "      <th></th>\n",
       "      <th></th>\n",
       "    </tr>\n",
       "  </thead>\n",
       "  <tbody>\n",
       "    <tr>\n",
       "      <th>2020-03-16</th>\n",
       "      <td>0.9832</td>\n",
       "      <td>0.075</td>\n",
       "      <td>0.034</td>\n",
       "      <td>0.890</td>\n",
       "      <td>95.01</td>\n",
       "      <td>0.0</td>\n",
       "      <td>0.0000</td>\n",
       "      <td>0.0</td>\n",
       "      <td>0.000000</td>\n",
       "      <td>1</td>\n",
       "    </tr>\n",
       "    <tr>\n",
       "      <th>2020-03-17</th>\n",
       "      <td>0.9963</td>\n",
       "      <td>0.107</td>\n",
       "      <td>0.040</td>\n",
       "      <td>0.853</td>\n",
       "      <td>93.53</td>\n",
       "      <td>0.0</td>\n",
       "      <td>0.0000</td>\n",
       "      <td>0.0</td>\n",
       "      <td>-0.015700</td>\n",
       "      <td>0</td>\n",
       "    </tr>\n",
       "    <tr>\n",
       "      <th>2020-03-18</th>\n",
       "      <td>0.9715</td>\n",
       "      <td>0.109</td>\n",
       "      <td>0.083</td>\n",
       "      <td>0.808</td>\n",
       "      <td>88.80</td>\n",
       "      <td>0.0</td>\n",
       "      <td>0.0000</td>\n",
       "      <td>0.0</td>\n",
       "      <td>-0.051896</td>\n",
       "      <td>0</td>\n",
       "    </tr>\n",
       "    <tr>\n",
       "      <th>2020-03-19</th>\n",
       "      <td>-0.8074</td>\n",
       "      <td>0.069</td>\n",
       "      <td>0.070</td>\n",
       "      <td>0.861</td>\n",
       "      <td>94.93</td>\n",
       "      <td>0.0</td>\n",
       "      <td>0.0000</td>\n",
       "      <td>0.0</td>\n",
       "      <td>0.066753</td>\n",
       "      <td>1</td>\n",
       "    </tr>\n",
       "    <tr>\n",
       "      <th>2020-03-20</th>\n",
       "      <td>0.8507</td>\n",
       "      <td>0.045</td>\n",
       "      <td>0.036</td>\n",
       "      <td>0.919</td>\n",
       "      <td>85.98</td>\n",
       "      <td>0.0</td>\n",
       "      <td>-0.0157</td>\n",
       "      <td>0.0</td>\n",
       "      <td>-0.099025</td>\n",
       "      <td>0</td>\n",
       "    </tr>\n",
       "  </tbody>\n",
       "</table>\n",
       "</div>"
      ],
      "text/plain": [
       "            compound  positive  negative  neutral  close  lagged_return_1d  \\\n",
       "date                                                                         \n",
       "2020-03-16    0.9832     0.075     0.034    0.890  95.01               0.0   \n",
       "2020-03-17    0.9963     0.107     0.040    0.853  93.53               0.0   \n",
       "2020-03-18    0.9715     0.109     0.083    0.808  88.80               0.0   \n",
       "2020-03-19   -0.8074     0.069     0.070    0.861  94.93               0.0   \n",
       "2020-03-20    0.8507     0.045     0.036    0.919  85.98               0.0   \n",
       "\n",
       "            lagged_return_3d  lagged_return_5d    return  Increase  \n",
       "date                                                                \n",
       "2020-03-16            0.0000               0.0  0.000000         1  \n",
       "2020-03-17            0.0000               0.0 -0.015700         0  \n",
       "2020-03-18            0.0000               0.0 -0.051896         0  \n",
       "2020-03-19            0.0000               0.0  0.066753         1  \n",
       "2020-03-20           -0.0157               0.0 -0.099025         0  "
      ]
     },
     "execution_count": 619,
     "metadata": {},
     "output_type": "execute_result"
    }
   ],
   "source": [
    "df.head()"
   ]
  },
  {
   "cell_type": "code",
   "execution_count": 620,
   "metadata": {},
   "outputs": [],
   "source": [
    "# Needed if using dis_dum where column Increase is in 0 or 1\n",
    "#increase = df.Increase"
   ]
  },
  {
   "cell_type": "code",
   "execution_count": 621,
   "metadata": {},
   "outputs": [],
   "source": [
    "# Transform Predicted column\n",
    "#def changeIncrease(increase):\n",
    "#    if increase == 1:\n",
    "#        return 1.0\n",
    "#    else:\n",
    "#        return -1.0\n",
    "\n",
    "#df[\"Increase\"] = df[\"Increase\"].apply(changeIncrease)\n",
    "#df"
   ]
  },
  {
   "cell_type": "code",
   "execution_count": 622,
   "metadata": {},
   "outputs": [],
   "source": [
    "dis = df.copy()"
   ]
  },
  {
   "cell_type": "markdown",
   "metadata": {},
   "source": [
    "### Model\n",
    "_**LSTM**_"
   ]
  },
  {
   "cell_type": "code",
   "execution_count": 623,
   "metadata": {},
   "outputs": [],
   "source": [
    "# This function accepts the column number for the features (X) and the target (y)\n",
    "# It chunks the data up with a rolling window of Xt-n to predict Xt\n",
    "# It returns a numpy array of X any y\n",
    "def window_data(df, window, feature_col_number, target_col_number):\n",
    "    X = []\n",
    "    y = []\n",
    "    \n",
    "    for i in range(len(df) - window - 1):\n",
    "        \n",
    "        features = df.iloc[i:(i + window), feature_col_number]\n",
    "        target = df.iloc[(i + window), target_col_number]\n",
    "               \n",
    "        X.append(features)\n",
    "        y.append(target)\n",
    "     \n",
    "        \n",
    "    return np.array(X), np.array(y).reshape(-1, 1)"
   ]
  },
  {
   "cell_type": "code",
   "execution_count": 624,
   "metadata": {},
   "outputs": [],
   "source": [
    "# Predict Closing Prices using a 10 day window of previous closing prices\n",
    "# Try a window size anywhere from 1 to 10 and see how the model performance changes\n",
    "# A window_size of 1 means no lag in the timeframe defined later\n",
    "\n",
    "window_size = 1 # 1day\n",
    "#window_size = 2\n",
    "#window_size = 3\n",
    "#window_size = 4\n",
    "#window_size = 5\n",
    "#window_size = 6\n",
    "#window_size = 7\n",
    "#window_size = 8\n",
    "#window_size = 9\n",
    "#window_size = 10"
   ]
  },
  {
   "cell_type": "markdown",
   "metadata": {},
   "source": [
    "_**Column index 1 is the `Positive` column**_"
   ]
  },
  {
   "cell_type": "code",
   "execution_count": 625,
   "metadata": {},
   "outputs": [],
   "source": [
    "feature_column_pos = 1\n",
    "target_column = 9    # Increase is the binary target column # this is 5 if using DIS_clean.pickle\n",
    "X, y = window_data(dis, window_size, feature_column_pos, target_column)"
   ]
  },
  {
   "cell_type": "code",
   "execution_count": 626,
   "metadata": {},
   "outputs": [],
   "source": [
    "# Apply One-hot encoding to the target labels\n",
    "enc = OneHotEncoder()\n",
    "enc.fit(y)\n",
    "y = enc.transform(y).toarray()[:,0]\n",
    "y = np.array(y).reshape(-1,1)"
   ]
  },
  {
   "cell_type": "code",
   "execution_count": 627,
   "metadata": {},
   "outputs": [],
   "source": [
    "# Use 70% of the data for training and the remaineder for testing\n",
    "split = int(0.7 * len(X))\n",
    "X_train = X[: split - 1]\n",
    "X_test = X[split:]\n",
    "y_train = y[: split - 1]\n",
    "y_test = y[split:]"
   ]
  },
  {
   "cell_type": "code",
   "execution_count": 628,
   "metadata": {},
   "outputs": [],
   "source": [
    "# Use the MinMaxScaler to scale data between 0 and 1.\n",
    "from sklearn.preprocessing import MinMaxScaler\n",
    "\n",
    "scaler = MinMaxScaler()\n",
    "scaler.fit(X)\n",
    "X_train = scaler.transform(X_train)\n",
    "X_test = scaler.transform(X_test)"
   ]
  },
  {
   "cell_type": "code",
   "execution_count": 629,
   "metadata": {},
   "outputs": [
    {
     "name": "stdout",
     "output_type": "stream",
     "text": [
      "X_train sample values:\n",
      "[[[0.375]]] \n",
      "\n",
      "X_test sample values:\n",
      "[[[0.6875]]]\n"
     ]
    }
   ],
   "source": [
    "# Reshape the features for the model\n",
    "X_train = X_train.reshape((X_train.shape[0], X_train.shape[1], 1))\n",
    "X_test = X_test.reshape((X_test.shape[0], X_test.shape[1], 1))\n",
    "print (f\"X_train sample values:\\n{X_train[:1]} \\n\")\n",
    "print (f\"X_test sample values:\\n{X_test[:1]}\")"
   ]
  },
  {
   "cell_type": "code",
   "execution_count": 630,
   "metadata": {},
   "outputs": [
    {
     "name": "stdout",
     "output_type": "stream",
     "text": [
      "y_train sample values:\n",
      "[[1.]] \n",
      "\n",
      "y_test sample values:\n",
      "[[0.]]\n"
     ]
    }
   ],
   "source": [
    "print (f\"y_train sample values:\\n{y_train[:1]} \\n\")\n",
    "print (f\"y_test sample values:\\n{y_test[:1]}\")"
   ]
  },
  {
   "cell_type": "markdown",
   "metadata": {},
   "source": [
    "#### _**Build and Train the LSTM RNN**_"
   ]
  },
  {
   "cell_type": "code",
   "execution_count": 631,
   "metadata": {},
   "outputs": [],
   "source": [
    "from tensorflow.keras.models import Sequential\n",
    "from tensorflow.keras.layers import LSTM, Dense, Dropout"
   ]
  },
  {
   "cell_type": "code",
   "execution_count": 632,
   "metadata": {},
   "outputs": [],
   "source": [
    "# Build the LSTM model. \n",
    "# The return sequences need to be set to True if you are adding additional LSTM layers, but \n",
    "# You don't have to do this for the final layer. \n",
    "# Define the LSTM RNN model.\n",
    "\n",
    "model = Sequential()\n",
    "\n",
    "# Initial model setup\n",
    "number_units = 20\n",
    "dropout_fraction = 0.1\n",
    "\n",
    "# Layer 1\n",
    "model.add(LSTM(\n",
    "    units=number_units,\n",
    "    return_sequences=True,\n",
    "    input_shape=(X_train.shape[1], 1))\n",
    "    )\n",
    "model.add(Dropout(dropout_fraction))\n",
    "\n",
    "# Layer 2\n",
    "model.add(LSTM(units=number_units, activation='sigmoid', return_sequences=True))\n",
    "model.add(Dropout(dropout_fraction))\n",
    "\n",
    "# Layer 3\n",
    "model.add(LSTM(units=number_units))\n",
    "model.add(Dropout(dropout_fraction))\n",
    "\n",
    "# Output layer\n",
    "model.add(Dense(1))"
   ]
  },
  {
   "cell_type": "code",
   "execution_count": 633,
   "metadata": {},
   "outputs": [
    {
     "data": {
      "text/plain": [
       "(11, 1, 1)"
      ]
     },
     "execution_count": 633,
     "metadata": {},
     "output_type": "execute_result"
    }
   ],
   "source": [
    "X_train.shape"
   ]
  },
  {
   "cell_type": "code",
   "execution_count": 634,
   "metadata": {},
   "outputs": [
    {
     "data": {
      "text/plain": [
       "(11, 1)"
      ]
     },
     "execution_count": 634,
     "metadata": {},
     "output_type": "execute_result"
    }
   ],
   "source": [
    "y_train.shape"
   ]
  },
  {
   "cell_type": "code",
   "execution_count": 635,
   "metadata": {},
   "outputs": [],
   "source": [
    "#y_train.reshape(-1,1)"
   ]
  },
  {
   "cell_type": "code",
   "execution_count": 636,
   "metadata": {},
   "outputs": [
    {
     "data": {
      "text/plain": [
       "(6, 1, 1)"
      ]
     },
     "execution_count": 636,
     "metadata": {},
     "output_type": "execute_result"
    }
   ],
   "source": [
    "X_test.shape"
   ]
  },
  {
   "cell_type": "code",
   "execution_count": 637,
   "metadata": {},
   "outputs": [
    {
     "data": {
      "text/plain": [
       "(6, 1)"
      ]
     },
     "execution_count": 637,
     "metadata": {},
     "output_type": "execute_result"
    }
   ],
   "source": [
    "y_test.shape"
   ]
  },
  {
   "cell_type": "code",
   "execution_count": 638,
   "metadata": {},
   "outputs": [
    {
     "data": {
      "text/plain": [
       "(6, 1)"
      ]
     },
     "execution_count": 638,
     "metadata": {},
     "output_type": "execute_result"
    }
   ],
   "source": [
    "y_test.shape"
   ]
  },
  {
   "cell_type": "code",
   "execution_count": 639,
   "metadata": {},
   "outputs": [],
   "source": [
    "# Compile the model\n",
    "model.compile(optimizer=\"adam\", \n",
    "              metrics=[\"accuracy\", \"mse\"],\n",
    "              loss=\"mean_squared_error\") "
   ]
  },
  {
   "cell_type": "code",
   "execution_count": 640,
   "metadata": {},
   "outputs": [
    {
     "name": "stdout",
     "output_type": "stream",
     "text": [
      "Model: \"sequential_23\"\n",
      "_________________________________________________________________\n",
      "Layer (type)                 Output Shape              Param #   \n",
      "=================================================================\n",
      "lstm_69 (LSTM)               (None, 1, 20)             1760      \n",
      "_________________________________________________________________\n",
      "dropout_69 (Dropout)         (None, 1, 20)             0         \n",
      "_________________________________________________________________\n",
      "lstm_70 (LSTM)               (None, 1, 20)             3280      \n",
      "_________________________________________________________________\n",
      "dropout_70 (Dropout)         (None, 1, 20)             0         \n",
      "_________________________________________________________________\n",
      "lstm_71 (LSTM)               (None, 20)                3280      \n",
      "_________________________________________________________________\n",
      "dropout_71 (Dropout)         (None, 20)                0         \n",
      "_________________________________________________________________\n",
      "dense_23 (Dense)             (None, 1)                 21        \n",
      "=================================================================\n",
      "Total params: 8,341\n",
      "Trainable params: 8,341\n",
      "Non-trainable params: 0\n",
      "_________________________________________________________________\n"
     ]
    }
   ],
   "source": [
    "# Summarize the model\n",
    "model.summary() "
   ]
  },
  {
   "cell_type": "code",
   "execution_count": 641,
   "metadata": {},
   "outputs": [],
   "source": [
    "# Creating validation data sets\n",
    "from sklearn.model_selection import train_test_split\n",
    "X_train, X_val, y_train, y_val = train_test_split(X_train, y_train, test_size = 0.3, shuffle=False) "
   ]
  },
  {
   "cell_type": "code",
   "execution_count": 642,
   "metadata": {},
   "outputs": [
    {
     "name": "stdout",
     "output_type": "stream",
     "text": [
      "Train on 7 samples, validate on 4 samples\n",
      "Epoch 1/200\n",
      "7/7 [==============================] - 3s 491ms/sample - loss: 0.4761 - accuracy: 0.4286 - mse: 0.4761 - val_loss: 0.3790 - val_accuracy: 0.5000 - val_mse: 0.3790\n",
      "Epoch 2/200\n",
      "7/7 [==============================] - 0s 4ms/sample - loss: 0.4437 - accuracy: 0.4286 - mse: 0.4437 - val_loss: 0.3429 - val_accuracy: 0.5000 - val_mse: 0.3429\n",
      "Epoch 3/200\n",
      "7/7 [==============================] - 0s 5ms/sample - loss: 0.3886 - accuracy: 0.4286 - mse: 0.3886 - val_loss: 0.3154 - val_accuracy: 0.5000 - val_mse: 0.3154\n",
      "Epoch 4/200\n",
      "7/7 [==============================] - 0s 5ms/sample - loss: 0.3512 - accuracy: 0.4286 - mse: 0.3512 - val_loss: 0.2939 - val_accuracy: 0.5000 - val_mse: 0.2939\n",
      "Epoch 5/200\n",
      "7/7 [==============================] - 0s 5ms/sample - loss: 0.3481 - accuracy: 0.4286 - mse: 0.3481 - val_loss: 0.2778 - val_accuracy: 0.5000 - val_mse: 0.2778\n",
      "Epoch 6/200\n",
      "7/7 [==============================] - 0s 6ms/sample - loss: 0.2825 - accuracy: 0.4286 - mse: 0.2825 - val_loss: 0.2664 - val_accuracy: 0.5000 - val_mse: 0.2664\n",
      "Epoch 7/200\n",
      "7/7 [==============================] - 0s 5ms/sample - loss: 0.2891 - accuracy: 0.4286 - mse: 0.2891 - val_loss: 0.2585 - val_accuracy: 0.5000 - val_mse: 0.2585\n",
      "Epoch 8/200\n",
      "7/7 [==============================] - 0s 5ms/sample - loss: 0.2565 - accuracy: 0.5714 - mse: 0.2565 - val_loss: 0.2535 - val_accuracy: 0.5000 - val_mse: 0.2535\n",
      "Epoch 9/200\n",
      "7/7 [==============================] - 0s 5ms/sample - loss: 0.2565 - accuracy: 0.5714 - mse: 0.2565 - val_loss: 0.2511 - val_accuracy: 0.5000 - val_mse: 0.2511\n",
      "Epoch 10/200\n",
      "7/7 [==============================] - 0s 5ms/sample - loss: 0.2727 - accuracy: 0.2857 - mse: 0.2727 - val_loss: 0.2505 - val_accuracy: 0.5000 - val_mse: 0.2505\n",
      "Epoch 11/200\n",
      "7/7 [==============================] - 0s 5ms/sample - loss: 0.2153 - accuracy: 0.8571 - mse: 0.2153 - val_loss: 0.2508 - val_accuracy: 0.5000 - val_mse: 0.2508\n",
      "Epoch 12/200\n",
      "7/7 [==============================] - 0s 5ms/sample - loss: 0.2388 - accuracy: 0.5714 - mse: 0.2388 - val_loss: 0.2518 - val_accuracy: 0.5000 - val_mse: 0.2518\n",
      "Epoch 13/200\n",
      "7/7 [==============================] - 0s 5ms/sample - loss: 0.2552 - accuracy: 0.5714 - mse: 0.2552 - val_loss: 0.2528 - val_accuracy: 0.5000 - val_mse: 0.2528\n",
      "Epoch 14/200\n",
      "7/7 [==============================] - 0s 5ms/sample - loss: 0.2342 - accuracy: 0.4286 - mse: 0.2342 - val_loss: 0.2538 - val_accuracy: 0.5000 - val_mse: 0.2538\n",
      "Epoch 15/200\n",
      "7/7 [==============================] - 0s 5ms/sample - loss: 0.2208 - accuracy: 0.7143 - mse: 0.2208 - val_loss: 0.2544 - val_accuracy: 0.5000 - val_mse: 0.2544\n",
      "Epoch 16/200\n",
      "7/7 [==============================] - 0s 5ms/sample - loss: 0.2356 - accuracy: 0.4286 - mse: 0.2356 - val_loss: 0.2551 - val_accuracy: 0.5000 - val_mse: 0.2551\n",
      "Epoch 17/200\n",
      "7/7 [==============================] - 0s 5ms/sample - loss: 0.2820 - accuracy: 0.5714 - mse: 0.2820 - val_loss: 0.2552 - val_accuracy: 0.5000 - val_mse: 0.2552\n",
      "Epoch 18/200\n",
      "7/7 [==============================] - 0s 5ms/sample - loss: 0.2582 - accuracy: 0.4286 - mse: 0.2582 - val_loss: 0.2546 - val_accuracy: 0.5000 - val_mse: 0.2546\n",
      "Epoch 19/200\n",
      "7/7 [==============================] - 0s 5ms/sample - loss: 0.2822 - accuracy: 0.2857 - mse: 0.2822 - val_loss: 0.2540 - val_accuracy: 0.5000 - val_mse: 0.2539\n",
      "Epoch 20/200\n",
      "7/7 [==============================] - 0s 5ms/sample - loss: 0.2617 - accuracy: 0.5714 - mse: 0.2617 - val_loss: 0.2534 - val_accuracy: 0.5000 - val_mse: 0.2534\n",
      "Epoch 21/200\n",
      "7/7 [==============================] - 0s 5ms/sample - loss: 0.1924 - accuracy: 0.7143 - mse: 0.1924 - val_loss: 0.2531 - val_accuracy: 0.5000 - val_mse: 0.2531\n",
      "Epoch 22/200\n",
      "7/7 [==============================] - 0s 5ms/sample - loss: 0.2176 - accuracy: 0.5714 - mse: 0.2176 - val_loss: 0.2534 - val_accuracy: 0.5000 - val_mse: 0.2534\n",
      "Epoch 23/200\n",
      "7/7 [==============================] - 0s 5ms/sample - loss: 0.2872 - accuracy: 0.5714 - mse: 0.2872 - val_loss: 0.2535 - val_accuracy: 0.5000 - val_mse: 0.2535\n",
      "Epoch 24/200\n",
      "7/7 [==============================] - 0s 5ms/sample - loss: 0.2331 - accuracy: 0.7143 - mse: 0.2331 - val_loss: 0.2532 - val_accuracy: 0.5000 - val_mse: 0.2532\n",
      "Epoch 25/200\n",
      "7/7 [==============================] - 0s 4ms/sample - loss: 0.2708 - accuracy: 0.5714 - mse: 0.2708 - val_loss: 0.2531 - val_accuracy: 0.5000 - val_mse: 0.2531\n",
      "Epoch 26/200\n",
      "7/7 [==============================] - 0s 5ms/sample - loss: 0.2547 - accuracy: 0.7143 - mse: 0.2547 - val_loss: 0.2526 - val_accuracy: 0.5000 - val_mse: 0.2526\n",
      "Epoch 27/200\n",
      "7/7 [==============================] - 0s 5ms/sample - loss: 0.2532 - accuracy: 0.4286 - mse: 0.2532 - val_loss: 0.2524 - val_accuracy: 0.5000 - val_mse: 0.2524\n",
      "Epoch 28/200\n",
      "7/7 [==============================] - 0s 5ms/sample - loss: 0.2648 - accuracy: 0.2857 - mse: 0.2648 - val_loss: 0.2521 - val_accuracy: 0.5000 - val_mse: 0.2521\n",
      "Epoch 29/200\n",
      "7/7 [==============================] - 0s 5ms/sample - loss: 0.2807 - accuracy: 0.4286 - mse: 0.2807 - val_loss: 0.2519 - val_accuracy: 0.5000 - val_mse: 0.2519\n",
      "Epoch 30/200\n",
      "7/7 [==============================] - 0s 5ms/sample - loss: 0.2497 - accuracy: 0.5714 - mse: 0.2497 - val_loss: 0.2516 - val_accuracy: 0.5000 - val_mse: 0.2516\n",
      "Epoch 31/200\n",
      "7/7 [==============================] - 0s 5ms/sample - loss: 0.2488 - accuracy: 0.7143 - mse: 0.2488 - val_loss: 0.2512 - val_accuracy: 0.5000 - val_mse: 0.2512\n",
      "Epoch 32/200\n",
      "7/7 [==============================] - 0s 5ms/sample - loss: 0.2482 - accuracy: 0.5714 - mse: 0.2482 - val_loss: 0.2509 - val_accuracy: 0.5000 - val_mse: 0.2509\n",
      "Epoch 33/200\n",
      "7/7 [==============================] - 0s 5ms/sample - loss: 0.3009 - accuracy: 0.4286 - mse: 0.3009 - val_loss: 0.2512 - val_accuracy: 0.5000 - val_mse: 0.2512\n",
      "Epoch 34/200\n",
      "7/7 [==============================] - 0s 5ms/sample - loss: 0.2604 - accuracy: 0.5714 - mse: 0.2604 - val_loss: 0.2516 - val_accuracy: 0.5000 - val_mse: 0.2516\n",
      "Epoch 35/200\n",
      "7/7 [==============================] - 0s 5ms/sample - loss: 0.2616 - accuracy: 0.4286 - mse: 0.2616 - val_loss: 0.2521 - val_accuracy: 0.5000 - val_mse: 0.2521\n",
      "Epoch 36/200\n",
      "7/7 [==============================] - 0s 5ms/sample - loss: 0.2611 - accuracy: 0.5714 - mse: 0.2611 - val_loss: 0.2520 - val_accuracy: 0.5000 - val_mse: 0.2520\n",
      "Epoch 37/200\n",
      "7/7 [==============================] - 0s 5ms/sample - loss: 0.2235 - accuracy: 0.7143 - mse: 0.2235 - val_loss: 0.2516 - val_accuracy: 0.5000 - val_mse: 0.2516\n",
      "Epoch 38/200\n",
      "7/7 [==============================] - 0s 4ms/sample - loss: 0.2398 - accuracy: 0.7143 - mse: 0.2398 - val_loss: 0.2514 - val_accuracy: 0.5000 - val_mse: 0.2514\n",
      "Epoch 39/200\n",
      "7/7 [==============================] - 0s 4ms/sample - loss: 0.2511 - accuracy: 0.7143 - mse: 0.2511 - val_loss: 0.2515 - val_accuracy: 0.5000 - val_mse: 0.2515\n",
      "Epoch 40/200\n",
      "7/7 [==============================] - 0s 4ms/sample - loss: 0.2444 - accuracy: 0.5714 - mse: 0.2444 - val_loss: 0.2518 - val_accuracy: 0.5000 - val_mse: 0.2518\n",
      "Epoch 41/200\n",
      "7/7 [==============================] - 0s 5ms/sample - loss: 0.2856 - accuracy: 0.4286 - mse: 0.2856 - val_loss: 0.2515 - val_accuracy: 0.5000 - val_mse: 0.2515\n",
      "Epoch 42/200\n",
      "7/7 [==============================] - 0s 5ms/sample - loss: 0.2381 - accuracy: 0.5714 - mse: 0.2381 - val_loss: 0.2510 - val_accuracy: 0.5000 - val_mse: 0.2510\n",
      "Epoch 43/200\n",
      "7/7 [==============================] - 0s 5ms/sample - loss: 0.2188 - accuracy: 0.5714 - mse: 0.2188 - val_loss: 0.2511 - val_accuracy: 0.5000 - val_mse: 0.2511\n",
      "Epoch 44/200\n",
      "7/7 [==============================] - 0s 5ms/sample - loss: 0.2463 - accuracy: 0.5714 - mse: 0.2463 - val_loss: 0.2517 - val_accuracy: 0.5000 - val_mse: 0.2517\n",
      "Epoch 45/200\n",
      "7/7 [==============================] - 0s 5ms/sample - loss: 0.2657 - accuracy: 0.5714 - mse: 0.2657 - val_loss: 0.2517 - val_accuracy: 0.5000 - val_mse: 0.2517\n",
      "Epoch 46/200\n",
      "7/7 [==============================] - 0s 5ms/sample - loss: 0.2553 - accuracy: 0.5714 - mse: 0.2553 - val_loss: 0.2516 - val_accuracy: 0.5000 - val_mse: 0.2516\n",
      "Epoch 47/200\n",
      "7/7 [==============================] - 0s 5ms/sample - loss: 0.2517 - accuracy: 0.5714 - mse: 0.2517 - val_loss: 0.2508 - val_accuracy: 0.5000 - val_mse: 0.2508\n",
      "Epoch 48/200\n",
      "7/7 [==============================] - 0s 4ms/sample - loss: 0.2607 - accuracy: 0.4286 - mse: 0.2607 - val_loss: 0.2503 - val_accuracy: 0.5000 - val_mse: 0.2503\n",
      "Epoch 49/200\n",
      "7/7 [==============================] - 0s 5ms/sample - loss: 0.2848 - accuracy: 0.5714 - mse: 0.2848 - val_loss: 0.2500 - val_accuracy: 0.5000 - val_mse: 0.2500\n",
      "Epoch 50/200\n",
      "7/7 [==============================] - 0s 5ms/sample - loss: 0.2787 - accuracy: 0.2857 - mse: 0.2787 - val_loss: 0.2497 - val_accuracy: 0.5000 - val_mse: 0.2497\n",
      "Epoch 51/200\n",
      "7/7 [==============================] - 0s 4ms/sample - loss: 0.2259 - accuracy: 0.7143 - mse: 0.2259 - val_loss: 0.2496 - val_accuracy: 0.5000 - val_mse: 0.2496\n",
      "Epoch 52/200\n",
      "7/7 [==============================] - 0s 5ms/sample - loss: 0.2046 - accuracy: 0.8571 - mse: 0.2046 - val_loss: 0.2497 - val_accuracy: 0.5000 - val_mse: 0.2497\n",
      "Epoch 53/200\n",
      "7/7 [==============================] - 0s 5ms/sample - loss: 0.2384 - accuracy: 0.5714 - mse: 0.2384 - val_loss: 0.2495 - val_accuracy: 0.5000 - val_mse: 0.2495\n",
      "Epoch 54/200\n",
      "7/7 [==============================] - 0s 4ms/sample - loss: 0.2134 - accuracy: 0.7143 - mse: 0.2134 - val_loss: 0.2494 - val_accuracy: 0.5000 - val_mse: 0.2494\n",
      "Epoch 55/200\n",
      "7/7 [==============================] - 0s 5ms/sample - loss: 0.2236 - accuracy: 0.7143 - mse: 0.2236 - val_loss: 0.2491 - val_accuracy: 0.5000 - val_mse: 0.2491\n",
      "Epoch 56/200\n",
      "7/7 [==============================] - 0s 5ms/sample - loss: 0.2845 - accuracy: 0.4286 - mse: 0.2845 - val_loss: 0.2490 - val_accuracy: 0.5000 - val_mse: 0.2490\n",
      "Epoch 57/200\n",
      "7/7 [==============================] - 0s 5ms/sample - loss: 0.2566 - accuracy: 0.5714 - mse: 0.2566 - val_loss: 0.2481 - val_accuracy: 0.5000 - val_mse: 0.2481\n",
      "Epoch 58/200\n",
      "7/7 [==============================] - 0s 5ms/sample - loss: 0.2407 - accuracy: 0.7143 - mse: 0.2407 - val_loss: 0.2476 - val_accuracy: 0.5000 - val_mse: 0.2476\n",
      "Epoch 59/200\n",
      "7/7 [==============================] - 0s 5ms/sample - loss: 0.2395 - accuracy: 0.5714 - mse: 0.2395 - val_loss: 0.2478 - val_accuracy: 0.5000 - val_mse: 0.2478\n",
      "Epoch 60/200\n",
      "7/7 [==============================] - 0s 5ms/sample - loss: 0.2791 - accuracy: 0.4286 - mse: 0.2791 - val_loss: 0.2477 - val_accuracy: 0.5000 - val_mse: 0.2477\n",
      "Epoch 61/200\n",
      "7/7 [==============================] - 0s 5ms/sample - loss: 0.2140 - accuracy: 0.5714 - mse: 0.2140 - val_loss: 0.2479 - val_accuracy: 0.5000 - val_mse: 0.2479\n",
      "Epoch 62/200\n",
      "7/7 [==============================] - 0s 5ms/sample - loss: 0.2603 - accuracy: 0.5714 - mse: 0.2603 - val_loss: 0.2482 - val_accuracy: 0.5000 - val_mse: 0.2482\n",
      "Epoch 63/200\n",
      "7/7 [==============================] - 0s 5ms/sample - loss: 0.2444 - accuracy: 0.5714 - mse: 0.2444 - val_loss: 0.2482 - val_accuracy: 0.5000 - val_mse: 0.2482\n",
      "Epoch 64/200\n",
      "7/7 [==============================] - 0s 5ms/sample - loss: 0.2161 - accuracy: 0.4286 - mse: 0.2161 - val_loss: 0.2483 - val_accuracy: 0.5000 - val_mse: 0.2483\n",
      "Epoch 65/200\n",
      "7/7 [==============================] - 0s 5ms/sample - loss: 0.2488 - accuracy: 0.5714 - mse: 0.2488 - val_loss: 0.2483 - val_accuracy: 0.5000 - val_mse: 0.2483\n",
      "Epoch 66/200\n",
      "7/7 [==============================] - 0s 5ms/sample - loss: 0.2010 - accuracy: 0.8571 - mse: 0.2010 - val_loss: 0.2480 - val_accuracy: 0.5000 - val_mse: 0.2480\n",
      "Epoch 67/200\n",
      "7/7 [==============================] - 0s 5ms/sample - loss: 0.2561 - accuracy: 0.5714 - mse: 0.2561 - val_loss: 0.2483 - val_accuracy: 0.5000 - val_mse: 0.2483\n",
      "Epoch 68/200\n",
      "7/7 [==============================] - 0s 5ms/sample - loss: 0.2083 - accuracy: 0.7143 - mse: 0.2083 - val_loss: 0.2478 - val_accuracy: 0.5000 - val_mse: 0.2478\n",
      "Epoch 69/200\n",
      "7/7 [==============================] - 0s 5ms/sample - loss: 0.2551 - accuracy: 0.4286 - mse: 0.2551 - val_loss: 0.2472 - val_accuracy: 0.5000 - val_mse: 0.2472\n",
      "Epoch 70/200\n",
      "7/7 [==============================] - 0s 5ms/sample - loss: 0.2412 - accuracy: 0.7143 - mse: 0.2412 - val_loss: 0.2464 - val_accuracy: 0.5000 - val_mse: 0.2464\n",
      "Epoch 71/200\n",
      "7/7 [==============================] - 0s 5ms/sample - loss: 0.2672 - accuracy: 0.4286 - mse: 0.2672 - val_loss: 0.2457 - val_accuracy: 0.5000 - val_mse: 0.2457\n",
      "Epoch 72/200\n",
      "7/7 [==============================] - 0s 4ms/sample - loss: 0.2308 - accuracy: 0.7143 - mse: 0.2308 - val_loss: 0.2450 - val_accuracy: 0.5000 - val_mse: 0.2450\n",
      "Epoch 73/200\n",
      "7/7 [==============================] - 0s 5ms/sample - loss: 0.1962 - accuracy: 0.8571 - mse: 0.1962 - val_loss: 0.2448 - val_accuracy: 0.5000 - val_mse: 0.2448\n",
      "Epoch 74/200\n",
      "7/7 [==============================] - 0s 5ms/sample - loss: 0.2384 - accuracy: 0.5714 - mse: 0.2384 - val_loss: 0.2452 - val_accuracy: 0.5000 - val_mse: 0.2452\n",
      "Epoch 75/200\n",
      "7/7 [==============================] - 0s 4ms/sample - loss: 0.2379 - accuracy: 0.5714 - mse: 0.2379 - val_loss: 0.2459 - val_accuracy: 0.5000 - val_mse: 0.2459\n",
      "Epoch 76/200\n",
      "7/7 [==============================] - 0s 5ms/sample - loss: 0.2313 - accuracy: 0.4286 - mse: 0.2313 - val_loss: 0.2459 - val_accuracy: 0.5000 - val_mse: 0.2459\n",
      "Epoch 77/200\n",
      "7/7 [==============================] - 0s 5ms/sample - loss: 0.2816 - accuracy: 0.4286 - mse: 0.2816 - val_loss: 0.2458 - val_accuracy: 0.5000 - val_mse: 0.2458\n",
      "Epoch 78/200\n",
      "7/7 [==============================] - 0s 5ms/sample - loss: 0.2614 - accuracy: 0.7143 - mse: 0.2614 - val_loss: 0.2450 - val_accuracy: 0.5000 - val_mse: 0.2450\n",
      "Epoch 79/200\n",
      "7/7 [==============================] - 0s 5ms/sample - loss: 0.2567 - accuracy: 0.5714 - mse: 0.2567 - val_loss: 0.2441 - val_accuracy: 0.5000 - val_mse: 0.2441\n",
      "Epoch 80/200\n",
      "7/7 [==============================] - 0s 5ms/sample - loss: 0.2380 - accuracy: 0.4286 - mse: 0.2380 - val_loss: 0.2432 - val_accuracy: 0.5000 - val_mse: 0.2432\n",
      "Epoch 81/200\n",
      "7/7 [==============================] - 0s 5ms/sample - loss: 0.2503 - accuracy: 0.5714 - mse: 0.2503 - val_loss: 0.2432 - val_accuracy: 0.5000 - val_mse: 0.2432\n",
      "Epoch 82/200\n",
      "7/7 [==============================] - 0s 5ms/sample - loss: 0.2181 - accuracy: 0.7143 - mse: 0.2181 - val_loss: 0.2428 - val_accuracy: 0.5000 - val_mse: 0.2428\n",
      "Epoch 83/200\n",
      "7/7 [==============================] - 0s 5ms/sample - loss: 0.2746 - accuracy: 0.5714 - mse: 0.2746 - val_loss: 0.2425 - val_accuracy: 0.5000 - val_mse: 0.2425\n",
      "Epoch 84/200\n",
      "7/7 [==============================] - 0s 5ms/sample - loss: 0.2523 - accuracy: 0.4286 - mse: 0.2523 - val_loss: 0.2416 - val_accuracy: 0.5000 - val_mse: 0.2416\n",
      "Epoch 85/200\n",
      "7/7 [==============================] - 0s 5ms/sample - loss: 0.2152 - accuracy: 0.8571 - mse: 0.2152 - val_loss: 0.2415 - val_accuracy: 0.5000 - val_mse: 0.2415\n",
      "Epoch 86/200\n",
      "7/7 [==============================] - 0s 5ms/sample - loss: 0.2373 - accuracy: 0.4286 - mse: 0.2373 - val_loss: 0.2418 - val_accuracy: 0.5000 - val_mse: 0.2418\n",
      "Epoch 87/200\n",
      "7/7 [==============================] - 0s 5ms/sample - loss: 0.2946 - accuracy: 0.4286 - mse: 0.2946 - val_loss: 0.2420 - val_accuracy: 0.5000 - val_mse: 0.2420\n",
      "Epoch 88/200\n",
      "7/7 [==============================] - 0s 5ms/sample - loss: 0.2488 - accuracy: 0.5714 - mse: 0.2488 - val_loss: 0.2416 - val_accuracy: 0.5000 - val_mse: 0.2416\n",
      "Epoch 89/200\n",
      "7/7 [==============================] - 0s 5ms/sample - loss: 0.2612 - accuracy: 0.2857 - mse: 0.2612 - val_loss: 0.2414 - val_accuracy: 0.5000 - val_mse: 0.2414\n",
      "Epoch 90/200\n",
      "7/7 [==============================] - 0s 5ms/sample - loss: 0.2513 - accuracy: 0.5714 - mse: 0.2513 - val_loss: 0.2406 - val_accuracy: 0.5000 - val_mse: 0.2406\n",
      "Epoch 91/200\n",
      "7/7 [==============================] - 0s 5ms/sample - loss: 0.2379 - accuracy: 0.7143 - mse: 0.2379 - val_loss: 0.2395 - val_accuracy: 0.5000 - val_mse: 0.2395\n",
      "Epoch 92/200\n",
      "7/7 [==============================] - 0s 5ms/sample - loss: 0.2211 - accuracy: 0.7143 - mse: 0.2211 - val_loss: 0.2388 - val_accuracy: 0.5000 - val_mse: 0.2388\n",
      "Epoch 93/200\n",
      "7/7 [==============================] - 0s 5ms/sample - loss: 0.2557 - accuracy: 0.5714 - mse: 0.2557 - val_loss: 0.2386 - val_accuracy: 0.5000 - val_mse: 0.2386\n",
      "Epoch 94/200\n",
      "7/7 [==============================] - 0s 5ms/sample - loss: 0.2398 - accuracy: 0.5714 - mse: 0.2398 - val_loss: 0.2382 - val_accuracy: 0.5000 - val_mse: 0.2382\n",
      "Epoch 95/200\n",
      "7/7 [==============================] - 0s 5ms/sample - loss: 0.2578 - accuracy: 0.4286 - mse: 0.2578 - val_loss: 0.2377 - val_accuracy: 0.5000 - val_mse: 0.2377\n",
      "Epoch 96/200\n",
      "7/7 [==============================] - 0s 5ms/sample - loss: 0.2670 - accuracy: 0.4286 - mse: 0.2670 - val_loss: 0.2371 - val_accuracy: 0.5000 - val_mse: 0.2371\n",
      "Epoch 97/200\n",
      "7/7 [==============================] - 0s 5ms/sample - loss: 0.2531 - accuracy: 0.4286 - mse: 0.2531 - val_loss: 0.2366 - val_accuracy: 0.5000 - val_mse: 0.2366\n",
      "Epoch 98/200\n",
      "7/7 [==============================] - 0s 5ms/sample - loss: 0.1672 - accuracy: 0.8571 - mse: 0.1672 - val_loss: 0.2363 - val_accuracy: 0.5000 - val_mse: 0.2363\n",
      "Epoch 99/200\n",
      "7/7 [==============================] - 0s 5ms/sample - loss: 0.2418 - accuracy: 0.4286 - mse: 0.2418 - val_loss: 0.2364 - val_accuracy: 0.5000 - val_mse: 0.2364\n",
      "Epoch 100/200\n",
      "7/7 [==============================] - 0s 6ms/sample - loss: 0.2503 - accuracy: 0.4286 - mse: 0.2503 - val_loss: 0.2366 - val_accuracy: 0.5000 - val_mse: 0.2366\n",
      "Epoch 101/200\n",
      "7/7 [==============================] - 0s 6ms/sample - loss: 0.2672 - accuracy: 0.2857 - mse: 0.2672 - val_loss: 0.2363 - val_accuracy: 0.5000 - val_mse: 0.2363\n",
      "Epoch 102/200\n",
      "7/7 [==============================] - 0s 5ms/sample - loss: 0.2635 - accuracy: 0.5714 - mse: 0.2635 - val_loss: 0.2359 - val_accuracy: 0.5000 - val_mse: 0.2359\n",
      "Epoch 103/200\n",
      "7/7 [==============================] - 0s 5ms/sample - loss: 0.2343 - accuracy: 0.5714 - mse: 0.2343 - val_loss: 0.2350 - val_accuracy: 0.5000 - val_mse: 0.2350\n",
      "Epoch 104/200\n",
      "7/7 [==============================] - 0s 5ms/sample - loss: 0.2398 - accuracy: 0.7143 - mse: 0.2398 - val_loss: 0.2342 - val_accuracy: 0.5000 - val_mse: 0.2342\n",
      "Epoch 105/200\n",
      "7/7 [==============================] - 0s 5ms/sample - loss: 0.2478 - accuracy: 0.5714 - mse: 0.2478 - val_loss: 0.2337 - val_accuracy: 0.5000 - val_mse: 0.2337\n",
      "Epoch 106/200\n",
      "7/7 [==============================] - 0s 5ms/sample - loss: 0.2544 - accuracy: 0.5714 - mse: 0.2544 - val_loss: 0.2332 - val_accuracy: 0.5000 - val_mse: 0.2332\n",
      "Epoch 107/200\n",
      "7/7 [==============================] - 0s 5ms/sample - loss: 0.2319 - accuracy: 0.5714 - mse: 0.2319 - val_loss: 0.2327 - val_accuracy: 0.5000 - val_mse: 0.2327\n",
      "Epoch 108/200\n",
      "7/7 [==============================] - 0s 6ms/sample - loss: 0.2531 - accuracy: 0.4286 - mse: 0.2531 - val_loss: 0.2319 - val_accuracy: 0.5000 - val_mse: 0.2319\n",
      "Epoch 109/200\n",
      "7/7 [==============================] - 0s 6ms/sample - loss: 0.2732 - accuracy: 0.5714 - mse: 0.2732 - val_loss: 0.2312 - val_accuracy: 0.5000 - val_mse: 0.2312\n",
      "Epoch 110/200\n",
      "7/7 [==============================] - 0s 5ms/sample - loss: 0.2611 - accuracy: 0.5714 - mse: 0.2611 - val_loss: 0.2305 - val_accuracy: 0.5000 - val_mse: 0.2305\n",
      "Epoch 111/200\n",
      "7/7 [==============================] - 0s 5ms/sample - loss: 0.2278 - accuracy: 0.7143 - mse: 0.2278 - val_loss: 0.2300 - val_accuracy: 0.5000 - val_mse: 0.2300\n",
      "Epoch 112/200\n",
      "7/7 [==============================] - 0s 5ms/sample - loss: 0.2261 - accuracy: 0.5714 - mse: 0.2261 - val_loss: 0.2299 - val_accuracy: 0.5000 - val_mse: 0.2299\n",
      "Epoch 113/200\n",
      "7/7 [==============================] - 0s 5ms/sample - loss: 0.2206 - accuracy: 0.5714 - mse: 0.2206 - val_loss: 0.2300 - val_accuracy: 0.5000 - val_mse: 0.2300\n",
      "Epoch 114/200\n",
      "7/7 [==============================] - 0s 5ms/sample - loss: 0.2671 - accuracy: 0.5714 - mse: 0.2671 - val_loss: 0.2296 - val_accuracy: 0.5000 - val_mse: 0.2296\n",
      "Epoch 115/200\n",
      "7/7 [==============================] - 0s 5ms/sample - loss: 0.3031 - accuracy: 0.4286 - mse: 0.3031 - val_loss: 0.2287 - val_accuracy: 0.5000 - val_mse: 0.2287\n",
      "Epoch 116/200\n",
      "7/7 [==============================] - 0s 5ms/sample - loss: 0.2456 - accuracy: 0.5714 - mse: 0.2456 - val_loss: 0.2278 - val_accuracy: 0.5000 - val_mse: 0.2278\n",
      "Epoch 117/200\n",
      "7/7 [==============================] - 0s 5ms/sample - loss: 0.2050 - accuracy: 0.8571 - mse: 0.2050 - val_loss: 0.2276 - val_accuracy: 0.5000 - val_mse: 0.2276\n",
      "Epoch 118/200\n",
      "7/7 [==============================] - 0s 5ms/sample - loss: 0.2517 - accuracy: 0.5714 - mse: 0.2517 - val_loss: 0.2273 - val_accuracy: 0.5000 - val_mse: 0.2273\n",
      "Epoch 119/200\n",
      "7/7 [==============================] - 0s 5ms/sample - loss: 0.2979 - accuracy: 0.4286 - mse: 0.2979 - val_loss: 0.2267 - val_accuracy: 0.5000 - val_mse: 0.2267\n",
      "Epoch 120/200\n",
      "7/7 [==============================] - 0s 5ms/sample - loss: 0.2872 - accuracy: 0.2857 - mse: 0.2872 - val_loss: 0.2260 - val_accuracy: 0.5000 - val_mse: 0.2260\n",
      "Epoch 121/200\n",
      "7/7 [==============================] - 0s 5ms/sample - loss: 0.2084 - accuracy: 0.8571 - mse: 0.2084 - val_loss: 0.2255 - val_accuracy: 0.5000 - val_mse: 0.2255\n",
      "Epoch 122/200\n",
      "7/7 [==============================] - 0s 5ms/sample - loss: 0.2432 - accuracy: 0.5714 - mse: 0.2432 - val_loss: 0.2249 - val_accuracy: 0.5000 - val_mse: 0.2249\n",
      "Epoch 123/200\n",
      "7/7 [==============================] - 0s 5ms/sample - loss: 0.2759 - accuracy: 0.4286 - mse: 0.2759 - val_loss: 0.2242 - val_accuracy: 0.5000 - val_mse: 0.2242\n",
      "Epoch 124/200\n",
      "7/7 [==============================] - 0s 5ms/sample - loss: 0.1879 - accuracy: 0.8571 - mse: 0.1879 - val_loss: 0.2236 - val_accuracy: 0.5000 - val_mse: 0.2236\n",
      "Epoch 125/200\n",
      "7/7 [==============================] - 0s 5ms/sample - loss: 0.2365 - accuracy: 0.5714 - mse: 0.2365 - val_loss: 0.2231 - val_accuracy: 0.5000 - val_mse: 0.2231\n",
      "Epoch 126/200\n",
      "7/7 [==============================] - 0s 5ms/sample - loss: 0.2488 - accuracy: 0.4286 - mse: 0.2488 - val_loss: 0.2227 - val_accuracy: 0.5000 - val_mse: 0.2227\n",
      "Epoch 127/200\n",
      "7/7 [==============================] - 0s 5ms/sample - loss: 0.2490 - accuracy: 0.5714 - mse: 0.2490 - val_loss: 0.2218 - val_accuracy: 0.5000 - val_mse: 0.2218\n",
      "Epoch 128/200\n",
      "7/7 [==============================] - 0s 4ms/sample - loss: 0.2221 - accuracy: 0.7143 - mse: 0.2221 - val_loss: 0.2211 - val_accuracy: 0.5000 - val_mse: 0.2211\n",
      "Epoch 129/200\n",
      "7/7 [==============================] - 0s 5ms/sample - loss: 0.2559 - accuracy: 0.4286 - mse: 0.2559 - val_loss: 0.2204 - val_accuracy: 0.5000 - val_mse: 0.2204\n",
      "Epoch 130/200\n",
      "7/7 [==============================] - 0s 5ms/sample - loss: 0.2505 - accuracy: 0.4286 - mse: 0.2505 - val_loss: 0.2196 - val_accuracy: 0.5000 - val_mse: 0.2196\n",
      "Epoch 131/200\n",
      "7/7 [==============================] - 0s 5ms/sample - loss: 0.2564 - accuracy: 0.4286 - mse: 0.2564 - val_loss: 0.2187 - val_accuracy: 0.5000 - val_mse: 0.2187\n",
      "Epoch 132/200\n",
      "7/7 [==============================] - 0s 5ms/sample - loss: 0.2364 - accuracy: 0.8571 - mse: 0.2364 - val_loss: 0.2181 - val_accuracy: 0.5000 - val_mse: 0.2181\n",
      "Epoch 133/200\n",
      "7/7 [==============================] - 0s 5ms/sample - loss: 0.2455 - accuracy: 0.5714 - mse: 0.2455 - val_loss: 0.2175 - val_accuracy: 0.5000 - val_mse: 0.2175\n",
      "Epoch 134/200\n",
      "7/7 [==============================] - 0s 5ms/sample - loss: 0.2377 - accuracy: 0.5714 - mse: 0.2377 - val_loss: 0.2170 - val_accuracy: 0.5000 - val_mse: 0.2170\n",
      "Epoch 135/200\n",
      "7/7 [==============================] - 0s 5ms/sample - loss: 0.2488 - accuracy: 0.5714 - mse: 0.2488 - val_loss: 0.2166 - val_accuracy: 0.5000 - val_mse: 0.2166\n",
      "Epoch 136/200\n",
      "7/7 [==============================] - 0s 5ms/sample - loss: 0.2160 - accuracy: 0.5714 - mse: 0.2160 - val_loss: 0.2160 - val_accuracy: 0.5000 - val_mse: 0.2160\n",
      "Epoch 137/200\n",
      "7/7 [==============================] - 0s 5ms/sample - loss: 0.2554 - accuracy: 0.4286 - mse: 0.2554 - val_loss: 0.2152 - val_accuracy: 0.5000 - val_mse: 0.2152\n",
      "Epoch 138/200\n",
      "7/7 [==============================] - 0s 5ms/sample - loss: 0.2312 - accuracy: 0.4286 - mse: 0.2312 - val_loss: 0.2144 - val_accuracy: 0.5000 - val_mse: 0.2144\n",
      "Epoch 139/200\n",
      "7/7 [==============================] - 0s 5ms/sample - loss: 0.2301 - accuracy: 0.7143 - mse: 0.2301 - val_loss: 0.2138 - val_accuracy: 0.5000 - val_mse: 0.2138\n",
      "Epoch 140/200\n",
      "7/7 [==============================] - 0s 5ms/sample - loss: 0.2474 - accuracy: 0.7143 - mse: 0.2474 - val_loss: 0.2131 - val_accuracy: 0.5000 - val_mse: 0.2131\n",
      "Epoch 141/200\n",
      "7/7 [==============================] - 0s 5ms/sample - loss: 0.2540 - accuracy: 0.4286 - mse: 0.2540 - val_loss: 0.2123 - val_accuracy: 0.5000 - val_mse: 0.2123\n",
      "Epoch 142/200\n",
      "7/7 [==============================] - 0s 5ms/sample - loss: 0.1875 - accuracy: 0.8571 - mse: 0.1875 - val_loss: 0.2116 - val_accuracy: 0.5000 - val_mse: 0.2116\n",
      "Epoch 143/200\n",
      "7/7 [==============================] - 0s 5ms/sample - loss: 0.2498 - accuracy: 0.5714 - mse: 0.2498 - val_loss: 0.2107 - val_accuracy: 0.7500 - val_mse: 0.2107\n",
      "Epoch 144/200\n",
      "7/7 [==============================] - 0s 5ms/sample - loss: 0.2319 - accuracy: 0.5714 - mse: 0.2319 - val_loss: 0.2098 - val_accuracy: 0.7500 - val_mse: 0.2098\n",
      "Epoch 145/200\n",
      "7/7 [==============================] - 0s 5ms/sample - loss: 0.2741 - accuracy: 0.4286 - mse: 0.2741 - val_loss: 0.2090 - val_accuracy: 0.7500 - val_mse: 0.2090\n",
      "Epoch 146/200\n",
      "7/7 [==============================] - 0s 5ms/sample - loss: 0.2225 - accuracy: 0.7143 - mse: 0.2225 - val_loss: 0.2086 - val_accuracy: 0.7500 - val_mse: 0.2086\n",
      "Epoch 147/200\n",
      "7/7 [==============================] - 0s 5ms/sample - loss: 0.2108 - accuracy: 0.5714 - mse: 0.2108 - val_loss: 0.2085 - val_accuracy: 0.7500 - val_mse: 0.2085\n",
      "Epoch 148/200\n",
      "7/7 [==============================] - 0s 5ms/sample - loss: 0.2343 - accuracy: 0.5714 - mse: 0.2343 - val_loss: 0.2082 - val_accuracy: 0.7500 - val_mse: 0.2082\n",
      "Epoch 149/200\n",
      "7/7 [==============================] - 0s 5ms/sample - loss: 0.2055 - accuracy: 0.7143 - mse: 0.2055 - val_loss: 0.2079 - val_accuracy: 0.7500 - val_mse: 0.2079\n",
      "Epoch 150/200\n",
      "7/7 [==============================] - 0s 5ms/sample - loss: 0.2539 - accuracy: 0.4286 - mse: 0.2539 - val_loss: 0.2072 - val_accuracy: 0.7500 - val_mse: 0.2072\n",
      "Epoch 151/200\n",
      "7/7 [==============================] - 0s 5ms/sample - loss: 0.2542 - accuracy: 0.2857 - mse: 0.2542 - val_loss: 0.2064 - val_accuracy: 0.7500 - val_mse: 0.2064\n",
      "Epoch 152/200\n",
      "7/7 [==============================] - 0s 5ms/sample - loss: 0.2447 - accuracy: 0.4286 - mse: 0.2447 - val_loss: 0.2055 - val_accuracy: 1.0000 - val_mse: 0.2055\n",
      "Epoch 153/200\n",
      "7/7 [==============================] - 0s 5ms/sample - loss: 0.2100 - accuracy: 0.7143 - mse: 0.2100 - val_loss: 0.2048 - val_accuracy: 1.0000 - val_mse: 0.2048\n",
      "Epoch 154/200\n",
      "7/7 [==============================] - 0s 5ms/sample - loss: 0.2199 - accuracy: 0.7143 - mse: 0.2199 - val_loss: 0.2042 - val_accuracy: 1.0000 - val_mse: 0.2042\n",
      "Epoch 155/200\n",
      "7/7 [==============================] - 0s 5ms/sample - loss: 0.2306 - accuracy: 0.4286 - mse: 0.2306 - val_loss: 0.2036 - val_accuracy: 1.0000 - val_mse: 0.2036\n",
      "Epoch 156/200\n",
      "7/7 [==============================] - 0s 5ms/sample - loss: 0.2475 - accuracy: 0.4286 - mse: 0.2475 - val_loss: 0.2029 - val_accuracy: 1.0000 - val_mse: 0.2029\n",
      "Epoch 157/200\n",
      "7/7 [==============================] - 0s 5ms/sample - loss: 0.2423 - accuracy: 0.4286 - mse: 0.2423 - val_loss: 0.2022 - val_accuracy: 1.0000 - val_mse: 0.2022\n",
      "Epoch 158/200\n",
      "7/7 [==============================] - 0s 5ms/sample - loss: 0.2366 - accuracy: 0.5714 - mse: 0.2366 - val_loss: 0.2015 - val_accuracy: 1.0000 - val_mse: 0.2015\n",
      "Epoch 159/200\n",
      "7/7 [==============================] - 0s 5ms/sample - loss: 0.2080 - accuracy: 0.7143 - mse: 0.2080 - val_loss: 0.2009 - val_accuracy: 1.0000 - val_mse: 0.2009\n",
      "Epoch 160/200\n",
      "7/7 [==============================] - 0s 5ms/sample - loss: 0.2270 - accuracy: 0.5714 - mse: 0.2270 - val_loss: 0.2003 - val_accuracy: 1.0000 - val_mse: 0.2003\n",
      "Epoch 161/200\n",
      "7/7 [==============================] - 0s 5ms/sample - loss: 0.2653 - accuracy: 0.4286 - mse: 0.2653 - val_loss: 0.1996 - val_accuracy: 1.0000 - val_mse: 0.1996\n",
      "Epoch 162/200\n",
      "7/7 [==============================] - 0s 5ms/sample - loss: 0.2684 - accuracy: 0.2857 - mse: 0.2684 - val_loss: 0.1990 - val_accuracy: 1.0000 - val_mse: 0.1990\n",
      "Epoch 163/200\n",
      "7/7 [==============================] - 0s 5ms/sample - loss: 0.2578 - accuracy: 0.5714 - mse: 0.2578 - val_loss: 0.1983 - val_accuracy: 1.0000 - val_mse: 0.1983\n",
      "Epoch 164/200\n",
      "7/7 [==============================] - 0s 5ms/sample - loss: 0.2095 - accuracy: 0.7143 - mse: 0.2095 - val_loss: 0.1977 - val_accuracy: 1.0000 - val_mse: 0.1977\n",
      "Epoch 165/200\n",
      "7/7 [==============================] - 0s 5ms/sample - loss: 0.2536 - accuracy: 0.5714 - mse: 0.2536 - val_loss: 0.1971 - val_accuracy: 1.0000 - val_mse: 0.1971\n",
      "Epoch 166/200\n",
      "7/7 [==============================] - 0s 5ms/sample - loss: 0.1955 - accuracy: 0.8571 - mse: 0.1955 - val_loss: 0.1964 - val_accuracy: 1.0000 - val_mse: 0.1964\n",
      "Epoch 167/200\n",
      "7/7 [==============================] - 0s 5ms/sample - loss: 0.2402 - accuracy: 0.4286 - mse: 0.2402 - val_loss: 0.1957 - val_accuracy: 1.0000 - val_mse: 0.1957\n",
      "Epoch 168/200\n",
      "7/7 [==============================] - 0s 5ms/sample - loss: 0.2282 - accuracy: 0.5714 - mse: 0.2282 - val_loss: 0.1949 - val_accuracy: 1.0000 - val_mse: 0.1949\n",
      "Epoch 169/200\n",
      "7/7 [==============================] - 0s 5ms/sample - loss: 0.2453 - accuracy: 0.5714 - mse: 0.2453 - val_loss: 0.1941 - val_accuracy: 1.0000 - val_mse: 0.1941\n",
      "Epoch 170/200\n",
      "7/7 [==============================] - 0s 5ms/sample - loss: 0.2505 - accuracy: 0.5714 - mse: 0.2505 - val_loss: 0.1931 - val_accuracy: 1.0000 - val_mse: 0.1931\n",
      "Epoch 171/200\n",
      "7/7 [==============================] - 0s 5ms/sample - loss: 0.2436 - accuracy: 0.5714 - mse: 0.2436 - val_loss: 0.1922 - val_accuracy: 1.0000 - val_mse: 0.1922\n",
      "Epoch 172/200\n",
      "7/7 [==============================] - 0s 5ms/sample - loss: 0.2350 - accuracy: 0.7143 - mse: 0.2350 - val_loss: 0.1916 - val_accuracy: 1.0000 - val_mse: 0.1916\n",
      "Epoch 173/200\n",
      "7/7 [==============================] - 0s 5ms/sample - loss: 0.2210 - accuracy: 0.4286 - mse: 0.2210 - val_loss: 0.1911 - val_accuracy: 1.0000 - val_mse: 0.1911\n",
      "Epoch 174/200\n",
      "7/7 [==============================] - 0s 5ms/sample - loss: 0.2144 - accuracy: 0.5714 - mse: 0.2144 - val_loss: 0.1905 - val_accuracy: 1.0000 - val_mse: 0.1905\n",
      "Epoch 175/200\n",
      "7/7 [==============================] - 0s 5ms/sample - loss: 0.2584 - accuracy: 0.5714 - mse: 0.2584 - val_loss: 0.1898 - val_accuracy: 1.0000 - val_mse: 0.1898\n",
      "Epoch 176/200\n",
      "7/7 [==============================] - 0s 5ms/sample - loss: 0.2138 - accuracy: 0.7143 - mse: 0.2138 - val_loss: 0.1892 - val_accuracy: 1.0000 - val_mse: 0.1892\n",
      "Epoch 177/200\n",
      "7/7 [==============================] - 0s 5ms/sample - loss: 0.2120 - accuracy: 0.7143 - mse: 0.2120 - val_loss: 0.1884 - val_accuracy: 1.0000 - val_mse: 0.1884\n",
      "Epoch 178/200\n",
      "7/7 [==============================] - 0s 5ms/sample - loss: 0.2401 - accuracy: 0.7143 - mse: 0.2401 - val_loss: 0.1877 - val_accuracy: 1.0000 - val_mse: 0.1877\n",
      "Epoch 179/200\n",
      "7/7 [==============================] - 0s 5ms/sample - loss: 0.2425 - accuracy: 0.5714 - mse: 0.2425 - val_loss: 0.1872 - val_accuracy: 1.0000 - val_mse: 0.1872\n",
      "Epoch 180/200\n",
      "7/7 [==============================] - 0s 5ms/sample - loss: 0.1950 - accuracy: 0.5714 - mse: 0.1950 - val_loss: 0.1867 - val_accuracy: 1.0000 - val_mse: 0.1867\n",
      "Epoch 181/200\n",
      "7/7 [==============================] - 0s 5ms/sample - loss: 0.2210 - accuracy: 0.5714 - mse: 0.2210 - val_loss: 0.1861 - val_accuracy: 1.0000 - val_mse: 0.1861\n",
      "Epoch 182/200\n",
      "7/7 [==============================] - 0s 5ms/sample - loss: 0.2214 - accuracy: 0.5714 - mse: 0.2214 - val_loss: 0.1853 - val_accuracy: 1.0000 - val_mse: 0.1853\n",
      "Epoch 183/200\n",
      "7/7 [==============================] - 0s 5ms/sample - loss: 0.2206 - accuracy: 0.7143 - mse: 0.2206 - val_loss: 0.1844 - val_accuracy: 1.0000 - val_mse: 0.1844\n",
      "Epoch 184/200\n",
      "7/7 [==============================] - 0s 5ms/sample - loss: 0.2768 - accuracy: 0.4286 - mse: 0.2768 - val_loss: 0.1837 - val_accuracy: 1.0000 - val_mse: 0.1837\n",
      "Epoch 185/200\n",
      "7/7 [==============================] - 0s 5ms/sample - loss: 0.1871 - accuracy: 0.8571 - mse: 0.1871 - val_loss: 0.1832 - val_accuracy: 1.0000 - val_mse: 0.1832\n",
      "Epoch 186/200\n",
      "7/7 [==============================] - 0s 5ms/sample - loss: 0.2438 - accuracy: 0.7143 - mse: 0.2438 - val_loss: 0.1825 - val_accuracy: 1.0000 - val_mse: 0.1825\n",
      "Epoch 187/200\n",
      "7/7 [==============================] - 0s 5ms/sample - loss: 0.2003 - accuracy: 0.5714 - mse: 0.2003 - val_loss: 0.1818 - val_accuracy: 1.0000 - val_mse: 0.1818\n",
      "Epoch 188/200\n",
      "7/7 [==============================] - 0s 5ms/sample - loss: 0.3010 - accuracy: 0.2857 - mse: 0.3010 - val_loss: 0.1810 - val_accuracy: 1.0000 - val_mse: 0.1810\n",
      "Epoch 189/200\n",
      "7/7 [==============================] - 0s 5ms/sample - loss: 0.1979 - accuracy: 0.7143 - mse: 0.1979 - val_loss: 0.1804 - val_accuracy: 1.0000 - val_mse: 0.1804\n",
      "Epoch 190/200\n",
      "7/7 [==============================] - 0s 5ms/sample - loss: 0.2329 - accuracy: 0.5714 - mse: 0.2329 - val_loss: 0.1798 - val_accuracy: 1.0000 - val_mse: 0.1798\n",
      "Epoch 191/200\n",
      "7/7 [==============================] - 0s 5ms/sample - loss: 0.2255 - accuracy: 0.5714 - mse: 0.2255 - val_loss: 0.1791 - val_accuracy: 1.0000 - val_mse: 0.1791\n",
      "Epoch 192/200\n",
      "7/7 [==============================] - 0s 5ms/sample - loss: 0.2139 - accuracy: 0.7143 - mse: 0.2139 - val_loss: 0.1785 - val_accuracy: 1.0000 - val_mse: 0.1785\n",
      "Epoch 193/200\n",
      "7/7 [==============================] - 0s 5ms/sample - loss: 0.1969 - accuracy: 0.7143 - mse: 0.1969 - val_loss: 0.1780 - val_accuracy: 1.0000 - val_mse: 0.1780\n",
      "Epoch 194/200\n",
      "7/7 [==============================] - 0s 5ms/sample - loss: 0.2329 - accuracy: 0.4286 - mse: 0.2329 - val_loss: 0.1772 - val_accuracy: 1.0000 - val_mse: 0.1772\n",
      "Epoch 195/200\n",
      "7/7 [==============================] - 0s 5ms/sample - loss: 0.2445 - accuracy: 0.5714 - mse: 0.2445 - val_loss: 0.1766 - val_accuracy: 1.0000 - val_mse: 0.1766\n",
      "Epoch 196/200\n",
      "7/7 [==============================] - 0s 5ms/sample - loss: 0.2577 - accuracy: 0.4286 - mse: 0.2577 - val_loss: 0.1758 - val_accuracy: 1.0000 - val_mse: 0.1758\n",
      "Epoch 197/200\n",
      "7/7 [==============================] - 0s 5ms/sample - loss: 0.1926 - accuracy: 0.7143 - mse: 0.1926 - val_loss: 0.1749 - val_accuracy: 1.0000 - val_mse: 0.1749\n",
      "Epoch 198/200\n",
      "7/7 [==============================] - 0s 4ms/sample - loss: 0.1977 - accuracy: 0.5714 - mse: 0.1977 - val_loss: 0.1741 - val_accuracy: 1.0000 - val_mse: 0.1741\n",
      "Epoch 199/200\n",
      "7/7 [==============================] - 0s 4ms/sample - loss: 0.2310 - accuracy: 0.5714 - mse: 0.2310 - val_loss: 0.1733 - val_accuracy: 1.0000 - val_mse: 0.1733\n",
      "Epoch 200/200\n",
      "7/7 [==============================] - 0s 4ms/sample - loss: 0.2032 - accuracy: 0.7143 - mse: 0.2032 - val_loss: 0.1725 - val_accuracy: 1.0000 - val_mse: 0.1725\n"
     ]
    }
   ],
   "source": [
    "# Train the model\n",
    "# Use at least 10 epochs\n",
    "# Do not shuffle the data\n",
    "# Experiement with the batch size, but a smaller batch size is recommended\n",
    "\n",
    "training_history = model.fit(\n",
    "    X_train, \n",
    "    y_train, \n",
    "    validation_data=(X_val, y_val),\n",
    "    epochs=200,\n",
    "    shuffle=False, \n",
    "    batch_size=1, \n",
    "    verbose=1) "
   ]
  },
  {
   "cell_type": "code",
   "execution_count": 643,
   "metadata": {},
   "outputs": [
    {
     "name": "stdout",
     "output_type": "stream",
     "text": [
      "\n",
      " Evaluate on test data for 5-minute rolling positive prices sentiments:\n",
      "\n",
      " For unshuffled valuation, test loss on LSTM RNN is Loss: 0.2589, Accuracy: 0.5000.\n"
     ]
    }
   ],
   "source": [
    "# Evaluate the model on the test data using `evaluate`\n",
    "print(f'\\n Evaluate on test data for 5-minute rolling positive prices sentiments:')\n",
    "model_loss, model_accuracy, model_mse = model.evaluate(X_test, y_test, verbose=0)\n",
    "print(f'\\n For unshuffled valuation, test loss on LSTM RNN is Loss: {model_loss:,.4f}, Accuracy: {model_accuracy:,.4f}.')\n"
   ]
  },
  {
   "cell_type": "code",
   "execution_count": 644,
   "metadata": {},
   "outputs": [],
   "source": [
    "# Make some predictions\n",
    "# Make predictions using the testing data X_test\n",
    "predicted = model.predict(X_test)"
   ]
  },
  {
   "cell_type": "code",
   "execution_count": 645,
   "metadata": {},
   "outputs": [],
   "source": [
    "# Recover the original prices instead of the scaled version\n",
    "real = y_test"
   ]
  },
  {
   "cell_type": "code",
   "execution_count": 646,
   "metadata": {},
   "outputs": [
    {
     "data": {
      "text/html": [
       "<div>\n",
       "<style scoped>\n",
       "    .dataframe tbody tr th:only-of-type {\n",
       "        vertical-align: middle;\n",
       "    }\n",
       "\n",
       "    .dataframe tbody tr th {\n",
       "        vertical-align: top;\n",
       "    }\n",
       "\n",
       "    .dataframe thead th {\n",
       "        text-align: right;\n",
       "    }\n",
       "</style>\n",
       "<table border=\"1\" class=\"dataframe\">\n",
       "  <thead>\n",
       "    <tr style=\"text-align: right;\">\n",
       "      <th></th>\n",
       "      <th>Real</th>\n",
       "      <th>Predicted</th>\n",
       "    </tr>\n",
       "  </thead>\n",
       "  <tbody>\n",
       "    <tr>\n",
       "      <th>0</th>\n",
       "      <td>0.0</td>\n",
       "      <td>0.503331</td>\n",
       "    </tr>\n",
       "    <tr>\n",
       "      <th>1</th>\n",
       "      <td>1.0</td>\n",
       "      <td>0.420829</td>\n",
       "    </tr>\n",
       "    <tr>\n",
       "      <th>2</th>\n",
       "      <td>0.0</td>\n",
       "      <td>0.430724</td>\n",
       "    </tr>\n",
       "    <tr>\n",
       "      <th>3</th>\n",
       "      <td>0.0</td>\n",
       "      <td>0.414383</td>\n",
       "    </tr>\n",
       "    <tr>\n",
       "      <th>4</th>\n",
       "      <td>1.0</td>\n",
       "      <td>0.637515</td>\n",
       "    </tr>\n",
       "    <tr>\n",
       "      <th>5</th>\n",
       "      <td>0.0</td>\n",
       "      <td>0.689863</td>\n",
       "    </tr>\n",
       "  </tbody>\n",
       "</table>\n",
       "</div>"
      ],
      "text/plain": [
       "   Real  Predicted\n",
       "0   0.0   0.503331\n",
       "1   1.0   0.420829\n",
       "2   0.0   0.430724\n",
       "3   0.0   0.414383\n",
       "4   1.0   0.637515\n",
       "5   0.0   0.689863"
      ]
     },
     "execution_count": 646,
     "metadata": {},
     "output_type": "execute_result"
    }
   ],
   "source": [
    "# Create a DataFrame of Real and Predicted values\n",
    "positive_sentiments = pd.DataFrame({\n",
    "    \"Real\": real.ravel(),\n",
    "    \"Predicted\": predicted.ravel()\n",
    "})\n",
    "positive_sentiments"
   ]
  },
  {
   "cell_type": "code",
   "execution_count": 647,
   "metadata": {},
   "outputs": [
    {
     "data": {
      "text/html": [
       "<div>\n",
       "<style scoped>\n",
       "    .dataframe tbody tr th:only-of-type {\n",
       "        vertical-align: middle;\n",
       "    }\n",
       "\n",
       "    .dataframe tbody tr th {\n",
       "        vertical-align: top;\n",
       "    }\n",
       "\n",
       "    .dataframe thead th {\n",
       "        text-align: right;\n",
       "    }\n",
       "</style>\n",
       "<table border=\"1\" class=\"dataframe\">\n",
       "  <thead>\n",
       "    <tr style=\"text-align: right;\">\n",
       "      <th></th>\n",
       "      <th>Real</th>\n",
       "      <th>Predicted</th>\n",
       "    </tr>\n",
       "  </thead>\n",
       "  <tbody>\n",
       "    <tr>\n",
       "      <th>0</th>\n",
       "      <td>0.0</td>\n",
       "      <td>1.0</td>\n",
       "    </tr>\n",
       "    <tr>\n",
       "      <th>1</th>\n",
       "      <td>1.0</td>\n",
       "      <td>0.0</td>\n",
       "    </tr>\n",
       "    <tr>\n",
       "      <th>2</th>\n",
       "      <td>0.0</td>\n",
       "      <td>0.0</td>\n",
       "    </tr>\n",
       "    <tr>\n",
       "      <th>3</th>\n",
       "      <td>0.0</td>\n",
       "      <td>0.0</td>\n",
       "    </tr>\n",
       "    <tr>\n",
       "      <th>4</th>\n",
       "      <td>1.0</td>\n",
       "      <td>1.0</td>\n",
       "    </tr>\n",
       "    <tr>\n",
       "      <th>5</th>\n",
       "      <td>0.0</td>\n",
       "      <td>1.0</td>\n",
       "    </tr>\n",
       "  </tbody>\n",
       "</table>\n",
       "</div>"
      ],
      "text/plain": [
       "   Real  Predicted\n",
       "0   0.0        1.0\n",
       "1   1.0        0.0\n",
       "2   0.0        0.0\n",
       "3   0.0        0.0\n",
       "4   1.0        1.0\n",
       "5   0.0        1.0"
      ]
     },
     "execution_count": 647,
     "metadata": {},
     "output_type": "execute_result"
    }
   ],
   "source": [
    "# Transform Predicted column\n",
    "def changePredicted(predicted):\n",
    "    if predicted >= 0.5:\n",
    "        return 1.0\n",
    "    else:\n",
    "        return 0.0\n",
    "\n",
    "positive_sentiments[\"Predicted\"] = positive_sentiments[\"Predicted\"].apply(changePredicted)\n",
    "positive_sentiments"
   ]
  },
  {
   "cell_type": "code",
   "execution_count": 648,
   "metadata": {},
   "outputs": [
    {
     "data": {
      "text/plain": [
       "<Figure size 432x288 with 0 Axes>"
      ]
     },
     "metadata": {},
     "output_type": "display_data"
    },
    {
     "data": {
      "image/png": "[encoded data removed]",
      "text/plain": [
       "<Figure size 432x288 with 1 Axes>"
      ]
     },
     "metadata": {
      "needs_background": "light"
     },
     "output_type": "display_data"
    }
   ],
   "source": [
    "# Plot the real vs predicted values as a line chart\n",
    "import matplotlib.pyplot as plt\n",
    "import matplotlib\n",
    "import matplotlib.pyplot as plt\n",
    "plt.figure()\n",
    "positive_sentiments.plot(title=f\"Real Vs. Predicted {ticker} {window_size}-Day Move on Positive News\")\n",
    "plt.savefig(f'../Images/{ticker}_positive_lstm.png')\n",
    "plt.show()"
   ]
  },
  {
   "cell_type": "code",
   "execution_count": 649,
   "metadata": {},
   "outputs": [
    {
     "data": {
      "text/plain": [
       "<Figure size 432x288 with 0 Axes>"
      ]
     },
     "metadata": {},
     "output_type": "display_data"
    },
    {
     "data": {
      "image/png": "[encoded data removed]",
      "text/plain": [
       "<Figure size 432x288 with 1 Axes>"
      ]
     },
     "metadata": {
      "needs_background": "light"
     },
     "output_type": "display_data"
    }
   ],
   "source": [
    "# Plotting loss\n",
    "epochs = 200\n",
    "loss_df = pd.DataFrame(\n",
    "    {\n",
    "        \"Epoch\": range(1, epochs+1),\n",
    "        \"Train\": training_history.history[\"loss\"],\n",
    "        \"Val\": training_history.history[\"val_loss\"],\n",
    "    }\n",
    ")\n",
    "loss_df.set_index(\"Epoch\", inplace=True)\n",
    "\n",
    "plt.figure()\n",
    "loss_df.plot(title=f\"Loss on LSTM {window_size}-Day Move for {ticker} on Positive News\")\n",
    "plt.savefig(f'../Images/{ticker}_loss_positive_sentiments_lstm.png')\n",
    "plt.show()"
   ]
  },
  {
   "cell_type": "code",
   "execution_count": 650,
   "metadata": {},
   "outputs": [],
   "source": [
    "import h5py\n",
    "\n",
    "model.save(f'../Models/{ticker}_lstm_loss_positive.h5')  # creates a HDF5 file 'my_model.h5'\n",
    "del model  # deletes the existing model"
   ]
  },
  {
   "cell_type": "code",
   "execution_count": 651,
   "metadata": {},
   "outputs": [],
   "source": [
    "from keras.models import load_model\n",
    "import tensorflow as tf\n",
    "from tensorflow import keras\n",
    "# returns a compiled model\n",
    "# identical to the previous one\n",
    "#model = tf.keras.models.load_model(f'../Models/{ticker}_lstm_loss_positive.h5')"
   ]
  },
  {
   "cell_type": "markdown",
   "metadata": {},
   "source": [
    "_**Column index 2 is the `Negative` column**_"
   ]
  },
  {
   "cell_type": "code",
   "execution_count": 652,
   "metadata": {},
   "outputs": [],
   "source": [
    "feature_column_neg = 2\n",
    "target_column = 9   # this is 5 if using DIS_clean on pct_change() for price moves\n",
    "X, y = window_data(dis, window_size, feature_column_neg, target_column)"
   ]
  },
  {
   "cell_type": "code",
   "execution_count": 653,
   "metadata": {},
   "outputs": [],
   "source": [
    "# Apply One-hot encoding to the target labels\n",
    "enc = OneHotEncoder()\n",
    "enc.fit(y)\n",
    "y = enc.transform(y).toarray()[:,0]\n",
    "y = np.array(y).reshape(-1,1)"
   ]
  },
  {
   "cell_type": "code",
   "execution_count": 654,
   "metadata": {},
   "outputs": [],
   "source": [
    "# Use 70% of the data for training and the remaineder for testing\n",
    "split = int(0.7 * len(X))\n",
    "X_train = X[: split - 1]\n",
    "X_test = X[split:]\n",
    "y_train = y[: split - 1]\n",
    "y_test = y[split:]"
   ]
  },
  {
   "cell_type": "code",
   "execution_count": 655,
   "metadata": {},
   "outputs": [],
   "source": [
    "# Use the MinMaxScaler to scale data between 0 and 1.\n",
    "from sklearn.preprocessing import MinMaxScaler\n",
    "\n",
    "scaler = MinMaxScaler()\n",
    "scaler.fit(X)\n",
    "X_train = scaler.transform(X_train)\n",
    "X_test = scaler.transform(X_test)"
   ]
  },
  {
   "cell_type": "code",
   "execution_count": 656,
   "metadata": {},
   "outputs": [
    {
     "name": "stdout",
     "output_type": "stream",
     "text": [
      "X_train sample values:\n",
      "[[[0.23880597]]] \n",
      "\n",
      "X_test sample values:\n",
      "[[[0.41791045]]]\n"
     ]
    }
   ],
   "source": [
    "# Reshape the features for the model\n",
    "X_train = X_train.reshape((X_train.shape[0], X_train.shape[1], 1))\n",
    "X_test = X_test.reshape((X_test.shape[0], X_test.shape[1], 1))\n",
    "print (f\"X_train sample values:\\n{X_train[:1]} \\n\")\n",
    "print (f\"X_test sample values:\\n{X_test[:1]}\")"
   ]
  },
  {
   "cell_type": "code",
   "execution_count": 657,
   "metadata": {},
   "outputs": [
    {
     "name": "stdout",
     "output_type": "stream",
     "text": [
      "y_train sample values:\n",
      "[[1.]] \n",
      "\n",
      "y_test sample values:\n",
      "[[0.]]\n"
     ]
    }
   ],
   "source": [
    "print (f\"y_train sample values:\\n{y_train[:1]} \\n\")\n",
    "print (f\"y_test sample values:\\n{y_test[:1]}\")"
   ]
  },
  {
   "cell_type": "markdown",
   "metadata": {},
   "source": [
    "#### _**Build and Train the LSTM RNN**_"
   ]
  },
  {
   "cell_type": "code",
   "execution_count": 658,
   "metadata": {},
   "outputs": [],
   "source": [
    "from tensorflow.keras.models import Sequential\n",
    "from tensorflow.keras.layers import LSTM, Dense, Dropout"
   ]
  },
  {
   "cell_type": "code",
   "execution_count": 659,
   "metadata": {},
   "outputs": [],
   "source": [
    "# Build the LSTM model. \n",
    "# The return sequences need to be set to True if you are adding additional LSTM layers, but \n",
    "# You don't have to do this for the final layer. \n",
    "# Define the LSTM RNN model.\n",
    "\n",
    "model = Sequential()\n",
    "\n",
    "# Initial model setup\n",
    "number_units = 20\n",
    "dropout_fraction = 0.1\n",
    "\n",
    "# Layer 1\n",
    "model.add(LSTM(\n",
    "    units=number_units,\n",
    "    return_sequences=True,\n",
    "    input_shape=(X_train.shape[1], 1))\n",
    "    )\n",
    "model.add(Dropout(dropout_fraction))\n",
    "\n",
    "# Layer 2\n",
    "model.add(LSTM(units=number_units, activation='sigmoid', return_sequences=True))\n",
    "model.add(Dropout(dropout_fraction))\n",
    "\n",
    "# Layer 3\n",
    "model.add(LSTM(units=number_units))\n",
    "model.add(Dropout(dropout_fraction))\n",
    "\n",
    "# Output layer\n",
    "model.add(Dense(1))"
   ]
  },
  {
   "cell_type": "code",
   "execution_count": 660,
   "metadata": {},
   "outputs": [],
   "source": [
    "# Compile the model\n",
    "model.compile(optimizer=\"adam\", \n",
    "              metrics=[\"accuracy\", \"mse\"],\n",
    "              loss=\"mean_squared_error\") "
   ]
  },
  {
   "cell_type": "code",
   "execution_count": 661,
   "metadata": {},
   "outputs": [],
   "source": [
    "# Creating validation data sets\n",
    "from sklearn.model_selection import train_test_split\n",
    "X_train, X_val, y_train, y_val = train_test_split(X_train, y_train, test_size = 0.3, shuffle=False) "
   ]
  },
  {
   "cell_type": "code",
   "execution_count": 662,
   "metadata": {},
   "outputs": [
    {
     "name": "stdout",
     "output_type": "stream",
     "text": [
      "Train on 7 samples, validate on 4 samples\n",
      "Epoch 1/200\n",
      "7/7 [==============================] - 3s 411ms/sample - loss: 0.5864 - accuracy: 0.4286 - mse: 0.5864 - val_loss: 0.4748 - val_accuracy: 0.5000 - val_mse: 0.4748\n",
      "Epoch 2/200\n",
      "7/7 [==============================] - 0s 5ms/sample - loss: 0.5511 - accuracy: 0.4286 - mse: 0.5511 - val_loss: 0.4317 - val_accuracy: 0.5000 - val_mse: 0.4317\n",
      "Epoch 3/200\n",
      "7/7 [==============================] - 0s 6ms/sample - loss: 0.4842 - accuracy: 0.4286 - mse: 0.4842 - val_loss: 0.3942 - val_accuracy: 0.5000 - val_mse: 0.3942\n",
      "Epoch 4/200\n",
      "7/7 [==============================] - 0s 6ms/sample - loss: 0.4235 - accuracy: 0.4286 - mse: 0.4235 - val_loss: 0.3619 - val_accuracy: 0.5000 - val_mse: 0.3619\n",
      "Epoch 5/200\n",
      "7/7 [==============================] - 0s 6ms/sample - loss: 0.4021 - accuracy: 0.4286 - mse: 0.4021 - val_loss: 0.3347 - val_accuracy: 0.5000 - val_mse: 0.3347\n",
      "Epoch 6/200\n",
      "7/7 [==============================] - 0s 5ms/sample - loss: 0.3722 - accuracy: 0.4286 - mse: 0.3722 - val_loss: 0.3119 - val_accuracy: 0.5000 - val_mse: 0.3119\n",
      "Epoch 7/200\n",
      "7/7 [==============================] - 0s 6ms/sample - loss: 0.3524 - accuracy: 0.4286 - mse: 0.3524 - val_loss: 0.2935 - val_accuracy: 0.5000 - val_mse: 0.2935\n",
      "Epoch 8/200\n",
      "7/7 [==============================] - 0s 6ms/sample - loss: 0.3078 - accuracy: 0.4286 - mse: 0.3078 - val_loss: 0.2782 - val_accuracy: 0.5000 - val_mse: 0.2782\n",
      "Epoch 9/200\n",
      "7/7 [==============================] - 0s 6ms/sample - loss: 0.3184 - accuracy: 0.4286 - mse: 0.3184 - val_loss: 0.2673 - val_accuracy: 0.5000 - val_mse: 0.2673\n",
      "Epoch 10/200\n",
      "7/7 [==============================] - 0s 5ms/sample - loss: 0.2992 - accuracy: 0.4286 - mse: 0.2992 - val_loss: 0.2598 - val_accuracy: 0.5000 - val_mse: 0.2598\n",
      "Epoch 11/200\n",
      "7/7 [==============================] - 0s 6ms/sample - loss: 0.2578 - accuracy: 0.4286 - mse: 0.2578 - val_loss: 0.2547 - val_accuracy: 0.5000 - val_mse: 0.2547\n",
      "Epoch 12/200\n",
      "7/7 [==============================] - 0s 6ms/sample - loss: 0.2791 - accuracy: 0.4286 - mse: 0.2791 - val_loss: 0.2513 - val_accuracy: 0.5000 - val_mse: 0.2513\n",
      "Epoch 13/200\n",
      "7/7 [==============================] - 0s 6ms/sample - loss: 0.2585 - accuracy: 0.2857 - mse: 0.2585 - val_loss: 0.2496 - val_accuracy: 0.5000 - val_mse: 0.2496\n",
      "Epoch 14/200\n",
      "7/7 [==============================] - 0s 6ms/sample - loss: 0.2568 - accuracy: 0.4286 - mse: 0.2568 - val_loss: 0.2492 - val_accuracy: 0.5000 - val_mse: 0.2492\n",
      "Epoch 15/200\n",
      "7/7 [==============================] - 0s 6ms/sample - loss: 0.2902 - accuracy: 0.1429 - mse: 0.2902 - val_loss: 0.2494 - val_accuracy: 0.5000 - val_mse: 0.2494\n",
      "Epoch 16/200\n",
      "7/7 [==============================] - 0s 6ms/sample - loss: 0.2692 - accuracy: 0.4286 - mse: 0.2692 - val_loss: 0.2499 - val_accuracy: 0.5000 - val_mse: 0.2499\n",
      "Epoch 17/200\n",
      "7/7 [==============================] - 0s 6ms/sample - loss: 0.2740 - accuracy: 0.4286 - mse: 0.2740 - val_loss: 0.2502 - val_accuracy: 0.5000 - val_mse: 0.2502\n",
      "Epoch 18/200\n",
      "7/7 [==============================] - 0s 6ms/sample - loss: 0.2133 - accuracy: 0.7143 - mse: 0.2133 - val_loss: 0.2504 - val_accuracy: 0.5000 - val_mse: 0.2504\n",
      "Epoch 19/200\n",
      "7/7 [==============================] - 0s 6ms/sample - loss: 0.2636 - accuracy: 0.4286 - mse: 0.2636 - val_loss: 0.2511 - val_accuracy: 0.5000 - val_mse: 0.2511\n",
      "Epoch 20/200\n",
      "7/7 [==============================] - 0s 5ms/sample - loss: 0.2330 - accuracy: 0.5714 - mse: 0.2330 - val_loss: 0.2515 - val_accuracy: 0.5000 - val_mse: 0.2515\n",
      "Epoch 21/200\n",
      "7/7 [==============================] - 0s 6ms/sample - loss: 0.2328 - accuracy: 0.7143 - mse: 0.2328 - val_loss: 0.2523 - val_accuracy: 0.5000 - val_mse: 0.2523\n",
      "Epoch 22/200\n",
      "7/7 [==============================] - 0s 6ms/sample - loss: 0.2399 - accuracy: 0.4286 - mse: 0.2399 - val_loss: 0.2528 - val_accuracy: 0.5000 - val_mse: 0.2528\n",
      "Epoch 23/200\n",
      "7/7 [==============================] - 0s 6ms/sample - loss: 0.2844 - accuracy: 0.5714 - mse: 0.2844 - val_loss: 0.2529 - val_accuracy: 0.5000 - val_mse: 0.2529\n",
      "Epoch 24/200\n",
      "7/7 [==============================] - 0s 5ms/sample - loss: 0.2645 - accuracy: 0.4286 - mse: 0.2645 - val_loss: 0.2532 - val_accuracy: 0.5000 - val_mse: 0.2532\n",
      "Epoch 25/200\n",
      "7/7 [==============================] - 0s 5ms/sample - loss: 0.2693 - accuracy: 0.4286 - mse: 0.2693 - val_loss: 0.2532 - val_accuracy: 0.5000 - val_mse: 0.2532\n",
      "Epoch 26/200\n",
      "7/7 [==============================] - 0s 5ms/sample - loss: 0.2417 - accuracy: 0.4286 - mse: 0.2417 - val_loss: 0.2532 - val_accuracy: 0.5000 - val_mse: 0.2532\n",
      "Epoch 27/200\n",
      "7/7 [==============================] - 0s 5ms/sample - loss: 0.2597 - accuracy: 0.5714 - mse: 0.2597 - val_loss: 0.2538 - val_accuracy: 0.5000 - val_mse: 0.2538\n",
      "Epoch 28/200\n",
      "7/7 [==============================] - 0s 5ms/sample - loss: 0.2099 - accuracy: 0.7143 - mse: 0.2099 - val_loss: 0.2543 - val_accuracy: 0.5000 - val_mse: 0.2543\n",
      "Epoch 29/200\n",
      "7/7 [==============================] - 0s 5ms/sample - loss: 0.2600 - accuracy: 0.5714 - mse: 0.2600 - val_loss: 0.2547 - val_accuracy: 0.5000 - val_mse: 0.2547\n",
      "Epoch 30/200\n",
      "7/7 [==============================] - 0s 5ms/sample - loss: 0.2351 - accuracy: 0.4286 - mse: 0.2351 - val_loss: 0.2548 - val_accuracy: 0.5000 - val_mse: 0.2548\n",
      "Epoch 31/200\n",
      "7/7 [==============================] - 0s 5ms/sample - loss: 0.2955 - accuracy: 0.4286 - mse: 0.2955 - val_loss: 0.2550 - val_accuracy: 0.5000 - val_mse: 0.2550\n",
      "Epoch 32/200\n",
      "7/7 [==============================] - 0s 5ms/sample - loss: 0.2848 - accuracy: 0.4286 - mse: 0.2848 - val_loss: 0.2545 - val_accuracy: 0.5000 - val_mse: 0.2545\n",
      "Epoch 33/200\n",
      "7/7 [==============================] - 0s 5ms/sample - loss: 0.2008 - accuracy: 0.8571 - mse: 0.2008 - val_loss: 0.2543 - val_accuracy: 0.5000 - val_mse: 0.2543\n",
      "Epoch 34/200\n",
      "7/7 [==============================] - 0s 5ms/sample - loss: 0.2467 - accuracy: 0.7143 - mse: 0.2467 - val_loss: 0.2546 - val_accuracy: 0.5000 - val_mse: 0.2546\n",
      "Epoch 35/200\n",
      "7/7 [==============================] - 0s 5ms/sample - loss: 0.2716 - accuracy: 0.4286 - mse: 0.2716 - val_loss: 0.2545 - val_accuracy: 0.5000 - val_mse: 0.2545\n",
      "Epoch 36/200\n",
      "7/7 [==============================] - 0s 5ms/sample - loss: 0.2408 - accuracy: 0.5714 - mse: 0.2408 - val_loss: 0.2542 - val_accuracy: 0.5000 - val_mse: 0.2542\n",
      "Epoch 37/200\n",
      "7/7 [==============================] - 0s 5ms/sample - loss: 0.2241 - accuracy: 0.5714 - mse: 0.2241 - val_loss: 0.2539 - val_accuracy: 0.5000 - val_mse: 0.2539\n",
      "Epoch 38/200\n",
      "7/7 [==============================] - 0s 5ms/sample - loss: 0.2938 - accuracy: 0.4286 - mse: 0.2938 - val_loss: 0.2535 - val_accuracy: 0.5000 - val_mse: 0.2535\n",
      "Epoch 39/200\n",
      "7/7 [==============================] - 0s 5ms/sample - loss: 0.2709 - accuracy: 0.4286 - mse: 0.2709 - val_loss: 0.2529 - val_accuracy: 0.5000 - val_mse: 0.2529\n",
      "Epoch 40/200\n",
      "7/7 [==============================] - 0s 5ms/sample - loss: 0.2500 - accuracy: 0.5714 - mse: 0.2500 - val_loss: 0.2526 - val_accuracy: 0.5000 - val_mse: 0.2526\n",
      "Epoch 41/200\n",
      "7/7 [==============================] - 0s 5ms/sample - loss: 0.3028 - accuracy: 0.2857 - mse: 0.3028 - val_loss: 0.2523 - val_accuracy: 0.5000 - val_mse: 0.2523\n",
      "Epoch 42/200\n",
      "7/7 [==============================] - 0s 5ms/sample - loss: 0.2504 - accuracy: 0.7143 - mse: 0.2504 - val_loss: 0.2522 - val_accuracy: 0.5000 - val_mse: 0.2522\n",
      "Epoch 43/200\n",
      "7/7 [==============================] - 0s 5ms/sample - loss: 0.2676 - accuracy: 0.7143 - mse: 0.2676 - val_loss: 0.2523 - val_accuracy: 0.5000 - val_mse: 0.2523\n",
      "Epoch 44/200\n",
      "7/7 [==============================] - 0s 5ms/sample - loss: 0.2596 - accuracy: 0.4286 - mse: 0.2596 - val_loss: 0.2520 - val_accuracy: 0.5000 - val_mse: 0.2520\n",
      "Epoch 45/200\n",
      "7/7 [==============================] - 0s 5ms/sample - loss: 0.2758 - accuracy: 0.4286 - mse: 0.2758 - val_loss: 0.2518 - val_accuracy: 0.5000 - val_mse: 0.2518\n",
      "Epoch 46/200\n",
      "7/7 [==============================] - 0s 5ms/sample - loss: 0.2454 - accuracy: 0.5714 - mse: 0.2454 - val_loss: 0.2519 - val_accuracy: 0.5000 - val_mse: 0.2519\n",
      "Epoch 47/200\n",
      "7/7 [==============================] - 0s 5ms/sample - loss: 0.2656 - accuracy: 0.5714 - mse: 0.2656 - val_loss: 0.2521 - val_accuracy: 0.5000 - val_mse: 0.2521\n",
      "Epoch 48/200\n",
      "7/7 [==============================] - 0s 5ms/sample - loss: 0.2411 - accuracy: 0.7143 - mse: 0.2411 - val_loss: 0.2523 - val_accuracy: 0.5000 - val_mse: 0.2523\n",
      "Epoch 49/200\n",
      "7/7 [==============================] - 0s 5ms/sample - loss: 0.2423 - accuracy: 0.7143 - mse: 0.2423 - val_loss: 0.2522 - val_accuracy: 0.5000 - val_mse: 0.2522\n",
      "Epoch 50/200\n",
      "7/7 [==============================] - 0s 5ms/sample - loss: 0.2554 - accuracy: 0.5714 - mse: 0.2554 - val_loss: 0.2523 - val_accuracy: 0.5000 - val_mse: 0.2523\n",
      "Epoch 51/200\n",
      "7/7 [==============================] - 0s 5ms/sample - loss: 0.1985 - accuracy: 0.8571 - mse: 0.1985 - val_loss: 0.2528 - val_accuracy: 0.5000 - val_mse: 0.2528\n",
      "Epoch 52/200\n",
      "7/7 [==============================] - 0s 5ms/sample - loss: 0.2335 - accuracy: 0.7143 - mse: 0.2335 - val_loss: 0.2538 - val_accuracy: 0.5000 - val_mse: 0.2538\n",
      "Epoch 53/200\n",
      "7/7 [==============================] - 0s 4ms/sample - loss: 0.2377 - accuracy: 0.5714 - mse: 0.2377 - val_loss: 0.2545 - val_accuracy: 0.5000 - val_mse: 0.2545\n",
      "Epoch 54/200\n",
      "7/7 [==============================] - 0s 5ms/sample - loss: 0.2505 - accuracy: 0.5714 - mse: 0.2505 - val_loss: 0.2553 - val_accuracy: 0.5000 - val_mse: 0.2553\n",
      "Epoch 55/200\n",
      "7/7 [==============================] - 0s 5ms/sample - loss: 0.2246 - accuracy: 0.4286 - mse: 0.2246 - val_loss: 0.2560 - val_accuracy: 0.5000 - val_mse: 0.2560\n",
      "Epoch 56/200\n",
      "7/7 [==============================] - 0s 5ms/sample - loss: 0.2864 - accuracy: 0.4286 - mse: 0.2864 - val_loss: 0.2562 - val_accuracy: 0.5000 - val_mse: 0.2562\n",
      "Epoch 57/200\n",
      "7/7 [==============================] - 0s 5ms/sample - loss: 0.2932 - accuracy: 0.5714 - mse: 0.2932 - val_loss: 0.2555 - val_accuracy: 0.5000 - val_mse: 0.2555\n",
      "Epoch 58/200\n",
      "7/7 [==============================] - 0s 5ms/sample - loss: 0.2518 - accuracy: 0.5714 - mse: 0.2518 - val_loss: 0.2546 - val_accuracy: 0.5000 - val_mse: 0.2546\n",
      "Epoch 59/200\n",
      "7/7 [==============================] - 0s 7ms/sample - loss: 0.2064 - accuracy: 0.7143 - mse: 0.2064 - val_loss: 0.2546 - val_accuracy: 0.5000 - val_mse: 0.2546\n",
      "Epoch 60/200\n",
      "7/7 [==============================] - 0s 6ms/sample - loss: 0.2254 - accuracy: 0.7143 - mse: 0.2254 - val_loss: 0.2548 - val_accuracy: 0.5000 - val_mse: 0.2548\n",
      "Epoch 61/200\n",
      "7/7 [==============================] - 0s 5ms/sample - loss: 0.2643 - accuracy: 0.4286 - mse: 0.2643 - val_loss: 0.2549 - val_accuracy: 0.5000 - val_mse: 0.2549\n",
      "Epoch 62/200\n",
      "7/7 [==============================] - 0s 5ms/sample - loss: 0.2749 - accuracy: 0.4286 - mse: 0.2749 - val_loss: 0.2549 - val_accuracy: 0.5000 - val_mse: 0.2549\n",
      "Epoch 63/200\n",
      "7/7 [==============================] - 0s 5ms/sample - loss: 0.2257 - accuracy: 0.5714 - mse: 0.2257 - val_loss: 0.2545 - val_accuracy: 0.5000 - val_mse: 0.2545\n",
      "Epoch 64/200\n",
      "7/7 [==============================] - 0s 5ms/sample - loss: 0.2659 - accuracy: 0.4286 - mse: 0.2659 - val_loss: 0.2541 - val_accuracy: 0.5000 - val_mse: 0.2541\n",
      "Epoch 65/200\n",
      "7/7 [==============================] - 0s 5ms/sample - loss: 0.2450 - accuracy: 0.5714 - mse: 0.2450 - val_loss: 0.2540 - val_accuracy: 0.5000 - val_mse: 0.2540\n",
      "Epoch 66/200\n",
      "7/7 [==============================] - 0s 5ms/sample - loss: 0.2562 - accuracy: 0.5714 - mse: 0.2562 - val_loss: 0.2537 - val_accuracy: 0.5000 - val_mse: 0.2537\n",
      "Epoch 67/200\n",
      "7/7 [==============================] - 0s 5ms/sample - loss: 0.2792 - accuracy: 0.5714 - mse: 0.2792 - val_loss: 0.2532 - val_accuracy: 0.5000 - val_mse: 0.2532\n",
      "Epoch 68/200\n",
      "7/7 [==============================] - 0s 5ms/sample - loss: 0.2486 - accuracy: 0.5714 - mse: 0.2486 - val_loss: 0.2532 - val_accuracy: 0.5000 - val_mse: 0.2532\n",
      "Epoch 69/200\n",
      "7/7 [==============================] - 0s 5ms/sample - loss: 0.2469 - accuracy: 0.4286 - mse: 0.2469 - val_loss: 0.2534 - val_accuracy: 0.5000 - val_mse: 0.2534\n",
      "Epoch 70/200\n",
      "7/7 [==============================] - 0s 5ms/sample - loss: 0.2302 - accuracy: 0.7143 - mse: 0.2302 - val_loss: 0.2543 - val_accuracy: 0.5000 - val_mse: 0.2543\n",
      "Epoch 71/200\n",
      "7/7 [==============================] - 0s 5ms/sample - loss: 0.2370 - accuracy: 0.5714 - mse: 0.2370 - val_loss: 0.2548 - val_accuracy: 0.5000 - val_mse: 0.2548\n",
      "Epoch 72/200\n",
      "7/7 [==============================] - 0s 5ms/sample - loss: 0.2950 - accuracy: 0.4286 - mse: 0.2950 - val_loss: 0.2549 - val_accuracy: 0.5000 - val_mse: 0.2549\n",
      "Epoch 73/200\n",
      "7/7 [==============================] - 0s 5ms/sample - loss: 0.2608 - accuracy: 0.5714 - mse: 0.2608 - val_loss: 0.2545 - val_accuracy: 0.5000 - val_mse: 0.2545\n",
      "Epoch 74/200\n",
      "7/7 [==============================] - 0s 5ms/sample - loss: 0.2953 - accuracy: 0.2857 - mse: 0.2953 - val_loss: 0.2547 - val_accuracy: 0.5000 - val_mse: 0.2547\n",
      "Epoch 75/200\n",
      "7/7 [==============================] - 0s 5ms/sample - loss: 0.2432 - accuracy: 0.4286 - mse: 0.2432 - val_loss: 0.2548 - val_accuracy: 0.5000 - val_mse: 0.2548\n",
      "Epoch 76/200\n",
      "7/7 [==============================] - 0s 5ms/sample - loss: 0.2466 - accuracy: 0.5714 - mse: 0.2466 - val_loss: 0.2546 - val_accuracy: 0.5000 - val_mse: 0.2546\n",
      "Epoch 77/200\n",
      "7/7 [==============================] - 0s 5ms/sample - loss: 0.2046 - accuracy: 0.8571 - mse: 0.2046 - val_loss: 0.2545 - val_accuracy: 0.5000 - val_mse: 0.2545\n",
      "Epoch 78/200\n",
      "7/7 [==============================] - 0s 5ms/sample - loss: 0.2389 - accuracy: 0.4286 - mse: 0.2389 - val_loss: 0.2551 - val_accuracy: 0.5000 - val_mse: 0.2551\n",
      "Epoch 79/200\n",
      "7/7 [==============================] - 0s 5ms/sample - loss: 0.2844 - accuracy: 0.2857 - mse: 0.2844 - val_loss: 0.2557 - val_accuracy: 0.5000 - val_mse: 0.2557\n",
      "Epoch 80/200\n",
      "7/7 [==============================] - 0s 5ms/sample - loss: 0.2529 - accuracy: 0.4286 - mse: 0.2529 - val_loss: 0.2556 - val_accuracy: 0.5000 - val_mse: 0.2556\n",
      "Epoch 81/200\n",
      "7/7 [==============================] - 0s 5ms/sample - loss: 0.2790 - accuracy: 0.2857 - mse: 0.2790 - val_loss: 0.2554 - val_accuracy: 0.5000 - val_mse: 0.2554\n",
      "Epoch 82/200\n",
      "7/7 [==============================] - 0s 5ms/sample - loss: 0.2537 - accuracy: 0.5714 - mse: 0.2537 - val_loss: 0.2552 - val_accuracy: 0.5000 - val_mse: 0.2552\n",
      "Epoch 83/200\n",
      "7/7 [==============================] - 0s 5ms/sample - loss: 0.2948 - accuracy: 0.2857 - mse: 0.2948 - val_loss: 0.2548 - val_accuracy: 0.5000 - val_mse: 0.2548\n",
      "Epoch 84/200\n",
      "7/7 [==============================] - 0s 5ms/sample - loss: 0.2438 - accuracy: 0.5714 - mse: 0.2438 - val_loss: 0.2543 - val_accuracy: 0.5000 - val_mse: 0.2543\n",
      "Epoch 85/200\n",
      "7/7 [==============================] - 0s 5ms/sample - loss: 0.2464 - accuracy: 0.5714 - mse: 0.2464 - val_loss: 0.2540 - val_accuracy: 0.5000 - val_mse: 0.2540\n",
      "Epoch 86/200\n",
      "7/7 [==============================] - 0s 5ms/sample - loss: 0.2668 - accuracy: 0.4286 - mse: 0.2668 - val_loss: 0.2539 - val_accuracy: 0.5000 - val_mse: 0.2539\n",
      "Epoch 87/200\n",
      "7/7 [==============================] - 0s 5ms/sample - loss: 0.2294 - accuracy: 0.5714 - mse: 0.2294 - val_loss: 0.2540 - val_accuracy: 0.5000 - val_mse: 0.2540\n",
      "Epoch 88/200\n",
      "7/7 [==============================] - 0s 6ms/sample - loss: 0.2342 - accuracy: 0.7143 - mse: 0.2342 - val_loss: 0.2544 - val_accuracy: 0.5000 - val_mse: 0.2544\n",
      "Epoch 89/200\n",
      "7/7 [==============================] - 0s 6ms/sample - loss: 0.2709 - accuracy: 0.5714 - mse: 0.2709 - val_loss: 0.2548 - val_accuracy: 0.5000 - val_mse: 0.2548\n",
      "Epoch 90/200\n",
      "7/7 [==============================] - 0s 6ms/sample - loss: 0.2277 - accuracy: 0.7143 - mse: 0.2277 - val_loss: 0.2552 - val_accuracy: 0.5000 - val_mse: 0.2552\n",
      "Epoch 91/200\n",
      "7/7 [==============================] - 0s 5ms/sample - loss: 0.2724 - accuracy: 0.5714 - mse: 0.2724 - val_loss: 0.2551 - val_accuracy: 0.5000 - val_mse: 0.2551\n",
      "Epoch 92/200\n",
      "7/7 [==============================] - 0s 5ms/sample - loss: 0.2452 - accuracy: 0.5714 - mse: 0.2452 - val_loss: 0.2547 - val_accuracy: 0.5000 - val_mse: 0.2547\n",
      "Epoch 93/200\n",
      "7/7 [==============================] - 0s 5ms/sample - loss: 0.2790 - accuracy: 0.5714 - mse: 0.2790 - val_loss: 0.2544 - val_accuracy: 0.5000 - val_mse: 0.2544\n",
      "Epoch 94/200\n",
      "7/7 [==============================] - 0s 5ms/sample - loss: 0.2347 - accuracy: 0.5714 - mse: 0.2347 - val_loss: 0.2541 - val_accuracy: 0.5000 - val_mse: 0.2541\n",
      "Epoch 95/200\n",
      "7/7 [==============================] - 0s 5ms/sample - loss: 0.2232 - accuracy: 0.5714 - mse: 0.2232 - val_loss: 0.2542 - val_accuracy: 0.5000 - val_mse: 0.2542\n",
      "Epoch 96/200\n",
      "7/7 [==============================] - 0s 5ms/sample - loss: 0.2527 - accuracy: 0.5714 - mse: 0.2527 - val_loss: 0.2544 - val_accuracy: 0.5000 - val_mse: 0.2544\n",
      "Epoch 97/200\n",
      "7/7 [==============================] - 0s 5ms/sample - loss: 0.2712 - accuracy: 0.2857 - mse: 0.2712 - val_loss: 0.2545 - val_accuracy: 0.5000 - val_mse: 0.2545\n",
      "Epoch 98/200\n",
      "7/7 [==============================] - 0s 5ms/sample - loss: 0.2590 - accuracy: 0.7143 - mse: 0.2590 - val_loss: 0.2548 - val_accuracy: 0.5000 - val_mse: 0.2548\n",
      "Epoch 99/200\n",
      "7/7 [==============================] - 0s 5ms/sample - loss: 0.2377 - accuracy: 0.5714 - mse: 0.2377 - val_loss: 0.2553 - val_accuracy: 0.5000 - val_mse: 0.2553\n",
      "Epoch 100/200\n",
      "7/7 [==============================] - 0s 5ms/sample - loss: 0.2263 - accuracy: 0.5714 - mse: 0.2263 - val_loss: 0.2554 - val_accuracy: 0.5000 - val_mse: 0.2554\n",
      "Epoch 101/200\n",
      "7/7 [==============================] - 0s 5ms/sample - loss: 0.2682 - accuracy: 0.2857 - mse: 0.2682 - val_loss: 0.2552 - val_accuracy: 0.5000 - val_mse: 0.2552\n",
      "Epoch 102/200\n",
      "7/7 [==============================] - 0s 5ms/sample - loss: 0.2302 - accuracy: 0.5714 - mse: 0.2302 - val_loss: 0.2550 - val_accuracy: 0.5000 - val_mse: 0.2550\n",
      "Epoch 103/200\n",
      "7/7 [==============================] - 0s 5ms/sample - loss: 0.2073 - accuracy: 0.7143 - mse: 0.2073 - val_loss: 0.2550 - val_accuracy: 0.5000 - val_mse: 0.2550\n",
      "Epoch 104/200\n",
      "7/7 [==============================] - 0s 5ms/sample - loss: 0.2521 - accuracy: 0.5714 - mse: 0.2521 - val_loss: 0.2553 - val_accuracy: 0.5000 - val_mse: 0.2553\n",
      "Epoch 105/200\n",
      "7/7 [==============================] - 0s 5ms/sample - loss: 0.2322 - accuracy: 0.7143 - mse: 0.2322 - val_loss: 0.2554 - val_accuracy: 0.5000 - val_mse: 0.2554\n",
      "Epoch 106/200\n",
      "7/7 [==============================] - 0s 5ms/sample - loss: 0.2536 - accuracy: 0.4286 - mse: 0.2536 - val_loss: 0.2560 - val_accuracy: 0.5000 - val_mse: 0.2560\n",
      "Epoch 107/200\n",
      "7/7 [==============================] - 0s 5ms/sample - loss: 0.2229 - accuracy: 0.7143 - mse: 0.2229 - val_loss: 0.2563 - val_accuracy: 0.5000 - val_mse: 0.2563\n",
      "Epoch 108/200\n",
      "7/7 [==============================] - 0s 5ms/sample - loss: 0.2522 - accuracy: 0.5714 - mse: 0.2522 - val_loss: 0.2565 - val_accuracy: 0.5000 - val_mse: 0.2565\n",
      "Epoch 109/200\n",
      "7/7 [==============================] - 0s 5ms/sample - loss: 0.2597 - accuracy: 0.5714 - mse: 0.2597 - val_loss: 0.2565 - val_accuracy: 0.5000 - val_mse: 0.2565\n",
      "Epoch 110/200\n",
      "7/7 [==============================] - 0s 5ms/sample - loss: 0.2676 - accuracy: 0.4286 - mse: 0.2676 - val_loss: 0.2564 - val_accuracy: 0.5000 - val_mse: 0.2564\n",
      "Epoch 111/200\n",
      "7/7 [==============================] - 0s 5ms/sample - loss: 0.2366 - accuracy: 0.5714 - mse: 0.2366 - val_loss: 0.2562 - val_accuracy: 0.5000 - val_mse: 0.2562\n",
      "Epoch 112/200\n",
      "7/7 [==============================] - 0s 5ms/sample - loss: 0.2486 - accuracy: 0.7143 - mse: 0.2486 - val_loss: 0.2564 - val_accuracy: 0.5000 - val_mse: 0.2564\n",
      "Epoch 113/200\n",
      "7/7 [==============================] - 0s 5ms/sample - loss: 0.2977 - accuracy: 0.4286 - mse: 0.2977 - val_loss: 0.2564 - val_accuracy: 0.5000 - val_mse: 0.2564\n",
      "Epoch 114/200\n",
      "7/7 [==============================] - 0s 5ms/sample - loss: 0.2356 - accuracy: 0.4286 - mse: 0.2356 - val_loss: 0.2563 - val_accuracy: 0.5000 - val_mse: 0.2563\n",
      "Epoch 115/200\n",
      "7/7 [==============================] - 0s 5ms/sample - loss: 0.3016 - accuracy: 0.2857 - mse: 0.3016 - val_loss: 0.2560 - val_accuracy: 0.5000 - val_mse: 0.2560\n",
      "Epoch 116/200\n",
      "7/7 [==============================] - 0s 5ms/sample - loss: 0.2287 - accuracy: 0.5714 - mse: 0.2287 - val_loss: 0.2556 - val_accuracy: 0.5000 - val_mse: 0.2556\n",
      "Epoch 117/200\n",
      "7/7 [==============================] - 0s 5ms/sample - loss: 0.3067 - accuracy: 0.2857 - mse: 0.3067 - val_loss: 0.2551 - val_accuracy: 0.5000 - val_mse: 0.2551\n",
      "Epoch 118/200\n",
      "7/7 [==============================] - 0s 5ms/sample - loss: 0.2470 - accuracy: 0.4286 - mse: 0.2470 - val_loss: 0.2549 - val_accuracy: 0.5000 - val_mse: 0.2549\n",
      "Epoch 119/200\n",
      "7/7 [==============================] - 0s 5ms/sample - loss: 0.2522 - accuracy: 0.5714 - mse: 0.2522 - val_loss: 0.2550 - val_accuracy: 0.5000 - val_mse: 0.2550\n",
      "Epoch 120/200\n",
      "7/7 [==============================] - 0s 5ms/sample - loss: 0.2208 - accuracy: 0.8571 - mse: 0.2208 - val_loss: 0.2553 - val_accuracy: 0.5000 - val_mse: 0.2553\n",
      "Epoch 121/200\n",
      "7/7 [==============================] - 0s 5ms/sample - loss: 0.2828 - accuracy: 0.5714 - mse: 0.2828 - val_loss: 0.2555 - val_accuracy: 0.5000 - val_mse: 0.2555\n",
      "Epoch 122/200\n",
      "7/7 [==============================] - 0s 5ms/sample - loss: 0.2467 - accuracy: 0.5714 - mse: 0.2467 - val_loss: 0.2553 - val_accuracy: 0.5000 - val_mse: 0.2553\n",
      "Epoch 123/200\n",
      "7/7 [==============================] - 0s 5ms/sample - loss: 0.2391 - accuracy: 0.4286 - mse: 0.2391 - val_loss: 0.2555 - val_accuracy: 0.5000 - val_mse: 0.2555\n",
      "Epoch 124/200\n",
      "7/7 [==============================] - 0s 5ms/sample - loss: 0.3116 - accuracy: 0.2857 - mse: 0.3116 - val_loss: 0.2560 - val_accuracy: 0.5000 - val_mse: 0.2560\n",
      "Epoch 125/200\n",
      "7/7 [==============================] - 0s 5ms/sample - loss: 0.2727 - accuracy: 0.4286 - mse: 0.2727 - val_loss: 0.2562 - val_accuracy: 0.5000 - val_mse: 0.2562\n",
      "Epoch 126/200\n",
      "7/7 [==============================] - 0s 5ms/sample - loss: 0.2596 - accuracy: 0.5714 - mse: 0.2596 - val_loss: 0.2559 - val_accuracy: 0.5000 - val_mse: 0.2559\n",
      "Epoch 127/200\n",
      "7/7 [==============================] - 0s 5ms/sample - loss: 0.2396 - accuracy: 0.7143 - mse: 0.2396 - val_loss: 0.2557 - val_accuracy: 0.5000 - val_mse: 0.2557\n",
      "Epoch 128/200\n",
      "7/7 [==============================] - 0s 5ms/sample - loss: 0.2412 - accuracy: 0.5714 - mse: 0.2412 - val_loss: 0.2551 - val_accuracy: 0.5000 - val_mse: 0.2551\n",
      "Epoch 129/200\n",
      "7/7 [==============================] - 0s 5ms/sample - loss: 0.2461 - accuracy: 0.5714 - mse: 0.2461 - val_loss: 0.2546 - val_accuracy: 0.5000 - val_mse: 0.2546\n",
      "Epoch 130/200\n",
      "7/7 [==============================] - 0s 5ms/sample - loss: 0.2622 - accuracy: 0.4286 - mse: 0.2622 - val_loss: 0.2547 - val_accuracy: 0.5000 - val_mse: 0.2547\n",
      "Epoch 131/200\n",
      "7/7 [==============================] - 0s 5ms/sample - loss: 0.2339 - accuracy: 0.7143 - mse: 0.2339 - val_loss: 0.2548 - val_accuracy: 0.5000 - val_mse: 0.2548\n",
      "Epoch 132/200\n",
      "7/7 [==============================] - 0s 5ms/sample - loss: 0.2373 - accuracy: 0.5714 - mse: 0.2373 - val_loss: 0.2549 - val_accuracy: 0.5000 - val_mse: 0.2549\n",
      "Epoch 133/200\n",
      "7/7 [==============================] - 0s 5ms/sample - loss: 0.2927 - accuracy: 0.4286 - mse: 0.2927 - val_loss: 0.2549 - val_accuracy: 0.5000 - val_mse: 0.2549\n",
      "Epoch 134/200\n",
      "7/7 [==============================] - 0s 5ms/sample - loss: 0.2714 - accuracy: 0.4286 - mse: 0.2714 - val_loss: 0.2550 - val_accuracy: 0.5000 - val_mse: 0.2550\n",
      "Epoch 135/200\n",
      "7/7 [==============================] - 0s 5ms/sample - loss: 0.2247 - accuracy: 0.7143 - mse: 0.2247 - val_loss: 0.2547 - val_accuracy: 0.5000 - val_mse: 0.2547\n",
      "Epoch 136/200\n",
      "7/7 [==============================] - 0s 5ms/sample - loss: 0.2456 - accuracy: 0.7143 - mse: 0.2456 - val_loss: 0.2547 - val_accuracy: 0.5000 - val_mse: 0.2547\n",
      "Epoch 137/200\n",
      "7/7 [==============================] - 0s 5ms/sample - loss: 0.2367 - accuracy: 0.5714 - mse: 0.2367 - val_loss: 0.2551 - val_accuracy: 0.5000 - val_mse: 0.2551\n",
      "Epoch 138/200\n",
      "7/7 [==============================] - 0s 5ms/sample - loss: 0.2579 - accuracy: 0.4286 - mse: 0.2579 - val_loss: 0.2556 - val_accuracy: 0.5000 - val_mse: 0.2556\n",
      "Epoch 139/200\n",
      "7/7 [==============================] - 0s 5ms/sample - loss: 0.2644 - accuracy: 0.4286 - mse: 0.2644 - val_loss: 0.2558 - val_accuracy: 0.5000 - val_mse: 0.2558\n",
      "Epoch 140/200\n",
      "7/7 [==============================] - 0s 5ms/sample - loss: 0.2372 - accuracy: 0.5714 - mse: 0.2372 - val_loss: 0.2559 - val_accuracy: 0.5000 - val_mse: 0.2559\n",
      "Epoch 141/200\n",
      "7/7 [==============================] - 0s 5ms/sample - loss: 0.2352 - accuracy: 0.7143 - mse: 0.2352 - val_loss: 0.2561 - val_accuracy: 0.5000 - val_mse: 0.2561\n",
      "Epoch 142/200\n",
      "7/7 [==============================] - 0s 5ms/sample - loss: 0.2587 - accuracy: 0.2857 - mse: 0.2587 - val_loss: 0.2566 - val_accuracy: 0.5000 - val_mse: 0.2566\n",
      "Epoch 143/200\n",
      "7/7 [==============================] - 0s 5ms/sample - loss: 0.2736 - accuracy: 0.4286 - mse: 0.2736 - val_loss: 0.2567 - val_accuracy: 0.5000 - val_mse: 0.2567\n",
      "Epoch 144/200\n",
      "7/7 [==============================] - 0s 5ms/sample - loss: 0.2470 - accuracy: 0.5714 - mse: 0.2470 - val_loss: 0.2567 - val_accuracy: 0.5000 - val_mse: 0.2567\n",
      "Epoch 145/200\n",
      "7/7 [==============================] - 0s 5ms/sample - loss: 0.2360 - accuracy: 0.5714 - mse: 0.2360 - val_loss: 0.2572 - val_accuracy: 0.5000 - val_mse: 0.2572\n",
      "Epoch 146/200\n",
      "7/7 [==============================] - 0s 5ms/sample - loss: 0.2308 - accuracy: 0.5714 - mse: 0.2308 - val_loss: 0.2571 - val_accuracy: 0.5000 - val_mse: 0.2571\n",
      "Epoch 147/200\n",
      "7/7 [==============================] - 0s 5ms/sample - loss: 0.2342 - accuracy: 0.5714 - mse: 0.2342 - val_loss: 0.2570 - val_accuracy: 0.5000 - val_mse: 0.2570\n",
      "Epoch 148/200\n",
      "7/7 [==============================] - 0s 5ms/sample - loss: 0.2466 - accuracy: 0.4286 - mse: 0.2466 - val_loss: 0.2570 - val_accuracy: 0.5000 - val_mse: 0.2570\n",
      "Epoch 149/200\n",
      "7/7 [==============================] - 0s 5ms/sample - loss: 0.2842 - accuracy: 0.5714 - mse: 0.2842 - val_loss: 0.2567 - val_accuracy: 0.5000 - val_mse: 0.2567\n",
      "Epoch 150/200\n",
      "7/7 [==============================] - 0s 5ms/sample - loss: 0.2718 - accuracy: 0.4286 - mse: 0.2718 - val_loss: 0.2560 - val_accuracy: 0.5000 - val_mse: 0.2560\n",
      "Epoch 151/200\n",
      "7/7 [==============================] - 0s 5ms/sample - loss: 0.2591 - accuracy: 0.4286 - mse: 0.2591 - val_loss: 0.2556 - val_accuracy: 0.5000 - val_mse: 0.2556\n",
      "Epoch 152/200\n",
      "7/7 [==============================] - 0s 5ms/sample - loss: 0.2337 - accuracy: 0.5714 - mse: 0.2337 - val_loss: 0.2551 - val_accuracy: 0.5000 - val_mse: 0.2551\n",
      "Epoch 153/200\n",
      "7/7 [==============================] - 0s 5ms/sample - loss: 0.2434 - accuracy: 0.5714 - mse: 0.2434 - val_loss: 0.2551 - val_accuracy: 0.5000 - val_mse: 0.2551\n",
      "Epoch 154/200\n",
      "7/7 [==============================] - 0s 5ms/sample - loss: 0.2254 - accuracy: 0.5714 - mse: 0.2254 - val_loss: 0.2554 - val_accuracy: 0.5000 - val_mse: 0.2554\n",
      "Epoch 155/200\n",
      "7/7 [==============================] - 0s 5ms/sample - loss: 0.2784 - accuracy: 0.4286 - mse: 0.2784 - val_loss: 0.2559 - val_accuracy: 0.5000 - val_mse: 0.2559\n",
      "Epoch 156/200\n",
      "7/7 [==============================] - 0s 5ms/sample - loss: 0.2348 - accuracy: 0.4286 - mse: 0.2348 - val_loss: 0.2560 - val_accuracy: 0.5000 - val_mse: 0.2560\n",
      "Epoch 157/200\n",
      "7/7 [==============================] - 0s 5ms/sample - loss: 0.2771 - accuracy: 0.2857 - mse: 0.2771 - val_loss: 0.2559 - val_accuracy: 0.5000 - val_mse: 0.2559\n",
      "Epoch 158/200\n",
      "7/7 [==============================] - 0s 5ms/sample - loss: 0.2557 - accuracy: 0.4286 - mse: 0.2557 - val_loss: 0.2558 - val_accuracy: 0.5000 - val_mse: 0.2558\n",
      "Epoch 159/200\n",
      "7/7 [==============================] - 0s 5ms/sample - loss: 0.2070 - accuracy: 0.8571 - mse: 0.2070 - val_loss: 0.2562 - val_accuracy: 0.5000 - val_mse: 0.2562\n",
      "Epoch 160/200\n",
      "7/7 [==============================] - 0s 5ms/sample - loss: 0.2843 - accuracy: 0.4286 - mse: 0.2843 - val_loss: 0.2567 - val_accuracy: 0.5000 - val_mse: 0.2567\n",
      "Epoch 161/200\n",
      "7/7 [==============================] - 0s 5ms/sample - loss: 0.2228 - accuracy: 0.5714 - mse: 0.2228 - val_loss: 0.2565 - val_accuracy: 0.5000 - val_mse: 0.2565\n",
      "Epoch 162/200\n",
      "7/7 [==============================] - 0s 5ms/sample - loss: 0.2070 - accuracy: 0.8571 - mse: 0.2070 - val_loss: 0.2567 - val_accuracy: 0.5000 - val_mse: 0.2567\n",
      "Epoch 163/200\n",
      "7/7 [==============================] - 0s 5ms/sample - loss: 0.2124 - accuracy: 0.5714 - mse: 0.2124 - val_loss: 0.2569 - val_accuracy: 0.5000 - val_mse: 0.2569\n",
      "Epoch 164/200\n",
      "7/7 [==============================] - 0s 5ms/sample - loss: 0.2319 - accuracy: 0.5714 - mse: 0.2319 - val_loss: 0.2572 - val_accuracy: 0.5000 - val_mse: 0.2572\n",
      "Epoch 165/200\n",
      "7/7 [==============================] - 0s 5ms/sample - loss: 0.2407 - accuracy: 0.5714 - mse: 0.2407 - val_loss: 0.2577 - val_accuracy: 0.5000 - val_mse: 0.2577\n",
      "Epoch 166/200\n",
      "7/7 [==============================] - 0s 5ms/sample - loss: 0.2573 - accuracy: 0.4286 - mse: 0.2573 - val_loss: 0.2581 - val_accuracy: 0.5000 - val_mse: 0.2581\n",
      "Epoch 167/200\n",
      "7/7 [==============================] - 0s 5ms/sample - loss: 0.2493 - accuracy: 0.5714 - mse: 0.2493 - val_loss: 0.2580 - val_accuracy: 0.5000 - val_mse: 0.2580\n",
      "Epoch 168/200\n",
      "7/7 [==============================] - 0s 5ms/sample - loss: 0.2781 - accuracy: 0.5714 - mse: 0.2781 - val_loss: 0.2576 - val_accuracy: 0.5000 - val_mse: 0.2576\n",
      "Epoch 169/200\n",
      "7/7 [==============================] - 0s 5ms/sample - loss: 0.2262 - accuracy: 0.5714 - mse: 0.2262 - val_loss: 0.2568 - val_accuracy: 0.5000 - val_mse: 0.2568\n",
      "Epoch 170/200\n",
      "7/7 [==============================] - 0s 5ms/sample - loss: 0.2310 - accuracy: 0.4286 - mse: 0.2310 - val_loss: 0.2570 - val_accuracy: 0.5000 - val_mse: 0.2570\n",
      "Epoch 171/200\n",
      "7/7 [==============================] - 0s 5ms/sample - loss: 0.2669 - accuracy: 0.4286 - mse: 0.2669 - val_loss: 0.2575 - val_accuracy: 0.5000 - val_mse: 0.2575\n",
      "Epoch 172/200\n",
      "7/7 [==============================] - 0s 5ms/sample - loss: 0.2193 - accuracy: 0.5714 - mse: 0.2193 - val_loss: 0.2578 - val_accuracy: 0.5000 - val_mse: 0.2578\n",
      "Epoch 173/200\n",
      "7/7 [==============================] - 0s 5ms/sample - loss: 0.2420 - accuracy: 0.5714 - mse: 0.2420 - val_loss: 0.2583 - val_accuracy: 0.5000 - val_mse: 0.2583\n",
      "Epoch 174/200\n",
      "7/7 [==============================] - 0s 5ms/sample - loss: 0.2359 - accuracy: 0.5714 - mse: 0.2359 - val_loss: 0.2580 - val_accuracy: 0.5000 - val_mse: 0.2580\n",
      "Epoch 175/200\n",
      "7/7 [==============================] - 0s 6ms/sample - loss: 0.2235 - accuracy: 0.4286 - mse: 0.2235 - val_loss: 0.2578 - val_accuracy: 0.5000 - val_mse: 0.2578\n",
      "Epoch 176/200\n",
      "7/7 [==============================] - 0s 5ms/sample - loss: 0.2471 - accuracy: 0.5714 - mse: 0.2471 - val_loss: 0.2578 - val_accuracy: 0.5000 - val_mse: 0.2578\n",
      "Epoch 177/200\n",
      "7/7 [==============================] - 0s 5ms/sample - loss: 0.2526 - accuracy: 0.5714 - mse: 0.2526 - val_loss: 0.2575 - val_accuracy: 0.5000 - val_mse: 0.2575\n",
      "Epoch 178/200\n",
      "7/7 [==============================] - 0s 5ms/sample - loss: 0.2154 - accuracy: 0.7143 - mse: 0.2154 - val_loss: 0.2574 - val_accuracy: 0.5000 - val_mse: 0.2574\n",
      "Epoch 179/200\n",
      "7/7 [==============================] - 0s 5ms/sample - loss: 0.2686 - accuracy: 0.4286 - mse: 0.2686 - val_loss: 0.2574 - val_accuracy: 0.5000 - val_mse: 0.2574\n",
      "Epoch 180/200\n",
      "7/7 [==============================] - 0s 5ms/sample - loss: 0.2373 - accuracy: 0.5714 - mse: 0.2373 - val_loss: 0.2572 - val_accuracy: 0.5000 - val_mse: 0.2572\n",
      "Epoch 181/200\n",
      "7/7 [==============================] - 0s 5ms/sample - loss: 0.2416 - accuracy: 0.7143 - mse: 0.2416 - val_loss: 0.2572 - val_accuracy: 0.5000 - val_mse: 0.2572\n",
      "Epoch 182/200\n",
      "7/7 [==============================] - 0s 5ms/sample - loss: 0.2552 - accuracy: 0.5714 - mse: 0.2552 - val_loss: 0.2569 - val_accuracy: 0.5000 - val_mse: 0.2569\n",
      "Epoch 183/200\n",
      "7/7 [==============================] - 0s 5ms/sample - loss: 0.2338 - accuracy: 0.5714 - mse: 0.2338 - val_loss: 0.2570 - val_accuracy: 0.5000 - val_mse: 0.2570\n",
      "Epoch 184/200\n",
      "7/7 [==============================] - 0s 5ms/sample - loss: 0.2047 - accuracy: 0.7143 - mse: 0.2047 - val_loss: 0.2577 - val_accuracy: 0.5000 - val_mse: 0.2577\n",
      "Epoch 185/200\n",
      "7/7 [==============================] - 0s 5ms/sample - loss: 0.2309 - accuracy: 0.5714 - mse: 0.2309 - val_loss: 0.2581 - val_accuracy: 0.5000 - val_mse: 0.2581\n",
      "Epoch 186/200\n",
      "7/7 [==============================] - 0s 5ms/sample - loss: 0.2668 - accuracy: 0.5714 - mse: 0.2668 - val_loss: 0.2579 - val_accuracy: 0.5000 - val_mse: 0.2579\n",
      "Epoch 187/200\n",
      "7/7 [==============================] - 0s 5ms/sample - loss: 0.2793 - accuracy: 0.5714 - mse: 0.2793 - val_loss: 0.2570 - val_accuracy: 0.5000 - val_mse: 0.2570\n",
      "Epoch 188/200\n",
      "7/7 [==============================] - 0s 5ms/sample - loss: 0.2211 - accuracy: 0.7143 - mse: 0.2211 - val_loss: 0.2565 - val_accuracy: 0.5000 - val_mse: 0.2565\n",
      "Epoch 189/200\n",
      "7/7 [==============================] - 0s 5ms/sample - loss: 0.2580 - accuracy: 0.5714 - mse: 0.2580 - val_loss: 0.2565 - val_accuracy: 0.5000 - val_mse: 0.2565\n",
      "Epoch 190/200\n",
      "7/7 [==============================] - 0s 5ms/sample - loss: 0.2760 - accuracy: 0.4286 - mse: 0.2760 - val_loss: 0.2564 - val_accuracy: 0.5000 - val_mse: 0.2564\n",
      "Epoch 191/200\n",
      "7/7 [==============================] - 0s 5ms/sample - loss: 0.2605 - accuracy: 0.5714 - mse: 0.2605 - val_loss: 0.2563 - val_accuracy: 0.5000 - val_mse: 0.2563\n",
      "Epoch 192/200\n",
      "7/7 [==============================] - 0s 5ms/sample - loss: 0.2382 - accuracy: 0.5714 - mse: 0.2382 - val_loss: 0.2561 - val_accuracy: 0.5000 - val_mse: 0.2561\n",
      "Epoch 193/200\n",
      "7/7 [==============================] - 0s 5ms/sample - loss: 0.2624 - accuracy: 0.4286 - mse: 0.2624 - val_loss: 0.2558 - val_accuracy: 0.5000 - val_mse: 0.2558\n",
      "Epoch 194/200\n",
      "7/7 [==============================] - 0s 5ms/sample - loss: 0.2165 - accuracy: 0.7143 - mse: 0.2165 - val_loss: 0.2557 - val_accuracy: 0.5000 - val_mse: 0.2557\n",
      "Epoch 195/200\n",
      "7/7 [==============================] - 0s 5ms/sample - loss: 0.2572 - accuracy: 0.4286 - mse: 0.2572 - val_loss: 0.2561 - val_accuracy: 0.5000 - val_mse: 0.2561\n",
      "Epoch 196/200\n",
      "7/7 [==============================] - 0s 4ms/sample - loss: 0.2408 - accuracy: 0.4286 - mse: 0.2408 - val_loss: 0.2565 - val_accuracy: 0.5000 - val_mse: 0.2565\n",
      "Epoch 197/200\n",
      "7/7 [==============================] - 0s 5ms/sample - loss: 0.2195 - accuracy: 0.5714 - mse: 0.2195 - val_loss: 0.2570 - val_accuracy: 0.5000 - val_mse: 0.2570\n",
      "Epoch 198/200\n",
      "7/7 [==============================] - 0s 5ms/sample - loss: 0.2667 - accuracy: 0.2857 - mse: 0.2667 - val_loss: 0.2572 - val_accuracy: 0.5000 - val_mse: 0.2572\n",
      "Epoch 199/200\n",
      "7/7 [==============================] - 0s 5ms/sample - loss: 0.2378 - accuracy: 0.4286 - mse: 0.2378 - val_loss: 0.2572 - val_accuracy: 0.5000 - val_mse: 0.2572\n",
      "Epoch 200/200\n",
      "7/7 [==============================] - 0s 5ms/sample - loss: 0.2312 - accuracy: 0.5714 - mse: 0.2312 - val_loss: 0.2574 - val_accuracy: 0.5000 - val_mse: 0.2574\n"
     ]
    }
   ],
   "source": [
    "# Train the model\n",
    "# Use at least 10 epochs\n",
    "# Do not shuffle the data\n",
    "# Experiement with the batch size, but a smaller batch size is recommended\n",
    "\n",
    "training_history = model.fit(\n",
    "    X_train, \n",
    "    y_train, \n",
    "    validation_data=(X_val, y_val),\n",
    "    epochs=200,\n",
    "    shuffle=False, \n",
    "    batch_size=1, \n",
    "    verbose=1) "
   ]
  },
  {
   "cell_type": "code",
   "execution_count": 663,
   "metadata": {},
   "outputs": [
    {
     "name": "stdout",
     "output_type": "stream",
     "text": [
      "\n",
      " Evaluate on test data for 5-minute rolling positive prices sentiments:\n",
      "\n",
      " For unshuffled valuation, test loss on LSTM RNN is Loss: 0.2801, Accuracy: 0.3333.\n"
     ]
    }
   ],
   "source": [
    "# Evaluate the model on the test data using `evaluate`\n",
    "print(f'\\n Evaluate on test data for 5-minute rolling positive prices sentiments:')\n",
    "model_loss, model_accuracy, model_mse = model.evaluate(X_test, y_test, verbose=0)\n",
    "print(f'\\n For unshuffled valuation, test loss on LSTM RNN is Loss: {model_loss:,.4f}, Accuracy: {model_accuracy:,.4f}.')\n"
   ]
  },
  {
   "cell_type": "code",
   "execution_count": 664,
   "metadata": {},
   "outputs": [],
   "source": [
    "# Make some predictions\n",
    "# Make predictions using the testing data X_test\n",
    "predicted = model.predict(X_test)"
   ]
  },
  {
   "cell_type": "code",
   "execution_count": 665,
   "metadata": {},
   "outputs": [],
   "source": [
    "# Recover the original prices instead of the scaled version\n",
    "real = y_test"
   ]
  },
  {
   "cell_type": "code",
   "execution_count": 666,
   "metadata": {},
   "outputs": [
    {
     "data": {
      "text/html": [
       "<div>\n",
       "<style scoped>\n",
       "    .dataframe tbody tr th:only-of-type {\n",
       "        vertical-align: middle;\n",
       "    }\n",
       "\n",
       "    .dataframe tbody tr th {\n",
       "        vertical-align: top;\n",
       "    }\n",
       "\n",
       "    .dataframe thead th {\n",
       "        text-align: right;\n",
       "    }\n",
       "</style>\n",
       "<table border=\"1\" class=\"dataframe\">\n",
       "  <thead>\n",
       "    <tr style=\"text-align: right;\">\n",
       "      <th></th>\n",
       "      <th>Real</th>\n",
       "      <th>Predicted</th>\n",
       "    </tr>\n",
       "  </thead>\n",
       "  <tbody>\n",
       "    <tr>\n",
       "      <th>0</th>\n",
       "      <td>0.0</td>\n",
       "      <td>0.570788</td>\n",
       "    </tr>\n",
       "    <tr>\n",
       "      <th>1</th>\n",
       "      <td>1.0</td>\n",
       "      <td>0.568019</td>\n",
       "    </tr>\n",
       "    <tr>\n",
       "      <th>2</th>\n",
       "      <td>0.0</td>\n",
       "      <td>0.570447</td>\n",
       "    </tr>\n",
       "    <tr>\n",
       "      <th>3</th>\n",
       "      <td>0.0</td>\n",
       "      <td>0.570447</td>\n",
       "    </tr>\n",
       "    <tr>\n",
       "      <th>4</th>\n",
       "      <td>1.0</td>\n",
       "      <td>0.574452</td>\n",
       "    </tr>\n",
       "    <tr>\n",
       "      <th>5</th>\n",
       "      <td>0.0</td>\n",
       "      <td>0.579739</td>\n",
       "    </tr>\n",
       "  </tbody>\n",
       "</table>\n",
       "</div>"
      ],
      "text/plain": [
       "   Real  Predicted\n",
       "0   0.0   0.570788\n",
       "1   1.0   0.568019\n",
       "2   0.0   0.570447\n",
       "3   0.0   0.570447\n",
       "4   1.0   0.574452\n",
       "5   0.0   0.579739"
      ]
     },
     "execution_count": 666,
     "metadata": {},
     "output_type": "execute_result"
    }
   ],
   "source": [
    "# Create a DataFrame of Real and Predicted values\n",
    "negative_sentiments = pd.DataFrame({\n",
    "    \"Real\": real.ravel(),\n",
    "    \"Predicted\": predicted.ravel()\n",
    "})\n",
    "negative_sentiments"
   ]
  },
  {
   "cell_type": "code",
   "execution_count": 667,
   "metadata": {},
   "outputs": [
    {
     "data": {
      "text/html": [
       "<div>\n",
       "<style scoped>\n",
       "    .dataframe tbody tr th:only-of-type {\n",
       "        vertical-align: middle;\n",
       "    }\n",
       "\n",
       "    .dataframe tbody tr th {\n",
       "        vertical-align: top;\n",
       "    }\n",
       "\n",
       "    .dataframe thead th {\n",
       "        text-align: right;\n",
       "    }\n",
       "</style>\n",
       "<table border=\"1\" class=\"dataframe\">\n",
       "  <thead>\n",
       "    <tr style=\"text-align: right;\">\n",
       "      <th></th>\n",
       "      <th>Real</th>\n",
       "      <th>Predicted</th>\n",
       "    </tr>\n",
       "  </thead>\n",
       "  <tbody>\n",
       "    <tr>\n",
       "      <th>0</th>\n",
       "      <td>0.0</td>\n",
       "      <td>1.0</td>\n",
       "    </tr>\n",
       "    <tr>\n",
       "      <th>1</th>\n",
       "      <td>1.0</td>\n",
       "      <td>1.0</td>\n",
       "    </tr>\n",
       "    <tr>\n",
       "      <th>2</th>\n",
       "      <td>0.0</td>\n",
       "      <td>1.0</td>\n",
       "    </tr>\n",
       "    <tr>\n",
       "      <th>3</th>\n",
       "      <td>0.0</td>\n",
       "      <td>1.0</td>\n",
       "    </tr>\n",
       "    <tr>\n",
       "      <th>4</th>\n",
       "      <td>1.0</td>\n",
       "      <td>1.0</td>\n",
       "    </tr>\n",
       "    <tr>\n",
       "      <th>5</th>\n",
       "      <td>0.0</td>\n",
       "      <td>1.0</td>\n",
       "    </tr>\n",
       "  </tbody>\n",
       "</table>\n",
       "</div>"
      ],
      "text/plain": [
       "   Real  Predicted\n",
       "0   0.0        1.0\n",
       "1   1.0        1.0\n",
       "2   0.0        1.0\n",
       "3   0.0        1.0\n",
       "4   1.0        1.0\n",
       "5   0.0        1.0"
      ]
     },
     "execution_count": 667,
     "metadata": {},
     "output_type": "execute_result"
    }
   ],
   "source": [
    "# Transform Predicted column\n",
    "def changePredicted(predicted):\n",
    "    if predicted >= 0.5:\n",
    "        return 1.0\n",
    "    else:\n",
    "        return -0.0\n",
    "\n",
    "negative_sentiments[\"Predicted\"] = negative_sentiments[\"Predicted\"].apply(changePredicted)\n",
    "negative_sentiments"
   ]
  },
  {
   "cell_type": "code",
   "execution_count": 668,
   "metadata": {},
   "outputs": [
    {
     "data": {
      "text/plain": [
       "<Figure size 432x288 with 0 Axes>"
      ]
     },
     "metadata": {},
     "output_type": "display_data"
    },
    {
     "data": {
      "image/png": "[encoded data removed]",
      "text/plain": [
       "<Figure size 432x288 with 1 Axes>"
      ]
     },
     "metadata": {
      "needs_background": "light"
     },
     "output_type": "display_data"
    }
   ],
   "source": [
    "# Plot the real vs predicted values as a line chart\n",
    "import matplotlib.pyplot as plt\n",
    "import matplotlib\n",
    "import matplotlib.pyplot as plt\n",
    "plt.figure()\n",
    "negative_sentiments.plot(title=f\"Real Vs. Predicted {ticker} {window_size}-Day Move on Negative Sentiments\")\n",
    "plt.savefig(f'../Images/{ticker}_negative_lstm_predicted.png')\n",
    "plt.show()"
   ]
  },
  {
   "cell_type": "code",
   "execution_count": 669,
   "metadata": {},
   "outputs": [
    {
     "data": {
      "text/plain": [
       "<Figure size 432x288 with 0 Axes>"
      ]
     },
     "metadata": {},
     "output_type": "display_data"
    },
    {
     "data": {
      "image/png": "[encoded data removed]",
      "text/plain": [
       "<Figure size 432x288 with 1 Axes>"
      ]
     },
     "metadata": {
      "needs_background": "light"
     },
     "output_type": "display_data"
    }
   ],
   "source": [
    "# Plotting loss\n",
    "epochs = 200\n",
    "loss_df = pd.DataFrame(\n",
    "    {\n",
    "        \"Epoch\": range(1, epochs + 1),\n",
    "        \"Train\": training_history.history[\"loss\"],\n",
    "        \"Val\": training_history.history[\"val_loss\"],\n",
    "    }\n",
    ")\n",
    "loss_df.set_index(\"Epoch\", inplace=True)\n",
    "\n",
    "plt.figure()\n",
    "loss_df.plot(title=f\"Loss on LSTM {window_size}-Day Move for {ticker} on Negative News\")\n",
    "plt.savefig(f'../Images/{ticker}_loss_lstm_negative_sentiments.png')\n",
    "plt.show()"
   ]
  },
  {
   "cell_type": "code",
   "execution_count": 670,
   "metadata": {},
   "outputs": [],
   "source": [
    "import h5py\n",
    "\n",
    "model.save(f'../Models/{ticker}_lstm_loss_negative.h5')  # creates a HDF5 file 'my_model.h5'\n",
    "del model  # deletes the existing model"
   ]
  },
  {
   "cell_type": "code",
   "execution_count": 671,
   "metadata": {},
   "outputs": [],
   "source": [
    "from keras.models import load_model\n",
    "import tensorflow as tf\n",
    "from tensorflow import keras\n",
    "# returns a compiled model\n",
    "# identical to the previous one\n",
    "model = tf.keras.models.load_model(f'../Models/{ticker}_lstm_loss_negative.h5')"
   ]
  },
  {
   "cell_type": "code",
   "execution_count": null,
   "metadata": {},
   "outputs": [],
   "source": []
  }
 ],
 "metadata": {
  "kernelspec": {
   "display_name": "mlenv",
   "language": "python",
   "name": "mlenv"
  },
  "language_info": {
   "codemirror_mode": {
    "name": "ipython",
    "version": 3
   },
   "file_extension": ".py",
   "mimetype": "text/x-python",
   "name": "python",
   "nbconvert_exporter": "python",
   "pygments_lexer": "ipython3",
   "version": "3.7.6"
  }
 },
 "nbformat": 4,
 "nbformat_minor": 4
}
