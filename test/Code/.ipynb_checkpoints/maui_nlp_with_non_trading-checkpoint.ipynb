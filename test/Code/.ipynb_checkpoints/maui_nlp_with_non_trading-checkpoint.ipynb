{
 "cells": [
  {
   "cell_type": "markdown",
   "metadata": {},
   "source": [
    "### NLP of news API sentiment analysis. Disney Ex."
   ]
  },
  {
   "cell_type": "code",
   "execution_count": 1,
   "metadata": {},
   "outputs": [],
   "source": [
    "from iexfinance.stocks import Stock\n",
    "import pandas as pd\n",
    "import numpy as np\n",
    "from newsapi.newsapi_client import NewsApiClient\n",
    "from datetime import date, datetime, timedelta\n",
    "import os\n",
    "from nltk.sentiment.vader import SentimentIntensityAnalyzer\n",
    "from iexfinance.stocks import get_historical_data\n",
    "import pickle"
   ]
  },
  {
   "cell_type": "code",
   "execution_count": 2,
   "metadata": {},
   "outputs": [
    {
     "output_type": "error",
     "ename": "KeyError",
     "evalue": "'NEWS_API_ID'",
     "traceback": [
      "\u001b[0;31m---------------------------------------------------------------------------\u001b[0m",
      "\u001b[0;31mKeyError\u001b[0m                                  Traceback (most recent call last)",
      "\u001b[0;32m<ipython-input-2-c7cd480129d4>\u001b[0m in \u001b[0;36m<module>\u001b[0;34m\u001b[0m\n\u001b[0;32m----> 1\u001b[0;31m \u001b[0mnewsapi\u001b[0m \u001b[0;34m=\u001b[0m \u001b[0mNewsApiClient\u001b[0m\u001b[0;34m(\u001b[0m\u001b[0mapi_key\u001b[0m\u001b[0;34m=\u001b[0m\u001b[0mos\u001b[0m\u001b[0;34m.\u001b[0m\u001b[0menviron\u001b[0m\u001b[0;34m[\u001b[0m\u001b[0;34m\"NEWS_API_ID\"\u001b[0m\u001b[0;34m]\u001b[0m\u001b[0;34m)\u001b[0m\u001b[0;34m\u001b[0m\u001b[0;34m\u001b[0m\u001b[0m\n\u001b[0m\u001b[1;32m      2\u001b[0m \u001b[0mpickle\u001b[0m\u001b[0;34m.\u001b[0m\u001b[0mdump\u001b[0m\u001b[0;34m(\u001b[0m\u001b[0mnewsapi\u001b[0m\u001b[0;34m,\u001b[0m\u001b[0mopen\u001b[0m\u001b[0;34m(\u001b[0m\u001b[0;34m'newsapi.pickle'\u001b[0m\u001b[0;34m,\u001b[0m\u001b[0;34m'wb'\u001b[0m\u001b[0;34m)\u001b[0m\u001b[0;34m)\u001b[0m\u001b[0;34m\u001b[0m\u001b[0;34m\u001b[0m\u001b[0m\n\u001b[1;32m      3\u001b[0m \u001b[0mcurrent_date\u001b[0m \u001b[0;34m=\u001b[0m \u001b[0mdate\u001b[0m\u001b[0;34m.\u001b[0m\u001b[0mtoday\u001b[0m\u001b[0;34m(\u001b[0m\u001b[0;34m)\u001b[0m\u001b[0;34m\u001b[0m\u001b[0;34m\u001b[0m\u001b[0m\n\u001b[1;32m      4\u001b[0m \u001b[0mpast_date\u001b[0m \u001b[0;34m=\u001b[0m \u001b[0mdate\u001b[0m\u001b[0;34m.\u001b[0m\u001b[0mtoday\u001b[0m\u001b[0;34m(\u001b[0m\u001b[0;34m)\u001b[0m \u001b[0;34m-\u001b[0m \u001b[0mtimedelta\u001b[0m\u001b[0;34m(\u001b[0m\u001b[0mdays\u001b[0m\u001b[0;34m=\u001b[0m\u001b[0;36m30\u001b[0m\u001b[0;34m)\u001b[0m\u001b[0;34m\u001b[0m\u001b[0;34m\u001b[0m\u001b[0m\n",
      "\u001b[0;32m/Applications/anaconda3/envs/mlenv/lib/python3.7/os.py\u001b[0m in \u001b[0;36m__getitem__\u001b[0;34m(self, key)\u001b[0m\n\u001b[1;32m    677\u001b[0m         \u001b[0;32mexcept\u001b[0m \u001b[0mKeyError\u001b[0m\u001b[0;34m:\u001b[0m\u001b[0;34m\u001b[0m\u001b[0;34m\u001b[0m\u001b[0m\n\u001b[1;32m    678\u001b[0m             \u001b[0;31m# raise KeyError with the original key value\u001b[0m\u001b[0;34m\u001b[0m\u001b[0;34m\u001b[0m\u001b[0;34m\u001b[0m\u001b[0m\n\u001b[0;32m--> 679\u001b[0;31m             \u001b[0;32mraise\u001b[0m \u001b[0mKeyError\u001b[0m\u001b[0;34m(\u001b[0m\u001b[0mkey\u001b[0m\u001b[0;34m)\u001b[0m \u001b[0;32mfrom\u001b[0m \u001b[0;32mNone\u001b[0m\u001b[0;34m\u001b[0m\u001b[0;34m\u001b[0m\u001b[0m\n\u001b[0m\u001b[1;32m    680\u001b[0m         \u001b[0;32mreturn\u001b[0m \u001b[0mself\u001b[0m\u001b[0;34m.\u001b[0m\u001b[0mdecodevalue\u001b[0m\u001b[0;34m(\u001b[0m\u001b[0mvalue\u001b[0m\u001b[0;34m)\u001b[0m\u001b[0;34m\u001b[0m\u001b[0;34m\u001b[0m\u001b[0m\n\u001b[1;32m    681\u001b[0m \u001b[0;34m\u001b[0m\u001b[0m\n",
      "\u001b[0;31mKeyError\u001b[0m: 'NEWS_API_ID'"
     ]
    }
   ],
   "source": [
    "newsapi = NewsApiClient(api_key=os.environ[\"NEWS_API_ID\"])\n",
    "pickle.dump(newsapi,open('newsapi.pickle','wb'))\n",
    "current_date = date.today()\n",
    "past_date = date.today() - timedelta(days=30)"
   ]
  },
  {
   "cell_type": "code",
   "execution_count": null,
   "metadata": {},
   "outputs": [],
   "source": [
    "def get_headlines(keyword):\n",
    "    all_headlines = []  #empty list for all headlines\n",
    "    all_dates = [] #empyt list for all dates\n",
    "    date = current_date #today's date\n",
    "    print(f\"Fetching news about '{keyword}'\") #prints single string of function starting\n",
    "    print(\"*\" * 30) #creating a line of stars for readability\n",
    "    while date > past_date: #establishes length of dates being pulled by for the lenght of the difference between today and past_date \n",
    "        print(f\"retrieving news from: {date}\")#printing string for loop readability  \n",
    "        articles = newsapi.get_everything(   #pulling articles through API\n",
    "            q=keyword,\n",
    "            from_param=str(date),\n",
    "            to=str(date),\n",
    "            language=\"en\",\n",
    "            sort_by=\"relevancy\",\n",
    "            page=1,\n",
    "        )\n",
    "        headlines = []\n",
    "        for i in range(0, len(articles[\"articles\"])):\n",
    "            \n",
    "            #pulling the content part of the dict\n",
    "            headlines.append(articles[\"articles\"][i][\"content\"])\n",
    "        all_headlines.append(headlines)\n",
    "        all_dates.append(date)\n",
    "        date = date - timedelta(days=1) #moving through the days            \n",
    "    return all_headlines, all_dates"
   ]
  },
  {
   "cell_type": "code",
   "execution_count": null,
   "metadata": {},
   "outputs": [],
   "source": [
    "disney_headlines, dates = get_headlines('disney')"
   ]
  },
  {
   "cell_type": "code",
   "execution_count": null,
   "metadata": {},
   "outputs": [],
   "source": [
    "disney_df = pd.DataFrame(disney_headlines)\n",
    "disney_df.index = pd.to_datetime(dates)\n",
    "disney_df.to_csv(\"./disney_df.csv\")"
   ]
  },
  {
   "cell_type": "code",
   "execution_count": null,
   "metadata": {},
   "outputs": [],
   "source": [
    "df = pd.read_csv('disney_sentiment.csv').set_index('date')"
   ]
  },
  {
   "cell_type": "code",
   "execution_count": null,
   "metadata": {},
   "outputs": [],
   "source": [
    "df.head()"
   ]
  },
  {
   "cell_type": "code",
   "execution_count": null,
   "metadata": {},
   "outputs": [],
   "source": [
    "len(df)"
   ]
  },
  {
   "cell_type": "code",
   "execution_count": 9,
   "metadata": {},
   "outputs": [
    {
     "output_type": "execute_result",
     "data": {
      "text/plain": "             close\ndate              \n2020-03-13  102.52\n2020-03-16   95.01\n2020-03-17   93.53\n2020-03-18   88.80\n2020-03-19   94.93",
      "text/html": "<div>\n<style scoped>\n    .dataframe tbody tr th:only-of-type {\n        vertical-align: middle;\n    }\n\n    .dataframe tbody tr th {\n        vertical-align: top;\n    }\n\n    .dataframe thead th {\n        text-align: right;\n    }\n</style>\n<table border=\"1\" class=\"dataframe\">\n  <thead>\n    <tr style=\"text-align: right;\">\n      <th></th>\n      <th>close</th>\n    </tr>\n    <tr>\n      <th>date</th>\n      <th></th>\n    </tr>\n  </thead>\n  <tbody>\n    <tr>\n      <th>2020-03-13</th>\n      <td>102.52</td>\n    </tr>\n    <tr>\n      <th>2020-03-16</th>\n      <td>95.01</td>\n    </tr>\n    <tr>\n      <th>2020-03-17</th>\n      <td>93.53</td>\n    </tr>\n    <tr>\n      <th>2020-03-18</th>\n      <td>88.80</td>\n    </tr>\n    <tr>\n      <th>2020-03-19</th>\n      <td>94.93</td>\n    </tr>\n  </tbody>\n</table>\n</div>"
     },
     "metadata": {},
     "execution_count": 9
    }
   ],
   "source": [
    "# Set the ticker\n",
    "# TODO - this is hard-coded for now, but will need to accept an output from the selector\n",
    "ticker = \"DIS\"\n",
    "\n",
    "# setting start and end date for the past four weeks\n",
    "# 29 days needed instead of 28 days so that we get 28 days of return when we calculate\n",
    "end_date_stock = datetime.now()\n",
    "start_date_stock = end_date_stock + timedelta(-31)\n",
    "\n",
    "# getting data from the API and adding to DataFrame\n",
    "returns_df = get_historical_data(ticker, start_date_stock, end_date_stock,  output_format='pandas')\n",
    "returns_df.drop(columns=['open','high','low','volume'],inplace=True)\n",
    "returns_df.head()"
   ]
  },
  {
   "cell_type": "code",
   "execution_count": 10,
   "metadata": {},
   "outputs": [
    {
     "output_type": "execute_result",
     "data": {
      "text/plain": "             close\ndate              \n2020-04-03   93.88\n2020-04-06   99.58\n2020-04-07  101.24\n2020-04-08  101.07\n2020-04-09  104.50",
      "text/html": "<div>\n<style scoped>\n    .dataframe tbody tr th:only-of-type {\n        vertical-align: middle;\n    }\n\n    .dataframe tbody tr th {\n        vertical-align: top;\n    }\n\n    .dataframe thead th {\n        text-align: right;\n    }\n</style>\n<table border=\"1\" class=\"dataframe\">\n  <thead>\n    <tr style=\"text-align: right;\">\n      <th></th>\n      <th>close</th>\n    </tr>\n    <tr>\n      <th>date</th>\n      <th></th>\n    </tr>\n  </thead>\n  <tbody>\n    <tr>\n      <th>2020-04-03</th>\n      <td>93.88</td>\n    </tr>\n    <tr>\n      <th>2020-04-06</th>\n      <td>99.58</td>\n    </tr>\n    <tr>\n      <th>2020-04-07</th>\n      <td>101.24</td>\n    </tr>\n    <tr>\n      <th>2020-04-08</th>\n      <td>101.07</td>\n    </tr>\n    <tr>\n      <th>2020-04-09</th>\n      <td>104.50</td>\n    </tr>\n  </tbody>\n</table>\n</div>"
     },
     "metadata": {},
     "execution_count": 10
    }
   ],
   "source": [
    "returns_df.tail()"
   ]
  },
  {
   "cell_type": "code",
   "execution_count": 11,
   "metadata": {},
   "outputs": [
    {
     "output_type": "execute_result",
     "data": {
      "text/plain": "               close\ndate                \n2020-03-13       NaN\n2020-03-16 -7.325400\n2020-03-17 -1.557731\n2020-03-18 -5.057201\n2020-03-19  6.903153",
      "text/html": "<div>\n<style scoped>\n    .dataframe tbody tr th:only-of-type {\n        vertical-align: middle;\n    }\n\n    .dataframe tbody tr th {\n        vertical-align: top;\n    }\n\n    .dataframe thead th {\n        text-align: right;\n    }\n</style>\n<table border=\"1\" class=\"dataframe\">\n  <thead>\n    <tr style=\"text-align: right;\">\n      <th></th>\n      <th>close</th>\n    </tr>\n    <tr>\n      <th>date</th>\n      <th></th>\n    </tr>\n  </thead>\n  <tbody>\n    <tr>\n      <th>2020-03-13</th>\n      <td>NaN</td>\n    </tr>\n    <tr>\n      <th>2020-03-16</th>\n      <td>-7.325400</td>\n    </tr>\n    <tr>\n      <th>2020-03-17</th>\n      <td>-1.557731</td>\n    </tr>\n    <tr>\n      <th>2020-03-18</th>\n      <td>-5.057201</td>\n    </tr>\n    <tr>\n      <th>2020-03-19</th>\n      <td>6.903153</td>\n    </tr>\n  </tbody>\n</table>\n</div>"
     },
     "metadata": {},
     "execution_count": 11
    }
   ],
   "source": [
    "returns_df = returns_df.pct_change() * 100\n",
    "returns_df.head()"
   ]
  },
  {
   "cell_type": "code",
   "execution_count": 12,
   "metadata": {},
   "outputs": [
    {
     "output_type": "execute_result",
     "data": {
      "text/plain": "              return\ndate                \n2020-03-16 -7.325400\n2020-03-17 -1.557731\n2020-03-18 -5.057201\n2020-03-19  6.903153\n2020-03-20 -9.428000",
      "text/html": "<div>\n<style scoped>\n    .dataframe tbody tr th:only-of-type {\n        vertical-align: middle;\n    }\n\n    .dataframe tbody tr th {\n        vertical-align: top;\n    }\n\n    .dataframe thead th {\n        text-align: right;\n    }\n</style>\n<table border=\"1\" class=\"dataframe\">\n  <thead>\n    <tr style=\"text-align: right;\">\n      <th></th>\n      <th>return</th>\n    </tr>\n    <tr>\n      <th>date</th>\n      <th></th>\n    </tr>\n  </thead>\n  <tbody>\n    <tr>\n      <th>2020-03-16</th>\n      <td>-7.325400</td>\n    </tr>\n    <tr>\n      <th>2020-03-17</th>\n      <td>-1.557731</td>\n    </tr>\n    <tr>\n      <th>2020-03-18</th>\n      <td>-5.057201</td>\n    </tr>\n    <tr>\n      <th>2020-03-19</th>\n      <td>6.903153</td>\n    </tr>\n    <tr>\n      <th>2020-03-20</th>\n      <td>-9.428000</td>\n    </tr>\n  </tbody>\n</table>\n</div>"
     },
     "metadata": {},
     "execution_count": 12
    }
   ],
   "source": [
    "returns_df.dropna(inplace=True)\n",
    "returns_df.isnull().sum()\n",
    "returns_df.rename(columns={'close':'return'}, inplace=True)\n",
    "returns_df.head()"
   ]
  },
  {
   "cell_type": "code",
   "execution_count": 13,
   "metadata": {},
   "outputs": [],
   "source": [
    "returns_df.to_csv('sample_returns_data.csv')"
   ]
  },
  {
   "cell_type": "code",
   "execution_count": 14,
   "metadata": {},
   "outputs": [],
   "source": [
    "returns_df = pd.read_csv('sample_returns_data.csv').set_index('date')"
   ]
  },
  {
   "cell_type": "code",
   "execution_count": 15,
   "metadata": {},
   "outputs": [
    {
     "output_type": "execute_result",
     "data": {
      "text/plain": "              return\ndate                \n2020-03-16 -7.325400\n2020-03-17 -1.557731\n2020-03-18 -5.057201\n2020-03-19  6.903153\n2020-03-20 -9.428000",
      "text/html": "<div>\n<style scoped>\n    .dataframe tbody tr th:only-of-type {\n        vertical-align: middle;\n    }\n\n    .dataframe tbody tr th {\n        vertical-align: top;\n    }\n\n    .dataframe thead th {\n        text-align: right;\n    }\n</style>\n<table border=\"1\" class=\"dataframe\">\n  <thead>\n    <tr style=\"text-align: right;\">\n      <th></th>\n      <th>return</th>\n    </tr>\n    <tr>\n      <th>date</th>\n      <th></th>\n    </tr>\n  </thead>\n  <tbody>\n    <tr>\n      <th>2020-03-16</th>\n      <td>-7.325400</td>\n    </tr>\n    <tr>\n      <th>2020-03-17</th>\n      <td>-1.557731</td>\n    </tr>\n    <tr>\n      <th>2020-03-18</th>\n      <td>-5.057201</td>\n    </tr>\n    <tr>\n      <th>2020-03-19</th>\n      <td>6.903153</td>\n    </tr>\n    <tr>\n      <th>2020-03-20</th>\n      <td>-9.428000</td>\n    </tr>\n  </tbody>\n</table>\n</div>"
     },
     "metadata": {},
     "execution_count": 15
    }
   ],
   "source": [
    "returns_df.head()"
   ]
  },
  {
   "cell_type": "code",
   "execution_count": 16,
   "metadata": {},
   "outputs": [
    {
     "output_type": "execute_result",
     "data": {
      "text/plain": "19"
     },
     "metadata": {},
     "execution_count": 16
    }
   ],
   "source": [
    "len(returns_df)"
   ]
  },
  {
   "cell_type": "code",
   "execution_count": 17,
   "metadata": {},
   "outputs": [
    {
     "output_type": "execute_result",
     "data": {
      "text/plain": "30"
     },
     "metadata": {},
     "execution_count": 17
    }
   ],
   "source": [
    "len(df)"
   ]
  },
  {
   "cell_type": "code",
   "execution_count": 18,
   "metadata": {},
   "outputs": [],
   "source": [
    "df = df.sort_values(by='date',ascending=True)"
   ]
  },
  {
   "cell_type": "code",
   "execution_count": 19,
   "metadata": {},
   "outputs": [
    {
     "output_type": "execute_result",
     "data": {
      "text/plain": "                                                         text  compound  \\\ndate                                                                      \n2020-03-13  Mulan is not going to become a Disney Plus ori...   -0.4406   \n2020-03-14  The press release didn't indicate exactly what...    0.2598   \n2020-03-15  TV and film productions are being put on hold,...   -0.9928   \n2020-03-16  TL;DR: An annual Disney+ subscription is avail...    0.9832   \n2020-03-17  Following several other movies, including Mula...    0.9963   \n\n            positive  negative  neutral  \ndate                                     \n2020-03-13     0.054     0.052    0.894  \n2020-03-14     0.092     0.080    0.828  \n2020-03-15     0.070     0.116    0.814  \n2020-03-16     0.075     0.034    0.890  \n2020-03-17     0.107     0.040    0.853  ",
      "text/html": "<div>\n<style scoped>\n    .dataframe tbody tr th:only-of-type {\n        vertical-align: middle;\n    }\n\n    .dataframe tbody tr th {\n        vertical-align: top;\n    }\n\n    .dataframe thead th {\n        text-align: right;\n    }\n</style>\n<table border=\"1\" class=\"dataframe\">\n  <thead>\n    <tr style=\"text-align: right;\">\n      <th></th>\n      <th>text</th>\n      <th>compound</th>\n      <th>positive</th>\n      <th>negative</th>\n      <th>neutral</th>\n    </tr>\n    <tr>\n      <th>date</th>\n      <th></th>\n      <th></th>\n      <th></th>\n      <th></th>\n      <th></th>\n    </tr>\n  </thead>\n  <tbody>\n    <tr>\n      <th>2020-03-13</th>\n      <td>Mulan is not going to become a Disney Plus ori...</td>\n      <td>-0.4406</td>\n      <td>0.054</td>\n      <td>0.052</td>\n      <td>0.894</td>\n    </tr>\n    <tr>\n      <th>2020-03-14</th>\n      <td>The press release didn't indicate exactly what...</td>\n      <td>0.2598</td>\n      <td>0.092</td>\n      <td>0.080</td>\n      <td>0.828</td>\n    </tr>\n    <tr>\n      <th>2020-03-15</th>\n      <td>TV and film productions are being put on hold,...</td>\n      <td>-0.9928</td>\n      <td>0.070</td>\n      <td>0.116</td>\n      <td>0.814</td>\n    </tr>\n    <tr>\n      <th>2020-03-16</th>\n      <td>TL;DR: An annual Disney+ subscription is avail...</td>\n      <td>0.9832</td>\n      <td>0.075</td>\n      <td>0.034</td>\n      <td>0.890</td>\n    </tr>\n    <tr>\n      <th>2020-03-17</th>\n      <td>Following several other movies, including Mula...</td>\n      <td>0.9963</td>\n      <td>0.107</td>\n      <td>0.040</td>\n      <td>0.853</td>\n    </tr>\n  </tbody>\n</table>\n</div>"
     },
     "metadata": {},
     "execution_count": 19
    }
   ],
   "source": [
    "df.head()"
   ]
  },
  {
   "cell_type": "code",
   "execution_count": 20,
   "metadata": {},
   "outputs": [],
   "source": [
    "combined_df = pd.concat([df, returns_df], axis=1)"
   ]
  },
  {
   "cell_type": "code",
   "execution_count": 21,
   "metadata": {},
   "outputs": [
    {
     "output_type": "execute_result",
     "data": {
      "text/plain": "                                                         text  compound  \\\n2020-03-13  Mulan is not going to become a Disney Plus ori...   -0.4406   \n2020-03-14  The press release didn't indicate exactly what...    0.2598   \n2020-03-15  TV and film productions are being put on hold,...   -0.9928   \n2020-03-16  TL;DR: An annual Disney+ subscription is avail...    0.9832   \n2020-03-17  Following several other movies, including Mula...    0.9963   \n2020-03-18  It was supposed to launch alongside WarnerMedi...    0.9715   \n2020-03-19  If your streaming queue is starting to look a ...   -0.8074   \n2020-03-20  Disney said on Friday that it is postponing th...    0.8507   \n2020-03-21  TL;DR: A 12-month subscription to Disney+ is a...    0.9459   \n2020-03-22  Since movie theaters all over are shutting dow...    0.9932   \n2020-03-23  If you decide to take advantage, keep in mind ...    0.9500   \n2020-03-24  Disney+ launches in seven European countries, ...    0.9942   \n2020-03-25  TL;DR: A three-year subscription to NordVPN is...    0.9952   \n2020-03-26  Disney's streaming service, Disney Plus, is th...    0.3439   \n2020-03-27  The massive amount of premium content on Disne...    0.9948   \n\n            positive  negative  neutral     return  \n2020-03-13     0.054     0.052    0.894        NaN  \n2020-03-14     0.092     0.080    0.828        NaN  \n2020-03-15     0.070     0.116    0.814        NaN  \n2020-03-16     0.075     0.034    0.890  -7.325400  \n2020-03-17     0.107     0.040    0.853  -1.557731  \n2020-03-18     0.109     0.083    0.808  -5.057201  \n2020-03-19     0.069     0.070    0.861   6.903153  \n2020-03-20     0.045     0.036    0.919  -9.428000  \n2020-03-21     0.082     0.058    0.860        NaN  \n2020-03-22     0.084     0.013    0.902        NaN  \n2020-03-23     0.069     0.034    0.897  -0.255873  \n2020-03-24     0.093     0.036    0.872  14.412313  \n2020-03-25     0.115     0.053    0.832   2.660008  \n2020-03-26     0.066     0.047    0.887   4.596446  \n2020-03-27     0.120     0.047    0.834  -8.504176  ",
      "text/html": "<div>\n<style scoped>\n    .dataframe tbody tr th:only-of-type {\n        vertical-align: middle;\n    }\n\n    .dataframe tbody tr th {\n        vertical-align: top;\n    }\n\n    .dataframe thead th {\n        text-align: right;\n    }\n</style>\n<table border=\"1\" class=\"dataframe\">\n  <thead>\n    <tr style=\"text-align: right;\">\n      <th></th>\n      <th>text</th>\n      <th>compound</th>\n      <th>positive</th>\n      <th>negative</th>\n      <th>neutral</th>\n      <th>return</th>\n    </tr>\n  </thead>\n  <tbody>\n    <tr>\n      <th>2020-03-13</th>\n      <td>Mulan is not going to become a Disney Plus ori...</td>\n      <td>-0.4406</td>\n      <td>0.054</td>\n      <td>0.052</td>\n      <td>0.894</td>\n      <td>NaN</td>\n    </tr>\n    <tr>\n      <th>2020-03-14</th>\n      <td>The press release didn't indicate exactly what...</td>\n      <td>0.2598</td>\n      <td>0.092</td>\n      <td>0.080</td>\n      <td>0.828</td>\n      <td>NaN</td>\n    </tr>\n    <tr>\n      <th>2020-03-15</th>\n      <td>TV and film productions are being put on hold,...</td>\n      <td>-0.9928</td>\n      <td>0.070</td>\n      <td>0.116</td>\n      <td>0.814</td>\n      <td>NaN</td>\n    </tr>\n    <tr>\n      <th>2020-03-16</th>\n      <td>TL;DR: An annual Disney+ subscription is avail...</td>\n      <td>0.9832</td>\n      <td>0.075</td>\n      <td>0.034</td>\n      <td>0.890</td>\n      <td>-7.325400</td>\n    </tr>\n    <tr>\n      <th>2020-03-17</th>\n      <td>Following several other movies, including Mula...</td>\n      <td>0.9963</td>\n      <td>0.107</td>\n      <td>0.040</td>\n      <td>0.853</td>\n      <td>-1.557731</td>\n    </tr>\n    <tr>\n      <th>2020-03-18</th>\n      <td>It was supposed to launch alongside WarnerMedi...</td>\n      <td>0.9715</td>\n      <td>0.109</td>\n      <td>0.083</td>\n      <td>0.808</td>\n      <td>-5.057201</td>\n    </tr>\n    <tr>\n      <th>2020-03-19</th>\n      <td>If your streaming queue is starting to look a ...</td>\n      <td>-0.8074</td>\n      <td>0.069</td>\n      <td>0.070</td>\n      <td>0.861</td>\n      <td>6.903153</td>\n    </tr>\n    <tr>\n      <th>2020-03-20</th>\n      <td>Disney said on Friday that it is postponing th...</td>\n      <td>0.8507</td>\n      <td>0.045</td>\n      <td>0.036</td>\n      <td>0.919</td>\n      <td>-9.428000</td>\n    </tr>\n    <tr>\n      <th>2020-03-21</th>\n      <td>TL;DR: A 12-month subscription to Disney+ is a...</td>\n      <td>0.9459</td>\n      <td>0.082</td>\n      <td>0.058</td>\n      <td>0.860</td>\n      <td>NaN</td>\n    </tr>\n    <tr>\n      <th>2020-03-22</th>\n      <td>Since movie theaters all over are shutting dow...</td>\n      <td>0.9932</td>\n      <td>0.084</td>\n      <td>0.013</td>\n      <td>0.902</td>\n      <td>NaN</td>\n    </tr>\n    <tr>\n      <th>2020-03-23</th>\n      <td>If you decide to take advantage, keep in mind ...</td>\n      <td>0.9500</td>\n      <td>0.069</td>\n      <td>0.034</td>\n      <td>0.897</td>\n      <td>-0.255873</td>\n    </tr>\n    <tr>\n      <th>2020-03-24</th>\n      <td>Disney+ launches in seven European countries, ...</td>\n      <td>0.9942</td>\n      <td>0.093</td>\n      <td>0.036</td>\n      <td>0.872</td>\n      <td>14.412313</td>\n    </tr>\n    <tr>\n      <th>2020-03-25</th>\n      <td>TL;DR: A three-year subscription to NordVPN is...</td>\n      <td>0.9952</td>\n      <td>0.115</td>\n      <td>0.053</td>\n      <td>0.832</td>\n      <td>2.660008</td>\n    </tr>\n    <tr>\n      <th>2020-03-26</th>\n      <td>Disney's streaming service, Disney Plus, is th...</td>\n      <td>0.3439</td>\n      <td>0.066</td>\n      <td>0.047</td>\n      <td>0.887</td>\n      <td>4.596446</td>\n    </tr>\n    <tr>\n      <th>2020-03-27</th>\n      <td>The massive amount of premium content on Disne...</td>\n      <td>0.9948</td>\n      <td>0.120</td>\n      <td>0.047</td>\n      <td>0.834</td>\n      <td>-8.504176</td>\n    </tr>\n  </tbody>\n</table>\n</div>"
     },
     "metadata": {},
     "execution_count": 21
    }
   ],
   "source": [
    "combined_df.head(15)"
   ]
  },
  {
   "cell_type": "code",
   "execution_count": 22,
   "metadata": {},
   "outputs": [
    {
     "output_type": "execute_result",
     "data": {
      "text/plain": "-0.0476"
     },
     "metadata": {},
     "execution_count": 22
    }
   ],
   "source": [
    "np.mean(combined_df.iloc[0:4]['compound'])"
   ]
  },
  {
   "cell_type": "code",
   "execution_count": 23,
   "metadata": {},
   "outputs": [
    {
     "output_type": "execute_result",
     "data": {
      "text/plain": "0.9630333333333333"
     },
     "metadata": {},
     "execution_count": 23
    }
   ],
   "source": [
    "np.mean(combined_df.iloc[8:11]['compound'])"
   ]
  },
  {
   "cell_type": "code",
   "execution_count": 24,
   "metadata": {},
   "outputs": [],
   "source": [
    "def non_trading_avg(df):\n",
    "\n",
    "    index_list = []\n",
    "    compound = []\n",
    "    compound_list = []\n",
    "    positive = []\n",
    "    positive_list = []\n",
    "    negative = []\n",
    "    negative_list = []\n",
    "    neutral = []\n",
    "    neutral_list = []\n",
    "\n",
    "    for index, row in df.iterrows():\n",
    "        \n",
    "        if pd.isnull(row['return']):\n",
    "            compound.append(row['compound'])\n",
    "            positive.append(row['positive'])\n",
    "            negative.append(row['negative'])\n",
    "            neutral.append(row['neutral'])\n",
    "            df.drop(index=index, inplace=True)\n",
    "\n",
    "        elif pd.notnull(row['return']):\n",
    "            if len(compound) == 0:\n",
    "                    pass\n",
    "            \n",
    "            else:\n",
    "                index_list.append(index)\n",
    "\n",
    "                compound.append(row['compound'])\n",
    "                compound_mean = np.mean(compound)\n",
    "                compound_list.append(compound_mean)\n",
    "                compound = []\n",
    "\n",
    "                positive.append(row['positive'])\n",
    "                positive_mean = np.mean(positive)\n",
    "                positive_list.append(positive_mean)\n",
    "                positive = []\n",
    "\n",
    "                negative.append(row['negative'])\n",
    "                negative_mean = np.mean(negative)\n",
    "                negative_list.append(negative_mean)\n",
    "                negative = []\n",
    "\n",
    "                neutral.append(row['neutral'])\n",
    "                neutral_mean = np.mean(neutral)\n",
    "                neutral_list.append(neutral_mean)\n",
    "                neutral = []\n",
    "\n",
    "                df.at[index, 'compound'] = compound_list[0]\n",
    "                df.at[index, 'positive'] = positive_list[0]\n",
    "                df.at[index, 'negative'] = negative_list[0]\n",
    "                df.at[index, 'neutral'] = neutral_list[0]\n",
    "\n",
    "                compound_list = []\n",
    "                positive_list = []\n",
    "                negative_list = []\n",
    "                neutral_list = []\n",
    "                           \n",
    "        else:\n",
    "            pass\n",
    "    \n",
    "    return df.sort_index(ascending=True)"
   ]
  },
  {
   "cell_type": "code",
   "execution_count": 25,
   "metadata": {},
   "outputs": [
    {
     "output_type": "execute_result",
     "data": {
      "text/plain": "                                                         text  compound  \\\n2020-03-16  TL;DR: An annual Disney+ subscription is avail... -0.047600   \n2020-03-17  Following several other movies, including Mula...  0.996300   \n2020-03-18  It was supposed to launch alongside WarnerMedi...  0.971500   \n2020-03-19  If your streaming queue is starting to look a ... -0.807400   \n2020-03-20  Disney said on Friday that it is postponing th...  0.850700   \n2020-03-23  If you decide to take advantage, keep in mind ...  0.963033   \n2020-03-24  Disney+ launches in seven European countries, ...  0.994200   \n2020-03-25  TL;DR: A three-year subscription to NordVPN is...  0.995200   \n2020-03-26  Disney's streaming service, Disney Plus, is th...  0.343900   \n2020-03-27  The massive amount of premium content on Disne...  0.994800   \n\n            positive  negative   neutral     return  \n2020-03-16  0.072750    0.0705  0.856500  -7.325400  \n2020-03-17  0.107000    0.0400  0.853000  -1.557731  \n2020-03-18  0.109000    0.0830  0.808000  -5.057201  \n2020-03-19  0.069000    0.0700  0.861000   6.903153  \n2020-03-20  0.045000    0.0360  0.919000  -9.428000  \n2020-03-23  0.078333    0.0350  0.886333  -0.255873  \n2020-03-24  0.093000    0.0360  0.872000  14.412313  \n2020-03-25  0.115000    0.0530  0.832000   2.660008  \n2020-03-26  0.066000    0.0470  0.887000   4.596446  \n2020-03-27  0.120000    0.0470  0.834000  -8.504176  ",
      "text/html": "<div>\n<style scoped>\n    .dataframe tbody tr th:only-of-type {\n        vertical-align: middle;\n    }\n\n    .dataframe tbody tr th {\n        vertical-align: top;\n    }\n\n    .dataframe thead th {\n        text-align: right;\n    }\n</style>\n<table border=\"1\" class=\"dataframe\">\n  <thead>\n    <tr style=\"text-align: right;\">\n      <th></th>\n      <th>text</th>\n      <th>compound</th>\n      <th>positive</th>\n      <th>negative</th>\n      <th>neutral</th>\n      <th>return</th>\n    </tr>\n  </thead>\n  <tbody>\n    <tr>\n      <th>2020-03-16</th>\n      <td>TL;DR: An annual Disney+ subscription is avail...</td>\n      <td>-0.047600</td>\n      <td>0.072750</td>\n      <td>0.0705</td>\n      <td>0.856500</td>\n      <td>-7.325400</td>\n    </tr>\n    <tr>\n      <th>2020-03-17</th>\n      <td>Following several other movies, including Mula...</td>\n      <td>0.996300</td>\n      <td>0.107000</td>\n      <td>0.0400</td>\n      <td>0.853000</td>\n      <td>-1.557731</td>\n    </tr>\n    <tr>\n      <th>2020-03-18</th>\n      <td>It was supposed to launch alongside WarnerMedi...</td>\n      <td>0.971500</td>\n      <td>0.109000</td>\n      <td>0.0830</td>\n      <td>0.808000</td>\n      <td>-5.057201</td>\n    </tr>\n    <tr>\n      <th>2020-03-19</th>\n      <td>If your streaming queue is starting to look a ...</td>\n      <td>-0.807400</td>\n      <td>0.069000</td>\n      <td>0.0700</td>\n      <td>0.861000</td>\n      <td>6.903153</td>\n    </tr>\n    <tr>\n      <th>2020-03-20</th>\n      <td>Disney said on Friday that it is postponing th...</td>\n      <td>0.850700</td>\n      <td>0.045000</td>\n      <td>0.0360</td>\n      <td>0.919000</td>\n      <td>-9.428000</td>\n    </tr>\n    <tr>\n      <th>2020-03-23</th>\n      <td>If you decide to take advantage, keep in mind ...</td>\n      <td>0.963033</td>\n      <td>0.078333</td>\n      <td>0.0350</td>\n      <td>0.886333</td>\n      <td>-0.255873</td>\n    </tr>\n    <tr>\n      <th>2020-03-24</th>\n      <td>Disney+ launches in seven European countries, ...</td>\n      <td>0.994200</td>\n      <td>0.093000</td>\n      <td>0.0360</td>\n      <td>0.872000</td>\n      <td>14.412313</td>\n    </tr>\n    <tr>\n      <th>2020-03-25</th>\n      <td>TL;DR: A three-year subscription to NordVPN is...</td>\n      <td>0.995200</td>\n      <td>0.115000</td>\n      <td>0.0530</td>\n      <td>0.832000</td>\n      <td>2.660008</td>\n    </tr>\n    <tr>\n      <th>2020-03-26</th>\n      <td>Disney's streaming service, Disney Plus, is th...</td>\n      <td>0.343900</td>\n      <td>0.066000</td>\n      <td>0.0470</td>\n      <td>0.887000</td>\n      <td>4.596446</td>\n    </tr>\n    <tr>\n      <th>2020-03-27</th>\n      <td>The massive amount of premium content on Disne...</td>\n      <td>0.994800</td>\n      <td>0.120000</td>\n      <td>0.0470</td>\n      <td>0.834000</td>\n      <td>-8.504176</td>\n    </tr>\n  </tbody>\n</table>\n</div>"
     },
     "metadata": {},
     "execution_count": 25
    }
   ],
   "source": [
    "non_trading_avg(combined_df).head(10)"
   ]
  },
  {
   "cell_type": "code",
   "execution_count": 26,
   "metadata": {},
   "outputs": [
    {
     "output_type": "execute_result",
     "data": {
      "text/plain": "                                                         text  compound  \\\n2020-04-03  With movie theaters largely closed due to the ...  0.996300   \n2020-04-06  The unusual-looking cylindrical Shield TV has ...  0.997267   \n2020-04-07  If you watch a lot of Disney+ on Windows or ma...  0.974500   \n2020-04-08  The Walt Disney Company just announced that it...  0.972400   \n2020-04-09  Walt Disney Co. reported more than 50 million ...  0.988100   \n\n            positive  negative   neutral    return  \n2020-04-03     0.120     0.047  0.833000 -3.186553  \n2020-04-06     0.127     0.051  0.822333  6.071581  \n2020-04-07     0.068     0.035  0.897000  1.667001  \n2020-04-08     0.052     0.018  0.931000 -0.167918  \n2020-04-09     0.101     0.056  0.843000  3.393688  ",
      "text/html": "<div>\n<style scoped>\n    .dataframe tbody tr th:only-of-type {\n        vertical-align: middle;\n    }\n\n    .dataframe tbody tr th {\n        vertical-align: top;\n    }\n\n    .dataframe thead th {\n        text-align: right;\n    }\n</style>\n<table border=\"1\" class=\"dataframe\">\n  <thead>\n    <tr style=\"text-align: right;\">\n      <th></th>\n      <th>text</th>\n      <th>compound</th>\n      <th>positive</th>\n      <th>negative</th>\n      <th>neutral</th>\n      <th>return</th>\n    </tr>\n  </thead>\n  <tbody>\n    <tr>\n      <th>2020-04-03</th>\n      <td>With movie theaters largely closed due to the ...</td>\n      <td>0.996300</td>\n      <td>0.120</td>\n      <td>0.047</td>\n      <td>0.833000</td>\n      <td>-3.186553</td>\n    </tr>\n    <tr>\n      <th>2020-04-06</th>\n      <td>The unusual-looking cylindrical Shield TV has ...</td>\n      <td>0.997267</td>\n      <td>0.127</td>\n      <td>0.051</td>\n      <td>0.822333</td>\n      <td>6.071581</td>\n    </tr>\n    <tr>\n      <th>2020-04-07</th>\n      <td>If you watch a lot of Disney+ on Windows or ma...</td>\n      <td>0.974500</td>\n      <td>0.068</td>\n      <td>0.035</td>\n      <td>0.897000</td>\n      <td>1.667001</td>\n    </tr>\n    <tr>\n      <th>2020-04-08</th>\n      <td>The Walt Disney Company just announced that it...</td>\n      <td>0.972400</td>\n      <td>0.052</td>\n      <td>0.018</td>\n      <td>0.931000</td>\n      <td>-0.167918</td>\n    </tr>\n    <tr>\n      <th>2020-04-09</th>\n      <td>Walt Disney Co. reported more than 50 million ...</td>\n      <td>0.988100</td>\n      <td>0.101</td>\n      <td>0.056</td>\n      <td>0.843000</td>\n      <td>3.393688</td>\n    </tr>\n  </tbody>\n</table>\n</div>"
     },
     "metadata": {},
     "execution_count": 26
    }
   ],
   "source": [
    "combined_df.tail()"
   ]
  },
  {
   "cell_type": "code",
   "execution_count": 27,
   "metadata": {},
   "outputs": [
    {
     "output_type": "error",
     "ename": "FileNotFoundError",
     "evalue": "[Errno 2] No such file or directory: '../Data/combined_df.pickle'",
     "traceback": [
      "\u001b[0;31m---------------------------------------------------------------------------\u001b[0m",
      "\u001b[0;31mFileNotFoundError\u001b[0m                         Traceback (most recent call last)",
      "\u001b[0;32m<ipython-input-27-a2dacaf2db0f>\u001b[0m in \u001b[0;36m<module>\u001b[0;34m\u001b[0m\n\u001b[0;32m----> 1\u001b[0;31m \u001b[0mcombined_df\u001b[0m\u001b[0;34m.\u001b[0m\u001b[0mto_pickle\u001b[0m\u001b[0;34m(\u001b[0m\u001b[0;34m'../Data/combined_df.pickle'\u001b[0m\u001b[0;34m)\u001b[0m\u001b[0;34m\u001b[0m\u001b[0;34m\u001b[0m\u001b[0m\n\u001b[0m",
      "\u001b[0;32m/Applications/anaconda3/envs/mlenv/lib/python3.7/site-packages/pandas/core/generic.py\u001b[0m in \u001b[0;36mto_pickle\u001b[0;34m(self, path, compression, protocol)\u001b[0m\n\u001b[1;32m   2723\u001b[0m         \u001b[0;32mfrom\u001b[0m \u001b[0mpandas\u001b[0m\u001b[0;34m.\u001b[0m\u001b[0mio\u001b[0m\u001b[0;34m.\u001b[0m\u001b[0mpickle\u001b[0m \u001b[0;32mimport\u001b[0m \u001b[0mto_pickle\u001b[0m\u001b[0;34m\u001b[0m\u001b[0;34m\u001b[0m\u001b[0m\n\u001b[1;32m   2724\u001b[0m \u001b[0;34m\u001b[0m\u001b[0m\n\u001b[0;32m-> 2725\u001b[0;31m         \u001b[0mto_pickle\u001b[0m\u001b[0;34m(\u001b[0m\u001b[0mself\u001b[0m\u001b[0;34m,\u001b[0m \u001b[0mpath\u001b[0m\u001b[0;34m,\u001b[0m \u001b[0mcompression\u001b[0m\u001b[0;34m=\u001b[0m\u001b[0mcompression\u001b[0m\u001b[0;34m,\u001b[0m \u001b[0mprotocol\u001b[0m\u001b[0;34m=\u001b[0m\u001b[0mprotocol\u001b[0m\u001b[0;34m)\u001b[0m\u001b[0;34m\u001b[0m\u001b[0;34m\u001b[0m\u001b[0m\n\u001b[0m\u001b[1;32m   2726\u001b[0m \u001b[0;34m\u001b[0m\u001b[0m\n\u001b[1;32m   2727\u001b[0m     def to_clipboard(\n",
      "\u001b[0;32m/Applications/anaconda3/envs/mlenv/lib/python3.7/site-packages/pandas/io/pickle.py\u001b[0m in \u001b[0;36mto_pickle\u001b[0;34m(obj, filepath_or_buffer, compression, protocol)\u001b[0m\n\u001b[1;32m     82\u001b[0m     \u001b[0;32mif\u001b[0m \u001b[0;32mnot\u001b[0m \u001b[0misinstance\u001b[0m\u001b[0;34m(\u001b[0m\u001b[0mfp_or_buf\u001b[0m\u001b[0;34m,\u001b[0m \u001b[0mstr\u001b[0m\u001b[0;34m)\u001b[0m \u001b[0;32mand\u001b[0m \u001b[0mcompression\u001b[0m \u001b[0;34m==\u001b[0m \u001b[0;34m\"infer\"\u001b[0m\u001b[0;34m:\u001b[0m\u001b[0;34m\u001b[0m\u001b[0;34m\u001b[0m\u001b[0m\n\u001b[1;32m     83\u001b[0m         \u001b[0mcompression\u001b[0m \u001b[0;34m=\u001b[0m \u001b[0;32mNone\u001b[0m\u001b[0;34m\u001b[0m\u001b[0;34m\u001b[0m\u001b[0m\n\u001b[0;32m---> 84\u001b[0;31m     \u001b[0mf\u001b[0m\u001b[0;34m,\u001b[0m \u001b[0mfh\u001b[0m \u001b[0;34m=\u001b[0m \u001b[0mget_handle\u001b[0m\u001b[0;34m(\u001b[0m\u001b[0mfp_or_buf\u001b[0m\u001b[0;34m,\u001b[0m \u001b[0;34m\"wb\"\u001b[0m\u001b[0;34m,\u001b[0m \u001b[0mcompression\u001b[0m\u001b[0;34m=\u001b[0m\u001b[0mcompression\u001b[0m\u001b[0;34m,\u001b[0m \u001b[0mis_text\u001b[0m\u001b[0;34m=\u001b[0m\u001b[0;32mFalse\u001b[0m\u001b[0;34m)\u001b[0m\u001b[0;34m\u001b[0m\u001b[0;34m\u001b[0m\u001b[0m\n\u001b[0m\u001b[1;32m     85\u001b[0m     \u001b[0;32mif\u001b[0m \u001b[0mprotocol\u001b[0m \u001b[0;34m<\u001b[0m \u001b[0;36m0\u001b[0m\u001b[0;34m:\u001b[0m\u001b[0;34m\u001b[0m\u001b[0;34m\u001b[0m\u001b[0m\n\u001b[1;32m     86\u001b[0m         \u001b[0mprotocol\u001b[0m \u001b[0;34m=\u001b[0m \u001b[0mpickle\u001b[0m\u001b[0;34m.\u001b[0m\u001b[0mHIGHEST_PROTOCOL\u001b[0m\u001b[0;34m\u001b[0m\u001b[0;34m\u001b[0m\u001b[0m\n",
      "\u001b[0;32m/Applications/anaconda3/envs/mlenv/lib/python3.7/site-packages/pandas/io/common.py\u001b[0m in \u001b[0;36mget_handle\u001b[0;34m(path_or_buf, mode, encoding, compression, memory_map, is_text)\u001b[0m\n\u001b[1;32m    432\u001b[0m         \u001b[0;32melse\u001b[0m\u001b[0;34m:\u001b[0m\u001b[0;34m\u001b[0m\u001b[0;34m\u001b[0m\u001b[0m\n\u001b[1;32m    433\u001b[0m             \u001b[0;31m# Binary mode\u001b[0m\u001b[0;34m\u001b[0m\u001b[0;34m\u001b[0m\u001b[0;34m\u001b[0m\u001b[0m\n\u001b[0;32m--> 434\u001b[0;31m             \u001b[0mf\u001b[0m \u001b[0;34m=\u001b[0m \u001b[0mopen\u001b[0m\u001b[0;34m(\u001b[0m\u001b[0mpath_or_buf\u001b[0m\u001b[0;34m,\u001b[0m \u001b[0mmode\u001b[0m\u001b[0;34m)\u001b[0m\u001b[0;34m\u001b[0m\u001b[0;34m\u001b[0m\u001b[0m\n\u001b[0m\u001b[1;32m    435\u001b[0m         \u001b[0mhandles\u001b[0m\u001b[0;34m.\u001b[0m\u001b[0mappend\u001b[0m\u001b[0;34m(\u001b[0m\u001b[0mf\u001b[0m\u001b[0;34m)\u001b[0m\u001b[0;34m\u001b[0m\u001b[0;34m\u001b[0m\u001b[0m\n\u001b[1;32m    436\u001b[0m \u001b[0;34m\u001b[0m\u001b[0m\n",
      "\u001b[0;31mFileNotFoundError\u001b[0m: [Errno 2] No such file or directory: '../Data/combined_df.pickle'"
     ]
    }
   ],
   "source": [
    "combined_df.to_pickle('../Data/combined_df.pickle')"
   ]
  },
  {
   "cell_type": "code",
   "execution_count": null,
   "metadata": {},
   "outputs": [],
   "source": []
  },
  {
   "cell_type": "code",
   "execution_count": null,
   "metadata": {},
   "outputs": [],
   "source": []
  },
  {
   "cell_type": "code",
   "execution_count": null,
   "metadata": {},
   "outputs": [],
   "source": []
  },
  {
   "cell_type": "code",
   "execution_count": null,
   "metadata": {},
   "outputs": [],
   "source": []
  }
 ],
 "metadata": {
  "kernelspec": {
   "display_name": "mlenv",
   "language": "python",
   "name": "mlenv"
  },
  "language_info": {
   "codemirror_mode": {
    "name": "ipython",
    "version": 3
   },
   "file_extension": ".py",
   "mimetype": "text/x-python",
   "name": "python",
   "nbconvert_exporter": "python",
   "pygments_lexer": "ipython3",
   "version": "3.7.4-final"
  }
 },
 "nbformat": 4,
 "nbformat_minor": 4
}