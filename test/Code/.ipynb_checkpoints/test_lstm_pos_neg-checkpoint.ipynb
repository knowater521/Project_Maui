{
 "cells": [
  {
   "cell_type": "markdown",
   "metadata": {},
   "source": [
    "### Suggestions from Tutor\n",
    "* Perhaps with SPY or other indices\n",
    "* perform an hourly training/5 min traning, etc. \n",
    "* store pre-trained model \n",
    "* current data for prediction\n",
    "* load model\n",
    "* get ticker name input\n",
    "* predict usining model\n",
    "* show results"
   ]
  },
  {
   "cell_type": "markdown",
   "metadata": {},
   "source": [
    "### Initial ML Attempt using LSTM RNN\n",
    "\n",
    "\n",
    "**LSTM provides better predictions for the direction of price moves on negative news sentiments compared to positive sentiments**\n",
    "\n",
    "\n",
    "\n",
    "### Resources:\n",
    "\n",
    "\n",
    "_**Binary Keras LSTM model does not output binary predictions**_\n",
    "\n",
    "\"There is no 'binary' in neural networks, but a continuous function within limits.\n",
    "Only with continuous functions a model can train and learn using \"stochastic gradient descent\".\n",
    "For trying to achieve binary results, we use the sigmoid function, which goes from 0 to 1. But initially, your model is not trained, all its \"weights\" are sort of initialised randomly. \n",
    "The result is indeed results tending to mean values, which are 0.5 in sigmoid functions.\n",
    "All you need is to train your model with enough data for enough epochs, \n",
    "so the results will gradually approach (but never hit) 0 or 1 (or whatever targets \"y\" you have in your training data)\"\n",
    "\n",
    "Source: https://stackoverflow.com/questions/46040656/binary-keras-lstm-model-does-not-output-binary-predictions"
   ]
  },
  {
   "cell_type": "code",
   "execution_count": 372,
   "metadata": {},
   "outputs": [],
   "source": [
    "#Source: https://github.com/Derrick-Sherrill/DerrickSherrill.com/blob/master/stocks.py\n",
    "\n",
    "import os\n",
    "import pandas as pd\n",
    "\n",
    "# importing libraries\n",
    "from pathlib import Path\n",
    "import pandas as pd\n",
    "import ipywidgets as widgets\n",
    "from IPython.display import display\n",
    "from datetime import datetime, timedelta\n",
    "from iexfinance.stocks import get_historical_data\n",
    "\n",
    "\n",
    "from alpha_vantage.timeseries import TimeSeries\n",
    "import time\n",
    "from path import Path\n",
    "%matplotlib inline\n",
    "from datetime import datetime as dt\n",
    "from dateutil.tz import gettz\n",
    "import re\n",
    "import numpy as np\n",
    "import pandas as pd\n",
    "import hvplot.pandas\n",
    "from sklearn.preprocessing import OneHotEncoder, StandardScaler\n",
    "import tensorflow as tf\n",
    "import keras\n",
    "from newsapi import NewsApiClient\n",
    "\n",
    "#!pip install alpha_vantage\n",
    "# get API from alpha vantage\n",
    "api_key_stocks = os.getenv(\"ALPHA_VANTAGE_API_KEY\")\n",
    "\n",
    "#import nltk\n",
    "#nltk.download()\n",
    "from nltk.corpus import reuters\n",
    "from nltk.sentiment.vader import SentimentIntensityAnalyzer\n",
    "analyzer = SentimentIntensityAnalyzer()\n",
    "\n",
    "# Read your api key environment variable\n",
    "api_key_news = os.getenv(\"NEWS_API_KEY\")\n",
    "# Create a newsapi client\n",
    "newsapi = NewsApiClient(api_key=api_key_news)\n"
   ]
  },
  {
   "cell_type": "markdown",
   "metadata": {},
   "source": [
    "# News Data"
   ]
  },
  {
   "cell_type": "code",
   "execution_count": 373,
   "metadata": {},
   "outputs": [
    {
     "name": "stdin",
     "output_type": "stream",
     "text": [
      "Enter ticker : DIS\n"
     ]
    }
   ],
   "source": [
    "#TODO: To be replaced by dropdown widgets from maui_stock_data.ipynb\n",
    "tickers = ['SPY','DJIA','AAPL', 'GOOG', 'FB', 'NFLX','DIS', 'MSFT', 'IBM']\n",
    "ticker = input (\"Enter ticker :\") "
   ]
  },
  {
   "cell_type": "code",
   "execution_count": 374,
   "metadata": {},
   "outputs": [],
   "source": [
    "#df = pd.read_pickle('../Data/DIS_clean.pickle') # data as of 4/16/2020"
   ]
  },
  {
   "cell_type": "code",
   "execution_count": 429,
   "metadata": {},
   "outputs": [],
   "source": [
    "df = pd.read_pickle('../Data/dis_ln_dum.pickle') # data as of 4/14/2020"
   ]
  },
  {
   "cell_type": "code",
   "execution_count": 430,
   "metadata": {},
   "outputs": [
    {
     "data": {
      "text/html": [
       "<div>\n",
       "<style scoped>\n",
       "    .dataframe tbody tr th:only-of-type {\n",
       "        vertical-align: middle;\n",
       "    }\n",
       "\n",
       "    .dataframe tbody tr th {\n",
       "        vertical-align: top;\n",
       "    }\n",
       "\n",
       "    .dataframe thead th {\n",
       "        text-align: right;\n",
       "    }\n",
       "</style>\n",
       "<table border=\"1\" class=\"dataframe\">\n",
       "  <thead>\n",
       "    <tr style=\"text-align: right;\">\n",
       "      <th></th>\n",
       "      <th>compound</th>\n",
       "      <th>positive</th>\n",
       "      <th>negative</th>\n",
       "      <th>neutral</th>\n",
       "      <th>close</th>\n",
       "      <th>lagged_return_1d</th>\n",
       "      <th>lagged_return_3d</th>\n",
       "      <th>lagged_return_5d</th>\n",
       "      <th>return</th>\n",
       "      <th>Increase</th>\n",
       "    </tr>\n",
       "    <tr>\n",
       "      <th>date</th>\n",
       "      <th></th>\n",
       "      <th></th>\n",
       "      <th></th>\n",
       "      <th></th>\n",
       "      <th></th>\n",
       "      <th></th>\n",
       "      <th></th>\n",
       "      <th></th>\n",
       "      <th></th>\n",
       "      <th></th>\n",
       "    </tr>\n",
       "  </thead>\n",
       "  <tbody>\n",
       "    <tr>\n",
       "      <th>2020-03-16</th>\n",
       "      <td>0.9832</td>\n",
       "      <td>0.075</td>\n",
       "      <td>0.034</td>\n",
       "      <td>0.890</td>\n",
       "      <td>95.01</td>\n",
       "      <td>0.0</td>\n",
       "      <td>0.0000</td>\n",
       "      <td>0.0</td>\n",
       "      <td>0.000000</td>\n",
       "      <td>1</td>\n",
       "    </tr>\n",
       "    <tr>\n",
       "      <th>2020-03-17</th>\n",
       "      <td>0.9963</td>\n",
       "      <td>0.107</td>\n",
       "      <td>0.040</td>\n",
       "      <td>0.853</td>\n",
       "      <td>93.53</td>\n",
       "      <td>0.0</td>\n",
       "      <td>0.0000</td>\n",
       "      <td>0.0</td>\n",
       "      <td>-0.015700</td>\n",
       "      <td>0</td>\n",
       "    </tr>\n",
       "    <tr>\n",
       "      <th>2020-03-18</th>\n",
       "      <td>0.9715</td>\n",
       "      <td>0.109</td>\n",
       "      <td>0.083</td>\n",
       "      <td>0.808</td>\n",
       "      <td>88.80</td>\n",
       "      <td>0.0</td>\n",
       "      <td>0.0000</td>\n",
       "      <td>0.0</td>\n",
       "      <td>-0.051896</td>\n",
       "      <td>0</td>\n",
       "    </tr>\n",
       "    <tr>\n",
       "      <th>2020-03-19</th>\n",
       "      <td>-0.8074</td>\n",
       "      <td>0.069</td>\n",
       "      <td>0.070</td>\n",
       "      <td>0.861</td>\n",
       "      <td>94.93</td>\n",
       "      <td>0.0</td>\n",
       "      <td>0.0000</td>\n",
       "      <td>0.0</td>\n",
       "      <td>0.066753</td>\n",
       "      <td>1</td>\n",
       "    </tr>\n",
       "    <tr>\n",
       "      <th>2020-03-20</th>\n",
       "      <td>0.8507</td>\n",
       "      <td>0.045</td>\n",
       "      <td>0.036</td>\n",
       "      <td>0.919</td>\n",
       "      <td>85.98</td>\n",
       "      <td>0.0</td>\n",
       "      <td>-0.0157</td>\n",
       "      <td>0.0</td>\n",
       "      <td>-0.099025</td>\n",
       "      <td>0</td>\n",
       "    </tr>\n",
       "  </tbody>\n",
       "</table>\n",
       "</div>"
      ],
      "text/plain": [
       "            compound  positive  negative  neutral  close  lagged_return_1d  \\\n",
       "date                                                                         \n",
       "2020-03-16    0.9832     0.075     0.034    0.890  95.01               0.0   \n",
       "2020-03-17    0.9963     0.107     0.040    0.853  93.53               0.0   \n",
       "2020-03-18    0.9715     0.109     0.083    0.808  88.80               0.0   \n",
       "2020-03-19   -0.8074     0.069     0.070    0.861  94.93               0.0   \n",
       "2020-03-20    0.8507     0.045     0.036    0.919  85.98               0.0   \n",
       "\n",
       "            lagged_return_3d  lagged_return_5d    return  Increase  \n",
       "date                                                                \n",
       "2020-03-16            0.0000               0.0  0.000000         1  \n",
       "2020-03-17            0.0000               0.0 -0.015700         0  \n",
       "2020-03-18            0.0000               0.0 -0.051896         0  \n",
       "2020-03-19            0.0000               0.0  0.066753         1  \n",
       "2020-03-20           -0.0157               0.0 -0.099025         0  "
      ]
     },
     "execution_count": 430,
     "metadata": {},
     "output_type": "execute_result"
    }
   ],
   "source": [
    "df.head()"
   ]
  },
  {
   "cell_type": "code",
   "execution_count": 431,
   "metadata": {},
   "outputs": [],
   "source": [
    "# Needed if using dis_dum where column Increase is in 0 or 1\n",
    "#increase = df.Increase"
   ]
  },
  {
   "cell_type": "code",
   "execution_count": 432,
   "metadata": {},
   "outputs": [],
   "source": [
    "# Transform Predicted column\n",
    "#def changeIncrease(increase):\n",
    "#    if increase == 1:\n",
    "#        return 1.0\n",
    "#    else:\n",
    "#        return -1.0\n",
    "\n",
    "#df[\"Increase\"] = df[\"Increase\"].apply(changeIncrease)\n",
    "#df"
   ]
  },
  {
   "cell_type": "code",
   "execution_count": 433,
   "metadata": {},
   "outputs": [],
   "source": [
    "dis = df.copy()"
   ]
  },
  {
   "cell_type": "markdown",
   "metadata": {},
   "source": [
    "### Model\n",
    "_**LSTM**_"
   ]
  },
  {
   "cell_type": "code",
   "execution_count": 434,
   "metadata": {},
   "outputs": [],
   "source": [
    "# This function accepts the column number for the features (X) and the target (y)\n",
    "# It chunks the data up with a rolling window of Xt-n to predict Xt\n",
    "# It returns a numpy array of X any y\n",
    "def window_data(df, window, feature_col_number, target_col_number):\n",
    "    X = []\n",
    "    y = []\n",
    "    \n",
    "    for i in range(len(df) - window - 1):\n",
    "        \n",
    "        features = df.iloc[i:(i + window), feature_col_number]\n",
    "        target = df.iloc[(i + window), target_col_number]\n",
    "               \n",
    "        X.append(features)\n",
    "        y.append(target)\n",
    "     \n",
    "        \n",
    "    return np.array(X), np.array(y).reshape(-1, 1)"
   ]
  },
  {
   "cell_type": "code",
   "execution_count": 435,
   "metadata": {},
   "outputs": [],
   "source": [
    "# Predict Closing Prices using a 10 day window of previous closing prices\n",
    "# Try a window size anywhere from 1 to 10 and see how the model performance changes\n",
    "# A window_size of 1 means no lag in the timeframe defined later\n",
    "\n",
    "window_size = 1 # 1day\n",
    "#window_size = 2\n",
    "#window_size = 3\n",
    "#window_size = 4\n",
    "#window_size = 5\n",
    "#window_size = 6\n",
    "#window_size = 7\n",
    "#window_size = 8\n",
    "#window_size = 9\n",
    "#window_size = 10"
   ]
  },
  {
   "cell_type": "markdown",
   "metadata": {},
   "source": [
    "_**Column index 1 is the `Positive` column**_"
   ]
  },
  {
   "cell_type": "code",
   "execution_count": 436,
   "metadata": {},
   "outputs": [],
   "source": [
    "feature_column_pos = 1\n",
    "target_column = 9    # Increase is the binary target column # this is 5 if using DIS_clean.pickle\n",
    "X, y = window_data(dis, window_size, feature_column_pos, target_column)"
   ]
  },
  {
   "cell_type": "code",
   "execution_count": 437,
   "metadata": {},
   "outputs": [],
   "source": [
    "# Apply One-hot encoding to the target labels\n",
    "enc = OneHotEncoder()\n",
    "enc.fit(y)\n",
    "y = enc.transform(y).toarray()[:,0]\n",
    "y = np.array(y).reshape(-1,1)"
   ]
  },
  {
   "cell_type": "code",
   "execution_count": 438,
   "metadata": {},
   "outputs": [],
   "source": [
    "# Use 70% of the data for training and the remaineder for testing\n",
    "split = int(0.7 * len(X))\n",
    "X_train = X[: split - 1]\n",
    "X_test = X[split:]\n",
    "y_train = y[: split - 1]\n",
    "y_test = y[split:]"
   ]
  },
  {
   "cell_type": "code",
   "execution_count": 439,
   "metadata": {},
   "outputs": [],
   "source": [
    "# Use the MinMaxScaler to scale data between 0 and 1.\n",
    "from sklearn.preprocessing import MinMaxScaler\n",
    "\n",
    "scaler = MinMaxScaler()\n",
    "scaler.fit(X)\n",
    "X_train = scaler.transform(X_train)\n",
    "X_test = scaler.transform(X_test)"
   ]
  },
  {
   "cell_type": "code",
   "execution_count": 440,
   "metadata": {},
   "outputs": [
    {
     "name": "stdout",
     "output_type": "stream",
     "text": [
      "X_train sample values:\n",
      "[[[0.375]]] \n",
      "\n",
      "X_test sample values:\n",
      "[[[0.6875]]]\n"
     ]
    }
   ],
   "source": [
    "# Reshape the features for the model\n",
    "X_train = X_train.reshape((X_train.shape[0], X_train.shape[1], 1))\n",
    "X_test = X_test.reshape((X_test.shape[0], X_test.shape[1], 1))\n",
    "print (f\"X_train sample values:\\n{X_train[:1]} \\n\")\n",
    "print (f\"X_test sample values:\\n{X_test[:1]}\")"
   ]
  },
  {
   "cell_type": "code",
   "execution_count": 441,
   "metadata": {},
   "outputs": [
    {
     "name": "stdout",
     "output_type": "stream",
     "text": [
      "y_train sample values:\n",
      "[[1.]] \n",
      "\n",
      "y_test sample values:\n",
      "[[0.]]\n"
     ]
    }
   ],
   "source": [
    "print (f\"y_train sample values:\\n{y_train[:1]} \\n\")\n",
    "print (f\"y_test sample values:\\n{y_test[:1]}\")"
   ]
  },
  {
   "cell_type": "markdown",
   "metadata": {},
   "source": [
    "#### _**Build and Train the LSTM RNN**_"
   ]
  },
  {
   "cell_type": "code",
   "execution_count": 442,
   "metadata": {},
   "outputs": [],
   "source": [
    "from tensorflow.keras.models import Sequential\n",
    "from tensorflow.keras.layers import LSTM, Dense, Dropout"
   ]
  },
  {
   "cell_type": "code",
   "execution_count": 443,
   "metadata": {},
   "outputs": [],
   "source": [
    "# Build the LSTM model. \n",
    "# The return sequences need to be set to True if you are adding additional LSTM layers, but \n",
    "# You don't have to do this for the final layer. \n",
    "# Define the LSTM RNN model.\n",
    "\n",
    "model = Sequential()\n",
    "\n",
    "# Initial model setup\n",
    "number_units = 20\n",
    "dropout_fraction = 0.1\n",
    "\n",
    "# Layer 1\n",
    "model.add(LSTM(\n",
    "    units=number_units,\n",
    "    return_sequences=True,\n",
    "    input_shape=(X_train.shape[1], 1))\n",
    "    )\n",
    "model.add(Dropout(dropout_fraction))\n",
    "\n",
    "# Layer 2\n",
    "model.add(LSTM(units=number_units, activation='sigmoid', return_sequences=True))\n",
    "model.add(Dropout(dropout_fraction))\n",
    "\n",
    "# Layer 3\n",
    "model.add(LSTM(units=number_units))\n",
    "model.add(Dropout(dropout_fraction))\n",
    "\n",
    "# Output layer\n",
    "model.add(Dense(1))"
   ]
  },
  {
   "cell_type": "code",
   "execution_count": 444,
   "metadata": {},
   "outputs": [
    {
     "data": {
      "text/plain": [
       "(11, 1, 1)"
      ]
     },
     "execution_count": 444,
     "metadata": {},
     "output_type": "execute_result"
    }
   ],
   "source": [
    "X_train.shape"
   ]
  },
  {
   "cell_type": "code",
   "execution_count": 445,
   "metadata": {},
   "outputs": [
    {
     "data": {
      "text/plain": [
       "(11, 1)"
      ]
     },
     "execution_count": 445,
     "metadata": {},
     "output_type": "execute_result"
    }
   ],
   "source": [
    "y_train.shape"
   ]
  },
  {
   "cell_type": "code",
   "execution_count": 446,
   "metadata": {},
   "outputs": [],
   "source": [
    "#y_train.reshape(-1,1)"
   ]
  },
  {
   "cell_type": "code",
   "execution_count": 447,
   "metadata": {},
   "outputs": [
    {
     "data": {
      "text/plain": [
       "(6, 1, 1)"
      ]
     },
     "execution_count": 447,
     "metadata": {},
     "output_type": "execute_result"
    }
   ],
   "source": [
    "X_test.shape"
   ]
  },
  {
   "cell_type": "code",
   "execution_count": 448,
   "metadata": {},
   "outputs": [
    {
     "data": {
      "text/plain": [
       "(6, 1)"
      ]
     },
     "execution_count": 448,
     "metadata": {},
     "output_type": "execute_result"
    }
   ],
   "source": [
    "y_test.shape"
   ]
  },
  {
   "cell_type": "code",
   "execution_count": 449,
   "metadata": {},
   "outputs": [
    {
     "data": {
      "text/plain": [
       "(6, 1)"
      ]
     },
     "execution_count": 449,
     "metadata": {},
     "output_type": "execute_result"
    }
   ],
   "source": [
    "y_test.shape"
   ]
  },
  {
   "cell_type": "code",
   "execution_count": 450,
   "metadata": {},
   "outputs": [],
   "source": [
    "# Compile the model\n",
    "model.compile(optimizer=\"adam\", \n",
    "              metrics=[\"accuracy\", \"mse\"],\n",
    "              loss=\"mean_squared_error\") "
   ]
  },
  {
   "cell_type": "code",
   "execution_count": 451,
   "metadata": {},
   "outputs": [
    {
     "name": "stdout",
     "output_type": "stream",
     "text": [
      "Model: \"sequential_16\"\n",
      "_________________________________________________________________\n",
      "Layer (type)                 Output Shape              Param #   \n",
      "=================================================================\n",
      "lstm_48 (LSTM)               (None, 1, 20)             1760      \n",
      "_________________________________________________________________\n",
      "dropout_48 (Dropout)         (None, 1, 20)             0         \n",
      "_________________________________________________________________\n",
      "lstm_49 (LSTM)               (None, 1, 20)             3280      \n",
      "_________________________________________________________________\n",
      "dropout_49 (Dropout)         (None, 1, 20)             0         \n",
      "_________________________________________________________________\n",
      "lstm_50 (LSTM)               (None, 20)                3280      \n",
      "_________________________________________________________________\n",
      "dropout_50 (Dropout)         (None, 20)                0         \n",
      "_________________________________________________________________\n",
      "dense_16 (Dense)             (None, 1)                 21        \n",
      "=================================================================\n",
      "Total params: 8,341\n",
      "Trainable params: 8,341\n",
      "Non-trainable params: 0\n",
      "_________________________________________________________________\n"
     ]
    }
   ],
   "source": [
    "# Summarize the model\n",
    "model.summary() "
   ]
  },
  {
   "cell_type": "code",
   "execution_count": 452,
   "metadata": {},
   "outputs": [],
   "source": [
    "# Creating validation data sets\n",
    "from sklearn.model_selection import train_test_split\n",
    "X_train, X_val, y_train, y_val = train_test_split(X_train, y_train, test_size = 0.3, shuffle=False) "
   ]
  },
  {
   "cell_type": "code",
   "execution_count": 453,
   "metadata": {},
   "outputs": [
    {
     "name": "stdout",
     "output_type": "stream",
     "text": [
      "Train on 7 samples, validate on 4 samples\n",
      "Epoch 1/200\n",
      "7/7 [==============================] - 3s 386ms/sample - loss: 0.5262 - accuracy: 0.4286 - mse: 0.5262 - val_loss: 0.4184 - val_accuracy: 0.5000 - val_mse: 0.4184\n",
      "Epoch 2/200\n",
      "7/7 [==============================] - 0s 6ms/sample - loss: 0.4966 - accuracy: 0.4286 - mse: 0.4966 - val_loss: 0.3803 - val_accuracy: 0.5000 - val_mse: 0.3803\n",
      "Epoch 3/200\n",
      "7/7 [==============================] - 0s 6ms/sample - loss: 0.4416 - accuracy: 0.4286 - mse: 0.4416 - val_loss: 0.3492 - val_accuracy: 0.5000 - val_mse: 0.3492\n",
      "Epoch 4/200\n",
      "7/7 [==============================] - 0s 5ms/sample - loss: 0.3920 - accuracy: 0.4286 - mse: 0.3920 - val_loss: 0.3233 - val_accuracy: 0.5000 - val_mse: 0.3233\n",
      "Epoch 5/200\n",
      "7/7 [==============================] - 0s 5ms/sample - loss: 0.3528 - accuracy: 0.4286 - mse: 0.3528 - val_loss: 0.3004 - val_accuracy: 0.5000 - val_mse: 0.3004\n",
      "Epoch 6/200\n",
      "7/7 [==============================] - 0s 5ms/sample - loss: 0.3092 - accuracy: 0.4286 - mse: 0.3092 - val_loss: 0.2823 - val_accuracy: 0.5000 - val_mse: 0.2823\n",
      "Epoch 7/200\n",
      "7/7 [==============================] - 0s 5ms/sample - loss: 0.2952 - accuracy: 0.4286 - mse: 0.2952 - val_loss: 0.2691 - val_accuracy: 0.5000 - val_mse: 0.2691\n",
      "Epoch 8/200\n",
      "7/7 [==============================] - 0s 5ms/sample - loss: 0.3041 - accuracy: 0.4286 - mse: 0.3041 - val_loss: 0.2599 - val_accuracy: 0.5000 - val_mse: 0.2599\n",
      "Epoch 9/200\n",
      "7/7 [==============================] - 0s 5ms/sample - loss: 0.2782 - accuracy: 0.4286 - mse: 0.2782 - val_loss: 0.2544 - val_accuracy: 0.5000 - val_mse: 0.2544\n",
      "Epoch 10/200\n",
      "7/7 [==============================] - 0s 5ms/sample - loss: 0.2964 - accuracy: 0.2857 - mse: 0.2964 - val_loss: 0.2517 - val_accuracy: 0.5000 - val_mse: 0.2517\n",
      "Epoch 11/200\n",
      "7/7 [==============================] - 0s 5ms/sample - loss: 0.2344 - accuracy: 0.7143 - mse: 0.2344 - val_loss: 0.2507 - val_accuracy: 0.5000 - val_mse: 0.2507\n",
      "Epoch 12/200\n",
      "7/7 [==============================] - 0s 6ms/sample - loss: 0.3097 - accuracy: 0.1429 - mse: 0.3097 - val_loss: 0.2508 - val_accuracy: 0.5000 - val_mse: 0.2508\n",
      "Epoch 13/200\n",
      "7/7 [==============================] - 0s 6ms/sample - loss: 0.2772 - accuracy: 0.4286 - mse: 0.2772 - val_loss: 0.2514 - val_accuracy: 0.5000 - val_mse: 0.2514\n",
      "Epoch 14/200\n",
      "7/7 [==============================] - 0s 5ms/sample - loss: 0.2375 - accuracy: 0.5714 - mse: 0.2375 - val_loss: 0.2520 - val_accuracy: 0.5000 - val_mse: 0.2520\n",
      "Epoch 15/200\n",
      "7/7 [==============================] - 0s 5ms/sample - loss: 0.2567 - accuracy: 0.7143 - mse: 0.2567 - val_loss: 0.2523 - val_accuracy: 0.5000 - val_mse: 0.2523\n",
      "Epoch 16/200\n",
      "7/7 [==============================] - 0s 5ms/sample - loss: 0.2479 - accuracy: 0.4286 - mse: 0.2479 - val_loss: 0.2524 - val_accuracy: 0.5000 - val_mse: 0.2524\n",
      "Epoch 17/200\n",
      "7/7 [==============================] - 0s 5ms/sample - loss: 0.2520 - accuracy: 0.7143 - mse: 0.2520 - val_loss: 0.2529 - val_accuracy: 0.5000 - val_mse: 0.2529\n",
      "Epoch 18/200\n",
      "7/7 [==============================] - 0s 5ms/sample - loss: 0.2613 - accuracy: 0.5714 - mse: 0.2613 - val_loss: 0.2530 - val_accuracy: 0.5000 - val_mse: 0.2530\n",
      "Epoch 19/200\n",
      "7/7 [==============================] - 0s 5ms/sample - loss: 0.2395 - accuracy: 0.5714 - mse: 0.2395 - val_loss: 0.2533 - val_accuracy: 0.5000 - val_mse: 0.2533\n",
      "Epoch 20/200\n",
      "7/7 [==============================] - 0s 5ms/sample - loss: 0.2514 - accuracy: 0.5714 - mse: 0.2514 - val_loss: 0.2535 - val_accuracy: 0.5000 - val_mse: 0.2535\n",
      "Epoch 21/200\n",
      "7/7 [==============================] - 0s 5ms/sample - loss: 0.2684 - accuracy: 0.5714 - mse: 0.2684 - val_loss: 0.2533 - val_accuracy: 0.5000 - val_mse: 0.2533\n",
      "Epoch 22/200\n",
      "7/7 [==============================] - 0s 5ms/sample - loss: 0.2381 - accuracy: 0.5714 - mse: 0.2381 - val_loss: 0.2535 - val_accuracy: 0.5000 - val_mse: 0.2535\n",
      "Epoch 23/200\n",
      "7/7 [==============================] - 0s 5ms/sample - loss: 0.2319 - accuracy: 0.5714 - mse: 0.2319 - val_loss: 0.2535 - val_accuracy: 0.5000 - val_mse: 0.2535\n",
      "Epoch 24/200\n",
      "7/7 [==============================] - 0s 5ms/sample - loss: 0.2561 - accuracy: 0.4286 - mse: 0.2561 - val_loss: 0.2534 - val_accuracy: 0.5000 - val_mse: 0.2534\n",
      "Epoch 25/200\n",
      "7/7 [==============================] - 0s 5ms/sample - loss: 0.2373 - accuracy: 0.5714 - mse: 0.2373 - val_loss: 0.2540 - val_accuracy: 0.5000 - val_mse: 0.2540\n",
      "Epoch 26/200\n",
      "7/7 [==============================] - 0s 5ms/sample - loss: 0.2223 - accuracy: 0.5714 - mse: 0.2223 - val_loss: 0.2535 - val_accuracy: 0.5000 - val_mse: 0.2535\n",
      "Epoch 27/200\n",
      "7/7 [==============================] - 0s 5ms/sample - loss: 0.2622 - accuracy: 0.4286 - mse: 0.2622 - val_loss: 0.2530 - val_accuracy: 0.5000 - val_mse: 0.2530\n",
      "Epoch 28/200\n",
      "7/7 [==============================] - 0s 5ms/sample - loss: 0.2333 - accuracy: 0.7143 - mse: 0.2333 - val_loss: 0.2522 - val_accuracy: 0.5000 - val_mse: 0.2522\n",
      "Epoch 29/200\n",
      "7/7 [==============================] - 0s 5ms/sample - loss: 0.2384 - accuracy: 0.7143 - mse: 0.2384 - val_loss: 0.2520 - val_accuracy: 0.5000 - val_mse: 0.2520\n",
      "Epoch 30/200\n",
      "7/7 [==============================] - 0s 4ms/sample - loss: 0.2340 - accuracy: 0.5714 - mse: 0.2340 - val_loss: 0.2517 - val_accuracy: 0.5000 - val_mse: 0.2517\n",
      "Epoch 31/200\n",
      "7/7 [==============================] - 0s 4ms/sample - loss: 0.2175 - accuracy: 0.5714 - mse: 0.2175 - val_loss: 0.2516 - val_accuracy: 0.5000 - val_mse: 0.2516\n",
      "Epoch 32/200\n",
      "7/7 [==============================] - 0s 4ms/sample - loss: 0.2832 - accuracy: 0.2857 - mse: 0.2832 - val_loss: 0.2517 - val_accuracy: 0.5000 - val_mse: 0.2517\n",
      "Epoch 33/200\n",
      "7/7 [==============================] - 0s 4ms/sample - loss: 0.2237 - accuracy: 0.7143 - mse: 0.2237 - val_loss: 0.2519 - val_accuracy: 0.5000 - val_mse: 0.2519\n",
      "Epoch 34/200\n",
      "7/7 [==============================] - 0s 3ms/sample - loss: 0.2724 - accuracy: 0.4286 - mse: 0.2724 - val_loss: 0.2519 - val_accuracy: 0.5000 - val_mse: 0.2519\n",
      "Epoch 35/200\n",
      "7/7 [==============================] - 0s 3ms/sample - loss: 0.2639 - accuracy: 0.7143 - mse: 0.2639 - val_loss: 0.2521 - val_accuracy: 0.5000 - val_mse: 0.2521\n",
      "Epoch 36/200\n",
      "7/7 [==============================] - 0s 3ms/sample - loss: 0.2478 - accuracy: 0.2857 - mse: 0.2478 - val_loss: 0.2528 - val_accuracy: 0.5000 - val_mse: 0.2528\n",
      "Epoch 37/200\n",
      "7/7 [==============================] - 0s 5ms/sample - loss: 0.2413 - accuracy: 0.7143 - mse: 0.2413 - val_loss: 0.2532 - val_accuracy: 0.5000 - val_mse: 0.2532\n",
      "Epoch 38/200\n",
      "7/7 [==============================] - 0s 4ms/sample - loss: 0.2486 - accuracy: 0.5714 - mse: 0.2486 - val_loss: 0.2532 - val_accuracy: 0.5000 - val_mse: 0.2532\n",
      "Epoch 39/200\n",
      "7/7 [==============================] - 0s 4ms/sample - loss: 0.2339 - accuracy: 0.5714 - mse: 0.2339 - val_loss: 0.2524 - val_accuracy: 0.5000 - val_mse: 0.2524\n",
      "Epoch 40/200\n",
      "7/7 [==============================] - 0s 3ms/sample - loss: 0.2645 - accuracy: 0.4286 - mse: 0.2645 - val_loss: 0.2518 - val_accuracy: 0.5000 - val_mse: 0.2518\n",
      "Epoch 41/200\n",
      "7/7 [==============================] - 0s 3ms/sample - loss: 0.2647 - accuracy: 0.5714 - mse: 0.2647 - val_loss: 0.2510 - val_accuracy: 0.5000 - val_mse: 0.2510\n",
      "Epoch 42/200\n",
      "7/7 [==============================] - 0s 3ms/sample - loss: 0.2195 - accuracy: 0.5714 - mse: 0.2195 - val_loss: 0.2510 - val_accuracy: 0.5000 - val_mse: 0.2510\n",
      "Epoch 43/200\n",
      "7/7 [==============================] - 0s 3ms/sample - loss: 0.2272 - accuracy: 0.5714 - mse: 0.2272 - val_loss: 0.2510 - val_accuracy: 0.5000 - val_mse: 0.2510\n",
      "Epoch 44/200\n",
      "7/7 [==============================] - 0s 4ms/sample - loss: 0.2490 - accuracy: 0.4286 - mse: 0.2490 - val_loss: 0.2511 - val_accuracy: 0.5000 - val_mse: 0.2511\n",
      "Epoch 45/200\n",
      "7/7 [==============================] - 0s 3ms/sample - loss: 0.2250 - accuracy: 0.5714 - mse: 0.2250 - val_loss: 0.2511 - val_accuracy: 0.5000 - val_mse: 0.2511\n",
      "Epoch 46/200\n",
      "7/7 [==============================] - 0s 3ms/sample - loss: 0.2473 - accuracy: 0.7143 - mse: 0.2473 - val_loss: 0.2507 - val_accuracy: 0.5000 - val_mse: 0.2507\n",
      "Epoch 47/200\n",
      "7/7 [==============================] - 0s 3ms/sample - loss: 0.2657 - accuracy: 0.4286 - mse: 0.2657 - val_loss: 0.2501 - val_accuracy: 0.5000 - val_mse: 0.2501\n",
      "Epoch 48/200\n",
      "7/7 [==============================] - 0s 4ms/sample - loss: 0.2231 - accuracy: 0.7143 - mse: 0.2231 - val_loss: 0.2495 - val_accuracy: 0.5000 - val_mse: 0.2495\n",
      "Epoch 49/200\n",
      "7/7 [==============================] - 0s 4ms/sample - loss: 0.2554 - accuracy: 0.5714 - mse: 0.2554 - val_loss: 0.2496 - val_accuracy: 0.5000 - val_mse: 0.2496\n",
      "Epoch 50/200\n",
      "7/7 [==============================] - 0s 5ms/sample - loss: 0.2323 - accuracy: 0.5714 - mse: 0.2323 - val_loss: 0.2495 - val_accuracy: 0.5000 - val_mse: 0.2495\n",
      "Epoch 51/200\n",
      "7/7 [==============================] - 0s 5ms/sample - loss: 0.2584 - accuracy: 0.5714 - mse: 0.2584 - val_loss: 0.2494 - val_accuracy: 0.5000 - val_mse: 0.2494\n",
      "Epoch 52/200\n",
      "7/7 [==============================] - 0s 5ms/sample - loss: 0.2437 - accuracy: 0.4286 - mse: 0.2437 - val_loss: 0.2491 - val_accuracy: 0.5000 - val_mse: 0.2491\n",
      "Epoch 53/200\n",
      "7/7 [==============================] - 0s 5ms/sample - loss: 0.2836 - accuracy: 0.4286 - mse: 0.2836 - val_loss: 0.2486 - val_accuracy: 0.5000 - val_mse: 0.2486\n",
      "Epoch 54/200\n",
      "7/7 [==============================] - 0s 5ms/sample - loss: 0.2722 - accuracy: 0.5714 - mse: 0.2722 - val_loss: 0.2482 - val_accuracy: 0.5000 - val_mse: 0.2482\n",
      "Epoch 55/200\n",
      "7/7 [==============================] - 0s 5ms/sample - loss: 0.2435 - accuracy: 0.5714 - mse: 0.2435 - val_loss: 0.2478 - val_accuracy: 0.5000 - val_mse: 0.2478\n",
      "Epoch 56/200\n",
      "7/7 [==============================] - 0s 5ms/sample - loss: 0.2502 - accuracy: 0.5714 - mse: 0.2502 - val_loss: 0.2472 - val_accuracy: 0.5000 - val_mse: 0.2472\n",
      "Epoch 57/200\n",
      "7/7 [==============================] - 0s 5ms/sample - loss: 0.2676 - accuracy: 0.4286 - mse: 0.2676 - val_loss: 0.2465 - val_accuracy: 0.5000 - val_mse: 0.2465\n",
      "Epoch 58/200\n",
      "7/7 [==============================] - 0s 5ms/sample - loss: 0.2625 - accuracy: 0.4286 - mse: 0.2625 - val_loss: 0.2460 - val_accuracy: 0.5000 - val_mse: 0.2460\n",
      "Epoch 59/200\n",
      "7/7 [==============================] - 0s 5ms/sample - loss: 0.2499 - accuracy: 0.5714 - mse: 0.2499 - val_loss: 0.2460 - val_accuracy: 0.5000 - val_mse: 0.2460\n",
      "Epoch 60/200\n",
      "7/7 [==============================] - 0s 5ms/sample - loss: 0.2282 - accuracy: 0.5714 - mse: 0.2282 - val_loss: 0.2461 - val_accuracy: 0.5000 - val_mse: 0.2461\n",
      "Epoch 61/200\n",
      "7/7 [==============================] - 0s 5ms/sample - loss: 0.2471 - accuracy: 0.4286 - mse: 0.2471 - val_loss: 0.2462 - val_accuracy: 0.5000 - val_mse: 0.2462\n",
      "Epoch 62/200\n",
      "7/7 [==============================] - 0s 5ms/sample - loss: 0.2745 - accuracy: 0.4286 - mse: 0.2745 - val_loss: 0.2468 - val_accuracy: 0.5000 - val_mse: 0.2468\n",
      "Epoch 63/200\n",
      "7/7 [==============================] - 0s 5ms/sample - loss: 0.2147 - accuracy: 0.5714 - mse: 0.2147 - val_loss: 0.2472 - val_accuracy: 0.5000 - val_mse: 0.2472\n",
      "Epoch 64/200\n",
      "7/7 [==============================] - 0s 5ms/sample - loss: 0.2080 - accuracy: 0.5714 - mse: 0.2080 - val_loss: 0.2478 - val_accuracy: 0.5000 - val_mse: 0.2478\n",
      "Epoch 65/200\n",
      "7/7 [==============================] - 0s 5ms/sample - loss: 0.2094 - accuracy: 0.7143 - mse: 0.2094 - val_loss: 0.2488 - val_accuracy: 0.5000 - val_mse: 0.2488\n",
      "Epoch 66/200\n",
      "7/7 [==============================] - 0s 5ms/sample - loss: 0.2217 - accuracy: 0.5714 - mse: 0.2217 - val_loss: 0.2499 - val_accuracy: 0.5000 - val_mse: 0.2499\n",
      "Epoch 67/200\n",
      "7/7 [==============================] - 0s 5ms/sample - loss: 0.2836 - accuracy: 0.1429 - mse: 0.2836 - val_loss: 0.2506 - val_accuracy: 0.5000 - val_mse: 0.2506\n",
      "Epoch 68/200\n",
      "7/7 [==============================] - 0s 5ms/sample - loss: 0.2468 - accuracy: 0.4286 - mse: 0.2468 - val_loss: 0.2508 - val_accuracy: 0.5000 - val_mse: 0.2508\n",
      "Epoch 69/200\n",
      "7/7 [==============================] - 0s 5ms/sample - loss: 0.2711 - accuracy: 0.5714 - mse: 0.2711 - val_loss: 0.2500 - val_accuracy: 0.5000 - val_mse: 0.2500\n",
      "Epoch 70/200\n",
      "7/7 [==============================] - 0s 5ms/sample - loss: 0.2326 - accuracy: 0.4286 - mse: 0.2326 - val_loss: 0.2491 - val_accuracy: 0.5000 - val_mse: 0.2491\n",
      "Epoch 71/200\n",
      "7/7 [==============================] - 0s 5ms/sample - loss: 0.2910 - accuracy: 0.5714 - mse: 0.2910 - val_loss: 0.2477 - val_accuracy: 0.5000 - val_mse: 0.2477\n",
      "Epoch 72/200\n",
      "7/7 [==============================] - 0s 5ms/sample - loss: 0.2891 - accuracy: 0.2857 - mse: 0.2891 - val_loss: 0.2460 - val_accuracy: 0.5000 - val_mse: 0.2460\n",
      "Epoch 73/200\n",
      "7/7 [==============================] - 0s 5ms/sample - loss: 0.2621 - accuracy: 0.5714 - mse: 0.2621 - val_loss: 0.2446 - val_accuracy: 0.5000 - val_mse: 0.2446\n",
      "Epoch 74/200\n",
      "7/7 [==============================] - 0s 5ms/sample - loss: 0.2239 - accuracy: 0.7143 - mse: 0.2239 - val_loss: 0.2436 - val_accuracy: 0.5000 - val_mse: 0.2436\n",
      "Epoch 75/200\n",
      "7/7 [==============================] - 0s 5ms/sample - loss: 0.2450 - accuracy: 0.5714 - mse: 0.2450 - val_loss: 0.2432 - val_accuracy: 0.5000 - val_mse: 0.2432\n",
      "Epoch 76/200\n",
      "7/7 [==============================] - 0s 5ms/sample - loss: 0.2006 - accuracy: 0.7143 - mse: 0.2006 - val_loss: 0.2430 - val_accuracy: 0.5000 - val_mse: 0.2430\n",
      "Epoch 77/200\n",
      "7/7 [==============================] - 0s 5ms/sample - loss: 0.2363 - accuracy: 0.5714 - mse: 0.2363 - val_loss: 0.2426 - val_accuracy: 0.5000 - val_mse: 0.2426\n",
      "Epoch 78/200\n",
      "7/7 [==============================] - 0s 5ms/sample - loss: 0.2369 - accuracy: 0.5714 - mse: 0.2369 - val_loss: 0.2425 - val_accuracy: 0.5000 - val_mse: 0.2425\n",
      "Epoch 79/200\n",
      "7/7 [==============================] - 0s 5ms/sample - loss: 0.2820 - accuracy: 0.4286 - mse: 0.2820 - val_loss: 0.2425 - val_accuracy: 0.5000 - val_mse: 0.2425\n",
      "Epoch 80/200\n",
      "7/7 [==============================] - 0s 5ms/sample - loss: 0.2620 - accuracy: 0.5714 - mse: 0.2620 - val_loss: 0.2417 - val_accuracy: 0.5000 - val_mse: 0.2417\n",
      "Epoch 81/200\n",
      "7/7 [==============================] - 0s 5ms/sample - loss: 0.2305 - accuracy: 0.5714 - mse: 0.2305 - val_loss: 0.2408 - val_accuracy: 0.5000 - val_mse: 0.2408\n",
      "Epoch 82/200\n",
      "7/7 [==============================] - 0s 5ms/sample - loss: 0.2241 - accuracy: 0.5714 - mse: 0.2241 - val_loss: 0.2403 - val_accuracy: 0.5000 - val_mse: 0.2403\n",
      "Epoch 83/200\n",
      "7/7 [==============================] - 0s 5ms/sample - loss: 0.2303 - accuracy: 0.7143 - mse: 0.2303 - val_loss: 0.2400 - val_accuracy: 0.5000 - val_mse: 0.2400\n",
      "Epoch 84/200\n",
      "7/7 [==============================] - 0s 5ms/sample - loss: 0.2633 - accuracy: 0.5714 - mse: 0.2633 - val_loss: 0.2395 - val_accuracy: 0.5000 - val_mse: 0.2395\n",
      "Epoch 85/200\n",
      "7/7 [==============================] - 0s 4ms/sample - loss: 0.2374 - accuracy: 0.5714 - mse: 0.2374 - val_loss: 0.2386 - val_accuracy: 0.5000 - val_mse: 0.2386\n",
      "Epoch 86/200\n",
      "7/7 [==============================] - 0s 5ms/sample - loss: 0.1973 - accuracy: 0.8571 - mse: 0.1973 - val_loss: 0.2385 - val_accuracy: 0.5000 - val_mse: 0.2385\n",
      "Epoch 87/200\n",
      "7/7 [==============================] - 0s 4ms/sample - loss: 0.2171 - accuracy: 0.5714 - mse: 0.2171 - val_loss: 0.2387 - val_accuracy: 0.5000 - val_mse: 0.2387\n",
      "Epoch 88/200\n",
      "7/7 [==============================] - 0s 4ms/sample - loss: 0.2710 - accuracy: 0.4286 - mse: 0.2710 - val_loss: 0.2384 - val_accuracy: 0.5000 - val_mse: 0.2384\n",
      "Epoch 89/200\n",
      "7/7 [==============================] - 0s 4ms/sample - loss: 0.2041 - accuracy: 0.8571 - mse: 0.2041 - val_loss: 0.2381 - val_accuracy: 0.5000 - val_mse: 0.2381\n",
      "Epoch 90/200\n",
      "7/7 [==============================] - 0s 5ms/sample - loss: 0.2420 - accuracy: 0.5714 - mse: 0.2420 - val_loss: 0.2377 - val_accuracy: 0.5000 - val_mse: 0.2377\n",
      "Epoch 91/200\n",
      "7/7 [==============================] - 0s 4ms/sample - loss: 0.2795 - accuracy: 0.4286 - mse: 0.2795 - val_loss: 0.2374 - val_accuracy: 0.5000 - val_mse: 0.2374\n",
      "Epoch 92/200\n",
      "7/7 [==============================] - 0s 5ms/sample - loss: 0.2410 - accuracy: 0.4286 - mse: 0.2410 - val_loss: 0.2368 - val_accuracy: 0.5000 - val_mse: 0.2368\n",
      "Epoch 93/200\n",
      "7/7 [==============================] - 0s 5ms/sample - loss: 0.2570 - accuracy: 0.5714 - mse: 0.2570 - val_loss: 0.2361 - val_accuracy: 0.5000 - val_mse: 0.2361\n",
      "Epoch 94/200\n",
      "7/7 [==============================] - 0s 5ms/sample - loss: 0.2584 - accuracy: 0.5714 - mse: 0.2584 - val_loss: 0.2355 - val_accuracy: 0.5000 - val_mse: 0.2355\n",
      "Epoch 95/200\n",
      "7/7 [==============================] - 0s 5ms/sample - loss: 0.2516 - accuracy: 0.5714 - mse: 0.2516 - val_loss: 0.2347 - val_accuracy: 0.5000 - val_mse: 0.2347\n",
      "Epoch 96/200\n",
      "7/7 [==============================] - 0s 4ms/sample - loss: 0.2497 - accuracy: 0.5714 - mse: 0.2497 - val_loss: 0.2341 - val_accuracy: 0.5000 - val_mse: 0.2341\n",
      "Epoch 97/200\n",
      "7/7 [==============================] - 0s 5ms/sample - loss: 0.2790 - accuracy: 0.2857 - mse: 0.2790 - val_loss: 0.2337 - val_accuracy: 0.5000 - val_mse: 0.2337\n",
      "Epoch 98/200\n",
      "7/7 [==============================] - 0s 4ms/sample - loss: 0.2746 - accuracy: 0.5714 - mse: 0.2746 - val_loss: 0.2332 - val_accuracy: 0.5000 - val_mse: 0.2332\n",
      "Epoch 99/200\n",
      "7/7 [==============================] - 0s 5ms/sample - loss: 0.2279 - accuracy: 0.5714 - mse: 0.2279 - val_loss: 0.2326 - val_accuracy: 0.5000 - val_mse: 0.2326\n",
      "Epoch 100/200\n",
      "7/7 [==============================] - 0s 5ms/sample - loss: 0.2921 - accuracy: 0.1429 - mse: 0.2921 - val_loss: 0.2319 - val_accuracy: 0.5000 - val_mse: 0.2319\n",
      "Epoch 101/200\n",
      "7/7 [==============================] - 0s 4ms/sample - loss: 0.2705 - accuracy: 0.4286 - mse: 0.2705 - val_loss: 0.2313 - val_accuracy: 0.5000 - val_mse: 0.2313\n",
      "Epoch 102/200\n",
      "7/7 [==============================] - 0s 4ms/sample - loss: 0.2306 - accuracy: 0.5714 - mse: 0.2306 - val_loss: 0.2308 - val_accuracy: 0.5000 - val_mse: 0.2308\n",
      "Epoch 103/200\n",
      "7/7 [==============================] - 0s 5ms/sample - loss: 0.2887 - accuracy: 0.4286 - mse: 0.2887 - val_loss: 0.2304 - val_accuracy: 0.5000 - val_mse: 0.2304\n",
      "Epoch 104/200\n",
      "7/7 [==============================] - 0s 5ms/sample - loss: 0.2606 - accuracy: 0.5714 - mse: 0.2606 - val_loss: 0.2302 - val_accuracy: 0.5000 - val_mse: 0.2302\n",
      "Epoch 105/200\n",
      "7/7 [==============================] - 0s 4ms/sample - loss: 0.2601 - accuracy: 0.4286 - mse: 0.2601 - val_loss: 0.2298 - val_accuracy: 0.5000 - val_mse: 0.2298\n",
      "Epoch 106/200\n",
      "7/7 [==============================] - 0s 5ms/sample - loss: 0.2524 - accuracy: 0.5714 - mse: 0.2524 - val_loss: 0.2291 - val_accuracy: 0.5000 - val_mse: 0.2291\n",
      "Epoch 107/200\n",
      "7/7 [==============================] - 0s 5ms/sample - loss: 0.2818 - accuracy: 0.4286 - mse: 0.2818 - val_loss: 0.2285 - val_accuracy: 0.5000 - val_mse: 0.2285\n",
      "Epoch 108/200\n",
      "7/7 [==============================] - 0s 5ms/sample - loss: 0.2158 - accuracy: 0.7143 - mse: 0.2158 - val_loss: 0.2281 - val_accuracy: 0.5000 - val_mse: 0.2281\n",
      "Epoch 109/200\n",
      "7/7 [==============================] - 0s 5ms/sample - loss: 0.2208 - accuracy: 0.7143 - mse: 0.2208 - val_loss: 0.2279 - val_accuracy: 0.5000 - val_mse: 0.2279\n",
      "Epoch 110/200\n",
      "7/7 [==============================] - 0s 5ms/sample - loss: 0.2361 - accuracy: 0.7143 - mse: 0.2361 - val_loss: 0.2278 - val_accuracy: 0.5000 - val_mse: 0.2278\n",
      "Epoch 111/200\n",
      "7/7 [==============================] - 0s 5ms/sample - loss: 0.2417 - accuracy: 0.5714 - mse: 0.2417 - val_loss: 0.2272 - val_accuracy: 0.5000 - val_mse: 0.2272\n",
      "Epoch 112/200\n",
      "7/7 [==============================] - 0s 5ms/sample - loss: 0.2305 - accuracy: 0.5714 - mse: 0.2305 - val_loss: 0.2266 - val_accuracy: 0.5000 - val_mse: 0.2266\n",
      "Epoch 113/200\n",
      "7/7 [==============================] - 0s 5ms/sample - loss: 0.2461 - accuracy: 0.5714 - mse: 0.2461 - val_loss: 0.2259 - val_accuracy: 0.5000 - val_mse: 0.2259\n",
      "Epoch 114/200\n",
      "7/7 [==============================] - 0s 5ms/sample - loss: 0.2688 - accuracy: 0.2857 - mse: 0.2688 - val_loss: 0.2254 - val_accuracy: 0.5000 - val_mse: 0.2254\n",
      "Epoch 115/200\n",
      "7/7 [==============================] - 0s 5ms/sample - loss: 0.2306 - accuracy: 0.7143 - mse: 0.2306 - val_loss: 0.2252 - val_accuracy: 0.5000 - val_mse: 0.2252\n",
      "Epoch 116/200\n",
      "7/7 [==============================] - 0s 5ms/sample - loss: 0.2163 - accuracy: 0.7143 - mse: 0.2163 - val_loss: 0.2256 - val_accuracy: 0.5000 - val_mse: 0.2256\n",
      "Epoch 117/200\n",
      "7/7 [==============================] - 0s 5ms/sample - loss: 0.2730 - accuracy: 0.4286 - mse: 0.2730 - val_loss: 0.2261 - val_accuracy: 0.5000 - val_mse: 0.2261\n",
      "Epoch 118/200\n",
      "7/7 [==============================] - 0s 5ms/sample - loss: 0.2243 - accuracy: 0.5714 - mse: 0.2243 - val_loss: 0.2258 - val_accuracy: 0.5000 - val_mse: 0.2258\n",
      "Epoch 119/200\n",
      "7/7 [==============================] - 0s 5ms/sample - loss: 0.2647 - accuracy: 0.4286 - mse: 0.2647 - val_loss: 0.2251 - val_accuracy: 0.5000 - val_mse: 0.2251\n",
      "Epoch 120/200\n",
      "7/7 [==============================] - 0s 5ms/sample - loss: 0.2226 - accuracy: 0.5714 - mse: 0.2226 - val_loss: 0.2241 - val_accuracy: 0.5000 - val_mse: 0.2241\n",
      "Epoch 121/200\n",
      "7/7 [==============================] - 0s 5ms/sample - loss: 0.2343 - accuracy: 0.5714 - mse: 0.2343 - val_loss: 0.2231 - val_accuracy: 0.5000 - val_mse: 0.2231\n",
      "Epoch 122/200\n",
      "7/7 [==============================] - 0s 5ms/sample - loss: 0.2604 - accuracy: 0.5714 - mse: 0.2604 - val_loss: 0.2221 - val_accuracy: 0.5000 - val_mse: 0.2221\n",
      "Epoch 123/200\n",
      "7/7 [==============================] - 0s 5ms/sample - loss: 0.2489 - accuracy: 0.5714 - mse: 0.2489 - val_loss: 0.2213 - val_accuracy: 0.5000 - val_mse: 0.2213\n",
      "Epoch 124/200\n",
      "7/7 [==============================] - 0s 5ms/sample - loss: 0.2457 - accuracy: 0.5714 - mse: 0.2457 - val_loss: 0.2204 - val_accuracy: 0.5000 - val_mse: 0.2204\n",
      "Epoch 125/200\n",
      "7/7 [==============================] - 0s 4ms/sample - loss: 0.2601 - accuracy: 0.5714 - mse: 0.2601 - val_loss: 0.2193 - val_accuracy: 0.7500 - val_mse: 0.2193\n",
      "Epoch 126/200\n",
      "7/7 [==============================] - 0s 5ms/sample - loss: 0.2583 - accuracy: 0.5714 - mse: 0.2583 - val_loss: 0.2186 - val_accuracy: 1.0000 - val_mse: 0.2186\n",
      "Epoch 127/200\n",
      "7/7 [==============================] - 0s 5ms/sample - loss: 0.2400 - accuracy: 0.5714 - mse: 0.2400 - val_loss: 0.2180 - val_accuracy: 1.0000 - val_mse: 0.2180\n",
      "Epoch 128/200\n",
      "7/7 [==============================] - 0s 5ms/sample - loss: 0.2434 - accuracy: 0.4286 - mse: 0.2434 - val_loss: 0.2176 - val_accuracy: 1.0000 - val_mse: 0.2176\n",
      "Epoch 129/200\n",
      "7/7 [==============================] - 0s 4ms/sample - loss: 0.2297 - accuracy: 0.5714 - mse: 0.2297 - val_loss: 0.2170 - val_accuracy: 1.0000 - val_mse: 0.2170\n",
      "Epoch 130/200\n",
      "7/7 [==============================] - 0s 5ms/sample - loss: 0.2793 - accuracy: 0.4286 - mse: 0.2793 - val_loss: 0.2164 - val_accuracy: 1.0000 - val_mse: 0.2164\n",
      "Epoch 131/200\n",
      "7/7 [==============================] - 0s 5ms/sample - loss: 0.2476 - accuracy: 0.4286 - mse: 0.2476 - val_loss: 0.2159 - val_accuracy: 1.0000 - val_mse: 0.2159\n",
      "Epoch 132/200\n",
      "7/7 [==============================] - 0s 4ms/sample - loss: 0.2380 - accuracy: 0.4286 - mse: 0.2380 - val_loss: 0.2153 - val_accuracy: 1.0000 - val_mse: 0.2153\n",
      "Epoch 133/200\n",
      "7/7 [==============================] - 0s 5ms/sample - loss: 0.2174 - accuracy: 0.7143 - mse: 0.2174 - val_loss: 0.2147 - val_accuracy: 1.0000 - val_mse: 0.2147\n",
      "Epoch 134/200\n",
      "7/7 [==============================] - 0s 5ms/sample - loss: 0.2718 - accuracy: 0.2857 - mse: 0.2718 - val_loss: 0.2141 - val_accuracy: 1.0000 - val_mse: 0.2141\n",
      "Epoch 135/200\n",
      "7/7 [==============================] - 0s 4ms/sample - loss: 0.2439 - accuracy: 0.5714 - mse: 0.2439 - val_loss: 0.2134 - val_accuracy: 1.0000 - val_mse: 0.2134\n",
      "Epoch 136/200\n",
      "7/7 [==============================] - 0s 4ms/sample - loss: 0.2430 - accuracy: 0.5714 - mse: 0.2430 - val_loss: 0.2129 - val_accuracy: 1.0000 - val_mse: 0.2129\n",
      "Epoch 137/200\n",
      "7/7 [==============================] - 0s 5ms/sample - loss: 0.2414 - accuracy: 0.5714 - mse: 0.2414 - val_loss: 0.2124 - val_accuracy: 1.0000 - val_mse: 0.2124\n",
      "Epoch 138/200\n",
      "7/7 [==============================] - 0s 4ms/sample - loss: 0.2361 - accuracy: 0.5714 - mse: 0.2361 - val_loss: 0.2120 - val_accuracy: 1.0000 - val_mse: 0.2120\n",
      "Epoch 139/200\n",
      "7/7 [==============================] - 0s 4ms/sample - loss: 0.2776 - accuracy: 0.5714 - mse: 0.2776 - val_loss: 0.2113 - val_accuracy: 1.0000 - val_mse: 0.2113\n",
      "Epoch 140/200\n",
      "7/7 [==============================] - 0s 4ms/sample - loss: 0.2408 - accuracy: 0.5714 - mse: 0.2408 - val_loss: 0.2106 - val_accuracy: 1.0000 - val_mse: 0.2106\n",
      "Epoch 141/200\n",
      "7/7 [==============================] - 0s 5ms/sample - loss: 0.2702 - accuracy: 0.5714 - mse: 0.2702 - val_loss: 0.2099 - val_accuracy: 1.0000 - val_mse: 0.2099\n",
      "Epoch 142/200\n",
      "7/7 [==============================] - 0s 5ms/sample - loss: 0.2663 - accuracy: 0.2857 - mse: 0.2663 - val_loss: 0.2091 - val_accuracy: 1.0000 - val_mse: 0.2091\n",
      "Epoch 143/200\n",
      "7/7 [==============================] - 0s 5ms/sample - loss: 0.2007 - accuracy: 0.8571 - mse: 0.2007 - val_loss: 0.2084 - val_accuracy: 1.0000 - val_mse: 0.2084\n",
      "Epoch 144/200\n",
      "7/7 [==============================] - 0s 5ms/sample - loss: 0.2343 - accuracy: 0.5714 - mse: 0.2343 - val_loss: 0.2079 - val_accuracy: 1.0000 - val_mse: 0.2079\n",
      "Epoch 145/200\n",
      "7/7 [==============================] - 0s 4ms/sample - loss: 0.2655 - accuracy: 0.5714 - mse: 0.2655 - val_loss: 0.2075 - val_accuracy: 1.0000 - val_mse: 0.2075\n",
      "Epoch 146/200\n",
      "7/7 [==============================] - 0s 5ms/sample - loss: 0.2442 - accuracy: 0.5714 - mse: 0.2442 - val_loss: 0.2071 - val_accuracy: 1.0000 - val_mse: 0.2071\n",
      "Epoch 147/200\n",
      "7/7 [==============================] - 0s 5ms/sample - loss: 0.2522 - accuracy: 0.4286 - mse: 0.2522 - val_loss: 0.2068 - val_accuracy: 1.0000 - val_mse: 0.2068\n",
      "Epoch 148/200\n",
      "7/7 [==============================] - 0s 5ms/sample - loss: 0.2094 - accuracy: 0.8571 - mse: 0.2094 - val_loss: 0.2065 - val_accuracy: 0.7500 - val_mse: 0.2065\n",
      "Epoch 149/200\n",
      "7/7 [==============================] - 0s 5ms/sample - loss: 0.2347 - accuracy: 0.4286 - mse: 0.2347 - val_loss: 0.2060 - val_accuracy: 0.7500 - val_mse: 0.2060\n",
      "Epoch 150/200\n",
      "7/7 [==============================] - 0s 4ms/sample - loss: 0.2719 - accuracy: 0.4286 - mse: 0.2719 - val_loss: 0.2051 - val_accuracy: 0.7500 - val_mse: 0.2051\n",
      "Epoch 151/200\n",
      "7/7 [==============================] - 0s 4ms/sample - loss: 0.2154 - accuracy: 0.5714 - mse: 0.2154 - val_loss: 0.2042 - val_accuracy: 1.0000 - val_mse: 0.2042\n",
      "Epoch 152/200\n",
      "7/7 [==============================] - 0s 5ms/sample - loss: 0.2567 - accuracy: 0.4286 - mse: 0.2567 - val_loss: 0.2033 - val_accuracy: 1.0000 - val_mse: 0.2033\n",
      "Epoch 153/200\n",
      "7/7 [==============================] - 0s 5ms/sample - loss: 0.2364 - accuracy: 0.5714 - mse: 0.2364 - val_loss: 0.2023 - val_accuracy: 1.0000 - val_mse: 0.2023\n",
      "Epoch 154/200\n",
      "7/7 [==============================] - 0s 4ms/sample - loss: 0.2452 - accuracy: 0.4286 - mse: 0.2452 - val_loss: 0.2015 - val_accuracy: 1.0000 - val_mse: 0.2015\n",
      "Epoch 155/200\n",
      "7/7 [==============================] - 0s 5ms/sample - loss: 0.2764 - accuracy: 0.5714 - mse: 0.2764 - val_loss: 0.2009 - val_accuracy: 1.0000 - val_mse: 0.2009\n",
      "Epoch 156/200\n",
      "7/7 [==============================] - 0s 4ms/sample - loss: 0.2236 - accuracy: 0.5714 - mse: 0.2236 - val_loss: 0.2004 - val_accuracy: 1.0000 - val_mse: 0.2004\n",
      "Epoch 157/200\n",
      "7/7 [==============================] - 0s 5ms/sample - loss: 0.2244 - accuracy: 0.7143 - mse: 0.2244 - val_loss: 0.1997 - val_accuracy: 1.0000 - val_mse: 0.1997\n",
      "Epoch 158/200\n",
      "7/7 [==============================] - 0s 5ms/sample - loss: 0.2381 - accuracy: 0.5714 - mse: 0.2381 - val_loss: 0.1990 - val_accuracy: 1.0000 - val_mse: 0.1990\n",
      "Epoch 159/200\n",
      "7/7 [==============================] - 0s 5ms/sample - loss: 0.2008 - accuracy: 0.8571 - mse: 0.2008 - val_loss: 0.1985 - val_accuracy: 1.0000 - val_mse: 0.1985\n",
      "Epoch 160/200\n",
      "7/7 [==============================] - 0s 5ms/sample - loss: 0.2375 - accuracy: 0.5714 - mse: 0.2375 - val_loss: 0.1982 - val_accuracy: 1.0000 - val_mse: 0.1982\n",
      "Epoch 161/200\n",
      "7/7 [==============================] - 0s 5ms/sample - loss: 0.2021 - accuracy: 0.7143 - mse: 0.2021 - val_loss: 0.1978 - val_accuracy: 0.7500 - val_mse: 0.1978\n",
      "Epoch 162/200\n",
      "7/7 [==============================] - 0s 5ms/sample - loss: 0.2221 - accuracy: 0.5714 - mse: 0.2221 - val_loss: 0.1971 - val_accuracy: 1.0000 - val_mse: 0.1971\n",
      "Epoch 163/200\n",
      "7/7 [==============================] - 0s 5ms/sample - loss: 0.2297 - accuracy: 0.4286 - mse: 0.2297 - val_loss: 0.1963 - val_accuracy: 1.0000 - val_mse: 0.1963\n",
      "Epoch 164/200\n",
      "7/7 [==============================] - 0s 4ms/sample - loss: 0.2015 - accuracy: 0.5714 - mse: 0.2015 - val_loss: 0.1955 - val_accuracy: 1.0000 - val_mse: 0.1955\n",
      "Epoch 165/200\n",
      "7/7 [==============================] - 0s 5ms/sample - loss: 0.2603 - accuracy: 0.4286 - mse: 0.2603 - val_loss: 0.1945 - val_accuracy: 1.0000 - val_mse: 0.1945\n",
      "Epoch 166/200\n",
      "7/7 [==============================] - 0s 5ms/sample - loss: 0.2381 - accuracy: 0.5714 - mse: 0.2381 - val_loss: 0.1934 - val_accuracy: 1.0000 - val_mse: 0.1934\n",
      "Epoch 167/200\n",
      "7/7 [==============================] - 0s 5ms/sample - loss: 0.2513 - accuracy: 0.5714 - mse: 0.2513 - val_loss: 0.1926 - val_accuracy: 1.0000 - val_mse: 0.1926\n",
      "Epoch 168/200\n",
      "7/7 [==============================] - 0s 5ms/sample - loss: 0.2112 - accuracy: 0.5714 - mse: 0.2112 - val_loss: 0.1920 - val_accuracy: 1.0000 - val_mse: 0.1920\n",
      "Epoch 169/200\n",
      "7/7 [==============================] - 0s 5ms/sample - loss: 0.2161 - accuracy: 0.5714 - mse: 0.2161 - val_loss: 0.1912 - val_accuracy: 1.0000 - val_mse: 0.1912\n",
      "Epoch 170/200\n",
      "7/7 [==============================] - 0s 4ms/sample - loss: 0.1998 - accuracy: 0.7143 - mse: 0.1998 - val_loss: 0.1904 - val_accuracy: 1.0000 - val_mse: 0.1904\n",
      "Epoch 171/200\n",
      "7/7 [==============================] - 0s 4ms/sample - loss: 0.2737 - accuracy: 0.7143 - mse: 0.2737 - val_loss: 0.1898 - val_accuracy: 1.0000 - val_mse: 0.1898\n",
      "Epoch 172/200\n",
      "7/7 [==============================] - 0s 4ms/sample - loss: 0.2388 - accuracy: 0.5714 - mse: 0.2388 - val_loss: 0.1892 - val_accuracy: 1.0000 - val_mse: 0.1892\n",
      "Epoch 173/200\n",
      "7/7 [==============================] - 0s 5ms/sample - loss: 0.2275 - accuracy: 0.5714 - mse: 0.2275 - val_loss: 0.1884 - val_accuracy: 1.0000 - val_mse: 0.1884\n",
      "Epoch 174/200\n",
      "7/7 [==============================] - 0s 5ms/sample - loss: 0.1780 - accuracy: 0.7143 - mse: 0.1780 - val_loss: 0.1876 - val_accuracy: 1.0000 - val_mse: 0.1876\n",
      "Epoch 175/200\n",
      "7/7 [==============================] - 0s 4ms/sample - loss: 0.2050 - accuracy: 0.5714 - mse: 0.2050 - val_loss: 0.1868 - val_accuracy: 1.0000 - val_mse: 0.1868\n",
      "Epoch 176/200\n",
      "7/7 [==============================] - 0s 5ms/sample - loss: 0.2684 - accuracy: 0.4286 - mse: 0.2684 - val_loss: 0.1859 - val_accuracy: 1.0000 - val_mse: 0.1859\n",
      "Epoch 177/200\n",
      "7/7 [==============================] - 0s 5ms/sample - loss: 0.2597 - accuracy: 0.4286 - mse: 0.2597 - val_loss: 0.1851 - val_accuracy: 1.0000 - val_mse: 0.1851\n",
      "Epoch 178/200\n",
      "7/7 [==============================] - 0s 4ms/sample - loss: 0.2035 - accuracy: 0.7143 - mse: 0.2035 - val_loss: 0.1845 - val_accuracy: 1.0000 - val_mse: 0.1845\n",
      "Epoch 179/200\n",
      "7/7 [==============================] - 0s 5ms/sample - loss: 0.2373 - accuracy: 0.4286 - mse: 0.2373 - val_loss: 0.1838 - val_accuracy: 1.0000 - val_mse: 0.1838\n",
      "Epoch 180/200\n",
      "7/7 [==============================] - 0s 5ms/sample - loss: 0.1898 - accuracy: 0.8571 - mse: 0.1898 - val_loss: 0.1831 - val_accuracy: 1.0000 - val_mse: 0.1831\n",
      "Epoch 181/200\n",
      "7/7 [==============================] - 0s 6ms/sample - loss: 0.1872 - accuracy: 0.7143 - mse: 0.1872 - val_loss: 0.1823 - val_accuracy: 1.0000 - val_mse: 0.1823\n",
      "Epoch 182/200\n",
      "7/7 [==============================] - 0s 5ms/sample - loss: 0.1946 - accuracy: 0.7143 - mse: 0.1946 - val_loss: 0.1816 - val_accuracy: 1.0000 - val_mse: 0.1816\n",
      "Epoch 183/200\n",
      "7/7 [==============================] - 0s 4ms/sample - loss: 0.2444 - accuracy: 0.4286 - mse: 0.2444 - val_loss: 0.1808 - val_accuracy: 1.0000 - val_mse: 0.1808\n",
      "Epoch 184/200\n",
      "7/7 [==============================] - 0s 5ms/sample - loss: 0.2520 - accuracy: 0.5714 - mse: 0.2520 - val_loss: 0.1800 - val_accuracy: 1.0000 - val_mse: 0.1800\n",
      "Epoch 185/200\n",
      "7/7 [==============================] - 0s 4ms/sample - loss: 0.2739 - accuracy: 0.1429 - mse: 0.2739 - val_loss: 0.1794 - val_accuracy: 1.0000 - val_mse: 0.1794\n",
      "Epoch 186/200\n",
      "7/7 [==============================] - 0s 5ms/sample - loss: 0.1900 - accuracy: 0.8571 - mse: 0.1900 - val_loss: 0.1785 - val_accuracy: 1.0000 - val_mse: 0.1785\n",
      "Epoch 187/200\n",
      "7/7 [==============================] - 0s 4ms/sample - loss: 0.2139 - accuracy: 0.5714 - mse: 0.2139 - val_loss: 0.1776 - val_accuracy: 1.0000 - val_mse: 0.1776\n",
      "Epoch 188/200\n",
      "7/7 [==============================] - 0s 5ms/sample - loss: 0.2200 - accuracy: 0.7143 - mse: 0.2200 - val_loss: 0.1768 - val_accuracy: 1.0000 - val_mse: 0.1768\n",
      "Epoch 189/200\n",
      "7/7 [==============================] - 0s 4ms/sample - loss: 0.2374 - accuracy: 0.7143 - mse: 0.2374 - val_loss: 0.1767 - val_accuracy: 1.0000 - val_mse: 0.1767\n",
      "Epoch 190/200\n",
      "7/7 [==============================] - 0s 5ms/sample - loss: 0.2341 - accuracy: 0.7143 - mse: 0.2341 - val_loss: 0.1764 - val_accuracy: 1.0000 - val_mse: 0.1764\n",
      "Epoch 191/200\n",
      "7/7 [==============================] - 0s 5ms/sample - loss: 0.2195 - accuracy: 0.5714 - mse: 0.2195 - val_loss: 0.1757 - val_accuracy: 1.0000 - val_mse: 0.1757\n",
      "Epoch 192/200\n",
      "7/7 [==============================] - 0s 4ms/sample - loss: 0.2548 - accuracy: 0.5714 - mse: 0.2548 - val_loss: 0.1750 - val_accuracy: 1.0000 - val_mse: 0.1750\n",
      "Epoch 193/200\n",
      "7/7 [==============================] - 0s 5ms/sample - loss: 0.2427 - accuracy: 0.4286 - mse: 0.2427 - val_loss: 0.1744 - val_accuracy: 1.0000 - val_mse: 0.1744\n",
      "Epoch 194/200\n",
      "7/7 [==============================] - 0s 4ms/sample - loss: 0.2320 - accuracy: 0.4286 - mse: 0.2320 - val_loss: 0.1739 - val_accuracy: 1.0000 - val_mse: 0.1739\n",
      "Epoch 195/200\n",
      "7/7 [==============================] - 0s 5ms/sample - loss: 0.1867 - accuracy: 0.7143 - mse: 0.1867 - val_loss: 0.1733 - val_accuracy: 1.0000 - val_mse: 0.1733\n",
      "Epoch 196/200\n",
      "7/7 [==============================] - 0s 4ms/sample - loss: 0.2204 - accuracy: 0.7143 - mse: 0.2204 - val_loss: 0.1725 - val_accuracy: 1.0000 - val_mse: 0.1725\n",
      "Epoch 197/200\n",
      "7/7 [==============================] - 0s 4ms/sample - loss: 0.2308 - accuracy: 0.5714 - mse: 0.2308 - val_loss: 0.1717 - val_accuracy: 1.0000 - val_mse: 0.1717\n",
      "Epoch 198/200\n",
      "7/7 [==============================] - 0s 5ms/sample - loss: 0.1897 - accuracy: 0.5714 - mse: 0.1897 - val_loss: 0.1710 - val_accuracy: 1.0000 - val_mse: 0.1710\n",
      "Epoch 199/200\n",
      "7/7 [==============================] - 0s 4ms/sample - loss: 0.2516 - accuracy: 0.5714 - mse: 0.2516 - val_loss: 0.1704 - val_accuracy: 1.0000 - val_mse: 0.1704\n",
      "Epoch 200/200\n",
      "7/7 [==============================] - 0s 4ms/sample - loss: 0.2499 - accuracy: 0.5714 - mse: 0.2499 - val_loss: 0.1699 - val_accuracy: 1.0000 - val_mse: 0.1699\n"
     ]
    }
   ],
   "source": [
    "# Train the model\n",
    "# Use at least 10 epochs\n",
    "# Do not shuffle the data\n",
    "# Experiement with the batch size, but a smaller batch size is recommended\n",
    "\n",
    "training_history = model.fit(\n",
    "    X_train, \n",
    "    y_train, \n",
    "    validation_data=(X_val, y_val),\n",
    "    epochs=200,\n",
    "    shuffle=False, \n",
    "    batch_size=1, \n",
    "    verbose=1) "
   ]
  },
  {
   "cell_type": "code",
   "execution_count": 454,
   "metadata": {},
   "outputs": [
    {
     "name": "stdout",
     "output_type": "stream",
     "text": [
      "\n",
      " Evaluate on test data for 5-minute rolling positive prices sentiments:\n",
      "\n",
      " For unshuffled valuation, test loss on LSTM RNN is Loss: 0.2632, Accuracy: 0.5000.\n"
     ]
    }
   ],
   "source": [
    "# Evaluate the model on the test data using `evaluate`\n",
    "print(f'\\n Evaluate on test data for 5-minute rolling positive prices sentiments:')\n",
    "model_loss, model_accuracy, model_mse = model.evaluate(X_test, y_test, verbose=0)\n",
    "print(f'\\n For unshuffled valuation, test loss on LSTM RNN is Loss: {model_loss:,.4f}, Accuracy: {model_accuracy:,.4f}.')\n"
   ]
  },
  {
   "cell_type": "code",
   "execution_count": 455,
   "metadata": {},
   "outputs": [],
   "source": [
    "# Make some predictions\n",
    "# Make predictions using the testing data X_test\n",
    "predicted = model.predict(X_test)"
   ]
  },
  {
   "cell_type": "code",
   "execution_count": 456,
   "metadata": {},
   "outputs": [],
   "source": [
    "# Recover the original prices instead of the scaled version\n",
    "real = y_test"
   ]
  },
  {
   "cell_type": "code",
   "execution_count": 457,
   "metadata": {},
   "outputs": [
    {
     "data": {
      "text/html": [
       "<div>\n",
       "<style scoped>\n",
       "    .dataframe tbody tr th:only-of-type {\n",
       "        vertical-align: middle;\n",
       "    }\n",
       "\n",
       "    .dataframe tbody tr th {\n",
       "        vertical-align: top;\n",
       "    }\n",
       "\n",
       "    .dataframe thead th {\n",
       "        text-align: right;\n",
       "    }\n",
       "</style>\n",
       "<table border=\"1\" class=\"dataframe\">\n",
       "  <thead>\n",
       "    <tr style=\"text-align: right;\">\n",
       "      <th></th>\n",
       "      <th>Real</th>\n",
       "      <th>Predicted</th>\n",
       "    </tr>\n",
       "  </thead>\n",
       "  <tbody>\n",
       "    <tr>\n",
       "      <th>0</th>\n",
       "      <td>0.0</td>\n",
       "      <td>0.514826</td>\n",
       "    </tr>\n",
       "    <tr>\n",
       "      <th>1</th>\n",
       "      <td>1.0</td>\n",
       "      <td>0.426513</td>\n",
       "    </tr>\n",
       "    <tr>\n",
       "      <th>2</th>\n",
       "      <td>0.0</td>\n",
       "      <td>0.437223</td>\n",
       "    </tr>\n",
       "    <tr>\n",
       "      <th>3</th>\n",
       "      <td>0.0</td>\n",
       "      <td>0.419520</td>\n",
       "    </tr>\n",
       "    <tr>\n",
       "      <th>4</th>\n",
       "      <td>1.0</td>\n",
       "      <td>0.653451</td>\n",
       "    </tr>\n",
       "    <tr>\n",
       "      <th>5</th>\n",
       "      <td>0.0</td>\n",
       "      <td>0.705761</td>\n",
       "    </tr>\n",
       "  </tbody>\n",
       "</table>\n",
       "</div>"
      ],
      "text/plain": [
       "   Real  Predicted\n",
       "0   0.0   0.514826\n",
       "1   1.0   0.426513\n",
       "2   0.0   0.437223\n",
       "3   0.0   0.419520\n",
       "4   1.0   0.653451\n",
       "5   0.0   0.705761"
      ]
     },
     "execution_count": 457,
     "metadata": {},
     "output_type": "execute_result"
    }
   ],
   "source": [
    "# Create a DataFrame of Real and Predicted values\n",
    "positive_sentiments = pd.DataFrame({\n",
    "    \"Real\": real.ravel(),\n",
    "    \"Predicted\": predicted.ravel()\n",
    "})\n",
    "positive_sentiments"
   ]
  },
  {
   "cell_type": "code",
   "execution_count": 458,
   "metadata": {},
   "outputs": [
    {
     "data": {
      "text/html": [
       "<div>\n",
       "<style scoped>\n",
       "    .dataframe tbody tr th:only-of-type {\n",
       "        vertical-align: middle;\n",
       "    }\n",
       "\n",
       "    .dataframe tbody tr th {\n",
       "        vertical-align: top;\n",
       "    }\n",
       "\n",
       "    .dataframe thead th {\n",
       "        text-align: right;\n",
       "    }\n",
       "</style>\n",
       "<table border=\"1\" class=\"dataframe\">\n",
       "  <thead>\n",
       "    <tr style=\"text-align: right;\">\n",
       "      <th></th>\n",
       "      <th>Real</th>\n",
       "      <th>Predicted</th>\n",
       "    </tr>\n",
       "  </thead>\n",
       "  <tbody>\n",
       "    <tr>\n",
       "      <th>0</th>\n",
       "      <td>0.0</td>\n",
       "      <td>1.0</td>\n",
       "    </tr>\n",
       "    <tr>\n",
       "      <th>1</th>\n",
       "      <td>1.0</td>\n",
       "      <td>0.0</td>\n",
       "    </tr>\n",
       "    <tr>\n",
       "      <th>2</th>\n",
       "      <td>0.0</td>\n",
       "      <td>0.0</td>\n",
       "    </tr>\n",
       "    <tr>\n",
       "      <th>3</th>\n",
       "      <td>0.0</td>\n",
       "      <td>0.0</td>\n",
       "    </tr>\n",
       "    <tr>\n",
       "      <th>4</th>\n",
       "      <td>1.0</td>\n",
       "      <td>1.0</td>\n",
       "    </tr>\n",
       "    <tr>\n",
       "      <th>5</th>\n",
       "      <td>0.0</td>\n",
       "      <td>1.0</td>\n",
       "    </tr>\n",
       "  </tbody>\n",
       "</table>\n",
       "</div>"
      ],
      "text/plain": [
       "   Real  Predicted\n",
       "0   0.0        1.0\n",
       "1   1.0        0.0\n",
       "2   0.0        0.0\n",
       "3   0.0        0.0\n",
       "4   1.0        1.0\n",
       "5   0.0        1.0"
      ]
     },
     "execution_count": 458,
     "metadata": {},
     "output_type": "execute_result"
    }
   ],
   "source": [
    "# Transform Predicted column\n",
    "def changePredicted(predicted):\n",
    "    if predicted >= 0.5:\n",
    "        return 1.0\n",
    "    else:\n",
    "        return 0.0\n",
    "\n",
    "positive_sentiments[\"Predicted\"] = positive_sentiments[\"Predicted\"].apply(changePredicted)\n",
    "positive_sentiments"
   ]
  },
  {
   "cell_type": "code",
   "execution_count": 459,
   "metadata": {},
   "outputs": [
    {
     "data": {
      "text/plain": [
       "<Figure size 432x288 with 0 Axes>"
      ]
     },
     "metadata": {},
     "output_type": "display_data"
    },
    {
     "data": {
      "image/png": "[encoded data removed]",
      "text/plain": [
       "<Figure size 432x288 with 1 Axes>"
      ]
     },
     "metadata": {
      "needs_background": "light"
     },
     "output_type": "display_data"
    }
   ],
   "source": [
    "# Plot the real vs predicted values as a line chart\n",
    "import matplotlib.pyplot as plt\n",
    "import matplotlib\n",
    "import matplotlib.pyplot as plt\n",
    "plt.figure()\n",
    "positive_sentiments.plot(title=f\"Real Vs. Predicted {ticker} {window_size}-Day Move on Positive News\")\n",
    "plt.savefig(f'../Images/{ticker}_positive_lstm.png')\n",
    "plt.show()"
   ]
  },
  {
   "cell_type": "code",
   "execution_count": 460,
   "metadata": {},
   "outputs": [
    {
     "data": {
      "text/plain": [
       "<Figure size 432x288 with 0 Axes>"
      ]
     },
     "metadata": {},
     "output_type": "display_data"
    },
    {
     "data": {
      "image/png": "[encoded data removed]",
      "text/plain": [
       "<Figure size 432x288 with 1 Axes>"
      ]
     },
     "metadata": {
      "needs_background": "light"
     },
     "output_type": "display_data"
    }
   ],
   "source": [
    "# Plotting loss\n",
    "epochs = 200\n",
    "loss_df = pd.DataFrame(\n",
    "    {\n",
    "        \"Epoch\": range(1, epochs+1),\n",
    "        \"Train\": training_history.history[\"loss\"],\n",
    "        \"Val\": training_history.history[\"val_loss\"],\n",
    "    }\n",
    ")\n",
    "loss_df.set_index(\"Epoch\", inplace=True)\n",
    "\n",
    "plt.figure()\n",
    "loss_df.plot(title=f\"Loss on LSTM {window_size}-Day Move for {ticker} on Positive News\")\n",
    "plt.savefig(f'../Images/{ticker}_loss_positive_sentiments_lstm.png')\n",
    "plt.show()"
   ]
  },
  {
   "cell_type": "code",
   "execution_count": 461,
   "metadata": {},
   "outputs": [],
   "source": [
    "import h5py\n",
    "\n",
    "model.save(f'../Models/{ticker}_lstm_loss_positive.h5')  # creates a HDF5 file 'my_model.h5'\n",
    "del model  # deletes the existing model"
   ]
  },
  {
   "cell_type": "code",
   "execution_count": 462,
   "metadata": {},
   "outputs": [],
   "source": [
    "from keras.models import load_model\n",
    "import tensorflow as tf\n",
    "from tensorflow import keras\n",
    "# returns a compiled model\n",
    "# identical to the previous one\n",
    "#model = tf.keras.models.load_model(f'../Models/{ticker}_lstm_loss_positive.h5')"
   ]
  },
  {
   "cell_type": "markdown",
   "metadata": {},
   "source": [
    "_**Column index 2 is the `Negative` column**_"
   ]
  },
  {
   "cell_type": "code",
   "execution_count": 463,
   "metadata": {},
   "outputs": [],
   "source": [
    "feature_column_neg = 2\n",
    "target_column = 9   # this is 5 if using DIS_clean\n",
    "X, y = window_data(dis, window_size, feature_column_neg, target_column)"
   ]
  },
  {
   "cell_type": "code",
   "execution_count": 464,
   "metadata": {},
   "outputs": [],
   "source": [
    "# Apply One-hot encoding to the target labels\n",
    "enc = OneHotEncoder()\n",
    "enc.fit(y)\n",
    "y = enc.transform(y).toarray()[:,0]\n",
    "y = np.array(y).reshape(-1,1)"
   ]
  },
  {
   "cell_type": "code",
   "execution_count": 465,
   "metadata": {},
   "outputs": [],
   "source": [
    "# Use 70% of the data for training and the remaineder for testing\n",
    "split = int(0.7 * len(X))\n",
    "X_train = X[: split - 1]\n",
    "X_test = X[split:]\n",
    "y_train = y[: split - 1]\n",
    "y_test = y[split:]"
   ]
  },
  {
   "cell_type": "code",
   "execution_count": 466,
   "metadata": {},
   "outputs": [],
   "source": [
    "# Use the MinMaxScaler to scale data between 0 and 1.\n",
    "from sklearn.preprocessing import MinMaxScaler\n",
    "\n",
    "scaler = MinMaxScaler()\n",
    "scaler.fit(X)\n",
    "X_train = scaler.transform(X_train)\n",
    "X_test = scaler.transform(X_test)"
   ]
  },
  {
   "cell_type": "code",
   "execution_count": 467,
   "metadata": {},
   "outputs": [
    {
     "name": "stdout",
     "output_type": "stream",
     "text": [
      "X_train sample values:\n",
      "[[[0.23880597]]] \n",
      "\n",
      "X_test sample values:\n",
      "[[[0.41791045]]]\n"
     ]
    }
   ],
   "source": [
    "# Reshape the features for the model\n",
    "X_train = X_train.reshape((X_train.shape[0], X_train.shape[1], 1))\n",
    "X_test = X_test.reshape((X_test.shape[0], X_test.shape[1], 1))\n",
    "print (f\"X_train sample values:\\n{X_train[:1]} \\n\")\n",
    "print (f\"X_test sample values:\\n{X_test[:1]}\")"
   ]
  },
  {
   "cell_type": "code",
   "execution_count": 468,
   "metadata": {},
   "outputs": [
    {
     "name": "stdout",
     "output_type": "stream",
     "text": [
      "y_train sample values:\n",
      "[[1.]] \n",
      "\n",
      "y_test sample values:\n",
      "[[0.]]\n"
     ]
    }
   ],
   "source": [
    "print (f\"y_train sample values:\\n{y_train[:1]} \\n\")\n",
    "print (f\"y_test sample values:\\n{y_test[:1]}\")"
   ]
  },
  {
   "cell_type": "markdown",
   "metadata": {},
   "source": [
    "#### _**Build and Train the LSTM RNN**_"
   ]
  },
  {
   "cell_type": "code",
   "execution_count": 469,
   "metadata": {},
   "outputs": [],
   "source": [
    "from tensorflow.keras.models import Sequential\n",
    "from tensorflow.keras.layers import LSTM, Dense, Dropout"
   ]
  },
  {
   "cell_type": "code",
   "execution_count": 470,
   "metadata": {},
   "outputs": [],
   "source": [
    "# Build the LSTM model. \n",
    "# The return sequences need to be set to True if you are adding additional LSTM layers, but \n",
    "# You don't have to do this for the final layer. \n",
    "# Define the LSTM RNN model.\n",
    "\n",
    "model = Sequential()\n",
    "\n",
    "# Initial model setup\n",
    "number_units = 20\n",
    "dropout_fraction = 0.1\n",
    "\n",
    "# Layer 1\n",
    "model.add(LSTM(\n",
    "    units=number_units,\n",
    "    return_sequences=True,\n",
    "    input_shape=(X_train.shape[1], 1))\n",
    "    )\n",
    "model.add(Dropout(dropout_fraction))\n",
    "\n",
    "# Layer 2\n",
    "model.add(LSTM(units=number_units, activation='sigmoid', return_sequences=True))\n",
    "model.add(Dropout(dropout_fraction))\n",
    "\n",
    "# Layer 3\n",
    "model.add(LSTM(units=number_units))\n",
    "model.add(Dropout(dropout_fraction))\n",
    "\n",
    "# Output layer\n",
    "model.add(Dense(1))"
   ]
  },
  {
   "cell_type": "code",
   "execution_count": 471,
   "metadata": {},
   "outputs": [],
   "source": [
    "# Compile the model\n",
    "model.compile(optimizer=\"adam\", \n",
    "              metrics=[\"accuracy\", \"mse\"],\n",
    "              loss=\"mean_squared_error\") "
   ]
  },
  {
   "cell_type": "code",
   "execution_count": 472,
   "metadata": {},
   "outputs": [],
   "source": [
    "# Creating validation data sets\n",
    "from sklearn.model_selection import train_test_split\n",
    "X_train, X_val, y_train, y_val = train_test_split(X_train, y_train, test_size = 0.3, shuffle=False) "
   ]
  },
  {
   "cell_type": "code",
   "execution_count": 473,
   "metadata": {},
   "outputs": [
    {
     "name": "stdout",
     "output_type": "stream",
     "text": [
      "Train on 7 samples, validate on 4 samples\n",
      "Epoch 1/200\n",
      "7/7 [==============================] - 3s 468ms/sample - loss: 0.4978 - accuracy: 0.4286 - mse: 0.4978 - val_loss: 0.4141 - val_accuracy: 0.5000 - val_mse: 0.4141\n",
      "Epoch 2/200\n",
      "7/7 [==============================] - 0s 5ms/sample - loss: 0.4525 - accuracy: 0.4286 - mse: 0.4525 - val_loss: 0.3796 - val_accuracy: 0.5000 - val_mse: 0.3796\n",
      "Epoch 3/200\n",
      "7/7 [==============================] - 0s 5ms/sample - loss: 0.4292 - accuracy: 0.4286 - mse: 0.4292 - val_loss: 0.3514 - val_accuracy: 0.5000 - val_mse: 0.3514\n",
      "Epoch 4/200\n",
      "7/7 [==============================] - 0s 5ms/sample - loss: 0.3796 - accuracy: 0.4286 - mse: 0.3796 - val_loss: 0.3271 - val_accuracy: 0.5000 - val_mse: 0.3271\n",
      "Epoch 5/200\n",
      "7/7 [==============================] - 0s 5ms/sample - loss: 0.3944 - accuracy: 0.4286 - mse: 0.3944 - val_loss: 0.3070 - val_accuracy: 0.5000 - val_mse: 0.3070\n",
      "Epoch 6/200\n",
      "7/7 [==============================] - 0s 5ms/sample - loss: 0.3270 - accuracy: 0.4286 - mse: 0.3270 - val_loss: 0.2903 - val_accuracy: 0.5000 - val_mse: 0.2903\n",
      "Epoch 7/200\n",
      "7/7 [==============================] - 0s 5ms/sample - loss: 0.3288 - accuracy: 0.4286 - mse: 0.3288 - val_loss: 0.2772 - val_accuracy: 0.5000 - val_mse: 0.2772\n",
      "Epoch 8/200\n",
      "7/7 [==============================] - 0s 6ms/sample - loss: 0.2815 - accuracy: 0.4286 - mse: 0.2815 - val_loss: 0.2669 - val_accuracy: 0.5000 - val_mse: 0.2669\n",
      "Epoch 9/200\n",
      "7/7 [==============================] - 0s 6ms/sample - loss: 0.2794 - accuracy: 0.4286 - mse: 0.2794 - val_loss: 0.2589 - val_accuracy: 0.5000 - val_mse: 0.2589\n",
      "Epoch 10/200\n",
      "7/7 [==============================] - 0s 6ms/sample - loss: 0.3010 - accuracy: 0.4286 - mse: 0.3010 - val_loss: 0.2537 - val_accuracy: 0.5000 - val_mse: 0.2537\n",
      "Epoch 11/200\n",
      "7/7 [==============================] - 0s 5ms/sample - loss: 0.2580 - accuracy: 0.4286 - mse: 0.2580 - val_loss: 0.2509 - val_accuracy: 0.5000 - val_mse: 0.2509\n",
      "Epoch 12/200\n",
      "7/7 [==============================] - 0s 5ms/sample - loss: 0.2731 - accuracy: 0.2857 - mse: 0.2731 - val_loss: 0.2496 - val_accuracy: 0.5000 - val_mse: 0.2496\n",
      "Epoch 13/200\n",
      "7/7 [==============================] - 0s 5ms/sample - loss: 0.2123 - accuracy: 0.7143 - mse: 0.2123 - val_loss: 0.2494 - val_accuracy: 0.5000 - val_mse: 0.2494\n",
      "Epoch 14/200\n",
      "7/7 [==============================] - 0s 5ms/sample - loss: 0.2278 - accuracy: 0.7143 - mse: 0.2278 - val_loss: 0.2498 - val_accuracy: 0.5000 - val_mse: 0.2498\n",
      "Epoch 15/200\n",
      "7/7 [==============================] - 0s 5ms/sample - loss: 0.2815 - accuracy: 0.2857 - mse: 0.2815 - val_loss: 0.2507 - val_accuracy: 0.5000 - val_mse: 0.2507\n",
      "Epoch 16/200\n",
      "7/7 [==============================] - 0s 5ms/sample - loss: 0.2943 - accuracy: 0.4286 - mse: 0.2943 - val_loss: 0.2513 - val_accuracy: 0.5000 - val_mse: 0.2513\n",
      "Epoch 17/200\n",
      "7/7 [==============================] - 0s 5ms/sample - loss: 0.2897 - accuracy: 0.4286 - mse: 0.2897 - val_loss: 0.2518 - val_accuracy: 0.5000 - val_mse: 0.2518\n",
      "Epoch 18/200\n",
      "7/7 [==============================] - 0s 5ms/sample - loss: 0.2286 - accuracy: 0.5714 - mse: 0.2286 - val_loss: 0.2521 - val_accuracy: 0.5000 - val_mse: 0.2521\n",
      "Epoch 19/200\n",
      "7/7 [==============================] - 0s 5ms/sample - loss: 0.2511 - accuracy: 0.5714 - mse: 0.2511 - val_loss: 0.2523 - val_accuracy: 0.5000 - val_mse: 0.2523\n",
      "Epoch 20/200\n",
      "7/7 [==============================] - 0s 5ms/sample - loss: 0.2383 - accuracy: 0.5714 - mse: 0.2383 - val_loss: 0.2525 - val_accuracy: 0.5000 - val_mse: 0.2525\n",
      "Epoch 21/200\n",
      "7/7 [==============================] - 0s 5ms/sample - loss: 0.2557 - accuracy: 0.4286 - mse: 0.2557 - val_loss: 0.2527 - val_accuracy: 0.5000 - val_mse: 0.2527\n",
      "Epoch 22/200\n",
      "7/7 [==============================] - 0s 5ms/sample - loss: 0.2736 - accuracy: 0.2857 - mse: 0.2736 - val_loss: 0.2533 - val_accuracy: 0.5000 - val_mse: 0.2533\n",
      "Epoch 23/200\n",
      "7/7 [==============================] - 0s 5ms/sample - loss: 0.1940 - accuracy: 0.7143 - mse: 0.1940 - val_loss: 0.2535 - val_accuracy: 0.5000 - val_mse: 0.2535\n",
      "Epoch 24/200\n",
      "7/7 [==============================] - 0s 5ms/sample - loss: 0.2620 - accuracy: 0.7143 - mse: 0.2620 - val_loss: 0.2544 - val_accuracy: 0.5000 - val_mse: 0.2544\n",
      "Epoch 25/200\n",
      "7/7 [==============================] - 0s 5ms/sample - loss: 0.2661 - accuracy: 0.5714 - mse: 0.2661 - val_loss: 0.2544 - val_accuracy: 0.5000 - val_mse: 0.2544\n",
      "Epoch 26/200\n",
      "7/7 [==============================] - 0s 5ms/sample - loss: 0.2361 - accuracy: 0.5714 - mse: 0.2361 - val_loss: 0.2542 - val_accuracy: 0.5000 - val_mse: 0.2542\n",
      "Epoch 27/200\n",
      "7/7 [==============================] - 0s 5ms/sample - loss: 0.2307 - accuracy: 0.5714 - mse: 0.2307 - val_loss: 0.2542 - val_accuracy: 0.5000 - val_mse: 0.2542\n",
      "Epoch 28/200\n",
      "7/7 [==============================] - 0s 5ms/sample - loss: 0.2353 - accuracy: 0.5714 - mse: 0.2353 - val_loss: 0.2542 - val_accuracy: 0.5000 - val_mse: 0.2542\n",
      "Epoch 29/200\n",
      "7/7 [==============================] - 0s 5ms/sample - loss: 0.2545 - accuracy: 0.4286 - mse: 0.2545 - val_loss: 0.2542 - val_accuracy: 0.5000 - val_mse: 0.2542\n",
      "Epoch 30/200\n",
      "7/7 [==============================] - 0s 5ms/sample - loss: 0.2724 - accuracy: 0.4286 - mse: 0.2724 - val_loss: 0.2540 - val_accuracy: 0.5000 - val_mse: 0.2540\n",
      "Epoch 31/200\n",
      "7/7 [==============================] - 0s 5ms/sample - loss: 0.2586 - accuracy: 0.5714 - mse: 0.2586 - val_loss: 0.2534 - val_accuracy: 0.5000 - val_mse: 0.2534\n",
      "Epoch 32/200\n",
      "7/7 [==============================] - 0s 5ms/sample - loss: 0.1983 - accuracy: 0.7143 - mse: 0.1983 - val_loss: 0.2532 - val_accuracy: 0.5000 - val_mse: 0.2532\n",
      "Epoch 33/200\n",
      "7/7 [==============================] - 0s 5ms/sample - loss: 0.2893 - accuracy: 0.2857 - mse: 0.2893 - val_loss: 0.2539 - val_accuracy: 0.5000 - val_mse: 0.2539\n",
      "Epoch 34/200\n",
      "7/7 [==============================] - 0s 5ms/sample - loss: 0.2750 - accuracy: 0.4286 - mse: 0.2750 - val_loss: 0.2543 - val_accuracy: 0.5000 - val_mse: 0.2543\n",
      "Epoch 35/200\n",
      "7/7 [==============================] - 0s 5ms/sample - loss: 0.2372 - accuracy: 0.5714 - mse: 0.2372 - val_loss: 0.2542 - val_accuracy: 0.5000 - val_mse: 0.2542\n",
      "Epoch 36/200\n",
      "7/7 [==============================] - 0s 5ms/sample - loss: 0.2209 - accuracy: 0.7143 - mse: 0.2209 - val_loss: 0.2547 - val_accuracy: 0.5000 - val_mse: 0.2547\n",
      "Epoch 37/200\n",
      "7/7 [==============================] - 0s 5ms/sample - loss: 0.2125 - accuracy: 0.8571 - mse: 0.2125 - val_loss: 0.2557 - val_accuracy: 0.5000 - val_mse: 0.2557\n",
      "Epoch 38/200\n",
      "7/7 [==============================] - 0s 5ms/sample - loss: 0.2726 - accuracy: 0.4286 - mse: 0.2726 - val_loss: 0.2568 - val_accuracy: 0.5000 - val_mse: 0.2568\n",
      "Epoch 39/200\n",
      "7/7 [==============================] - 0s 5ms/sample - loss: 0.2528 - accuracy: 0.4286 - mse: 0.2528 - val_loss: 0.2570 - val_accuracy: 0.5000 - val_mse: 0.2570\n",
      "Epoch 40/200\n",
      "7/7 [==============================] - 0s 5ms/sample - loss: 0.2719 - accuracy: 0.4286 - mse: 0.2719 - val_loss: 0.2568 - val_accuracy: 0.5000 - val_mse: 0.2568\n",
      "Epoch 41/200\n",
      "7/7 [==============================] - 0s 5ms/sample - loss: 0.2847 - accuracy: 0.2857 - mse: 0.2847 - val_loss: 0.2565 - val_accuracy: 0.5000 - val_mse: 0.2565\n",
      "Epoch 42/200\n",
      "7/7 [==============================] - 0s 5ms/sample - loss: 0.2671 - accuracy: 0.4286 - mse: 0.2671 - val_loss: 0.2563 - val_accuracy: 0.5000 - val_mse: 0.2563\n",
      "Epoch 43/200\n",
      "7/7 [==============================] - 0s 5ms/sample - loss: 0.2411 - accuracy: 0.5714 - mse: 0.2411 - val_loss: 0.2557 - val_accuracy: 0.5000 - val_mse: 0.2557\n",
      "Epoch 44/200\n",
      "7/7 [==============================] - 0s 5ms/sample - loss: 0.2356 - accuracy: 0.5714 - mse: 0.2356 - val_loss: 0.2554 - val_accuracy: 0.5000 - val_mse: 0.2554\n",
      "Epoch 45/200\n",
      "7/7 [==============================] - 0s 5ms/sample - loss: 0.2601 - accuracy: 0.5714 - mse: 0.2601 - val_loss: 0.2553 - val_accuracy: 0.5000 - val_mse: 0.2553\n",
      "Epoch 46/200\n",
      "7/7 [==============================] - 0s 5ms/sample - loss: 0.2855 - accuracy: 0.5714 - mse: 0.2855 - val_loss: 0.2548 - val_accuracy: 0.5000 - val_mse: 0.2548\n",
      "Epoch 47/200\n",
      "7/7 [==============================] - 0s 5ms/sample - loss: 0.2549 - accuracy: 0.5714 - mse: 0.2549 - val_loss: 0.2540 - val_accuracy: 0.5000 - val_mse: 0.2540\n",
      "Epoch 48/200\n",
      "7/7 [==============================] - 0s 5ms/sample - loss: 0.2766 - accuracy: 0.5714 - mse: 0.2766 - val_loss: 0.2539 - val_accuracy: 0.5000 - val_mse: 0.2539\n",
      "Epoch 49/200\n",
      "7/7 [==============================] - 0s 5ms/sample - loss: 0.2807 - accuracy: 0.4286 - mse: 0.2807 - val_loss: 0.2542 - val_accuracy: 0.5000 - val_mse: 0.2542\n",
      "Epoch 50/200\n",
      "7/7 [==============================] - 0s 5ms/sample - loss: 0.2102 - accuracy: 0.7143 - mse: 0.2102 - val_loss: 0.2544 - val_accuracy: 0.5000 - val_mse: 0.2544\n",
      "Epoch 51/200\n",
      "7/7 [==============================] - 0s 5ms/sample - loss: 0.2327 - accuracy: 0.7143 - mse: 0.2327 - val_loss: 0.2548 - val_accuracy: 0.5000 - val_mse: 0.2548\n",
      "Epoch 52/200\n",
      "7/7 [==============================] - 0s 5ms/sample - loss: 0.2430 - accuracy: 0.5714 - mse: 0.2430 - val_loss: 0.2547 - val_accuracy: 0.5000 - val_mse: 0.2547\n",
      "Epoch 53/200\n",
      "7/7 [==============================] - 0s 5ms/sample - loss: 0.2377 - accuracy: 0.5714 - mse: 0.2377 - val_loss: 0.2545 - val_accuracy: 0.5000 - val_mse: 0.2545\n",
      "Epoch 54/200\n",
      "7/7 [==============================] - 0s 5ms/sample - loss: 0.2644 - accuracy: 0.5714 - mse: 0.2644 - val_loss: 0.2547 - val_accuracy: 0.5000 - val_mse: 0.2547\n",
      "Epoch 55/200\n",
      "7/7 [==============================] - 0s 5ms/sample - loss: 0.2717 - accuracy: 0.5714 - mse: 0.2717 - val_loss: 0.2548 - val_accuracy: 0.5000 - val_mse: 0.2548\n",
      "Epoch 56/200\n",
      "7/7 [==============================] - 0s 5ms/sample - loss: 0.2263 - accuracy: 0.7143 - mse: 0.2263 - val_loss: 0.2544 - val_accuracy: 0.5000 - val_mse: 0.2544\n",
      "Epoch 57/200\n",
      "7/7 [==============================] - 0s 5ms/sample - loss: 0.2631 - accuracy: 0.5714 - mse: 0.2631 - val_loss: 0.2546 - val_accuracy: 0.5000 - val_mse: 0.2546\n",
      "Epoch 58/200\n",
      "7/7 [==============================] - 0s 5ms/sample - loss: 0.2508 - accuracy: 0.7143 - mse: 0.2508 - val_loss: 0.2549 - val_accuracy: 0.5000 - val_mse: 0.2549\n",
      "Epoch 59/200\n",
      "7/7 [==============================] - 0s 5ms/sample - loss: 0.2433 - accuracy: 0.5714 - mse: 0.2433 - val_loss: 0.2548 - val_accuracy: 0.5000 - val_mse: 0.2548\n",
      "Epoch 60/200\n",
      "7/7 [==============================] - 0s 5ms/sample - loss: 0.2654 - accuracy: 0.5714 - mse: 0.2654 - val_loss: 0.2546 - val_accuracy: 0.5000 - val_mse: 0.2546\n",
      "Epoch 61/200\n",
      "7/7 [==============================] - 0s 5ms/sample - loss: 0.2635 - accuracy: 0.2857 - mse: 0.2635 - val_loss: 0.2549 - val_accuracy: 0.5000 - val_mse: 0.2549\n",
      "Epoch 62/200\n",
      "7/7 [==============================] - 0s 5ms/sample - loss: 0.2305 - accuracy: 0.5714 - mse: 0.2305 - val_loss: 0.2554 - val_accuracy: 0.5000 - val_mse: 0.2554\n",
      "Epoch 63/200\n",
      "7/7 [==============================] - 0s 5ms/sample - loss: 0.2680 - accuracy: 0.4286 - mse: 0.2680 - val_loss: 0.2556 - val_accuracy: 0.5000 - val_mse: 0.2556\n",
      "Epoch 64/200\n",
      "7/7 [==============================] - 0s 5ms/sample - loss: 0.1993 - accuracy: 0.7143 - mse: 0.1993 - val_loss: 0.2554 - val_accuracy: 0.5000 - val_mse: 0.2554\n",
      "Epoch 65/200\n",
      "7/7 [==============================] - 0s 5ms/sample - loss: 0.2569 - accuracy: 0.5714 - mse: 0.2569 - val_loss: 0.2554 - val_accuracy: 0.5000 - val_mse: 0.2554\n",
      "Epoch 66/200\n",
      "7/7 [==============================] - 0s 5ms/sample - loss: 0.2394 - accuracy: 0.5714 - mse: 0.2394 - val_loss: 0.2548 - val_accuracy: 0.5000 - val_mse: 0.2548\n",
      "Epoch 67/200\n",
      "7/7 [==============================] - 0s 5ms/sample - loss: 0.2426 - accuracy: 0.5714 - mse: 0.2426 - val_loss: 0.2543 - val_accuracy: 0.5000 - val_mse: 0.2543\n",
      "Epoch 68/200\n",
      "7/7 [==============================] - 0s 5ms/sample - loss: 0.2643 - accuracy: 0.5714 - mse: 0.2643 - val_loss: 0.2540 - val_accuracy: 0.5000 - val_mse: 0.2540\n",
      "Epoch 69/200\n",
      "7/7 [==============================] - 0s 5ms/sample - loss: 0.2271 - accuracy: 0.5714 - mse: 0.2271 - val_loss: 0.2536 - val_accuracy: 0.5000 - val_mse: 0.2536\n",
      "Epoch 70/200\n",
      "7/7 [==============================] - 0s 5ms/sample - loss: 0.2902 - accuracy: 0.2857 - mse: 0.2902 - val_loss: 0.2537 - val_accuracy: 0.5000 - val_mse: 0.2537\n",
      "Epoch 71/200\n",
      "7/7 [==============================] - 0s 5ms/sample - loss: 0.2282 - accuracy: 0.5714 - mse: 0.2282 - val_loss: 0.2535 - val_accuracy: 0.5000 - val_mse: 0.2535\n",
      "Epoch 72/200\n",
      "7/7 [==============================] - 0s 5ms/sample - loss: 0.2228 - accuracy: 0.7143 - mse: 0.2228 - val_loss: 0.2538 - val_accuracy: 0.5000 - val_mse: 0.2538\n",
      "Epoch 73/200\n",
      "7/7 [==============================] - 0s 5ms/sample - loss: 0.2611 - accuracy: 0.4286 - mse: 0.2611 - val_loss: 0.2541 - val_accuracy: 0.5000 - val_mse: 0.2541\n",
      "Epoch 74/200\n",
      "7/7 [==============================] - 0s 4ms/sample - loss: 0.2145 - accuracy: 0.7143 - mse: 0.2145 - val_loss: 0.2547 - val_accuracy: 0.5000 - val_mse: 0.2547\n",
      "Epoch 75/200\n",
      "7/7 [==============================] - 0s 5ms/sample - loss: 0.2658 - accuracy: 0.5714 - mse: 0.2658 - val_loss: 0.2554 - val_accuracy: 0.5000 - val_mse: 0.2554\n",
      "Epoch 76/200\n",
      "7/7 [==============================] - 0s 5ms/sample - loss: 0.2982 - accuracy: 0.4286 - mse: 0.2982 - val_loss: 0.2556 - val_accuracy: 0.5000 - val_mse: 0.2556\n",
      "Epoch 77/200\n",
      "7/7 [==============================] - 0s 5ms/sample - loss: 0.2442 - accuracy: 0.5714 - mse: 0.2442 - val_loss: 0.2554 - val_accuracy: 0.5000 - val_mse: 0.2554\n",
      "Epoch 78/200\n",
      "7/7 [==============================] - 0s 5ms/sample - loss: 0.2827 - accuracy: 0.5714 - mse: 0.2827 - val_loss: 0.2551 - val_accuracy: 0.5000 - val_mse: 0.2551\n",
      "Epoch 79/200\n",
      "7/7 [==============================] - 0s 5ms/sample - loss: 0.2669 - accuracy: 0.4286 - mse: 0.2669 - val_loss: 0.2544 - val_accuracy: 0.5000 - val_mse: 0.2544\n",
      "Epoch 80/200\n",
      "7/7 [==============================] - 0s 5ms/sample - loss: 0.2752 - accuracy: 0.4286 - mse: 0.2752 - val_loss: 0.2537 - val_accuracy: 0.5000 - val_mse: 0.2537\n",
      "Epoch 81/200\n",
      "7/7 [==============================] - 0s 5ms/sample - loss: 0.2589 - accuracy: 0.4286 - mse: 0.2589 - val_loss: 0.2532 - val_accuracy: 0.5000 - val_mse: 0.2532\n",
      "Epoch 82/200\n",
      "7/7 [==============================] - 0s 5ms/sample - loss: 0.2839 - accuracy: 0.2857 - mse: 0.2839 - val_loss: 0.2530 - val_accuracy: 0.5000 - val_mse: 0.2530\n",
      "Epoch 83/200\n",
      "7/7 [==============================] - 0s 5ms/sample - loss: 0.2811 - accuracy: 0.2857 - mse: 0.2811 - val_loss: 0.2528 - val_accuracy: 0.5000 - val_mse: 0.2528\n",
      "Epoch 84/200\n",
      "7/7 [==============================] - 0s 5ms/sample - loss: 0.2499 - accuracy: 0.5714 - mse: 0.2499 - val_loss: 0.2528 - val_accuracy: 0.5000 - val_mse: 0.2528\n",
      "Epoch 85/200\n",
      "7/7 [==============================] - 0s 5ms/sample - loss: 0.2366 - accuracy: 0.5714 - mse: 0.2366 - val_loss: 0.2532 - val_accuracy: 0.5000 - val_mse: 0.2532\n",
      "Epoch 86/200\n",
      "7/7 [==============================] - 0s 5ms/sample - loss: 0.2528 - accuracy: 0.4286 - mse: 0.2528 - val_loss: 0.2532 - val_accuracy: 0.5000 - val_mse: 0.2532\n",
      "Epoch 87/200\n",
      "7/7 [==============================] - 0s 5ms/sample - loss: 0.2493 - accuracy: 0.7143 - mse: 0.2493 - val_loss: 0.2532 - val_accuracy: 0.5000 - val_mse: 0.2532\n",
      "Epoch 88/200\n",
      "7/7 [==============================] - 0s 5ms/sample - loss: 0.2697 - accuracy: 0.4286 - mse: 0.2697 - val_loss: 0.2535 - val_accuracy: 0.5000 - val_mse: 0.2535\n",
      "Epoch 89/200\n",
      "7/7 [==============================] - 0s 5ms/sample - loss: 0.2439 - accuracy: 0.5714 - mse: 0.2439 - val_loss: 0.2537 - val_accuracy: 0.5000 - val_mse: 0.2537\n",
      "Epoch 90/200\n",
      "7/7 [==============================] - 0s 5ms/sample - loss: 0.2631 - accuracy: 0.4286 - mse: 0.2631 - val_loss: 0.2542 - val_accuracy: 0.5000 - val_mse: 0.2542\n",
      "Epoch 91/200\n",
      "7/7 [==============================] - 0s 5ms/sample - loss: 0.2229 - accuracy: 0.5714 - mse: 0.2229 - val_loss: 0.2544 - val_accuracy: 0.5000 - val_mse: 0.2544\n",
      "Epoch 92/200\n",
      "7/7 [==============================] - 0s 5ms/sample - loss: 0.2318 - accuracy: 0.5714 - mse: 0.2318 - val_loss: 0.2547 - val_accuracy: 0.5000 - val_mse: 0.2547\n",
      "Epoch 93/200\n",
      "7/7 [==============================] - 0s 5ms/sample - loss: 0.2423 - accuracy: 0.5714 - mse: 0.2423 - val_loss: 0.2545 - val_accuracy: 0.5000 - val_mse: 0.2545\n",
      "Epoch 94/200\n",
      "7/7 [==============================] - 0s 5ms/sample - loss: 0.2708 - accuracy: 0.4286 - mse: 0.2708 - val_loss: 0.2542 - val_accuracy: 0.5000 - val_mse: 0.2542\n",
      "Epoch 95/200\n",
      "7/7 [==============================] - 0s 5ms/sample - loss: 0.2385 - accuracy: 0.5714 - mse: 0.2385 - val_loss: 0.2539 - val_accuracy: 0.5000 - val_mse: 0.2539\n",
      "Epoch 96/200\n",
      "7/7 [==============================] - 0s 5ms/sample - loss: 0.2489 - accuracy: 0.5714 - mse: 0.2489 - val_loss: 0.2538 - val_accuracy: 0.5000 - val_mse: 0.2538\n",
      "Epoch 97/200\n",
      "7/7 [==============================] - 0s 5ms/sample - loss: 0.2544 - accuracy: 0.5714 - mse: 0.2544 - val_loss: 0.2537 - val_accuracy: 0.5000 - val_mse: 0.2537\n",
      "Epoch 98/200\n",
      "7/7 [==============================] - 0s 5ms/sample - loss: 0.2624 - accuracy: 0.5714 - mse: 0.2624 - val_loss: 0.2537 - val_accuracy: 0.5000 - val_mse: 0.2537\n",
      "Epoch 99/200\n",
      "7/7 [==============================] - 0s 5ms/sample - loss: 0.2497 - accuracy: 0.5714 - mse: 0.2497 - val_loss: 0.2537 - val_accuracy: 0.5000 - val_mse: 0.2537\n",
      "Epoch 100/200\n",
      "7/7 [==============================] - 0s 5ms/sample - loss: 0.2207 - accuracy: 0.7143 - mse: 0.2207 - val_loss: 0.2535 - val_accuracy: 0.5000 - val_mse: 0.2535\n",
      "Epoch 101/200\n",
      "7/7 [==============================] - 0s 5ms/sample - loss: 0.2417 - accuracy: 0.5714 - mse: 0.2417 - val_loss: 0.2537 - val_accuracy: 0.5000 - val_mse: 0.2537\n",
      "Epoch 102/200\n",
      "7/7 [==============================] - 0s 5ms/sample - loss: 0.2355 - accuracy: 0.5714 - mse: 0.2355 - val_loss: 0.2542 - val_accuracy: 0.5000 - val_mse: 0.2542\n",
      "Epoch 103/200\n",
      "7/7 [==============================] - 0s 4ms/sample - loss: 0.2950 - accuracy: 0.2857 - mse: 0.2950 - val_loss: 0.2542 - val_accuracy: 0.5000 - val_mse: 0.2542\n",
      "Epoch 104/200\n",
      "7/7 [==============================] - 0s 5ms/sample - loss: 0.2283 - accuracy: 0.7143 - mse: 0.2283 - val_loss: 0.2538 - val_accuracy: 0.5000 - val_mse: 0.2538\n",
      "Epoch 105/200\n",
      "7/7 [==============================] - 0s 5ms/sample - loss: 0.2005 - accuracy: 0.7143 - mse: 0.2005 - val_loss: 0.2541 - val_accuracy: 0.5000 - val_mse: 0.2541\n",
      "Epoch 106/200\n",
      "7/7 [==============================] - 0s 5ms/sample - loss: 0.2614 - accuracy: 0.4286 - mse: 0.2614 - val_loss: 0.2544 - val_accuracy: 0.5000 - val_mse: 0.2544\n",
      "Epoch 107/200\n",
      "7/7 [==============================] - 0s 5ms/sample - loss: 0.2060 - accuracy: 0.5714 - mse: 0.2060 - val_loss: 0.2544 - val_accuracy: 0.5000 - val_mse: 0.2544\n",
      "Epoch 108/200\n",
      "7/7 [==============================] - 0s 5ms/sample - loss: 0.2778 - accuracy: 0.4286 - mse: 0.2778 - val_loss: 0.2549 - val_accuracy: 0.5000 - val_mse: 0.2549\n",
      "Epoch 109/200\n",
      "7/7 [==============================] - 0s 5ms/sample - loss: 0.2155 - accuracy: 0.5714 - mse: 0.2155 - val_loss: 0.2549 - val_accuracy: 0.5000 - val_mse: 0.2549\n",
      "Epoch 110/200\n",
      "7/7 [==============================] - 0s 5ms/sample - loss: 0.2838 - accuracy: 0.4286 - mse: 0.2838 - val_loss: 0.2548 - val_accuracy: 0.5000 - val_mse: 0.2548\n",
      "Epoch 111/200\n",
      "7/7 [==============================] - 0s 5ms/sample - loss: 0.2003 - accuracy: 0.5714 - mse: 0.2003 - val_loss: 0.2546 - val_accuracy: 0.5000 - val_mse: 0.2546\n",
      "Epoch 112/200\n",
      "7/7 [==============================] - 0s 5ms/sample - loss: 0.2452 - accuracy: 0.4286 - mse: 0.2452 - val_loss: 0.2548 - val_accuracy: 0.5000 - val_mse: 0.2548\n",
      "Epoch 113/200\n",
      "7/7 [==============================] - 0s 5ms/sample - loss: 0.2586 - accuracy: 0.4286 - mse: 0.2586 - val_loss: 0.2549 - val_accuracy: 0.5000 - val_mse: 0.2549\n",
      "Epoch 114/200\n",
      "7/7 [==============================] - 0s 5ms/sample - loss: 0.2069 - accuracy: 0.8571 - mse: 0.2069 - val_loss: 0.2551 - val_accuracy: 0.5000 - val_mse: 0.2551\n",
      "Epoch 115/200\n",
      "7/7 [==============================] - 0s 4ms/sample - loss: 0.2198 - accuracy: 0.5714 - mse: 0.2198 - val_loss: 0.2554 - val_accuracy: 0.5000 - val_mse: 0.2554\n",
      "Epoch 116/200\n",
      "7/7 [==============================] - 0s 5ms/sample - loss: 0.2309 - accuracy: 0.5714 - mse: 0.2309 - val_loss: 0.2560 - val_accuracy: 0.5000 - val_mse: 0.2560\n",
      "Epoch 117/200\n",
      "7/7 [==============================] - 0s 5ms/sample - loss: 0.2288 - accuracy: 0.5714 - mse: 0.2288 - val_loss: 0.2565 - val_accuracy: 0.5000 - val_mse: 0.2565\n",
      "Epoch 118/200\n",
      "7/7 [==============================] - 0s 5ms/sample - loss: 0.2788 - accuracy: 0.4286 - mse: 0.2788 - val_loss: 0.2572 - val_accuracy: 0.5000 - val_mse: 0.2572\n",
      "Epoch 119/200\n",
      "7/7 [==============================] - 0s 5ms/sample - loss: 0.2368 - accuracy: 0.5714 - mse: 0.2368 - val_loss: 0.2573 - val_accuracy: 0.5000 - val_mse: 0.2573\n",
      "Epoch 120/200\n",
      "7/7 [==============================] - 0s 5ms/sample - loss: 0.2885 - accuracy: 0.5714 - mse: 0.2885 - val_loss: 0.2569 - val_accuracy: 0.5000 - val_mse: 0.2569\n",
      "Epoch 121/200\n",
      "7/7 [==============================] - 0s 5ms/sample - loss: 0.2347 - accuracy: 0.5714 - mse: 0.2347 - val_loss: 0.2562 - val_accuracy: 0.5000 - val_mse: 0.2562\n",
      "Epoch 122/200\n",
      "7/7 [==============================] - 0s 5ms/sample - loss: 0.2753 - accuracy: 0.5714 - mse: 0.2753 - val_loss: 0.2556 - val_accuracy: 0.5000 - val_mse: 0.2556\n",
      "Epoch 123/200\n",
      "7/7 [==============================] - 0s 5ms/sample - loss: 0.2311 - accuracy: 0.7143 - mse: 0.2311 - val_loss: 0.2553 - val_accuracy: 0.5000 - val_mse: 0.2553\n",
      "Epoch 124/200\n",
      "7/7 [==============================] - 0s 5ms/sample - loss: 0.2553 - accuracy: 0.5714 - mse: 0.2553 - val_loss: 0.2554 - val_accuracy: 0.5000 - val_mse: 0.2554\n",
      "Epoch 125/200\n",
      "7/7 [==============================] - 0s 5ms/sample - loss: 0.2850 - accuracy: 0.4286 - mse: 0.2850 - val_loss: 0.2556 - val_accuracy: 0.5000 - val_mse: 0.2556\n",
      "Epoch 126/200\n",
      "7/7 [==============================] - 0s 4ms/sample - loss: 0.2541 - accuracy: 0.4286 - mse: 0.2541 - val_loss: 0.2555 - val_accuracy: 0.5000 - val_mse: 0.2555\n",
      "Epoch 127/200\n",
      "7/7 [==============================] - 0s 5ms/sample - loss: 0.2038 - accuracy: 0.8571 - mse: 0.2038 - val_loss: 0.2563 - val_accuracy: 0.5000 - val_mse: 0.2563\n",
      "Epoch 128/200\n",
      "7/7 [==============================] - 0s 5ms/sample - loss: 0.2613 - accuracy: 0.7143 - mse: 0.2613 - val_loss: 0.2569 - val_accuracy: 0.5000 - val_mse: 0.2569\n",
      "Epoch 129/200\n",
      "7/7 [==============================] - 0s 5ms/sample - loss: 0.2702 - accuracy: 0.5714 - mse: 0.2702 - val_loss: 0.2568 - val_accuracy: 0.5000 - val_mse: 0.2568\n",
      "Epoch 130/200\n",
      "7/7 [==============================] - 0s 5ms/sample - loss: 0.2063 - accuracy: 0.7143 - mse: 0.2063 - val_loss: 0.2566 - val_accuracy: 0.5000 - val_mse: 0.2566\n",
      "Epoch 131/200\n",
      "7/7 [==============================] - 0s 5ms/sample - loss: 0.2273 - accuracy: 0.7143 - mse: 0.2273 - val_loss: 0.2567 - val_accuracy: 0.5000 - val_mse: 0.2567\n",
      "Epoch 132/200\n",
      "7/7 [==============================] - 0s 5ms/sample - loss: 0.2225 - accuracy: 0.5714 - mse: 0.2225 - val_loss: 0.2569 - val_accuracy: 0.5000 - val_mse: 0.2569\n",
      "Epoch 133/200\n",
      "7/7 [==============================] - 0s 5ms/sample - loss: 0.2627 - accuracy: 0.5714 - mse: 0.2627 - val_loss: 0.2569 - val_accuracy: 0.5000 - val_mse: 0.2569\n",
      "Epoch 134/200\n",
      "7/7 [==============================] - 0s 6ms/sample - loss: 0.2499 - accuracy: 0.4286 - mse: 0.2499 - val_loss: 0.2570 - val_accuracy: 0.5000 - val_mse: 0.2570\n",
      "Epoch 135/200\n",
      "7/7 [==============================] - 0s 5ms/sample - loss: 0.2593 - accuracy: 0.7143 - mse: 0.2593 - val_loss: 0.2570 - val_accuracy: 0.5000 - val_mse: 0.2570\n",
      "Epoch 136/200\n",
      "7/7 [==============================] - 0s 5ms/sample - loss: 0.2806 - accuracy: 0.5714 - mse: 0.2806 - val_loss: 0.2566 - val_accuracy: 0.5000 - val_mse: 0.2566\n",
      "Epoch 137/200\n",
      "7/7 [==============================] - 0s 5ms/sample - loss: 0.2377 - accuracy: 0.7143 - mse: 0.2377 - val_loss: 0.2559 - val_accuracy: 0.5000 - val_mse: 0.2559\n",
      "Epoch 138/200\n",
      "7/7 [==============================] - 0s 5ms/sample - loss: 0.2547 - accuracy: 0.5714 - mse: 0.2547 - val_loss: 0.2556 - val_accuracy: 0.5000 - val_mse: 0.2556\n",
      "Epoch 139/200\n",
      "7/7 [==============================] - 0s 5ms/sample - loss: 0.2644 - accuracy: 0.4286 - mse: 0.2644 - val_loss: 0.2555 - val_accuracy: 0.5000 - val_mse: 0.2555\n",
      "Epoch 140/200\n",
      "7/7 [==============================] - 0s 5ms/sample - loss: 0.2056 - accuracy: 0.5714 - mse: 0.2056 - val_loss: 0.2556 - val_accuracy: 0.5000 - val_mse: 0.2556\n",
      "Epoch 141/200\n",
      "7/7 [==============================] - 0s 5ms/sample - loss: 0.2771 - accuracy: 0.4286 - mse: 0.2771 - val_loss: 0.2559 - val_accuracy: 0.5000 - val_mse: 0.2559\n",
      "Epoch 142/200\n",
      "7/7 [==============================] - 0s 5ms/sample - loss: 0.2300 - accuracy: 0.5714 - mse: 0.2300 - val_loss: 0.2560 - val_accuracy: 0.5000 - val_mse: 0.2560\n",
      "Epoch 143/200\n",
      "7/7 [==============================] - 0s 4ms/sample - loss: 0.2794 - accuracy: 0.4286 - mse: 0.2794 - val_loss: 0.2561 - val_accuracy: 0.5000 - val_mse: 0.2561\n",
      "Epoch 144/200\n",
      "7/7 [==============================] - 0s 5ms/sample - loss: 0.2296 - accuracy: 0.7143 - mse: 0.2296 - val_loss: 0.2559 - val_accuracy: 0.5000 - val_mse: 0.2559\n",
      "Epoch 145/200\n",
      "7/7 [==============================] - 0s 4ms/sample - loss: 0.2278 - accuracy: 0.5714 - mse: 0.2278 - val_loss: 0.2558 - val_accuracy: 0.5000 - val_mse: 0.2558\n",
      "Epoch 146/200\n",
      "7/7 [==============================] - 0s 4ms/sample - loss: 0.2211 - accuracy: 0.5714 - mse: 0.2211 - val_loss: 0.2560 - val_accuracy: 0.5000 - val_mse: 0.2560\n",
      "Epoch 147/200\n",
      "7/7 [==============================] - 0s 5ms/sample - loss: 0.2488 - accuracy: 0.4286 - mse: 0.2488 - val_loss: 0.2564 - val_accuracy: 0.5000 - val_mse: 0.2564\n",
      "Epoch 148/200\n",
      "7/7 [==============================] - 0s 5ms/sample - loss: 0.2444 - accuracy: 0.5714 - mse: 0.2444 - val_loss: 0.2565 - val_accuracy: 0.5000 - val_mse: 0.2565\n",
      "Epoch 149/200\n",
      "7/7 [==============================] - 0s 5ms/sample - loss: 0.2264 - accuracy: 0.7143 - mse: 0.2264 - val_loss: 0.2571 - val_accuracy: 0.5000 - val_mse: 0.2571\n",
      "Epoch 150/200\n",
      "7/7 [==============================] - 0s 5ms/sample - loss: 0.2213 - accuracy: 0.7143 - mse: 0.2213 - val_loss: 0.2575 - val_accuracy: 0.5000 - val_mse: 0.2575\n",
      "Epoch 151/200\n",
      "7/7 [==============================] - 0s 5ms/sample - loss: 0.2316 - accuracy: 0.7143 - mse: 0.2316 - val_loss: 0.2579 - val_accuracy: 0.5000 - val_mse: 0.2579\n",
      "Epoch 152/200\n",
      "7/7 [==============================] - 0s 5ms/sample - loss: 0.2640 - accuracy: 0.4286 - mse: 0.2640 - val_loss: 0.2575 - val_accuracy: 0.5000 - val_mse: 0.2575\n",
      "Epoch 153/200\n",
      "7/7 [==============================] - 0s 5ms/sample - loss: 0.2558 - accuracy: 0.4286 - mse: 0.2558 - val_loss: 0.2570 - val_accuracy: 0.5000 - val_mse: 0.2570\n",
      "Epoch 154/200\n",
      "7/7 [==============================] - 0s 5ms/sample - loss: 0.2556 - accuracy: 0.5714 - mse: 0.2556 - val_loss: 0.2566 - val_accuracy: 0.5000 - val_mse: 0.2566\n",
      "Epoch 155/200\n",
      "7/7 [==============================] - 0s 5ms/sample - loss: 0.2240 - accuracy: 0.7143 - mse: 0.2240 - val_loss: 0.2564 - val_accuracy: 0.5000 - val_mse: 0.2564\n",
      "Epoch 156/200\n",
      "7/7 [==============================] - 0s 5ms/sample - loss: 0.2061 - accuracy: 0.8571 - mse: 0.2061 - val_loss: 0.2570 - val_accuracy: 0.5000 - val_mse: 0.2570\n",
      "Epoch 157/200\n",
      "7/7 [==============================] - 0s 5ms/sample - loss: 0.2463 - accuracy: 0.5714 - mse: 0.2463 - val_loss: 0.2576 - val_accuracy: 0.5000 - val_mse: 0.2576\n",
      "Epoch 158/200\n",
      "7/7 [==============================] - 0s 5ms/sample - loss: 0.2452 - accuracy: 0.5714 - mse: 0.2452 - val_loss: 0.2573 - val_accuracy: 0.5000 - val_mse: 0.2573\n",
      "Epoch 159/200\n",
      "7/7 [==============================] - 0s 5ms/sample - loss: 0.2533 - accuracy: 0.4286 - mse: 0.2533 - val_loss: 0.2570 - val_accuracy: 0.5000 - val_mse: 0.2570\n",
      "Epoch 160/200\n",
      "7/7 [==============================] - 0s 5ms/sample - loss: 0.2883 - accuracy: 0.2857 - mse: 0.2883 - val_loss: 0.2569 - val_accuracy: 0.5000 - val_mse: 0.2569\n",
      "Epoch 161/200\n",
      "7/7 [==============================] - 0s 5ms/sample - loss: 0.2484 - accuracy: 0.5714 - mse: 0.2484 - val_loss: 0.2568 - val_accuracy: 0.5000 - val_mse: 0.2568\n",
      "Epoch 162/200\n",
      "7/7 [==============================] - 0s 5ms/sample - loss: 0.2614 - accuracy: 0.4286 - mse: 0.2614 - val_loss: 0.2564 - val_accuracy: 0.5000 - val_mse: 0.2564\n",
      "Epoch 163/200\n",
      "7/7 [==============================] - 0s 5ms/sample - loss: 0.2471 - accuracy: 0.5714 - mse: 0.2471 - val_loss: 0.2562 - val_accuracy: 0.5000 - val_mse: 0.2562\n",
      "Epoch 164/200\n",
      "7/7 [==============================] - 0s 5ms/sample - loss: 0.2596 - accuracy: 0.5714 - mse: 0.2596 - val_loss: 0.2559 - val_accuracy: 0.5000 - val_mse: 0.2559\n",
      "Epoch 165/200\n",
      "7/7 [==============================] - 0s 5ms/sample - loss: 0.2516 - accuracy: 0.4286 - mse: 0.2516 - val_loss: 0.2556 - val_accuracy: 0.5000 - val_mse: 0.2556\n",
      "Epoch 166/200\n",
      "7/7 [==============================] - 0s 5ms/sample - loss: 0.2291 - accuracy: 0.7143 - mse: 0.2291 - val_loss: 0.2558 - val_accuracy: 0.5000 - val_mse: 0.2558\n",
      "Epoch 167/200\n",
      "7/7 [==============================] - 0s 5ms/sample - loss: 0.2441 - accuracy: 0.5714 - mse: 0.2441 - val_loss: 0.2562 - val_accuracy: 0.5000 - val_mse: 0.2562\n",
      "Epoch 168/200\n",
      "7/7 [==============================] - 0s 5ms/sample - loss: 0.2593 - accuracy: 0.5714 - mse: 0.2593 - val_loss: 0.2565 - val_accuracy: 0.5000 - val_mse: 0.2565\n",
      "Epoch 169/200\n",
      "7/7 [==============================] - 0s 5ms/sample - loss: 0.2448 - accuracy: 0.5714 - mse: 0.2448 - val_loss: 0.2564 - val_accuracy: 0.5000 - val_mse: 0.2564\n",
      "Epoch 170/200\n",
      "7/7 [==============================] - 0s 5ms/sample - loss: 0.2582 - accuracy: 0.5714 - mse: 0.2582 - val_loss: 0.2564 - val_accuracy: 0.5000 - val_mse: 0.2564\n",
      "Epoch 171/200\n",
      "7/7 [==============================] - 0s 5ms/sample - loss: 0.2574 - accuracy: 0.4286 - mse: 0.2574 - val_loss: 0.2566 - val_accuracy: 0.5000 - val_mse: 0.2566\n",
      "Epoch 172/200\n",
      "7/7 [==============================] - 0s 5ms/sample - loss: 0.2281 - accuracy: 0.5714 - mse: 0.2281 - val_loss: 0.2572 - val_accuracy: 0.5000 - val_mse: 0.2572\n",
      "Epoch 173/200\n",
      "7/7 [==============================] - 0s 5ms/sample - loss: 0.2535 - accuracy: 0.5714 - mse: 0.2535 - val_loss: 0.2578 - val_accuracy: 0.5000 - val_mse: 0.2578\n",
      "Epoch 174/200\n",
      "7/7 [==============================] - 0s 5ms/sample - loss: 0.1734 - accuracy: 0.8571 - mse: 0.1734 - val_loss: 0.2585 - val_accuracy: 0.5000 - val_mse: 0.2585\n",
      "Epoch 175/200\n",
      "7/7 [==============================] - 0s 5ms/sample - loss: 0.2670 - accuracy: 0.5714 - mse: 0.2670 - val_loss: 0.2588 - val_accuracy: 0.5000 - val_mse: 0.2588\n",
      "Epoch 176/200\n",
      "7/7 [==============================] - 0s 5ms/sample - loss: 0.2401 - accuracy: 0.5714 - mse: 0.2401 - val_loss: 0.2586 - val_accuracy: 0.5000 - val_mse: 0.2586\n",
      "Epoch 177/200\n",
      "7/7 [==============================] - 0s 5ms/sample - loss: 0.2458 - accuracy: 0.5714 - mse: 0.2458 - val_loss: 0.2580 - val_accuracy: 0.5000 - val_mse: 0.2580\n",
      "Epoch 178/200\n",
      "7/7 [==============================] - 0s 5ms/sample - loss: 0.2410 - accuracy: 0.5714 - mse: 0.2410 - val_loss: 0.2577 - val_accuracy: 0.5000 - val_mse: 0.2577\n",
      "Epoch 179/200\n",
      "7/7 [==============================] - 0s 5ms/sample - loss: 0.2056 - accuracy: 0.7143 - mse: 0.2056 - val_loss: 0.2576 - val_accuracy: 0.5000 - val_mse: 0.2576\n",
      "Epoch 180/200\n",
      "7/7 [==============================] - 0s 5ms/sample - loss: 0.2603 - accuracy: 0.5714 - mse: 0.2603 - val_loss: 0.2574 - val_accuracy: 0.5000 - val_mse: 0.2574\n",
      "Epoch 181/200\n",
      "7/7 [==============================] - 0s 5ms/sample - loss: 0.2859 - accuracy: 0.4286 - mse: 0.2859 - val_loss: 0.2567 - val_accuracy: 0.5000 - val_mse: 0.2567\n",
      "Epoch 182/200\n",
      "7/7 [==============================] - 0s 5ms/sample - loss: 0.2775 - accuracy: 0.4286 - mse: 0.2775 - val_loss: 0.2562 - val_accuracy: 0.5000 - val_mse: 0.2562\n",
      "Epoch 183/200\n",
      "7/7 [==============================] - 0s 5ms/sample - loss: 0.2542 - accuracy: 0.2857 - mse: 0.2542 - val_loss: 0.2558 - val_accuracy: 0.5000 - val_mse: 0.2558\n",
      "Epoch 184/200\n",
      "7/7 [==============================] - 0s 5ms/sample - loss: 0.2248 - accuracy: 0.7143 - mse: 0.2248 - val_loss: 0.2557 - val_accuracy: 0.5000 - val_mse: 0.2557\n",
      "Epoch 185/200\n",
      "7/7 [==============================] - 0s 5ms/sample - loss: 0.2414 - accuracy: 0.5714 - mse: 0.2414 - val_loss: 0.2558 - val_accuracy: 0.5000 - val_mse: 0.2558\n",
      "Epoch 186/200\n",
      "7/7 [==============================] - 0s 5ms/sample - loss: 0.2387 - accuracy: 0.7143 - mse: 0.2387 - val_loss: 0.2557 - val_accuracy: 0.5000 - val_mse: 0.2557\n",
      "Epoch 187/200\n",
      "7/7 [==============================] - 0s 5ms/sample - loss: 0.2681 - accuracy: 0.2857 - mse: 0.2681 - val_loss: 0.2560 - val_accuracy: 0.5000 - val_mse: 0.2560\n",
      "Epoch 188/200\n",
      "7/7 [==============================] - 0s 5ms/sample - loss: 0.2334 - accuracy: 0.7143 - mse: 0.2334 - val_loss: 0.2564 - val_accuracy: 0.5000 - val_mse: 0.2564\n",
      "Epoch 189/200\n",
      "7/7 [==============================] - 0s 5ms/sample - loss: 0.2449 - accuracy: 0.2857 - mse: 0.2449 - val_loss: 0.2568 - val_accuracy: 0.5000 - val_mse: 0.2568\n",
      "Epoch 190/200\n",
      "7/7 [==============================] - 0s 5ms/sample - loss: 0.2542 - accuracy: 0.5714 - mse: 0.2542 - val_loss: 0.2573 - val_accuracy: 0.5000 - val_mse: 0.2573\n",
      "Epoch 191/200\n",
      "7/7 [==============================] - 0s 5ms/sample - loss: 0.2728 - accuracy: 0.4286 - mse: 0.2728 - val_loss: 0.2581 - val_accuracy: 0.5000 - val_mse: 0.2581\n",
      "Epoch 192/200\n",
      "7/7 [==============================] - 0s 5ms/sample - loss: 0.2528 - accuracy: 0.5714 - mse: 0.2528 - val_loss: 0.2587 - val_accuracy: 0.5000 - val_mse: 0.2587\n",
      "Epoch 193/200\n",
      "7/7 [==============================] - 0s 5ms/sample - loss: 0.2552 - accuracy: 0.4286 - mse: 0.2552 - val_loss: 0.2592 - val_accuracy: 0.5000 - val_mse: 0.2592\n",
      "Epoch 194/200\n",
      "7/7 [==============================] - 0s 5ms/sample - loss: 0.2212 - accuracy: 0.5714 - mse: 0.2212 - val_loss: 0.2591 - val_accuracy: 0.5000 - val_mse: 0.2591\n",
      "Epoch 195/200\n",
      "7/7 [==============================] - 0s 5ms/sample - loss: 0.2381 - accuracy: 0.5714 - mse: 0.2381 - val_loss: 0.2590 - val_accuracy: 0.5000 - val_mse: 0.2590\n",
      "Epoch 196/200\n",
      "7/7 [==============================] - 0s 5ms/sample - loss: 0.2808 - accuracy: 0.5714 - mse: 0.2808 - val_loss: 0.2592 - val_accuracy: 0.5000 - val_mse: 0.2592\n",
      "Epoch 197/200\n",
      "7/7 [==============================] - 0s 5ms/sample - loss: 0.2337 - accuracy: 0.8571 - mse: 0.2337 - val_loss: 0.2595 - val_accuracy: 0.5000 - val_mse: 0.2595\n",
      "Epoch 198/200\n",
      "7/7 [==============================] - 0s 5ms/sample - loss: 0.2593 - accuracy: 0.5714 - mse: 0.2593 - val_loss: 0.2595 - val_accuracy: 0.5000 - val_mse: 0.2595\n",
      "Epoch 199/200\n",
      "7/7 [==============================] - 0s 5ms/sample - loss: 0.2821 - accuracy: 0.4286 - mse: 0.2821 - val_loss: 0.2591 - val_accuracy: 0.5000 - val_mse: 0.2591\n",
      "Epoch 200/200\n",
      "7/7 [==============================] - 0s 5ms/sample - loss: 0.2270 - accuracy: 0.5714 - mse: 0.2270 - val_loss: 0.2582 - val_accuracy: 0.5000 - val_mse: 0.2582\n"
     ]
    }
   ],
   "source": [
    "# Train the model\n",
    "# Use at least 10 epochs\n",
    "# Do not shuffle the data\n",
    "# Experiement with the batch size, but a smaller batch size is recommended\n",
    "\n",
    "training_history = model.fit(\n",
    "    X_train, \n",
    "    y_train, \n",
    "    validation_data=(X_val, y_val),\n",
    "    epochs=200,\n",
    "    shuffle=False, \n",
    "    batch_size=1, \n",
    "    verbose=1) "
   ]
  },
  {
   "cell_type": "code",
   "execution_count": 474,
   "metadata": {},
   "outputs": [
    {
     "name": "stdout",
     "output_type": "stream",
     "text": [
      "\n",
      " Evaluate on test data for 5-minute rolling positive prices sentiments:\n",
      "\n",
      " For unshuffled valuation, test loss on LSTM RNN is Loss: 0.2804, Accuracy: 0.3333.\n"
     ]
    }
   ],
   "source": [
    "# Evaluate the model on the test data using `evaluate`\n",
    "print(f'\\n Evaluate on test data for 5-minute rolling positive prices sentiments:')\n",
    "model_loss, model_accuracy, model_mse = model.evaluate(X_test, y_test, verbose=0)\n",
    "print(f'\\n For unshuffled valuation, test loss on LSTM RNN is Loss: {model_loss:,.4f}, Accuracy: {model_accuracy:,.4f}.')\n"
   ]
  },
  {
   "cell_type": "code",
   "execution_count": 475,
   "metadata": {},
   "outputs": [],
   "source": [
    "# Make some predictions\n",
    "# Make predictions using the testing data X_test\n",
    "predicted = model.predict(X_test)"
   ]
  },
  {
   "cell_type": "code",
   "execution_count": 476,
   "metadata": {},
   "outputs": [],
   "source": [
    "# Recover the original prices instead of the scaled version\n",
    "real = y_test"
   ]
  },
  {
   "cell_type": "code",
   "execution_count": 477,
   "metadata": {},
   "outputs": [
    {
     "data": {
      "text/html": [
       "<div>\n",
       "<style scoped>\n",
       "    .dataframe tbody tr th:only-of-type {\n",
       "        vertical-align: middle;\n",
       "    }\n",
       "\n",
       "    .dataframe tbody tr th {\n",
       "        vertical-align: top;\n",
       "    }\n",
       "\n",
       "    .dataframe thead th {\n",
       "        text-align: right;\n",
       "    }\n",
       "</style>\n",
       "<table border=\"1\" class=\"dataframe\">\n",
       "  <thead>\n",
       "    <tr style=\"text-align: right;\">\n",
       "      <th></th>\n",
       "      <th>Real</th>\n",
       "      <th>Predicted</th>\n",
       "    </tr>\n",
       "  </thead>\n",
       "  <tbody>\n",
       "    <tr>\n",
       "      <th>0</th>\n",
       "      <td>0.0</td>\n",
       "      <td>0.570655</td>\n",
       "    </tr>\n",
       "    <tr>\n",
       "      <th>1</th>\n",
       "      <td>1.0</td>\n",
       "      <td>0.567013</td>\n",
       "    </tr>\n",
       "    <tr>\n",
       "      <th>2</th>\n",
       "      <td>0.0</td>\n",
       "      <td>0.570208</td>\n",
       "    </tr>\n",
       "    <tr>\n",
       "      <th>3</th>\n",
       "      <td>0.0</td>\n",
       "      <td>0.570208</td>\n",
       "    </tr>\n",
       "    <tr>\n",
       "      <th>4</th>\n",
       "      <td>1.0</td>\n",
       "      <td>0.575418</td>\n",
       "    </tr>\n",
       "    <tr>\n",
       "      <th>5</th>\n",
       "      <td>0.0</td>\n",
       "      <td>0.582150</td>\n",
       "    </tr>\n",
       "  </tbody>\n",
       "</table>\n",
       "</div>"
      ],
      "text/plain": [
       "   Real  Predicted\n",
       "0   0.0   0.570655\n",
       "1   1.0   0.567013\n",
       "2   0.0   0.570208\n",
       "3   0.0   0.570208\n",
       "4   1.0   0.575418\n",
       "5   0.0   0.582150"
      ]
     },
     "execution_count": 477,
     "metadata": {},
     "output_type": "execute_result"
    }
   ],
   "source": [
    "# Create a DataFrame of Real and Predicted values\n",
    "negative_sentiments = pd.DataFrame({\n",
    "    \"Real\": real.ravel(),\n",
    "    \"Predicted\": predicted.ravel()\n",
    "})\n",
    "negative_sentiments"
   ]
  },
  {
   "cell_type": "code",
   "execution_count": 478,
   "metadata": {},
   "outputs": [
    {
     "data": {
      "text/html": [
       "<div>\n",
       "<style scoped>\n",
       "    .dataframe tbody tr th:only-of-type {\n",
       "        vertical-align: middle;\n",
       "    }\n",
       "\n",
       "    .dataframe tbody tr th {\n",
       "        vertical-align: top;\n",
       "    }\n",
       "\n",
       "    .dataframe thead th {\n",
       "        text-align: right;\n",
       "    }\n",
       "</style>\n",
       "<table border=\"1\" class=\"dataframe\">\n",
       "  <thead>\n",
       "    <tr style=\"text-align: right;\">\n",
       "      <th></th>\n",
       "      <th>Real</th>\n",
       "      <th>Predicted</th>\n",
       "    </tr>\n",
       "  </thead>\n",
       "  <tbody>\n",
       "    <tr>\n",
       "      <th>0</th>\n",
       "      <td>0.0</td>\n",
       "      <td>1.0</td>\n",
       "    </tr>\n",
       "    <tr>\n",
       "      <th>1</th>\n",
       "      <td>1.0</td>\n",
       "      <td>1.0</td>\n",
       "    </tr>\n",
       "    <tr>\n",
       "      <th>2</th>\n",
       "      <td>0.0</td>\n",
       "      <td>1.0</td>\n",
       "    </tr>\n",
       "    <tr>\n",
       "      <th>3</th>\n",
       "      <td>0.0</td>\n",
       "      <td>1.0</td>\n",
       "    </tr>\n",
       "    <tr>\n",
       "      <th>4</th>\n",
       "      <td>1.0</td>\n",
       "      <td>1.0</td>\n",
       "    </tr>\n",
       "    <tr>\n",
       "      <th>5</th>\n",
       "      <td>0.0</td>\n",
       "      <td>1.0</td>\n",
       "    </tr>\n",
       "  </tbody>\n",
       "</table>\n",
       "</div>"
      ],
      "text/plain": [
       "   Real  Predicted\n",
       "0   0.0        1.0\n",
       "1   1.0        1.0\n",
       "2   0.0        1.0\n",
       "3   0.0        1.0\n",
       "4   1.0        1.0\n",
       "5   0.0        1.0"
      ]
     },
     "execution_count": 478,
     "metadata": {},
     "output_type": "execute_result"
    }
   ],
   "source": [
    "# Transform Predicted column\n",
    "def changePredicted(predicted):\n",
    "    if predicted >= 0.5:\n",
    "        return 1.0\n",
    "    else:\n",
    "        return -0.0\n",
    "\n",
    "negative_sentiments[\"Predicted\"] = negative_sentiments[\"Predicted\"].apply(changePredicted)\n",
    "negative_sentiments"
   ]
  },
  {
   "cell_type": "code",
   "execution_count": 479,
   "metadata": {},
   "outputs": [
    {
     "data": {
      "text/plain": [
       "<Figure size 432x288 with 0 Axes>"
      ]
     },
     "metadata": {},
     "output_type": "display_data"
    },
    {
     "data": {
      "image/png": "[encoded data removed]",
      "text/plain": [
       "<Figure size 432x288 with 1 Axes>"
      ]
     },
     "metadata": {
      "needs_background": "light"
     },
     "output_type": "display_data"
    }
   ],
   "source": [
    "# Plot the real vs predicted values as a line chart\n",
    "import matplotlib.pyplot as plt\n",
    "import matplotlib\n",
    "import matplotlib.pyplot as plt\n",
    "plt.figure()\n",
    "negative_sentiments.plot(title=f\"Real Vs. Predicted {ticker} {window_size}-Day Move on Negative Sentiments\")\n",
    "plt.savefig(f'../Images/{ticker}_negative_lstm_predicted.png')\n",
    "plt.show()"
   ]
  },
  {
   "cell_type": "code",
   "execution_count": 480,
   "metadata": {},
   "outputs": [
    {
     "data": {
      "text/plain": [
       "<Figure size 432x288 with 0 Axes>"
      ]
     },
     "metadata": {},
     "output_type": "display_data"
    },
    {
     "data": {
      "image/png": "[encoded data removed]",
      "text/plain": [
       "<Figure size 432x288 with 1 Axes>"
      ]
     },
     "metadata": {
      "needs_background": "light"
     },
     "output_type": "display_data"
    }
   ],
   "source": [
    "# Plotting loss\n",
    "epochs = 200\n",
    "loss_df = pd.DataFrame(\n",
    "    {\n",
    "        \"Epoch\": range(1, epochs + 1),\n",
    "        \"Train\": training_history.history[\"loss\"],\n",
    "        \"Val\": training_history.history[\"val_loss\"],\n",
    "    }\n",
    ")\n",
    "loss_df.set_index(\"Epoch\", inplace=True)\n",
    "\n",
    "plt.figure()\n",
    "loss_df.plot(title=f\"Loss on LSTM {window_size}-Day Move for {ticker} on Negative News\")\n",
    "plt.savefig(f'../Images/{ticker}_loss_lstm_negative_sentiments.png')\n",
    "plt.show()"
   ]
  },
  {
   "cell_type": "code",
   "execution_count": 481,
   "metadata": {},
   "outputs": [],
   "source": [
    "import h5py\n",
    "\n",
    "model.save(f'../Models/{ticker}_lstm_loss_negative.h5')  # creates a HDF5 file 'my_model.h5'\n",
    "del model  # deletes the existing model"
   ]
  },
  {
   "cell_type": "code",
   "execution_count": 482,
   "metadata": {},
   "outputs": [],
   "source": [
    "from keras.models import load_model\n",
    "import tensorflow as tf\n",
    "from tensorflow import keras\n",
    "# returns a compiled model\n",
    "# identical to the previous one\n",
    "model = tf.keras.models.load_model(f'../Models/{ticker}_lstm_loss_negative.h5')"
   ]
  },
  {
   "cell_type": "code",
   "execution_count": null,
   "metadata": {},
   "outputs": [],
   "source": []
  }
 ],
 "metadata": {
  "kernelspec": {
   "display_name": "mlenv",
   "language": "python",
   "name": "mlenv"
  },
  "language_info": {
   "codemirror_mode": {
    "name": "ipython",
    "version": 3
   },
   "file_extension": ".py",
   "mimetype": "text/x-python",
   "name": "python",
   "nbconvert_exporter": "python",
   "pygments_lexer": "ipython3",
   "version": "3.7.6"
  }
 },
 "nbformat": 4,
 "nbformat_minor": 4
}
