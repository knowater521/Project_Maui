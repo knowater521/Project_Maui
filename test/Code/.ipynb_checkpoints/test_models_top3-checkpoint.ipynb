{
 "cells": [
  {
   "cell_type": "code",
   "execution_count": 416,
   "metadata": {},
   "outputs": [],
   "source": [
    "from iexfinance.stocks import Stock\n",
    "import pandas as pd\n",
    "import numpy as np\n",
    "from pathlib import Path\n",
    "from newsapi.newsapi_client import NewsApiClient\n",
    "import ipywidgets as widgets\n",
    "from IPython.display import display\n",
    "from datetime import date, datetime, timedelta\n",
    "import os \n",
    "import nltk\n",
    "from nltk.sentiment.vader import SentimentIntensityAnalyzer\n",
    "analyzer = SentimentIntensityAnalyzer()\n",
    "from iexfinance.stocks import get_historical_data\n",
    "import pickle\n",
    "from nltk.corpus import stopwords\n",
    "from nltk.tokenize import word_tokenize\n",
    "from nltk.stem import WordNetLemmatizer, PorterStemmer\n",
    "from string import punctuation\n",
    "import re"
   ]
  },
  {
   "cell_type": "code",
   "execution_count": 417,
   "metadata": {},
   "outputs": [],
   "source": [
    "import os\n",
    "import pandas as pd\n",
    "from alpha_vantage.timeseries import TimeSeries\n",
    "import time\n",
    "from path import Path\n",
    "%matplotlib inline\n",
    "from datetime import datetime as dt\n",
    "from dateutil.tz import gettz\n",
    "import re\n",
    "import numpy as np\n",
    "import pandas as pd\n",
    "import hvplot.pandas\n",
    "from sklearn.preprocessing import OneHotEncoder, StandardScaler\n",
    "import tensorflow as tf\n",
    "import keras\n",
    "from newsapi import NewsApiClient\n",
    "import ipywidgets as widgets\n",
    "from IPython.display import display\n",
    "import pandas as pd\n",
    "from datetime import datetime, timedelta\n",
    "from iexfinance.stocks import get_historical_data\n",
    "from pathlib import Path\n",
    "from pathlib import Path\n",
    "import pandas as pd\n",
    "import matplotlib.pyplot as plt\n",
    "from tensorflow.keras.models import Sequential\n",
    "from tensorflow.keras.layers import Dense"
   ]
  },
  {
   "cell_type": "code",
   "execution_count": 418,
   "metadata": {},
   "outputs": [],
   "source": [
    "import numpy as np\n",
    "import pandas as pd\n",
    "from pathlib import Path\n",
    "from collections import Counter\n",
    "\n",
    "from sklearn import tree\n",
    "from sklearn.preprocessing import StandardScaler\n",
    "from sklearn.model_selection import train_test_split\n",
    "from sklearn.metrics import confusion_matrix, accuracy_score, classification_report\n",
    "\n",
    "# Needed for decision tree visualization\n",
    "import pydotplus\n",
    "from IPython.display import Image\n",
    "\n",
    "import warnings\n",
    "warnings.filterwarnings('ignore')"
   ]
  },
  {
   "cell_type": "code",
   "execution_count": 419,
   "metadata": {},
   "outputs": [
    {
     "name": "stderr",
     "output_type": "stream",
     "text": [
      "[nltk_data] Downloading package vader_lexicon to\n",
      "[nltk_data]     /Users/ava/nltk_data...\n",
      "[nltk_data]   Package vader_lexicon is already up-to-date!\n"
     ]
    },
    {
     "data": {
      "text/plain": [
       "True"
      ]
     },
     "execution_count": 419,
     "metadata": {},
     "output_type": "execute_result"
    }
   ],
   "source": [
    "nltk.download('vader_lexicon')"
   ]
  },
  {
   "cell_type": "code",
   "execution_count": 420,
   "metadata": {},
   "outputs": [],
   "source": [
    "def create_df(ticker, lag=0):\n",
    "    \n",
    "    sp500_csv = Path(\"../../project_code/Data/sp500_constituents.csv\")\n",
    "    sp500_df = pd.read_csv(sp500_csv)\n",
    "    sp500_df['Ticker'] = sp500_df['Symbol']\n",
    "    sp500_df.drop(columns='Sector',inplace=True)\n",
    "    sp500_df.set_index('Ticker', inplace=True)\n",
    "    \n",
    "    stock_dict = sp500_df.T.to_dict('list')\n",
    "    \n",
    "    from datetime import date, datetime, timedelta\n",
    "    newsapi = NewsApiClient(api_key=os.environ[\"NEWS_API_KEY\"])\n",
    "    pickle.dump(newsapi,open('newsapi.pickle','wb'))\n",
    "    current_date = date.today()\n",
    "    past_date = date.today() - timedelta(days=30)\n",
    "    \n",
    "    def get_headlines(keyword):\n",
    "        all_headlines = []  #empty list for all headlines\n",
    "        all_dates = [] #empyt list for all dates\n",
    "        date = current_date #today's date\n",
    "        #print(f\"Fetching news about '{keyword}'\") #prints single string of function starting\n",
    "        #print(\"*\" * 30) #creating a line of stars for readability\n",
    "        while date > past_date: #establishes length of dates being pulled by for the \n",
    "            #lenght of the difference between today and past_date \n",
    "            #print(f\"retrieving news from: {date}\")#printing string for loop readability  \n",
    "            articles = newsapi.get_everything(   #pulling articles through API\n",
    "                q=keyword,\n",
    "                from_param=str(date),\n",
    "                to=str(date),\n",
    "                language=\"en\",\n",
    "                sort_by=\"relevancy\",\n",
    "                page=1,\n",
    "            )\n",
    "            headlines = []\n",
    "            for i in range(0, len(articles[\"articles\"])):\n",
    "\n",
    "                #pulling the content part of the dict\n",
    "                headlines.append(articles[\"articles\"][i][\"content\"])\n",
    "            all_headlines.append(headlines)\n",
    "            all_dates.append(date)\n",
    "            date = date - timedelta(days=1) #moving through the days            \n",
    "        return all_headlines, all_dates\n",
    "    \n",
    "    headlines, dates = get_headlines(stock_dict[ticker][1])\n",
    "    \n",
    "    df = pd.DataFrame(headlines)\n",
    "    df.index = pd.to_datetime(dates)\n",
    "    \n",
    "    concatinated_list = []\n",
    "    i = 0\n",
    "    while i < len(df):\n",
    "        date = df.index[i]\n",
    "        daily_data = df.iloc[i,:].dropna().to_list()\n",
    "        daily_data = \"\".join(daily_data)\n",
    "        concatinated_list.append({\"Date\":date,\n",
    "                                  \"articles\":daily_data\n",
    "                                  })\n",
    "        i = i + 1\n",
    "        \n",
    "    df = pd.DataFrame(concatinated_list)\n",
    "    lemmatizer = WordNetLemmatizer()\n",
    "    \n",
    "    def tokenizer(text):\n",
    "        sw = set(stopwords.words('english'))\n",
    "        regex = re.compile(\"[^a-zA-Z ]\")\n",
    "        re_clean = regex.sub('', text)\n",
    "        words = word_tokenize(re_clean)\n",
    "        lem = [lemmatizer.lemmatize(word) for word in words]\n",
    "        tokens = [word.lower() for word in lem if word.lower() not in sw]\n",
    "\n",
    "        return tokens\n",
    "\n",
    "    df[\"tokens\"] = [tokenizer(i) for i in df[\"articles\"]]\n",
    "    df[\"Clean Words\"] = [\" \".join(i)for i in df[\"tokens\"]]\n",
    "    \n",
    "    def get_sentiment(dataframe):\n",
    "    # list of sentiment objects observed\n",
    "        df_sentiments = []\n",
    "        i = 0 \n",
    "        # for rows in df: # the next time you put a for-loop outside of a try fn \n",
    "        # there will be a muckduck\n",
    "        # for loops are used for interating through one object ie. for every item in list \n",
    "        # while loops can be used for interating through multiple objects on the same \n",
    "        # index ie. 1st item in ...for 2nd item in... for 3rd item in.. \n",
    "\n",
    "\n",
    "        while i < len(dataframe[\"Clean Words\"]): # if we did len of df, then it would be \n",
    "            # the length of columns by doing len of df[col], then its length of rows\n",
    "\n",
    "            # to get values for the sentiment parameters\n",
    "            text = dataframe[\"Clean Words\"][i] \n",
    "            date = dataframe[\"Date\"][i]\n",
    "\n",
    "            # activate sentiment analysis\n",
    "            sentiment = analyzer.polarity_scores(text)  ## Attribute Error is applied for \n",
    "                                                        ## NoneTypes in \n",
    "            compound = sentiment[\"compound\"]\n",
    "            pos = sentiment[\"pos\"]\n",
    "            neu = sentiment[\"neu\"]\n",
    "            neg = sentiment[\"neg\"]\n",
    "\n",
    "            # append results of sentiment analysis per row of sentiment parameters df\n",
    "            df_sentiments.append({\n",
    "                    \"text\": text,\n",
    "                    \"date\": date,\n",
    "                    \"compound\": compound,\n",
    "                    \"positive\": pos,\n",
    "                    \"negative\": neg,\n",
    "                    \"neutral\": neu\n",
    "                })\n",
    "            i += 1\n",
    "\n",
    "        # Create DataFrame\n",
    "        final_df = pd.DataFrame(df_sentiments)\n",
    "\n",
    "        # Reorder DataFrame columns\n",
    "        cols = [\"date\", \"text\", \"compound\", \"positive\", \"negative\", \"neutral\"]\n",
    "        final_list = final_df[cols]\n",
    "\n",
    "        return final_list\n",
    "\n",
    "    df = get_sentiment(df)\n",
    "    df = df.set_index('date')\n",
    "    df = df.sort_values(by='date',ascending=True)\n",
    "\n",
    "    # setting start and end date for the past four weeks\n",
    "    # 29 days needed instead of 28 days so that we get 28 days of return when we calculate\n",
    "    end_date_stock = datetime.now()\n",
    "    start_date_stock = end_date_stock + timedelta(-31)\n",
    "\n",
    "    # getting data from the API and adding to DataFrame\n",
    "    returns_df = get_historical_data(ticker, start_date_stock, end_date_stock,  \n",
    "                                     output_format='pandas')\n",
    "    returns_df.drop(columns=['open','high','low','volume'],inplace=True)\n",
    "    returns_df = returns_df.pct_change() * 100\n",
    "    returns_df.dropna(inplace=True)\n",
    "    returns_df.isnull().sum()\n",
    "    returns_df.rename(columns={'close':'return'}, inplace=True)\n",
    "    \n",
    "    combined_df = pd.concat([df, returns_df], axis=1)\n",
    "\n",
    "    # Function takes in an NLP/stock returns dataframe and calculates the average polarity\n",
    "    # scores over non-trading days and replaces scores of the first trading day after\n",
    "    # non-trading days with average score of previous days.\n",
    "    def cleaned_df(dataframe):\n",
    "        compound = []\n",
    "        positive = []\n",
    "        negative = []\n",
    "        neutral = []\n",
    "\n",
    "        for index, row in dataframe.iterrows():\n",
    "\n",
    "            # If daily return is null value for a given day, append polarity scores to their\n",
    "            # respective lists.\n",
    "            if pd.isnull(row['return']):\n",
    "                compound.append(row['compound'])\n",
    "                positive.append(row['positive'])\n",
    "                negative.append(row['negative'])\n",
    "                neutral.append(row['neutral'])\n",
    "                dataframe.drop(index=index, inplace=True)\n",
    "\n",
    "            elif pd.notnull(row['return']):\n",
    "                \n",
    "                # The list of compound polarity scores will be empty if the stock was traded\n",
    "                # on the previous day; therefore, move along.\n",
    "                if len(compound) == 0:\n",
    "                    pass\n",
    "\n",
    "                # If the list is not empty, then at least one day prior was a non-trading \n",
    "                # day. Append the current day's scores to the list and calculate the mean \n",
    "                # for each score. Then replace the current day's polarity scores with the \n",
    "                # average scores of today and previous non-trading days.\n",
    "                else:\n",
    "                    compound.append(row['compound'])\n",
    "                    compound_mean = np.mean(compound)\n",
    "                    compound = []\n",
    "\n",
    "                    positive.append(row['positive'])\n",
    "                    positive_mean = np.mean(positive)\n",
    "                    positive = []\n",
    "\n",
    "                    negative.append(row['negative'])\n",
    "                    negative_mean = np.mean(negative)\n",
    "                    negative = []\n",
    "\n",
    "                    neutral.append(row['neutral'])\n",
    "                    neutral_mean = np.mean(neutral)\n",
    "                    neutral = []\n",
    "\n",
    "                    dataframe.at[index, 'compound'] = compound_mean\n",
    "                    dataframe.at[index, 'positive'] = positive_mean\n",
    "                    dataframe.at[index, 'negative'] = negative_mean\n",
    "                    dataframe.at[index, 'neutral'] = neutral_mean\n",
    "\n",
    "            else:\n",
    "                pass\n",
    "\n",
    "        return dataframe.sort_index(ascending=True)\n",
    "    \n",
    "    # Shift the return column up to adjust for a lag in stock reaction to sentiments.\n",
    "    final_df = cleaned_df(combined_df)\n",
    "    final_df['return'] = final_df['return'].shift(-lag)\n",
    "    final_df.dropna(inplace=True)\n",
    "    \n",
    "    return final_df"
   ]
  },
  {
   "cell_type": "code",
   "execution_count": 421,
   "metadata": {},
   "outputs": [],
   "source": [
    "ticker = 'DIS'"
   ]
  },
  {
   "cell_type": "code",
   "execution_count": 422,
   "metadata": {},
   "outputs": [],
   "source": [
    "dis_df = create_df('DIS')"
   ]
  },
  {
   "cell_type": "code",
   "execution_count": 423,
   "metadata": {},
   "outputs": [
    {
     "data": {
      "text/html": [
       "<div>\n",
       "<style scoped>\n",
       "    .dataframe tbody tr th:only-of-type {\n",
       "        vertical-align: middle;\n",
       "    }\n",
       "\n",
       "    .dataframe tbody tr th {\n",
       "        vertical-align: top;\n",
       "    }\n",
       "\n",
       "    .dataframe thead th {\n",
       "        text-align: right;\n",
       "    }\n",
       "</style>\n",
       "<table border=\"1\" class=\"dataframe\">\n",
       "  <thead>\n",
       "    <tr style=\"text-align: right;\">\n",
       "      <th></th>\n",
       "      <th>text</th>\n",
       "      <th>compound</th>\n",
       "      <th>positive</th>\n",
       "      <th>negative</th>\n",
       "      <th>neutral</th>\n",
       "      <th>return</th>\n",
       "    </tr>\n",
       "    <tr>\n",
       "      <th>date</th>\n",
       "      <th></th>\n",
       "      <th></th>\n",
       "      <th></th>\n",
       "      <th></th>\n",
       "      <th></th>\n",
       "      <th></th>\n",
       "    </tr>\n",
       "  </thead>\n",
       "  <tbody>\n",
       "    <tr>\n",
       "      <th>2020-03-19</th>\n",
       "      <td>health worker screen patient coronavirus march...</td>\n",
       "      <td>0.985100</td>\n",
       "      <td>0.117000</td>\n",
       "      <td>0.044</td>\n",
       "      <td>0.839000</td>\n",
       "      <td>6.903153</td>\n",
       "    </tr>\n",
       "    <tr>\n",
       "      <th>2020-03-20</th>\n",
       "      <td>disney said friday postponing launch eponymous...</td>\n",
       "      <td>0.898800</td>\n",
       "      <td>0.106000</td>\n",
       "      <td>0.090</td>\n",
       "      <td>0.804000</td>\n",
       "      <td>-9.428000</td>\n",
       "    </tr>\n",
       "    <tr>\n",
       "      <th>2020-03-23</th>\n",
       "      <td>health worker screen patient coronavirus march...</td>\n",
       "      <td>0.970400</td>\n",
       "      <td>0.125667</td>\n",
       "      <td>0.071</td>\n",
       "      <td>0.803333</td>\n",
       "      <td>-0.255873</td>\n",
       "    </tr>\n",
       "    <tr>\n",
       "      <th>2020-03-24</th>\n",
       "      <td>disney streaming service walt disney company h...</td>\n",
       "      <td>0.996800</td>\n",
       "      <td>0.192000</td>\n",
       "      <td>0.047</td>\n",
       "      <td>0.761000</td>\n",
       "      <td>14.412313</td>\n",
       "    </tr>\n",
       "    <tr>\n",
       "      <th>2020-03-25</th>\n",
       "      <td>response coronavirus pandemic disney theme par...</td>\n",
       "      <td>0.995300</td>\n",
       "      <td>0.182000</td>\n",
       "      <td>0.050</td>\n",
       "      <td>0.768000</td>\n",
       "      <td>2.660008</td>\n",
       "    </tr>\n",
       "    <tr>\n",
       "      <th>2020-03-26</th>\n",
       "      <td>authors note article part series attempt ident...</td>\n",
       "      <td>0.998700</td>\n",
       "      <td>0.239000</td>\n",
       "      <td>0.020</td>\n",
       "      <td>0.741000</td>\n",
       "      <td>4.596446</td>\n",
       "    </tr>\n",
       "    <tr>\n",
       "      <th>2020-03-27</th>\n",
       "      <td>disneyland walt disney world initially planned...</td>\n",
       "      <td>0.988600</td>\n",
       "      <td>0.114000</td>\n",
       "      <td>0.033</td>\n",
       "      <td>0.853000</td>\n",
       "      <td>-8.504176</td>\n",
       "    </tr>\n",
       "    <tr>\n",
       "      <th>2020-03-30</th>\n",
       "      <td>enjoying killer queen blacki started playing k...</td>\n",
       "      <td>0.994267</td>\n",
       "      <td>0.157000</td>\n",
       "      <td>0.049</td>\n",
       "      <td>0.794333</td>\n",
       "      <td>3.526971</td>\n",
       "    </tr>\n",
       "    <tr>\n",
       "      <th>2020-03-31</th>\n",
       "      <td>walt disneynysedis taking step conserve cash c...</td>\n",
       "      <td>0.982100</td>\n",
       "      <td>0.122000</td>\n",
       "      <td>0.058</td>\n",
       "      <td>0.821000</td>\n",
       "      <td>-3.206413</td>\n",
       "    </tr>\n",
       "    <tr>\n",
       "      <th>2020-04-01</th>\n",
       "      <td>even though walt disney company laying constru...</td>\n",
       "      <td>0.985300</td>\n",
       "      <td>0.148000</td>\n",
       "      <td>0.073</td>\n",
       "      <td>0.779000</td>\n",
       "      <td>-1.739130</td>\n",
       "    </tr>\n",
       "  </tbody>\n",
       "</table>\n",
       "</div>"
      ],
      "text/plain": [
       "                                                         text  compound  \\\n",
       "date                                                                      \n",
       "2020-03-19  health worker screen patient coronavirus march...  0.985100   \n",
       "2020-03-20  disney said friday postponing launch eponymous...  0.898800   \n",
       "2020-03-23  health worker screen patient coronavirus march...  0.970400   \n",
       "2020-03-24  disney streaming service walt disney company h...  0.996800   \n",
       "2020-03-25  response coronavirus pandemic disney theme par...  0.995300   \n",
       "2020-03-26  authors note article part series attempt ident...  0.998700   \n",
       "2020-03-27  disneyland walt disney world initially planned...  0.988600   \n",
       "2020-03-30  enjoying killer queen blacki started playing k...  0.994267   \n",
       "2020-03-31  walt disneynysedis taking step conserve cash c...  0.982100   \n",
       "2020-04-01  even though walt disney company laying constru...  0.985300   \n",
       "\n",
       "            positive  negative   neutral     return  \n",
       "date                                                 \n",
       "2020-03-19  0.117000     0.044  0.839000   6.903153  \n",
       "2020-03-20  0.106000     0.090  0.804000  -9.428000  \n",
       "2020-03-23  0.125667     0.071  0.803333  -0.255873  \n",
       "2020-03-24  0.192000     0.047  0.761000  14.412313  \n",
       "2020-03-25  0.182000     0.050  0.768000   2.660008  \n",
       "2020-03-26  0.239000     0.020  0.741000   4.596446  \n",
       "2020-03-27  0.114000     0.033  0.853000  -8.504176  \n",
       "2020-03-30  0.157000     0.049  0.794333   3.526971  \n",
       "2020-03-31  0.122000     0.058  0.821000  -3.206413  \n",
       "2020-04-01  0.148000     0.073  0.779000  -1.739130  "
      ]
     },
     "execution_count": 423,
     "metadata": {},
     "output_type": "execute_result"
    }
   ],
   "source": [
    "dis_df.head(10)"
   ]
  },
  {
   "cell_type": "code",
   "execution_count": 424,
   "metadata": {},
   "outputs": [],
   "source": [
    "# dis_df.to_pickle(f'../Data/{ticker}_sent_return.pickle')"
   ]
  },
  {
   "cell_type": "code",
   "execution_count": 425,
   "metadata": {},
   "outputs": [],
   "source": [
    "# Just lag function\n",
    "def df_lag(df, lag=0):\n",
    "    df['return'] = df['return'].shift(-lag)\n",
    "    df.dropna(inplace=True)\n",
    "    \n",
    "    return df"
   ]
  },
  {
   "cell_type": "code",
   "execution_count": 631,
   "metadata": {},
   "outputs": [],
   "source": [
    "df = df_lag(dis_df)"
   ]
  },
  {
   "cell_type": "code",
   "execution_count": 632,
   "metadata": {},
   "outputs": [],
   "source": [
    "df['return_sign'] = np.sign(df['return'].values)\n",
    "df_class = df.copy() # save a clean copy "
   ]
  },
  {
   "cell_type": "code",
   "execution_count": 633,
   "metadata": {},
   "outputs": [
    {
     "data": {
      "text/html": [
       "<div>\n",
       "<style scoped>\n",
       "    .dataframe tbody tr th:only-of-type {\n",
       "        vertical-align: middle;\n",
       "    }\n",
       "\n",
       "    .dataframe tbody tr th {\n",
       "        vertical-align: top;\n",
       "    }\n",
       "\n",
       "    .dataframe thead th {\n",
       "        text-align: right;\n",
       "    }\n",
       "</style>\n",
       "<table border=\"1\" class=\"dataframe\">\n",
       "  <thead>\n",
       "    <tr style=\"text-align: right;\">\n",
       "      <th></th>\n",
       "      <th>text</th>\n",
       "      <th>compound</th>\n",
       "      <th>positive</th>\n",
       "      <th>negative</th>\n",
       "      <th>neutral</th>\n",
       "      <th>return</th>\n",
       "      <th>return_sign</th>\n",
       "    </tr>\n",
       "    <tr>\n",
       "      <th>date</th>\n",
       "      <th></th>\n",
       "      <th></th>\n",
       "      <th></th>\n",
       "      <th></th>\n",
       "      <th></th>\n",
       "      <th></th>\n",
       "      <th></th>\n",
       "    </tr>\n",
       "  </thead>\n",
       "  <tbody>\n",
       "    <tr>\n",
       "      <th>2020-03-19</th>\n",
       "      <td>health worker screen patient coronavirus march...</td>\n",
       "      <td>0.9851</td>\n",
       "      <td>0.117000</td>\n",
       "      <td>0.044</td>\n",
       "      <td>0.839000</td>\n",
       "      <td>6.903153</td>\n",
       "      <td>1.0</td>\n",
       "    </tr>\n",
       "    <tr>\n",
       "      <th>2020-03-20</th>\n",
       "      <td>disney said friday postponing launch eponymous...</td>\n",
       "      <td>0.8988</td>\n",
       "      <td>0.106000</td>\n",
       "      <td>0.090</td>\n",
       "      <td>0.804000</td>\n",
       "      <td>-9.428000</td>\n",
       "      <td>-1.0</td>\n",
       "    </tr>\n",
       "    <tr>\n",
       "      <th>2020-03-23</th>\n",
       "      <td>health worker screen patient coronavirus march...</td>\n",
       "      <td>0.9704</td>\n",
       "      <td>0.125667</td>\n",
       "      <td>0.071</td>\n",
       "      <td>0.803333</td>\n",
       "      <td>-0.255873</td>\n",
       "      <td>-1.0</td>\n",
       "    </tr>\n",
       "    <tr>\n",
       "      <th>2020-03-24</th>\n",
       "      <td>disney streaming service walt disney company h...</td>\n",
       "      <td>0.9968</td>\n",
       "      <td>0.192000</td>\n",
       "      <td>0.047</td>\n",
       "      <td>0.761000</td>\n",
       "      <td>14.412313</td>\n",
       "      <td>1.0</td>\n",
       "    </tr>\n",
       "    <tr>\n",
       "      <th>2020-03-25</th>\n",
       "      <td>response coronavirus pandemic disney theme par...</td>\n",
       "      <td>0.9953</td>\n",
       "      <td>0.182000</td>\n",
       "      <td>0.050</td>\n",
       "      <td>0.768000</td>\n",
       "      <td>2.660008</td>\n",
       "      <td>1.0</td>\n",
       "    </tr>\n",
       "  </tbody>\n",
       "</table>\n",
       "</div>"
      ],
      "text/plain": [
       "                                                         text  compound  \\\n",
       "date                                                                      \n",
       "2020-03-19  health worker screen patient coronavirus march...    0.9851   \n",
       "2020-03-20  disney said friday postponing launch eponymous...    0.8988   \n",
       "2020-03-23  health worker screen patient coronavirus march...    0.9704   \n",
       "2020-03-24  disney streaming service walt disney company h...    0.9968   \n",
       "2020-03-25  response coronavirus pandemic disney theme par...    0.9953   \n",
       "\n",
       "            positive  negative   neutral     return  return_sign  \n",
       "date                                                              \n",
       "2020-03-19  0.117000     0.044  0.839000   6.903153          1.0  \n",
       "2020-03-20  0.106000     0.090  0.804000  -9.428000         -1.0  \n",
       "2020-03-23  0.125667     0.071  0.803333  -0.255873         -1.0  \n",
       "2020-03-24  0.192000     0.047  0.761000  14.412313          1.0  \n",
       "2020-03-25  0.182000     0.050  0.768000   2.660008          1.0  "
      ]
     },
     "execution_count": 633,
     "metadata": {},
     "output_type": "execute_result"
    }
   ],
   "source": [
    "df.head()"
   ]
  },
  {
   "cell_type": "code",
   "execution_count": 429,
   "metadata": {},
   "outputs": [
    {
     "data": {
      "text/html": [
       "<div>\n",
       "<style scoped>\n",
       "    .dataframe tbody tr th:only-of-type {\n",
       "        vertical-align: middle;\n",
       "    }\n",
       "\n",
       "    .dataframe tbody tr th {\n",
       "        vertical-align: top;\n",
       "    }\n",
       "\n",
       "    .dataframe thead th {\n",
       "        text-align: right;\n",
       "    }\n",
       "</style>\n",
       "<table border=\"1\" class=\"dataframe\">\n",
       "  <thead>\n",
       "    <tr style=\"text-align: right;\">\n",
       "      <th></th>\n",
       "      <th>compound</th>\n",
       "      <th>positive</th>\n",
       "      <th>negative</th>\n",
       "      <th>neutral</th>\n",
       "      <th>return</th>\n",
       "      <th>return_sign</th>\n",
       "    </tr>\n",
       "    <tr>\n",
       "      <th>date</th>\n",
       "      <th></th>\n",
       "      <th></th>\n",
       "      <th></th>\n",
       "      <th></th>\n",
       "      <th></th>\n",
       "      <th></th>\n",
       "    </tr>\n",
       "  </thead>\n",
       "  <tbody>\n",
       "    <tr>\n",
       "      <th>2020-03-19</th>\n",
       "      <td>0.985100</td>\n",
       "      <td>0.117000</td>\n",
       "      <td>0.04400</td>\n",
       "      <td>0.839000</td>\n",
       "      <td>6.903153</td>\n",
       "      <td>1.0</td>\n",
       "    </tr>\n",
       "    <tr>\n",
       "      <th>2020-03-20</th>\n",
       "      <td>0.898800</td>\n",
       "      <td>0.106000</td>\n",
       "      <td>0.09000</td>\n",
       "      <td>0.804000</td>\n",
       "      <td>-9.428000</td>\n",
       "      <td>-1.0</td>\n",
       "    </tr>\n",
       "    <tr>\n",
       "      <th>2020-03-23</th>\n",
       "      <td>0.970400</td>\n",
       "      <td>0.125667</td>\n",
       "      <td>0.07100</td>\n",
       "      <td>0.803333</td>\n",
       "      <td>-0.255873</td>\n",
       "      <td>-1.0</td>\n",
       "    </tr>\n",
       "    <tr>\n",
       "      <th>2020-03-24</th>\n",
       "      <td>0.996800</td>\n",
       "      <td>0.192000</td>\n",
       "      <td>0.04700</td>\n",
       "      <td>0.761000</td>\n",
       "      <td>14.412313</td>\n",
       "      <td>1.0</td>\n",
       "    </tr>\n",
       "    <tr>\n",
       "      <th>2020-03-25</th>\n",
       "      <td>0.995300</td>\n",
       "      <td>0.182000</td>\n",
       "      <td>0.05000</td>\n",
       "      <td>0.768000</td>\n",
       "      <td>2.660008</td>\n",
       "      <td>1.0</td>\n",
       "    </tr>\n",
       "    <tr>\n",
       "      <th>2020-03-26</th>\n",
       "      <td>0.998700</td>\n",
       "      <td>0.239000</td>\n",
       "      <td>0.02000</td>\n",
       "      <td>0.741000</td>\n",
       "      <td>4.596446</td>\n",
       "      <td>1.0</td>\n",
       "    </tr>\n",
       "    <tr>\n",
       "      <th>2020-03-27</th>\n",
       "      <td>0.988600</td>\n",
       "      <td>0.114000</td>\n",
       "      <td>0.03300</td>\n",
       "      <td>0.853000</td>\n",
       "      <td>-8.504176</td>\n",
       "      <td>-1.0</td>\n",
       "    </tr>\n",
       "    <tr>\n",
       "      <th>2020-03-30</th>\n",
       "      <td>0.994267</td>\n",
       "      <td>0.157000</td>\n",
       "      <td>0.04900</td>\n",
       "      <td>0.794333</td>\n",
       "      <td>3.526971</td>\n",
       "      <td>1.0</td>\n",
       "    </tr>\n",
       "    <tr>\n",
       "      <th>2020-03-31</th>\n",
       "      <td>0.982100</td>\n",
       "      <td>0.122000</td>\n",
       "      <td>0.05800</td>\n",
       "      <td>0.821000</td>\n",
       "      <td>-3.206413</td>\n",
       "      <td>-1.0</td>\n",
       "    </tr>\n",
       "    <tr>\n",
       "      <th>2020-04-01</th>\n",
       "      <td>0.985300</td>\n",
       "      <td>0.148000</td>\n",
       "      <td>0.07300</td>\n",
       "      <td>0.779000</td>\n",
       "      <td>-1.739130</td>\n",
       "      <td>-1.0</td>\n",
       "    </tr>\n",
       "    <tr>\n",
       "      <th>2020-04-02</th>\n",
       "      <td>0.981600</td>\n",
       "      <td>0.136000</td>\n",
       "      <td>0.07300</td>\n",
       "      <td>0.791000</td>\n",
       "      <td>2.159713</td>\n",
       "      <td>1.0</td>\n",
       "    </tr>\n",
       "    <tr>\n",
       "      <th>2020-04-03</th>\n",
       "      <td>0.977300</td>\n",
       "      <td>0.114000</td>\n",
       "      <td>0.05300</td>\n",
       "      <td>0.833000</td>\n",
       "      <td>-3.186553</td>\n",
       "      <td>-1.0</td>\n",
       "    </tr>\n",
       "    <tr>\n",
       "      <th>2020-04-06</th>\n",
       "      <td>0.991933</td>\n",
       "      <td>0.136333</td>\n",
       "      <td>0.04300</td>\n",
       "      <td>0.820333</td>\n",
       "      <td>6.071581</td>\n",
       "      <td>1.0</td>\n",
       "    </tr>\n",
       "    <tr>\n",
       "      <th>2020-04-07</th>\n",
       "      <td>0.996500</td>\n",
       "      <td>0.171000</td>\n",
       "      <td>0.04300</td>\n",
       "      <td>0.786000</td>\n",
       "      <td>1.667001</td>\n",
       "      <td>1.0</td>\n",
       "    </tr>\n",
       "    <tr>\n",
       "      <th>2020-04-08</th>\n",
       "      <td>0.851500</td>\n",
       "      <td>0.104000</td>\n",
       "      <td>0.07800</td>\n",
       "      <td>0.819000</td>\n",
       "      <td>-0.167918</td>\n",
       "      <td>-1.0</td>\n",
       "    </tr>\n",
       "    <tr>\n",
       "      <th>2020-04-09</th>\n",
       "      <td>0.994400</td>\n",
       "      <td>0.147000</td>\n",
       "      <td>0.03300</td>\n",
       "      <td>0.820000</td>\n",
       "      <td>3.393688</td>\n",
       "      <td>1.0</td>\n",
       "    </tr>\n",
       "    <tr>\n",
       "      <th>2020-04-13</th>\n",
       "      <td>0.996475</td>\n",
       "      <td>0.189000</td>\n",
       "      <td>0.04425</td>\n",
       "      <td>0.766750</td>\n",
       "      <td>-0.956938</td>\n",
       "      <td>-1.0</td>\n",
       "    </tr>\n",
       "    <tr>\n",
       "      <th>2020-04-14</th>\n",
       "      <td>0.998000</td>\n",
       "      <td>0.200000</td>\n",
       "      <td>0.02400</td>\n",
       "      <td>0.775000</td>\n",
       "      <td>2.444444</td>\n",
       "      <td>1.0</td>\n",
       "    </tr>\n",
       "    <tr>\n",
       "      <th>2020-04-15</th>\n",
       "      <td>0.994700</td>\n",
       "      <td>0.150000</td>\n",
       "      <td>0.04100</td>\n",
       "      <td>0.809000</td>\n",
       "      <td>-2.508724</td>\n",
       "      <td>-1.0</td>\n",
       "    </tr>\n",
       "    <tr>\n",
       "      <th>2020-04-16</th>\n",
       "      <td>0.997000</td>\n",
       "      <td>0.177000</td>\n",
       "      <td>0.02600</td>\n",
       "      <td>0.797000</td>\n",
       "      <td>-1.305988</td>\n",
       "      <td>-1.0</td>\n",
       "    </tr>\n",
       "  </tbody>\n",
       "</table>\n",
       "</div>"
      ],
      "text/plain": [
       "            compound  positive  negative   neutral     return  return_sign\n",
       "date                                                                      \n",
       "2020-03-19  0.985100  0.117000   0.04400  0.839000   6.903153          1.0\n",
       "2020-03-20  0.898800  0.106000   0.09000  0.804000  -9.428000         -1.0\n",
       "2020-03-23  0.970400  0.125667   0.07100  0.803333  -0.255873         -1.0\n",
       "2020-03-24  0.996800  0.192000   0.04700  0.761000  14.412313          1.0\n",
       "2020-03-25  0.995300  0.182000   0.05000  0.768000   2.660008          1.0\n",
       "2020-03-26  0.998700  0.239000   0.02000  0.741000   4.596446          1.0\n",
       "2020-03-27  0.988600  0.114000   0.03300  0.853000  -8.504176         -1.0\n",
       "2020-03-30  0.994267  0.157000   0.04900  0.794333   3.526971          1.0\n",
       "2020-03-31  0.982100  0.122000   0.05800  0.821000  -3.206413         -1.0\n",
       "2020-04-01  0.985300  0.148000   0.07300  0.779000  -1.739130         -1.0\n",
       "2020-04-02  0.981600  0.136000   0.07300  0.791000   2.159713          1.0\n",
       "2020-04-03  0.977300  0.114000   0.05300  0.833000  -3.186553         -1.0\n",
       "2020-04-06  0.991933  0.136333   0.04300  0.820333   6.071581          1.0\n",
       "2020-04-07  0.996500  0.171000   0.04300  0.786000   1.667001          1.0\n",
       "2020-04-08  0.851500  0.104000   0.07800  0.819000  -0.167918         -1.0\n",
       "2020-04-09  0.994400  0.147000   0.03300  0.820000   3.393688          1.0\n",
       "2020-04-13  0.996475  0.189000   0.04425  0.766750  -0.956938         -1.0\n",
       "2020-04-14  0.998000  0.200000   0.02400  0.775000   2.444444          1.0\n",
       "2020-04-15  0.994700  0.150000   0.04100  0.809000  -2.508724         -1.0\n",
       "2020-04-16  0.997000  0.177000   0.02600  0.797000  -1.305988         -1.0"
      ]
     },
     "execution_count": 429,
     "metadata": {},
     "output_type": "execute_result"
    }
   ],
   "source": [
    "df = df.drop(columns=['text'])\n",
    "df"
   ]
  },
  {
   "cell_type": "code",
   "execution_count": 430,
   "metadata": {},
   "outputs": [],
   "source": [
    "#df.to_pickle(f'../Data/{ticker}_clean.pickle')"
   ]
  },
  {
   "cell_type": "code",
   "execution_count": 636,
   "metadata": {},
   "outputs": [],
   "source": [
    "df = pd.read_pickle('../Data/DIS_clean.pickle')"
   ]
  },
  {
   "cell_type": "code",
   "execution_count": 638,
   "metadata": {},
   "outputs": [
    {
     "data": {
      "text/html": [
       "<div>\n",
       "<style scoped>\n",
       "    .dataframe tbody tr th:only-of-type {\n",
       "        vertical-align: middle;\n",
       "    }\n",
       "\n",
       "    .dataframe tbody tr th {\n",
       "        vertical-align: top;\n",
       "    }\n",
       "\n",
       "    .dataframe thead th {\n",
       "        text-align: right;\n",
       "    }\n",
       "</style>\n",
       "<table border=\"1\" class=\"dataframe\">\n",
       "  <thead>\n",
       "    <tr style=\"text-align: right;\">\n",
       "      <th></th>\n",
       "      <th>compound</th>\n",
       "      <th>positive</th>\n",
       "      <th>negative</th>\n",
       "      <th>neutral</th>\n",
       "    </tr>\n",
       "    <tr>\n",
       "      <th>date</th>\n",
       "      <th></th>\n",
       "      <th></th>\n",
       "      <th></th>\n",
       "      <th></th>\n",
       "    </tr>\n",
       "  </thead>\n",
       "  <tbody>\n",
       "    <tr>\n",
       "      <th>2020-03-18</th>\n",
       "      <td>0.9978</td>\n",
       "      <td>0.183000</td>\n",
       "      <td>0.015</td>\n",
       "      <td>0.802000</td>\n",
       "    </tr>\n",
       "    <tr>\n",
       "      <th>2020-03-19</th>\n",
       "      <td>0.9851</td>\n",
       "      <td>0.117000</td>\n",
       "      <td>0.044</td>\n",
       "      <td>0.839000</td>\n",
       "    </tr>\n",
       "    <tr>\n",
       "      <th>2020-03-20</th>\n",
       "      <td>0.8988</td>\n",
       "      <td>0.106000</td>\n",
       "      <td>0.090</td>\n",
       "      <td>0.804000</td>\n",
       "    </tr>\n",
       "    <tr>\n",
       "      <th>2020-03-23</th>\n",
       "      <td>0.9704</td>\n",
       "      <td>0.125667</td>\n",
       "      <td>0.071</td>\n",
       "      <td>0.803333</td>\n",
       "    </tr>\n",
       "    <tr>\n",
       "      <th>2020-03-24</th>\n",
       "      <td>0.9968</td>\n",
       "      <td>0.192000</td>\n",
       "      <td>0.047</td>\n",
       "      <td>0.761000</td>\n",
       "    </tr>\n",
       "  </tbody>\n",
       "</table>\n",
       "</div>"
      ],
      "text/plain": [
       "            compound  positive  negative   neutral\n",
       "date                                              \n",
       "2020-03-18    0.9978  0.183000     0.015  0.802000\n",
       "2020-03-19    0.9851  0.117000     0.044  0.839000\n",
       "2020-03-20    0.8988  0.106000     0.090  0.804000\n",
       "2020-03-23    0.9704  0.125667     0.071  0.803333\n",
       "2020-03-24    0.9968  0.192000     0.047  0.761000"
      ]
     },
     "execution_count": 638,
     "metadata": {},
     "output_type": "execute_result"
    }
   ],
   "source": [
    "X = df.drop(columns=['return', 'return_sign'])\n",
    "X.head()"
   ]
  },
  {
   "cell_type": "code",
   "execution_count": 639,
   "metadata": {},
   "outputs": [],
   "source": [
    "y = df['return_sign']"
   ]
  },
  {
   "cell_type": "code",
   "execution_count": 640,
   "metadata": {},
   "outputs": [
    {
     "data": {
      "text/html": [
       "<div>\n",
       "<style scoped>\n",
       "    .dataframe tbody tr th:only-of-type {\n",
       "        vertical-align: middle;\n",
       "    }\n",
       "\n",
       "    .dataframe tbody tr th {\n",
       "        vertical-align: top;\n",
       "    }\n",
       "\n",
       "    .dataframe thead th {\n",
       "        text-align: right;\n",
       "    }\n",
       "</style>\n",
       "<table border=\"1\" class=\"dataframe\">\n",
       "  <thead>\n",
       "    <tr style=\"text-align: right;\">\n",
       "      <th></th>\n",
       "      <th>return_sign</th>\n",
       "    </tr>\n",
       "    <tr>\n",
       "      <th>date</th>\n",
       "      <th></th>\n",
       "    </tr>\n",
       "  </thead>\n",
       "  <tbody>\n",
       "    <tr>\n",
       "      <th>2020-03-18</th>\n",
       "      <td>-1.0</td>\n",
       "    </tr>\n",
       "    <tr>\n",
       "      <th>2020-03-19</th>\n",
       "      <td>1.0</td>\n",
       "    </tr>\n",
       "    <tr>\n",
       "      <th>2020-03-20</th>\n",
       "      <td>-1.0</td>\n",
       "    </tr>\n",
       "    <tr>\n",
       "      <th>2020-03-23</th>\n",
       "      <td>-1.0</td>\n",
       "    </tr>\n",
       "    <tr>\n",
       "      <th>2020-03-24</th>\n",
       "      <td>1.0</td>\n",
       "    </tr>\n",
       "  </tbody>\n",
       "</table>\n",
       "</div>"
      ],
      "text/plain": [
       "            return_sign\n",
       "date                   \n",
       "2020-03-18         -1.0\n",
       "2020-03-19          1.0\n",
       "2020-03-20         -1.0\n",
       "2020-03-23         -1.0\n",
       "2020-03-24          1.0"
      ]
     },
     "execution_count": 640,
     "metadata": {},
     "output_type": "execute_result"
    }
   ],
   "source": [
    "y = y.to_frame()\n",
    "y.head()"
   ]
  },
  {
   "cell_type": "code",
   "execution_count": 641,
   "metadata": {},
   "outputs": [],
   "source": [
    "ticker = 'DIS'"
   ]
  },
  {
   "cell_type": "code",
   "execution_count": 642,
   "metadata": {},
   "outputs": [],
   "source": [
    "# 3-layer Neural Net"
   ]
  },
  {
   "cell_type": "code",
   "execution_count": 643,
   "metadata": {},
   "outputs": [],
   "source": [
    "# Create the features (X) and target (y) sets\n",
    "X = df.iloc[:, 0:4].values\n",
    "y = df[\"return_sign\"].values"
   ]
  },
  {
   "cell_type": "code",
   "execution_count": 644,
   "metadata": {},
   "outputs": [
    {
     "data": {
      "text/plain": [
       "(20, 1)"
      ]
     },
     "execution_count": 644,
     "metadata": {},
     "output_type": "execute_result"
    }
   ],
   "source": [
    "y= y.reshape(-1,1)\n",
    "y.shape"
   ]
  },
  {
   "cell_type": "code",
   "execution_count": 645,
   "metadata": {},
   "outputs": [
    {
     "data": {
      "text/plain": [
       "(20, 4)"
      ]
     },
     "execution_count": 645,
     "metadata": {},
     "output_type": "execute_result"
    }
   ],
   "source": [
    "X.shape"
   ]
  },
  {
   "cell_type": "code",
   "execution_count": 646,
   "metadata": {},
   "outputs": [],
   "source": [
    "# Scale the data\n",
    "from sklearn.preprocessing import StandardScaler\n",
    "\n",
    "scaler = StandardScaler().fit(X)\n",
    "X = scaler.transform(X)"
   ]
  },
  {
   "cell_type": "code",
   "execution_count": 647,
   "metadata": {},
   "outputs": [],
   "source": [
    "# Creating training and testing data sets\n",
    "from sklearn.model_selection import train_test_split\n",
    "X_train, X_test, y_train, y_test = train_test_split(X, y, test_size = 0.3, shuffle=False, random_state=42) "
   ]
  },
  {
   "cell_type": "code",
   "execution_count": 648,
   "metadata": {},
   "outputs": [],
   "source": [
    "# ---- Could load a saved model alternatively ------\n",
    "\n",
    "from keras.models import load_model\n",
    "import tensorflow as tf\n",
    "from tensorflow import keras\n",
    "\n",
    "# returns a compiled model\n",
    "# identical to the previous one\n",
    "nn_3 = tf.keras.models.load_model('../Models/../Models/disney_nn_loss_3_layers.h5')"
   ]
  },
  {
   "cell_type": "code",
   "execution_count": 649,
   "metadata": {},
   "outputs": [],
   "source": [
    "# Creating validation data sets\n",
    "from sklearn.model_selection import train_test_split\n",
    "X_train_val, X_val, y_train_val, y_val = train_test_split(X_train, y_train, test_size = 0.3, shuffle=False, random_state=42) "
   ]
  },
  {
   "cell_type": "code",
   "execution_count": 650,
   "metadata": {},
   "outputs": [],
   "source": [
    "# Define the model - deep neural net\n",
    "#number_input_features = 4\n",
    "#hidden_nodes_layer1 = 12\n",
    "#hidden_nodes_layer2 = 8\n",
    "#hidden_nodes_layer3 = 3\n",
    "\n",
    "\n",
    "#nn = Sequential()\n",
    "# First hidden layer\n",
    "#nn.add(\n",
    "#    Dense(units=hidden_nodes_layer1, input_dim=number_input_features, activation=\"relu\")\n",
    "#)\n",
    "# Second hidden layer\n",
    "#nn.add(Dense(units=hidden_nodes_layer2, activation=\"sigmoid\"))\n",
    "\n",
    "# Third hidden layer\n",
    "#nn.add(Dense(units=hidden_nodes_layer3, activation=\"tanh\"))\n",
    "\n",
    "# Output layer\n",
    "#nn.add(Dense(units=1, activation=\"linear\"))"
   ]
  },
  {
   "cell_type": "code",
   "execution_count": 651,
   "metadata": {},
   "outputs": [],
   "source": [
    "# Compile model\n",
    "#nn.compile(loss=\"mean_squared_error\", optimizer=\"adam\", metrics=[\"mse\"])\n",
    "#nn.summary()"
   ]
  },
  {
   "cell_type": "code",
   "execution_count": 652,
   "metadata": {},
   "outputs": [
    {
     "name": "stdout",
     "output_type": "stream",
     "text": [
      "Train on 9 samples, validate on 5 samples\n",
      "Epoch 1/200\n",
      "9/9 [==============================] - 0s 44ms/sample - loss: 1.1068 - mse: 1.1068 - val_loss: 1.2858 - val_mse: 1.2858\n",
      "Epoch 2/200\n",
      "9/9 [==============================] - 0s 2ms/sample - loss: 0.9934 - mse: 0.9934 - val_loss: 1.2151 - val_mse: 1.2151\n",
      "Epoch 3/200\n",
      "9/9 [==============================] - 0s 2ms/sample - loss: 0.8842 - mse: 0.8842 - val_loss: 1.1609 - val_mse: 1.1609\n",
      "Epoch 4/200\n",
      "9/9 [==============================] - 0s 2ms/sample - loss: 0.7943 - mse: 0.7943 - val_loss: 1.1233 - val_mse: 1.1233\n",
      "Epoch 5/200\n",
      "9/9 [==============================] - 0s 2ms/sample - loss: 0.7235 - mse: 0.7235 - val_loss: 1.0990 - val_mse: 1.0990\n",
      "Epoch 6/200\n",
      "9/9 [==============================] - 0s 2ms/sample - loss: 0.6680 - mse: 0.6680 - val_loss: 1.0852 - val_mse: 1.0852\n",
      "Epoch 7/200\n",
      "9/9 [==============================] - 0s 2ms/sample - loss: 0.6225 - mse: 0.6225 - val_loss: 1.0762 - val_mse: 1.0762\n",
      "Epoch 8/200\n",
      "9/9 [==============================] - 0s 2ms/sample - loss: 0.5832 - mse: 0.5832 - val_loss: 1.0692 - val_mse: 1.0692\n",
      "Epoch 9/200\n",
      "9/9 [==============================] - 0s 2ms/sample - loss: 0.5502 - mse: 0.5502 - val_loss: 1.0639 - val_mse: 1.0639\n",
      "Epoch 10/200\n",
      "9/9 [==============================] - 0s 2ms/sample - loss: 0.5204 - mse: 0.5204 - val_loss: 1.0597 - val_mse: 1.0597\n",
      "Epoch 11/200\n",
      "9/9 [==============================] - 0s 2ms/sample - loss: 0.4940 - mse: 0.4940 - val_loss: 1.0565 - val_mse: 1.0565\n",
      "Epoch 12/200\n",
      "9/9 [==============================] - 0s 2ms/sample - loss: 0.4704 - mse: 0.4704 - val_loss: 1.0543 - val_mse: 1.0543\n",
      "Epoch 13/200\n",
      "9/9 [==============================] - 0s 2ms/sample - loss: 0.4490 - mse: 0.4490 - val_loss: 1.0532 - val_mse: 1.0532\n",
      "Epoch 14/200\n",
      "9/9 [==============================] - 0s 2ms/sample - loss: 0.4295 - mse: 0.4295 - val_loss: 1.0531 - val_mse: 1.0531\n",
      "Epoch 15/200\n",
      "9/9 [==============================] - 0s 2ms/sample - loss: 0.4115 - mse: 0.4115 - val_loss: 1.0536 - val_mse: 1.0536\n",
      "Epoch 16/200\n",
      "9/9 [==============================] - 0s 2ms/sample - loss: 0.3949 - mse: 0.3949 - val_loss: 1.0551 - val_mse: 1.0551\n",
      "Epoch 17/200\n",
      "9/9 [==============================] - 0s 2ms/sample - loss: 0.3793 - mse: 0.3793 - val_loss: 1.0574 - val_mse: 1.0574\n",
      "Epoch 18/200\n",
      "9/9 [==============================] - 0s 2ms/sample - loss: 0.3647 - mse: 0.3647 - val_loss: 1.0605 - val_mse: 1.0605\n",
      "Epoch 19/200\n",
      "9/9 [==============================] - 0s 2ms/sample - loss: 0.3509 - mse: 0.3509 - val_loss: 1.0646 - val_mse: 1.0646\n",
      "Epoch 20/200\n",
      "9/9 [==============================] - 0s 2ms/sample - loss: 0.3379 - mse: 0.3379 - val_loss: 1.0696 - val_mse: 1.0696\n",
      "Epoch 21/200\n",
      "9/9 [==============================] - 0s 2ms/sample - loss: 0.3254 - mse: 0.3254 - val_loss: 1.0754 - val_mse: 1.0754\n",
      "Epoch 22/200\n",
      "9/9 [==============================] - 0s 2ms/sample - loss: 0.3139 - mse: 0.3139 - val_loss: 1.0791 - val_mse: 1.0791\n",
      "Epoch 23/200\n",
      "9/9 [==============================] - 0s 2ms/sample - loss: 0.3034 - mse: 0.3034 - val_loss: 1.0820 - val_mse: 1.0820\n",
      "Epoch 24/200\n",
      "9/9 [==============================] - 0s 2ms/sample - loss: 0.2933 - mse: 0.2933 - val_loss: 1.0852 - val_mse: 1.0852\n",
      "Epoch 25/200\n",
      "9/9 [==============================] - 0s 2ms/sample - loss: 0.2838 - mse: 0.2838 - val_loss: 1.0885 - val_mse: 1.0885\n",
      "Epoch 26/200\n",
      "9/9 [==============================] - 0s 2ms/sample - loss: 0.2751 - mse: 0.2751 - val_loss: 1.0957 - val_mse: 1.0957\n",
      "Epoch 27/200\n",
      "9/9 [==============================] - 0s 2ms/sample - loss: 0.2666 - mse: 0.2666 - val_loss: 1.1013 - val_mse: 1.1013\n",
      "Epoch 28/200\n",
      "9/9 [==============================] - 0s 2ms/sample - loss: 0.2591 - mse: 0.2591 - val_loss: 1.1062 - val_mse: 1.1062\n",
      "Epoch 29/200\n",
      "9/9 [==============================] - 0s 2ms/sample - loss: 0.2518 - mse: 0.2518 - val_loss: 1.1110 - val_mse: 1.1110\n",
      "Epoch 30/200\n",
      "9/9 [==============================] - 0s 2ms/sample - loss: 0.2446 - mse: 0.2446 - val_loss: 1.1161 - val_mse: 1.1161\n",
      "Epoch 31/200\n",
      "9/9 [==============================] - 0s 2ms/sample - loss: 0.2385 - mse: 0.2385 - val_loss: 1.1256 - val_mse: 1.1256\n",
      "Epoch 32/200\n",
      "9/9 [==============================] - 0s 2ms/sample - loss: 0.2322 - mse: 0.2322 - val_loss: 1.1330 - val_mse: 1.1330\n",
      "Epoch 33/200\n",
      "9/9 [==============================] - 0s 2ms/sample - loss: 0.2262 - mse: 0.2262 - val_loss: 1.1393 - val_mse: 1.1393\n",
      "Epoch 34/200\n",
      "9/9 [==============================] - 0s 2ms/sample - loss: 0.2205 - mse: 0.2205 - val_loss: 1.1456 - val_mse: 1.1456\n",
      "Epoch 35/200\n",
      "9/9 [==============================] - 0s 2ms/sample - loss: 0.2148 - mse: 0.2148 - val_loss: 1.1516 - val_mse: 1.1516\n",
      "Epoch 36/200\n",
      "9/9 [==============================] - 0s 2ms/sample - loss: 0.2097 - mse: 0.2097 - val_loss: 1.1577 - val_mse: 1.1577\n",
      "Epoch 37/200\n",
      "9/9 [==============================] - 0s 2ms/sample - loss: 0.2048 - mse: 0.2048 - val_loss: 1.1638 - val_mse: 1.1638\n",
      "Epoch 38/200\n",
      "9/9 [==============================] - 0s 2ms/sample - loss: 0.2002 - mse: 0.2002 - val_loss: 1.1756 - val_mse: 1.1756\n",
      "Epoch 39/200\n",
      "9/9 [==============================] - 0s 2ms/sample - loss: 0.1953 - mse: 0.1953 - val_loss: 1.1847 - val_mse: 1.1847\n",
      "Epoch 40/200\n",
      "9/9 [==============================] - 0s 2ms/sample - loss: 0.1912 - mse: 0.1912 - val_loss: 1.1922 - val_mse: 1.1922\n",
      "Epoch 41/200\n",
      "9/9 [==============================] - 0s 2ms/sample - loss: 0.1873 - mse: 0.1873 - val_loss: 1.1991 - val_mse: 1.1991\n",
      "Epoch 42/200\n",
      "9/9 [==============================] - 0s 2ms/sample - loss: 0.1834 - mse: 0.1834 - val_loss: 1.2059 - val_mse: 1.2059\n",
      "Epoch 43/200\n",
      "9/9 [==============================] - 0s 2ms/sample - loss: 0.1797 - mse: 0.1797 - val_loss: 1.2125 - val_mse: 1.2125\n",
      "Epoch 44/200\n",
      "9/9 [==============================] - 0s 2ms/sample - loss: 0.1758 - mse: 0.1758 - val_loss: 1.2191 - val_mse: 1.2191\n",
      "Epoch 45/200\n",
      "9/9 [==============================] - 0s 2ms/sample - loss: 0.1728 - mse: 0.1728 - val_loss: 1.2256 - val_mse: 1.2256\n",
      "Epoch 46/200\n",
      "9/9 [==============================] - 0s 2ms/sample - loss: 0.1698 - mse: 0.1698 - val_loss: 1.2322 - val_mse: 1.2322\n",
      "Epoch 47/200\n",
      "9/9 [==============================] - 0s 5ms/sample - loss: 0.1668 - mse: 0.1668 - val_loss: 1.2386 - val_mse: 1.2386\n",
      "Epoch 48/200\n",
      "9/9 [==============================] - 0s 2ms/sample - loss: 0.1640 - mse: 0.1640 - val_loss: 1.2449 - val_mse: 1.2449\n",
      "Epoch 49/200\n",
      "9/9 [==============================] - 0s 2ms/sample - loss: 0.1614 - mse: 0.1614 - val_loss: 1.2511 - val_mse: 1.2511\n",
      "Epoch 50/200\n",
      "9/9 [==============================] - 0s 2ms/sample - loss: 0.1585 - mse: 0.1585 - val_loss: 1.2570 - val_mse: 1.2570\n",
      "Epoch 51/200\n",
      "9/9 [==============================] - 0s 2ms/sample - loss: 0.1566 - mse: 0.1566 - val_loss: 1.2711 - val_mse: 1.2711\n",
      "Epoch 52/200\n",
      "9/9 [==============================] - 0s 2ms/sample - loss: 0.1545 - mse: 0.1545 - val_loss: 1.2808 - val_mse: 1.2808\n",
      "Epoch 53/200\n",
      "9/9 [==============================] - 0s 2ms/sample - loss: 0.1524 - mse: 0.1524 - val_loss: 1.2882 - val_mse: 1.2882\n",
      "Epoch 54/200\n",
      "9/9 [==============================] - 0s 2ms/sample - loss: 0.1504 - mse: 0.1504 - val_loss: 1.2945 - val_mse: 1.2945\n",
      "Epoch 55/200\n",
      "9/9 [==============================] - 0s 2ms/sample - loss: 0.1484 - mse: 0.1484 - val_loss: 1.3005 - val_mse: 1.3005\n",
      "Epoch 56/200\n",
      "9/9 [==============================] - 0s 2ms/sample - loss: 0.1465 - mse: 0.1465 - val_loss: 1.3062 - val_mse: 1.3062\n",
      "Epoch 57/200\n",
      "9/9 [==============================] - 0s 2ms/sample - loss: 0.1447 - mse: 0.1447 - val_loss: 1.3117 - val_mse: 1.3117\n",
      "Epoch 58/200\n",
      "9/9 [==============================] - 0s 2ms/sample - loss: 0.1430 - mse: 0.1430 - val_loss: 1.3172 - val_mse: 1.3172\n",
      "Epoch 59/200\n",
      "9/9 [==============================] - 0s 2ms/sample - loss: 0.1410 - mse: 0.1410 - val_loss: 1.3222 - val_mse: 1.3222\n",
      "Epoch 60/200\n",
      "9/9 [==============================] - 0s 2ms/sample - loss: 0.1397 - mse: 0.1397 - val_loss: 1.3271 - val_mse: 1.3271\n",
      "Epoch 61/200\n",
      "9/9 [==============================] - 0s 2ms/sample - loss: 0.1383 - mse: 0.1383 - val_loss: 1.3323 - val_mse: 1.3323\n",
      "Epoch 62/200\n",
      "9/9 [==============================] - 0s 2ms/sample - loss: 0.1369 - mse: 0.1369 - val_loss: 1.3373 - val_mse: 1.3373\n",
      "Epoch 63/200\n",
      "9/9 [==============================] - 0s 2ms/sample - loss: 0.1354 - mse: 0.1354 - val_loss: 1.3422 - val_mse: 1.3422\n",
      "Epoch 64/200\n",
      "9/9 [==============================] - 0s 2ms/sample - loss: 0.1340 - mse: 0.1340 - val_loss: 1.3472 - val_mse: 1.3472\n",
      "Epoch 65/200\n",
      "9/9 [==============================] - 0s 2ms/sample - loss: 0.1327 - mse: 0.1327 - val_loss: 1.3520 - val_mse: 1.3520\n",
      "Epoch 66/200\n",
      "9/9 [==============================] - 0s 2ms/sample - loss: 0.1314 - mse: 0.1314 - val_loss: 1.3567 - val_mse: 1.3567\n",
      "Epoch 67/200\n",
      "9/9 [==============================] - 0s 2ms/sample - loss: 0.1301 - mse: 0.1301 - val_loss: 1.3615 - val_mse: 1.3615\n",
      "Epoch 68/200\n",
      "9/9 [==============================] - 0s 2ms/sample - loss: 0.1288 - mse: 0.1288 - val_loss: 1.3660 - val_mse: 1.3660\n",
      "Epoch 69/200\n",
      "9/9 [==============================] - 0s 2ms/sample - loss: 0.1276 - mse: 0.1276 - val_loss: 1.3704 - val_mse: 1.3704\n",
      "Epoch 70/200\n",
      "9/9 [==============================] - 0s 2ms/sample - loss: 0.1265 - mse: 0.1265 - val_loss: 1.3750 - val_mse: 1.3750\n",
      "Epoch 71/200\n",
      "9/9 [==============================] - 0s 2ms/sample - loss: 0.1253 - mse: 0.1253 - val_loss: 1.3794 - val_mse: 1.3794\n",
      "Epoch 72/200\n",
      "9/9 [==============================] - 0s 2ms/sample - loss: 0.1237 - mse: 0.1237 - val_loss: 1.3837 - val_mse: 1.3837\n",
      "Epoch 73/200\n",
      "9/9 [==============================] - 0s 2ms/sample - loss: 0.1230 - mse: 0.1230 - val_loss: 1.3882 - val_mse: 1.3882\n",
      "Epoch 74/200\n",
      "9/9 [==============================] - 0s 2ms/sample - loss: 0.1221 - mse: 0.1221 - val_loss: 1.3931 - val_mse: 1.3931\n",
      "Epoch 75/200\n",
      "9/9 [==============================] - 0s 2ms/sample - loss: 0.1211 - mse: 0.1211 - val_loss: 1.3978 - val_mse: 1.3978\n",
      "Epoch 76/200\n",
      "9/9 [==============================] - 0s 2ms/sample - loss: 0.1200 - mse: 0.1200 - val_loss: 1.4025 - val_mse: 1.4025\n",
      "Epoch 77/200\n",
      "9/9 [==============================] - 0s 2ms/sample - loss: 0.1190 - mse: 0.1190 - val_loss: 1.4074 - val_mse: 1.4074\n",
      "Epoch 78/200\n",
      "9/9 [==============================] - 0s 2ms/sample - loss: 0.1180 - mse: 0.1180 - val_loss: 1.4119 - val_mse: 1.4119\n",
      "Epoch 79/200\n",
      "9/9 [==============================] - 0s 2ms/sample - loss: 0.1170 - mse: 0.1170 - val_loss: 1.4163 - val_mse: 1.4163\n",
      "Epoch 80/200\n",
      "9/9 [==============================] - 0s 2ms/sample - loss: 0.1160 - mse: 0.1160 - val_loss: 1.4209 - val_mse: 1.4209\n",
      "Epoch 81/200\n",
      "9/9 [==============================] - 0s 2ms/sample - loss: 0.1150 - mse: 0.1150 - val_loss: 1.4253 - val_mse: 1.4253\n",
      "Epoch 82/200\n",
      "9/9 [==============================] - 0s 2ms/sample - loss: 0.1140 - mse: 0.1140 - val_loss: 1.4295 - val_mse: 1.4295\n",
      "Epoch 83/200\n",
      "9/9 [==============================] - 0s 2ms/sample - loss: 0.1131 - mse: 0.1131 - val_loss: 1.4337 - val_mse: 1.4337\n",
      "Epoch 84/200\n",
      "9/9 [==============================] - 0s 2ms/sample - loss: 0.1121 - mse: 0.1121 - val_loss: 1.4382 - val_mse: 1.4382\n",
      "Epoch 85/200\n",
      "9/9 [==============================] - 0s 2ms/sample - loss: 0.1112 - mse: 0.1112 - val_loss: 1.4424 - val_mse: 1.4424\n",
      "Epoch 86/200\n",
      "9/9 [==============================] - 0s 2ms/sample - loss: 0.1103 - mse: 0.1103 - val_loss: 1.4465 - val_mse: 1.4465\n",
      "Epoch 87/200\n",
      "9/9 [==============================] - 0s 2ms/sample - loss: 0.1094 - mse: 0.1094 - val_loss: 1.4509 - val_mse: 1.4509\n",
      "Epoch 88/200\n",
      "9/9 [==============================] - 0s 2ms/sample - loss: 0.1085 - mse: 0.1085 - val_loss: 1.4551 - val_mse: 1.4551\n",
      "Epoch 89/200\n",
      "9/9 [==============================] - 0s 2ms/sample - loss: 0.1072 - mse: 0.1072 - val_loss: 1.4712 - val_mse: 1.4712\n",
      "Epoch 90/200\n",
      "9/9 [==============================] - 0s 2ms/sample - loss: 0.1067 - mse: 0.1067 - val_loss: 1.4812 - val_mse: 1.4812\n",
      "Epoch 91/200\n",
      "9/9 [==============================] - 0s 2ms/sample - loss: 0.1060 - mse: 0.1060 - val_loss: 1.4878 - val_mse: 1.4878\n",
      "Epoch 92/200\n",
      "9/9 [==============================] - 0s 2ms/sample - loss: 0.1051 - mse: 0.1051 - val_loss: 1.4932 - val_mse: 1.4932\n",
      "Epoch 93/200\n",
      "9/9 [==============================] - 0s 2ms/sample - loss: 0.1043 - mse: 0.1043 - val_loss: 1.4980 - val_mse: 1.4980\n",
      "Epoch 94/200\n",
      "9/9 [==============================] - 0s 2ms/sample - loss: 0.1034 - mse: 0.1034 - val_loss: 1.5026 - val_mse: 1.5026\n",
      "Epoch 95/200\n",
      "9/9 [==============================] - 0s 2ms/sample - loss: 0.1025 - mse: 0.1025 - val_loss: 1.5074 - val_mse: 1.5074\n",
      "Epoch 96/200\n",
      "9/9 [==============================] - 0s 2ms/sample - loss: 0.1017 - mse: 0.1017 - val_loss: 1.5118 - val_mse: 1.5118\n",
      "Epoch 97/200\n",
      "9/9 [==============================] - 0s 2ms/sample - loss: 0.1008 - mse: 0.1008 - val_loss: 1.5162 - val_mse: 1.5162\n",
      "Epoch 98/200\n",
      "9/9 [==============================] - 0s 2ms/sample - loss: 0.1000 - mse: 0.1000 - val_loss: 1.5207 - val_mse: 1.5207\n",
      "Epoch 99/200\n",
      "9/9 [==============================] - 0s 2ms/sample - loss: 0.0992 - mse: 0.0992 - val_loss: 1.5249 - val_mse: 1.5249\n",
      "Epoch 100/200\n",
      "9/9 [==============================] - 0s 2ms/sample - loss: 0.0983 - mse: 0.0983 - val_loss: 1.5291 - val_mse: 1.5291\n",
      "Epoch 101/200\n",
      "9/9 [==============================] - 0s 2ms/sample - loss: 0.0975 - mse: 0.0975 - val_loss: 1.5332 - val_mse: 1.5332\n",
      "Epoch 102/200\n",
      "9/9 [==============================] - 0s 2ms/sample - loss: 0.0967 - mse: 0.0967 - val_loss: 1.5377 - val_mse: 1.5377\n",
      "Epoch 103/200\n",
      "9/9 [==============================] - 0s 2ms/sample - loss: 0.0959 - mse: 0.0959 - val_loss: 1.5419 - val_mse: 1.5419\n",
      "Epoch 104/200\n",
      "9/9 [==============================] - 0s 2ms/sample - loss: 0.0951 - mse: 0.0951 - val_loss: 1.5461 - val_mse: 1.5461\n",
      "Epoch 105/200\n",
      "9/9 [==============================] - 0s 2ms/sample - loss: 0.0939 - mse: 0.0939 - val_loss: 1.5507 - val_mse: 1.5507\n",
      "Epoch 106/200\n",
      "9/9 [==============================] - 0s 2ms/sample - loss: 0.0934 - mse: 0.0934 - val_loss: 1.5552 - val_mse: 1.5552\n",
      "Epoch 107/200\n",
      "9/9 [==============================] - 0s 2ms/sample - loss: 0.0928 - mse: 0.0928 - val_loss: 1.5599 - val_mse: 1.5599\n",
      "Epoch 108/200\n",
      "9/9 [==============================] - 0s 4ms/sample - loss: 0.0920 - mse: 0.0920 - val_loss: 1.5650 - val_mse: 1.5650\n",
      "Epoch 109/200\n",
      "9/9 [==============================] - 0s 2ms/sample - loss: 0.0912 - mse: 0.0912 - val_loss: 1.5698 - val_mse: 1.5698\n",
      "Epoch 110/200\n",
      "9/9 [==============================] - 0s 2ms/sample - loss: 0.0904 - mse: 0.0904 - val_loss: 1.5743 - val_mse: 1.5743\n",
      "Epoch 111/200\n",
      "9/9 [==============================] - 0s 2ms/sample - loss: 0.0897 - mse: 0.0897 - val_loss: 1.5788 - val_mse: 1.5788\n",
      "Epoch 112/200\n",
      "9/9 [==============================] - 0s 2ms/sample - loss: 0.0888 - mse: 0.0888 - val_loss: 1.5835 - val_mse: 1.5835\n",
      "Epoch 113/200\n",
      "9/9 [==============================] - 0s 2ms/sample - loss: 0.0881 - mse: 0.0881 - val_loss: 1.5879 - val_mse: 1.5879\n",
      "Epoch 114/200\n",
      "9/9 [==============================] - 0s 2ms/sample - loss: 0.0873 - mse: 0.0873 - val_loss: 1.5921 - val_mse: 1.5921\n",
      "Epoch 115/200\n",
      "9/9 [==============================] - 0s 2ms/sample - loss: 0.0865 - mse: 0.0865 - val_loss: 1.5963 - val_mse: 1.5963\n",
      "Epoch 116/200\n",
      "9/9 [==============================] - 0s 2ms/sample - loss: 0.0857 - mse: 0.0857 - val_loss: 1.6009 - val_mse: 1.6009\n",
      "Epoch 117/200\n",
      "9/9 [==============================] - 0s 2ms/sample - loss: 0.0850 - mse: 0.0850 - val_loss: 1.6052 - val_mse: 1.6052\n",
      "Epoch 118/200\n",
      "9/9 [==============================] - 0s 2ms/sample - loss: 0.0838 - mse: 0.0838 - val_loss: 1.6094 - val_mse: 1.6094\n",
      "Epoch 119/200\n",
      "9/9 [==============================] - 0s 2ms/sample - loss: 0.0834 - mse: 0.0834 - val_loss: 1.6144 - val_mse: 1.6144\n",
      "Epoch 120/200\n",
      "9/9 [==============================] - 0s 2ms/sample - loss: 0.0828 - mse: 0.0828 - val_loss: 1.6192 - val_mse: 1.6192\n",
      "Epoch 121/200\n",
      "9/9 [==============================] - 0s 2ms/sample - loss: 0.0821 - mse: 0.0821 - val_loss: 1.6240 - val_mse: 1.6240\n",
      "Epoch 122/200\n",
      "9/9 [==============================] - 0s 2ms/sample - loss: 0.0814 - mse: 0.0814 - val_loss: 1.6288 - val_mse: 1.6288\n",
      "Epoch 123/200\n",
      "9/9 [==============================] - 0s 2ms/sample - loss: 0.0806 - mse: 0.0806 - val_loss: 1.6338 - val_mse: 1.6338\n",
      "Epoch 124/200\n",
      "9/9 [==============================] - 0s 2ms/sample - loss: 0.0798 - mse: 0.0798 - val_loss: 1.6384 - val_mse: 1.6384\n",
      "Epoch 125/200\n",
      "9/9 [==============================] - 0s 2ms/sample - loss: 0.0791 - mse: 0.0791 - val_loss: 1.6427 - val_mse: 1.6427\n",
      "Epoch 126/200\n",
      "9/9 [==============================] - 0s 2ms/sample - loss: 0.0783 - mse: 0.0783 - val_loss: 1.6471 - val_mse: 1.6471\n",
      "Epoch 127/200\n",
      "9/9 [==============================] - 0s 2ms/sample - loss: 0.0776 - mse: 0.0776 - val_loss: 1.6518 - val_mse: 1.6518\n",
      "Epoch 128/200\n",
      "9/9 [==============================] - 0s 2ms/sample - loss: 0.0768 - mse: 0.0768 - val_loss: 1.6561 - val_mse: 1.6561\n",
      "Epoch 129/200\n",
      "9/9 [==============================] - 0s 2ms/sample - loss: 0.0761 - mse: 0.0761 - val_loss: 1.6604 - val_mse: 1.6604\n",
      "Epoch 130/200\n",
      "9/9 [==============================] - 0s 2ms/sample - loss: 0.0750 - mse: 0.0750 - val_loss: 1.6651 - val_mse: 1.6651\n",
      "Epoch 131/200\n",
      "9/9 [==============================] - 0s 2ms/sample - loss: 0.0746 - mse: 0.0746 - val_loss: 1.6698 - val_mse: 1.6698\n",
      "Epoch 132/200\n",
      "9/9 [==============================] - 0s 2ms/sample - loss: 0.0740 - mse: 0.0740 - val_loss: 1.6747 - val_mse: 1.6747\n",
      "Epoch 133/200\n",
      "9/9 [==============================] - 0s 2ms/sample - loss: 0.0734 - mse: 0.0734 - val_loss: 1.6957 - val_mse: 1.6957\n",
      "Epoch 134/200\n",
      "9/9 [==============================] - 0s 2ms/sample - loss: 0.0727 - mse: 0.0727 - val_loss: 1.7080 - val_mse: 1.7080\n",
      "Epoch 135/200\n",
      "9/9 [==============================] - 0s 2ms/sample - loss: 0.0720 - mse: 0.0720 - val_loss: 1.7155 - val_mse: 1.7155\n",
      "Epoch 136/200\n",
      "9/9 [==============================] - 0s 2ms/sample - loss: 0.0712 - mse: 0.0712 - val_loss: 1.7211 - val_mse: 1.7211\n",
      "Epoch 137/200\n",
      "9/9 [==============================] - 0s 2ms/sample - loss: 0.0705 - mse: 0.0705 - val_loss: 1.7258 - val_mse: 1.7258\n",
      "Epoch 138/200\n",
      "9/9 [==============================] - 0s 2ms/sample - loss: 0.0698 - mse: 0.0698 - val_loss: 1.7304 - val_mse: 1.7304\n",
      "Epoch 139/200\n",
      "9/9 [==============================] - 0s 2ms/sample - loss: 0.0691 - mse: 0.0691 - val_loss: 1.7355 - val_mse: 1.7355\n",
      "Epoch 140/200\n",
      "9/9 [==============================] - 0s 2ms/sample - loss: 0.0684 - mse: 0.0684 - val_loss: 1.7405 - val_mse: 1.7405\n",
      "Epoch 141/200\n",
      "9/9 [==============================] - 0s 2ms/sample - loss: 0.0677 - mse: 0.0677 - val_loss: 1.7455 - val_mse: 1.7455\n",
      "Epoch 142/200\n",
      "9/9 [==============================] - 0s 2ms/sample - loss: 0.0667 - mse: 0.0667 - val_loss: 1.7505 - val_mse: 1.7505\n",
      "Epoch 143/200\n",
      "9/9 [==============================] - 0s 2ms/sample - loss: 0.0663 - mse: 0.0663 - val_loss: 1.7561 - val_mse: 1.7561\n",
      "Epoch 144/200\n",
      "9/9 [==============================] - 0s 2ms/sample - loss: 0.0657 - mse: 0.0657 - val_loss: 1.7618 - val_mse: 1.7618\n",
      "Epoch 145/200\n",
      "9/9 [==============================] - 0s 2ms/sample - loss: 0.0651 - mse: 0.0651 - val_loss: 1.7673 - val_mse: 1.7673\n",
      "Epoch 146/200\n",
      "9/9 [==============================] - 0s 2ms/sample - loss: 0.0644 - mse: 0.0644 - val_loss: 1.7724 - val_mse: 1.7724\n",
      "Epoch 147/200\n",
      "9/9 [==============================] - 0s 2ms/sample - loss: 0.0637 - mse: 0.0637 - val_loss: 1.7779 - val_mse: 1.7779\n",
      "Epoch 148/200\n",
      "9/9 [==============================] - 0s 2ms/sample - loss: 0.0631 - mse: 0.0631 - val_loss: 1.7831 - val_mse: 1.7831\n",
      "Epoch 149/200\n",
      "9/9 [==============================] - 0s 2ms/sample - loss: 0.0624 - mse: 0.0624 - val_loss: 1.7882 - val_mse: 1.7882\n",
      "Epoch 150/200\n",
      "9/9 [==============================] - 0s 2ms/sample - loss: 0.0617 - mse: 0.0617 - val_loss: 1.7931 - val_mse: 1.7931\n",
      "Epoch 151/200\n",
      "9/9 [==============================] - 0s 2ms/sample - loss: 0.0610 - mse: 0.0610 - val_loss: 1.7983 - val_mse: 1.7983\n",
      "Epoch 152/200\n",
      "9/9 [==============================] - 0s 2ms/sample - loss: 0.0604 - mse: 0.0604 - val_loss: 1.8033 - val_mse: 1.8033\n",
      "Epoch 153/200\n",
      "9/9 [==============================] - 0s 2ms/sample - loss: 0.0597 - mse: 0.0597 - val_loss: 1.8081 - val_mse: 1.8081\n",
      "Epoch 154/200\n",
      "9/9 [==============================] - 0s 2ms/sample - loss: 0.0587 - mse: 0.0587 - val_loss: 1.8129 - val_mse: 1.8129\n",
      "Epoch 155/200\n",
      "9/9 [==============================] - 0s 2ms/sample - loss: 0.0584 - mse: 0.0584 - val_loss: 1.8187 - val_mse: 1.8187\n",
      "Epoch 156/200\n",
      "9/9 [==============================] - 0s 2ms/sample - loss: 0.0579 - mse: 0.0579 - val_loss: 1.8246 - val_mse: 1.8246\n",
      "Epoch 157/200\n",
      "9/9 [==============================] - 0s 2ms/sample - loss: 0.0573 - mse: 0.0573 - val_loss: 1.8302 - val_mse: 1.8302\n",
      "Epoch 158/200\n",
      "9/9 [==============================] - 0s 2ms/sample - loss: 0.0566 - mse: 0.0566 - val_loss: 1.8357 - val_mse: 1.8357\n",
      "Epoch 159/200\n",
      "9/9 [==============================] - 0s 2ms/sample - loss: 0.0560 - mse: 0.0560 - val_loss: 1.8415 - val_mse: 1.8415\n",
      "Epoch 160/200\n",
      "9/9 [==============================] - 0s 2ms/sample - loss: 0.0553 - mse: 0.0553 - val_loss: 1.8468 - val_mse: 1.8468\n",
      "Epoch 161/200\n",
      "9/9 [==============================] - 0s 2ms/sample - loss: 0.0546 - mse: 0.0546 - val_loss: 1.8517 - val_mse: 1.8517\n",
      "Epoch 162/200\n",
      "9/9 [==============================] - 0s 2ms/sample - loss: 0.0540 - mse: 0.0540 - val_loss: 1.8568 - val_mse: 1.8568\n",
      "Epoch 163/200\n",
      "9/9 [==============================] - 0s 2ms/sample - loss: 0.0534 - mse: 0.0534 - val_loss: 1.8622 - val_mse: 1.8622\n",
      "Epoch 164/200\n",
      "9/9 [==============================] - 0s 2ms/sample - loss: 0.0527 - mse: 0.0527 - val_loss: 1.8671 - val_mse: 1.8671\n",
      "Epoch 165/200\n",
      "9/9 [==============================] - 0s 2ms/sample - loss: 0.0521 - mse: 0.0521 - val_loss: 1.8722 - val_mse: 1.8722\n",
      "Epoch 166/200\n",
      "9/9 [==============================] - 0s 2ms/sample - loss: 0.0512 - mse: 0.0512 - val_loss: 1.8773 - val_mse: 1.8773\n",
      "Epoch 167/200\n",
      "9/9 [==============================] - 0s 2ms/sample - loss: 0.0508 - mse: 0.0508 - val_loss: 1.8830 - val_mse: 1.8830\n",
      "Epoch 168/200\n",
      "9/9 [==============================] - 0s 2ms/sample - loss: 0.0504 - mse: 0.0504 - val_loss: 1.8893 - val_mse: 1.8893\n",
      "Epoch 169/200\n",
      "9/9 [==============================] - 0s 2ms/sample - loss: 0.0498 - mse: 0.0498 - val_loss: 1.8951 - val_mse: 1.8951\n",
      "Epoch 170/200\n",
      "9/9 [==============================] - 0s 2ms/sample - loss: 0.0492 - mse: 0.0492 - val_loss: 1.9009 - val_mse: 1.9009\n",
      "Epoch 171/200\n",
      "9/9 [==============================] - 0s 2ms/sample - loss: 0.0485 - mse: 0.0485 - val_loss: 1.9064 - val_mse: 1.9064\n",
      "Epoch 172/200\n",
      "9/9 [==============================] - 0s 2ms/sample - loss: 0.0479 - mse: 0.0479 - val_loss: 1.9117 - val_mse: 1.9117\n",
      "Epoch 173/200\n",
      "9/9 [==============================] - 0s 2ms/sample - loss: 0.0473 - mse: 0.0473 - val_loss: 1.9168 - val_mse: 1.9168\n",
      "Epoch 174/200\n",
      "9/9 [==============================] - 0s 2ms/sample - loss: 0.0467 - mse: 0.0467 - val_loss: 1.9219 - val_mse: 1.9219\n",
      "Epoch 175/200\n",
      "9/9 [==============================] - 0s 2ms/sample - loss: 0.0462 - mse: 0.0462 - val_loss: 1.9462 - val_mse: 1.9462\n",
      "Epoch 176/200\n",
      "9/9 [==============================] - 0s 2ms/sample - loss: 0.0456 - mse: 0.0456 - val_loss: 1.9599 - val_mse: 1.9599\n",
      "Epoch 177/200\n",
      "9/9 [==============================] - 0s 2ms/sample - loss: 0.0450 - mse: 0.0450 - val_loss: 1.9678 - val_mse: 1.9678\n",
      "Epoch 178/200\n",
      "9/9 [==============================] - 0s 2ms/sample - loss: 0.0441 - mse: 0.0441 - val_loss: 1.9738 - val_mse: 1.9738\n",
      "Epoch 179/200\n",
      "9/9 [==============================] - 0s 2ms/sample - loss: 0.0438 - mse: 0.0438 - val_loss: 1.9798 - val_mse: 1.9798\n",
      "Epoch 180/200\n",
      "9/9 [==============================] - 0s 2ms/sample - loss: 0.0433 - mse: 0.0433 - val_loss: 1.9857 - val_mse: 1.9857\n",
      "Epoch 181/200\n",
      "9/9 [==============================] - 0s 2ms/sample - loss: 0.0428 - mse: 0.0428 - val_loss: 1.9915 - val_mse: 1.9915\n",
      "Epoch 182/200\n",
      "9/9 [==============================] - 0s 2ms/sample - loss: 0.0422 - mse: 0.0422 - val_loss: 1.9973 - val_mse: 1.9973\n",
      "Epoch 183/200\n",
      "9/9 [==============================] - 0s 2ms/sample - loss: 0.0416 - mse: 0.0416 - val_loss: 2.0030 - val_mse: 2.0030\n",
      "Epoch 184/200\n",
      "9/9 [==============================] - 0s 2ms/sample - loss: 0.0410 - mse: 0.0410 - val_loss: 2.0090 - val_mse: 2.0090\n",
      "Epoch 185/200\n",
      "9/9 [==============================] - 0s 2ms/sample - loss: 0.0404 - mse: 0.0404 - val_loss: 2.0144 - val_mse: 2.0144\n",
      "Epoch 186/200\n",
      "9/9 [==============================] - 0s 2ms/sample - loss: 0.0399 - mse: 0.0399 - val_loss: 2.0195 - val_mse: 2.0195\n",
      "Epoch 187/200\n",
      "9/9 [==============================] - 0s 2ms/sample - loss: 0.0393 - mse: 0.0393 - val_loss: 2.0246 - val_mse: 2.0246\n",
      "Epoch 188/200\n",
      "9/9 [==============================] - 0s 2ms/sample - loss: 0.0388 - mse: 0.0388 - val_loss: 2.0300 - val_mse: 2.0300\n",
      "Epoch 189/200\n",
      "9/9 [==============================] - 0s 2ms/sample - loss: 0.0379 - mse: 0.0379 - val_loss: 2.0356 - val_mse: 2.0356\n",
      "Epoch 190/200\n",
      "9/9 [==============================] - 0s 2ms/sample - loss: 0.0376 - mse: 0.0376 - val_loss: 2.0413 - val_mse: 2.0413\n",
      "Epoch 191/200\n",
      "9/9 [==============================] - 0s 2ms/sample - loss: 0.0372 - mse: 0.0372 - val_loss: 2.0471 - val_mse: 2.0471\n",
      "Epoch 192/200\n",
      "9/9 [==============================] - 0s 2ms/sample - loss: 0.0367 - mse: 0.0367 - val_loss: 2.0527 - val_mse: 2.0527\n",
      "Epoch 193/200\n",
      "9/9 [==============================] - 0s 2ms/sample - loss: 0.0362 - mse: 0.0362 - val_loss: 2.0584 - val_mse: 2.0584\n",
      "Epoch 194/200\n",
      "9/9 [==============================] - 0s 4ms/sample - loss: 0.0356 - mse: 0.0356 - val_loss: 2.0643 - val_mse: 2.0643\n",
      "Epoch 195/200\n",
      "9/9 [==============================] - 0s 2ms/sample - loss: 0.0351 - mse: 0.0351 - val_loss: 2.0697 - val_mse: 2.0697\n",
      "Epoch 196/200\n",
      "9/9 [==============================] - 0s 2ms/sample - loss: 0.0345 - mse: 0.0345 - val_loss: 2.0748 - val_mse: 2.0748\n",
      "Epoch 197/200\n",
      "9/9 [==============================] - 0s 2ms/sample - loss: 0.0340 - mse: 0.0340 - val_loss: 2.0797 - val_mse: 2.0797\n",
      "Epoch 198/200\n",
      "9/9 [==============================] - 0s 2ms/sample - loss: 0.0335 - mse: 0.0335 - val_loss: 2.0845 - val_mse: 2.0845\n",
      "Epoch 199/200\n",
      "9/9 [==============================] - 0s 2ms/sample - loss: 0.0330 - mse: 0.0330 - val_loss: 2.0894 - val_mse: 2.0894\n",
      "Epoch 200/200\n",
      "9/9 [==============================] - 0s 2ms/sample - loss: 0.0325 - mse: 0.0325 - val_loss: 2.0948 - val_mse: 2.0948\n"
     ]
    }
   ],
   "source": [
    "model_3 = nn_3.fit(X_train_val, y_train_val, batch_size=1, validation_data=(X_val, y_val), shuffle=False, epochs=200)"
   ]
  },
  {
   "cell_type": "code",
   "execution_count": 653,
   "metadata": {},
   "outputs": [
    {
     "data": {
      "image/png": "[encoded data removed]",
      "text/plain": [
       "<Figure size 432x288 with 1 Axes>"
      ]
     },
     "metadata": {
      "needs_background": "light"
     },
     "output_type": "display_data"
    }
   ],
   "source": [
    "plt.plot(model_3.history[\"loss\"])\n",
    "\n",
    "plt.title(\"loss_function_nn_disney_3_models - Training\")\n",
    "plt.legend([\"3 hidden layers\"])\n",
    "plt.savefig(f'../Images/loss_function_nn_{ticker}_3layers.png')\n",
    "plt.show()"
   ]
  },
  {
   "cell_type": "code",
   "execution_count": 654,
   "metadata": {},
   "outputs": [
    {
     "data": {
      "image/png": "[encoded data removed]",
      "text/plain": [
       "<Figure size 432x288 with 1 Axes>"
      ]
     },
     "metadata": {
      "needs_background": "light"
     },
     "output_type": "display_data"
    }
   ],
   "source": [
    "# Train vs test for deep net\n",
    "plt.plot(model_3.history[\"loss\"])\n",
    "plt.plot(model_3.history[\"val_loss\"])\n",
    "plt.title(f\"Data/loss_function_nn_{ticker} - Training Vs. Validation - 3 hidden layers\")\n",
    "plt.legend([\"train\", \"test\"])\n",
    "plt.savefig(f'../Images/loss_function_nn_{ticker}_train_val_3layer.png')\n",
    "plt.show()"
   ]
  },
  {
   "cell_type": "markdown",
   "metadata": {},
   "source": [
    "#### _Logit Model - Produces Identical Results to SVM_"
   ]
  },
  {
   "cell_type": "code",
   "execution_count": 655,
   "metadata": {},
   "outputs": [],
   "source": [
    "import numpy as np\n",
    "import pandas as pd\n",
    "from pathlib import Path\n",
    "from collections import Counter\n",
    "\n",
    "from sklearn.ensemble import RandomForestClassifier\n",
    "from sklearn.preprocessing import StandardScaler\n",
    "from sklearn.model_selection import train_test_split\n",
    "from sklearn.metrics import confusion_matrix, accuracy_score, classification_report\n",
    "\n",
    "from sklearn.metrics import balanced_accuracy_score\n",
    "from sklearn.metrics import confusion_matrix\n",
    "from imblearn.metrics import classification_report_imbalanced"
   ]
  },
  {
   "cell_type": "code",
   "execution_count": 656,
   "metadata": {},
   "outputs": [],
   "source": [
    "# Create the features (X) and target (y) sets\n",
    "X = df.iloc[:, 0:4]\n",
    "y = df[\"return_sign\"]"
   ]
  },
  {
   "cell_type": "code",
   "execution_count": 657,
   "metadata": {},
   "outputs": [
    {
     "data": {
      "text/plain": [
       "(20,)"
      ]
     },
     "execution_count": 657,
     "metadata": {},
     "output_type": "execute_result"
    }
   ],
   "source": [
    "y.shape"
   ]
  },
  {
   "cell_type": "code",
   "execution_count": 658,
   "metadata": {},
   "outputs": [],
   "source": [
    "# Creating training and testing data sets\n",
    "from sklearn.model_selection import train_test_split\n",
    "X_train, X_test, y_train, y_test = train_test_split(X, y, test_size = 0.3, shuffle=False, random_state=42) "
   ]
  },
  {
   "cell_type": "code",
   "execution_count": 659,
   "metadata": {},
   "outputs": [],
   "source": [
    "#Create the StandardScaler instance\n",
    "scaler = StandardScaler()\n",
    "# Fit the Standard Scaler with the training data\n",
    "X_scaler = scaler.fit(X_train)\n",
    "\n",
    "# Scale the training data - only scale X_train and X_test data \n",
    "X_train_scaled = X_scaler.transform(X_train)\n",
    "X_test_scaled = X_scaler.transform(X_test)"
   ]
  },
  {
   "cell_type": "code",
   "execution_count": 660,
   "metadata": {},
   "outputs": [
    {
     "data": {
      "text/plain": [
       "LogisticRegression(C=100000.0, class_weight=None, dual=False,\n",
       "                   fit_intercept=True, intercept_scaling=1, l1_ratio=None,\n",
       "                   max_iter=100, multi_class='auto', n_jobs=None, penalty='l2',\n",
       "                   random_state=None, solver='lbfgs', tol=0.0001, verbose=0,\n",
       "                   warm_start=False)"
      ]
     },
     "execution_count": 660,
     "metadata": {},
     "output_type": "execute_result"
    }
   ],
   "source": [
    "# ********* MODEL FITTING *************\n",
    "\n",
    "   # --------- Loigt -----------\n",
    "   # --------Start-------------\n",
    "   \n",
    "M = 'Logit'\n",
    "        \n",
    "from sklearn import linear_model \n",
    "\n",
    "lm = linear_model.LogisticRegression(C = 1e5)\n",
    "lm"
   ]
  },
  {
   "cell_type": "code",
   "execution_count": 661,
   "metadata": {},
   "outputs": [
    {
     "data": {
      "text/plain": [
       "LogisticRegression(C=100000.0, class_weight=None, dual=False,\n",
       "                   fit_intercept=True, intercept_scaling=1, l1_ratio=None,\n",
       "                   max_iter=100, multi_class='auto', n_jobs=None, penalty='l2',\n",
       "                   random_state=None, solver='lbfgs', tol=0.0001, verbose=0,\n",
       "                   warm_start=False)"
      ]
     },
     "execution_count": 661,
     "metadata": {},
     "output_type": "execute_result"
    }
   ],
   "source": [
    "lm.fit(X_train, y_train)\n",
    "\n",
    "   # --------- Logit ------------\n",
    "   # ---------End -------------"
   ]
  },
  {
   "cell_type": "code",
   "execution_count": 662,
   "metadata": {},
   "outputs": [
    {
     "name": "stdout",
     "output_type": "stream",
     "text": [
      "Training vs. Testing - Logit\n",
      "Training Data Score: 0.7857\n",
      "Testing Data Score: 0.6667\n"
     ]
    }
   ],
   "source": [
    "# Score the accuracy\n",
    "print(\"Training vs. Testing - Logit\")\n",
    "print(f\"Training Data Score: {lm.score(X_train, y_train):,.04f}\")\n",
    "print(f\"Testing Data Score: {lm.score(X_test, y_test):,.04f}\")"
   ]
  },
  {
   "cell_type": "code",
   "execution_count": 663,
   "metadata": {},
   "outputs": [
    {
     "name": "stdout",
     "output_type": "stream",
     "text": [
      "Balanced Accuracy Score - Logit\n"
     ]
    },
    {
     "data": {
      "text/plain": [
       "0.8333333333333333"
      ]
     },
     "execution_count": 663,
     "metadata": {},
     "output_type": "execute_result"
    }
   ],
   "source": [
    "#Calculated the balanced accuracy score\n",
    "from sklearn.metrics import balanced_accuracy_score\n",
    "\n",
    "print(\"Balanced Accuracy Score - Logit\")\n",
    "balanced_accuracy_score(y_test, lm_pred)"
   ]
  },
  {
   "cell_type": "code",
   "execution_count": 664,
   "metadata": {},
   "outputs": [
    {
     "name": "stdout",
     "output_type": "stream",
     "text": [
      "Confusion Matrix - Logit\n"
     ]
    },
    {
     "data": {
      "text/plain": [
       "array([[2, 1],\n",
       "       [0, 3]])"
      ]
     },
     "execution_count": 664,
     "metadata": {},
     "output_type": "execute_result"
    }
   ],
   "source": [
    "print(\"Confusion Matrix - Logit\")\n",
    "confusion_matrix(y_test, lm_pred)"
   ]
  },
  {
   "cell_type": "code",
   "execution_count": 665,
   "metadata": {},
   "outputs": [
    {
     "name": "stdout",
     "output_type": "stream",
     "text": [
      "Classification Report - Logit\n",
      "              precision    recall  f1-score   support\n",
      "\n",
      "        -1.0       1.00      0.67      0.80         3\n",
      "         1.0       0.75      1.00      0.86         3\n",
      "\n",
      "    accuracy                           0.83         6\n",
      "   macro avg       0.88      0.83      0.83         6\n",
      "weighted avg       0.88      0.83      0.83         6\n",
      "\n"
     ]
    }
   ],
   "source": [
    "from sklearn.metrics import classification_report\n",
    "\n",
    "print(\"Classification Report - Logit\")\n",
    "print(classification_report(y_test, lm_pred))"
   ]
  },
  {
   "cell_type": "code",
   "execution_count": 666,
   "metadata": {},
   "outputs": [],
   "source": [
    "# Evaluating the Logit model in a nicer format\n",
    "\n",
    "# Calculating the confusion matrix\n",
    "cm_lm = confusion_matrix(y_test, lm_pred)\n",
    "cm_lm_df = pd.DataFrame(\n",
    "    cm_lm, index=[\"Actual -1\", \"Actual 1\"], columns=[\"Predicted -1\", \"Predicted 1\"]\n",
    ")\n",
    "\n",
    "# Calculating the accuracy score\n",
    "acc_lm_score = accuracy_score(y_test, lm_pred)"
   ]
  },
  {
   "cell_type": "code",
   "execution_count": 667,
   "metadata": {},
   "outputs": [
    {
     "name": "stdout",
     "output_type": "stream",
     "text": [
      "Confusion Matrix - Logit\n"
     ]
    },
    {
     "data": {
      "text/html": [
       "<div>\n",
       "<style scoped>\n",
       "    .dataframe tbody tr th:only-of-type {\n",
       "        vertical-align: middle;\n",
       "    }\n",
       "\n",
       "    .dataframe tbody tr th {\n",
       "        vertical-align: top;\n",
       "    }\n",
       "\n",
       "    .dataframe thead th {\n",
       "        text-align: right;\n",
       "    }\n",
       "</style>\n",
       "<table border=\"1\" class=\"dataframe\">\n",
       "  <thead>\n",
       "    <tr style=\"text-align: right;\">\n",
       "      <th></th>\n",
       "      <th>Predicted -1</th>\n",
       "      <th>Predicted 1</th>\n",
       "    </tr>\n",
       "  </thead>\n",
       "  <tbody>\n",
       "    <tr>\n",
       "      <th>Actual -1</th>\n",
       "      <td>2</td>\n",
       "      <td>1</td>\n",
       "    </tr>\n",
       "    <tr>\n",
       "      <th>Actual 1</th>\n",
       "      <td>0</td>\n",
       "      <td>3</td>\n",
       "    </tr>\n",
       "  </tbody>\n",
       "</table>\n",
       "</div>"
      ],
      "text/plain": [
       "           Predicted -1  Predicted 1\n",
       "Actual -1             2            1\n",
       "Actual 1              0            3"
      ]
     },
     "metadata": {},
     "output_type": "display_data"
    },
    {
     "name": "stdout",
     "output_type": "stream",
     "text": [
      "Accuracy Score : 0.8333\n",
      "Classification Report - Logit\n",
      "              precision    recall  f1-score   support\n",
      "\n",
      "        -1.0       1.00      0.67      0.80         3\n",
      "         1.0       0.75      1.00      0.86         3\n",
      "\n",
      "    accuracy                           0.83         6\n",
      "   macro avg       0.88      0.83      0.83         6\n",
      "weighted avg       0.88      0.83      0.83         6\n",
      "\n"
     ]
    }
   ],
   "source": [
    "# Displaying results\n",
    "print(\"Confusion Matrix - Logit\")\n",
    "display(cm_lm_df)\n",
    "print(f\"Accuracy Score : {acc_lm_score:,.04f}\")\n",
    "print(\"Classification Report - Logit\")\n",
    "print(classification_report(y_test, lm_pred))"
   ]
  },
  {
   "cell_type": "markdown",
   "metadata": {},
   "source": [
    "### _SVM_"
   ]
  },
  {
   "cell_type": "code",
   "execution_count": 668,
   "metadata": {},
   "outputs": [],
   "source": [
    "# Create the features (X) and target (y) sets\n",
    "X = df.iloc[:, 0:4]\n",
    "y = df[\"return_sign\"]"
   ]
  },
  {
   "cell_type": "code",
   "execution_count": 669,
   "metadata": {},
   "outputs": [],
   "source": [
    "# Creating training and testing data sets\n",
    "from sklearn.model_selection import train_test_split\n",
    "X_train, X_test, y_train, y_test = train_test_split(X, y, test_size = 0.3, shuffle=False, random_state=42) "
   ]
  },
  {
   "cell_type": "code",
   "execution_count": 670,
   "metadata": {},
   "outputs": [],
   "source": [
    "#Create the StandardScaler instance\n",
    "scaler = StandardScaler()\n",
    "# Fit the Standard Scaler with the training data\n",
    "X_scaler = scaler.fit(X_train)\n",
    "\n",
    "# Scale the training data - only scale X_train and X_test data \n",
    "X_train_scaled = X_scaler.transform(X_train)\n",
    "X_test_scaled = X_scaler.transform(X_test)"
   ]
  },
  {
   "cell_type": "code",
   "execution_count": 671,
   "metadata": {},
   "outputs": [
    {
     "data": {
      "text/plain": [
       "SVC(C=100000.0, break_ties=False, cache_size=200, class_weight=None, coef0=0.0,\n",
       "    decision_function_shape='ovr', degree=3, gamma='scale', kernel='rbf',\n",
       "    max_iter=-1, probability=True, random_state=None, shrinking=True, tol=0.001,\n",
       "    verbose=False)"
      ]
     },
     "execution_count": 671,
     "metadata": {},
     "output_type": "execute_result"
    }
   ],
   "source": [
    "# ********* MODEL FITTING *************\n",
    "\n",
    "# --------- SVM -----------\n",
    "# --------Start-------------\n",
    "   \n",
    "M = 'SVM'\n",
    "    \n",
    "from sklearn.svm import SVC\n",
    "    \n",
    "svm = SVC(C= 1e5, probability=True)\n",
    "svm"
   ]
  },
  {
   "cell_type": "code",
   "execution_count": 672,
   "metadata": {},
   "outputs": [],
   "source": [
    "svc_pred = svm.fit(X_train, y_train)"
   ]
  },
  {
   "cell_type": "code",
   "execution_count": 673,
   "metadata": {},
   "outputs": [
    {
     "name": "stdout",
     "output_type": "stream",
     "text": [
      "Training vs. Testing - SVM\n",
      "Training Data Score: 0.7857\n",
      "Testing Data Score: 0.6667\n"
     ]
    }
   ],
   "source": [
    "# Score the accuracy\n",
    "print(\"Training vs. Testing - SVM\")\n",
    "print(f\"Training Data Score: {svm.score(X_train, y_train):,.04f}\")\n",
    "print(f\"Testing Data Score: {svm.score(X_test, y_test):,.04f}\")"
   ]
  },
  {
   "cell_type": "markdown",
   "metadata": {},
   "source": [
    "### _Decision Tree_"
   ]
  },
  {
   "cell_type": "code",
   "execution_count": 674,
   "metadata": {},
   "outputs": [],
   "source": [
    "# Create the features (X) and target (y) sets\n",
    "X = df.iloc[:, 0:4]\n",
    "y = df[\"return_sign\"]"
   ]
  },
  {
   "cell_type": "code",
   "execution_count": 675,
   "metadata": {},
   "outputs": [],
   "source": [
    "# Creating training and testing data sets\n",
    "from sklearn.model_selection import train_test_split\n",
    "X_train, X_test, y_train, y_test = train_test_split(X, y, test_size = 0.3, shuffle=False) "
   ]
  },
  {
   "cell_type": "code",
   "execution_count": 676,
   "metadata": {},
   "outputs": [],
   "source": [
    "#Create the StandardScaler instance\n",
    "scaler = StandardScaler()\n",
    "# Fit the Standard Scaler with the training data\n",
    "X_scaler = scaler.fit(X_train)\n",
    "\n",
    "# Scale the training data - only scale X_train and X_test data \n",
    "X_train_scaled = X_scaler.transform(X_train)\n",
    "X_test_scaled = X_scaler.transform(X_test)"
   ]
  },
  {
   "cell_type": "code",
   "execution_count": 677,
   "metadata": {},
   "outputs": [],
   "source": [
    "# Creating the decision tree classifier instance\n",
    "model_tree = tree.DecisionTreeClassifier()\n",
    "\n",
    "# Fitting the model\n",
    "model_tree = model_tree.fit(X_train, y_train)\n",
    "\n",
    "# Making predictions using the testing data\n",
    "tree_pred = model_tree.predict(X_test)"
   ]
  },
  {
   "cell_type": "code",
   "execution_count": 678,
   "metadata": {},
   "outputs": [
    {
     "name": "stdout",
     "output_type": "stream",
     "text": [
      "Training vs. Testing - Decision Tree\n",
      "Training Data Score: 1.0000\n",
      "Testing Data Score: 0.3333\n"
     ]
    }
   ],
   "source": [
    "# Score the accuracy\n",
    "print(\"Training vs. Testing - Decision Tree\")\n",
    "print(f\"Training Data Score: {model_tree.score(X_train, y_train):,.04f}\")\n",
    "print(f\"Testing Data Score: {model_tree.score(X_test, y_test):,.04f}\")"
   ]
  },
  {
   "cell_type": "code",
   "execution_count": 679,
   "metadata": {},
   "outputs": [],
   "source": [
    "# Evaluating the decision tree model\n",
    "\n",
    "# Calculating the confusion matrix\n",
    "cm = confusion_matrix(y_test, tree_pred)\n",
    "cm_df = pd.DataFrame(\n",
    "    cm, index=[\"Actual -1\", \"Actual 1\"], columns=[\"Predicted -1\", \"Predicted 1\"]\n",
    ")\n",
    "\n",
    "# Calculating the accuracy score\n",
    "acc_score = accuracy_score(y_test, tree_pred)"
   ]
  },
  {
   "cell_type": "code",
   "execution_count": 680,
   "metadata": {},
   "outputs": [
    {
     "name": "stdout",
     "output_type": "stream",
     "text": [
      "Confusion Matrix - Decision Tree\n"
     ]
    },
    {
     "data": {
      "text/html": [
       "<div>\n",
       "<style scoped>\n",
       "    .dataframe tbody tr th:only-of-type {\n",
       "        vertical-align: middle;\n",
       "    }\n",
       "\n",
       "    .dataframe tbody tr th {\n",
       "        vertical-align: top;\n",
       "    }\n",
       "\n",
       "    .dataframe thead th {\n",
       "        text-align: right;\n",
       "    }\n",
       "</style>\n",
       "<table border=\"1\" class=\"dataframe\">\n",
       "  <thead>\n",
       "    <tr style=\"text-align: right;\">\n",
       "      <th></th>\n",
       "      <th>Predicted -1</th>\n",
       "      <th>Predicted 1</th>\n",
       "    </tr>\n",
       "  </thead>\n",
       "  <tbody>\n",
       "    <tr>\n",
       "      <th>Actual -1</th>\n",
       "      <td>1</td>\n",
       "      <td>2</td>\n",
       "    </tr>\n",
       "    <tr>\n",
       "      <th>Actual 1</th>\n",
       "      <td>2</td>\n",
       "      <td>1</td>\n",
       "    </tr>\n",
       "  </tbody>\n",
       "</table>\n",
       "</div>"
      ],
      "text/plain": [
       "           Predicted -1  Predicted 1\n",
       "Actual -1             1            2\n",
       "Actual 1              2            1"
      ]
     },
     "metadata": {},
     "output_type": "display_data"
    },
    {
     "name": "stdout",
     "output_type": "stream",
     "text": [
      "Accuracy Score : 0.3333\n",
      "Classification Report - Decision Tree\n",
      "              precision    recall  f1-score   support\n",
      "\n",
      "        -1.0       0.33      0.33      0.33         3\n",
      "         1.0       0.33      0.33      0.33         3\n",
      "\n",
      "    accuracy                           0.33         6\n",
      "   macro avg       0.33      0.33      0.33         6\n",
      "weighted avg       0.33      0.33      0.33         6\n",
      "\n"
     ]
    }
   ],
   "source": [
    "# Displaying results\n",
    "print(\"Confusion Matrix - Decision Tree\")\n",
    "display(cm_df)\n",
    "print(f\"Accuracy Score : {acc_score:,.04f}\")\n",
    "print(\"Classification Report - Decision Tree\")\n",
    "print(classification_report(y_test, tree_pred))"
   ]
  },
  {
   "cell_type": "code",
   "execution_count": 681,
   "metadata": {},
   "outputs": [
    {
     "data": {
      "image/png": "[encoded data removed]",
      "text/plain": [
       "<IPython.core.display.Image object>"
      ]
     },
     "execution_count": 681,
     "metadata": {},
     "output_type": "execute_result"
    }
   ],
   "source": [
    "# Tree Visualization\n",
    "\n",
    "# Graph tree\n",
    "from sklearn import tree\n",
    "\n",
    "# Needed for decision tree visualization\n",
    "import pydotplus\n",
    "from IPython.display import Image\n",
    "\n",
    "# Create DOT data\n",
    "dot_data = tree.export_graphviz(\n",
    "    model_tree, out_file=None, feature_names=X.columns, class_names=[\"-1\", \"1\"], filled=True\n",
    ")\n",
    "\n",
    "# Draw graph\n",
    "graph = pydotplus.graph_from_dot_data(dot_data)\n",
    "\n",
    "# Show graph\n",
    "Image(graph.create_png())"
   ]
  },
  {
   "cell_type": "code",
   "execution_count": 682,
   "metadata": {},
   "outputs": [],
   "source": [
    "training_window = 1"
   ]
  },
  {
   "cell_type": "code",
   "execution_count": 683,
   "metadata": {},
   "outputs": [
    {
     "data": {
      "text/plain": [
       "True"
      ]
     },
     "execution_count": 683,
     "metadata": {},
     "output_type": "execute_result"
    }
   ],
   "source": [
    "# Saving the tree as PDF\n",
    "graph.write_pdf(f\"../Images/{ticker}_{training_window}d_decision_tree_updated.pdf\")\n",
    "\n",
    "# Saving the tree as PNG\n",
    "graph.write_png(f\"../Images/{ticker}_{training_window}d_decision_tree_updated.png\")"
   ]
  },
  {
   "cell_type": "markdown",
   "metadata": {},
   "source": [
    "## _Ensemble Learning_"
   ]
  },
  {
   "cell_type": "code",
   "execution_count": 684,
   "metadata": {},
   "outputs": [],
   "source": [
    "import numpy as np\n",
    "import pandas as pd\n",
    "from pathlib import Path\n",
    "from collections import Counter\n",
    "\n",
    "from sklearn.ensemble import RandomForestClassifier\n",
    "from sklearn.preprocessing import StandardScaler\n",
    "from sklearn.model_selection import train_test_split\n",
    "from sklearn.metrics import confusion_matrix, accuracy_score, classification_report\n",
    "\n",
    "from sklearn.metrics import balanced_accuracy_score\n",
    "from sklearn.metrics import confusion_matrix\n",
    "from imblearn.metrics import classification_report_imbalanced"
   ]
  },
  {
   "cell_type": "markdown",
   "metadata": {},
   "source": [
    "_**Balanced Random Forest Classifier**_"
   ]
  },
  {
   "cell_type": "code",
   "execution_count": 685,
   "metadata": {},
   "outputs": [
    {
     "data": {
      "text/plain": [
       "BalancedRandomForestClassifier(bootstrap=True, ccp_alpha=0.0, class_weight=None,\n",
       "                               criterion='gini', max_depth=None,\n",
       "                               max_features='auto', max_leaf_nodes=None,\n",
       "                               max_samples=None, min_impurity_decrease=0.0,\n",
       "                               min_samples_leaf=2, min_samples_split=2,\n",
       "                               min_weight_fraction_leaf=0.0, n_estimators=100,\n",
       "                               n_jobs=None, oob_score=False, random_state=42,\n",
       "                               replacement=False, sampling_strategy='auto',\n",
       "                               verbose=0, warm_start=False)"
      ]
     },
     "execution_count": 685,
     "metadata": {},
     "output_type": "execute_result"
    }
   ],
   "source": [
    "# Resample the training data with the RandomOversampler\n",
    "# fit Random Forest Classifier\n",
    "from imblearn.ensemble import BalancedRandomForestClassifier\n",
    "brf = BalancedRandomForestClassifier(n_estimators=100, random_state=42)\n",
    "brf.fit(X_train, y_train)"
   ]
  },
  {
   "cell_type": "code",
   "execution_count": 686,
   "metadata": {},
   "outputs": [
    {
     "data": {
      "text/plain": [
       "0.6666666666666666"
      ]
     },
     "execution_count": 686,
     "metadata": {},
     "output_type": "execute_result"
    }
   ],
   "source": [
    "brf_pred = brf.predict(X_test)\n",
    "\n",
    "balanced_accuracy_score(y_test, brf_pred)"
   ]
  },
  {
   "cell_type": "code",
   "execution_count": 687,
   "metadata": {},
   "outputs": [
    {
     "name": "stdout",
     "output_type": "stream",
     "text": [
      "Training vs. Testing - Balanced Random Forest\n",
      "Training Data Score: 0.8571\n",
      "Testing Data Score: 0.6667\n"
     ]
    }
   ],
   "source": [
    "# Score the accuracy\n",
    "print(\"Training vs. Testing - Balanced Random Forest\")\n",
    "print(f\"Training Data Score: {brf.score(X_train, y_train):,.04f}\")\n",
    "print(f\"Testing Data Score: {brf.score(X_test, y_test):,.04f}\")"
   ]
  },
  {
   "cell_type": "code",
   "execution_count": 688,
   "metadata": {},
   "outputs": [
    {
     "name": "stdout",
     "output_type": "stream",
     "text": [
      "Confusion Matrix - Balanced Random Forest\n"
     ]
    },
    {
     "data": {
      "text/plain": [
       "array([[1, 2],\n",
       "       [0, 3]])"
      ]
     },
     "execution_count": 688,
     "metadata": {},
     "output_type": "execute_result"
    }
   ],
   "source": [
    "# Display the confusion matrix\n",
    "print(\"Confusion Matrix - Balanced Random Forest\")\n",
    "confusion_matrix(y_test, brf_pred)"
   ]
  },
  {
   "cell_type": "code",
   "execution_count": 689,
   "metadata": {},
   "outputs": [
    {
     "name": "stdout",
     "output_type": "stream",
     "text": [
      "Classification Report - Balanced Random Forest on Imbalanced Data\n",
      "                   pre       rec       spe        f1       geo       iba       sup\n",
      "\n",
      "       -1.0       1.00      0.33      1.00      0.50      0.58      0.31         3\n",
      "        1.0       0.60      1.00      0.33      0.75      0.58      0.36         3\n",
      "\n",
      "avg / total       0.80      0.67      0.67      0.62      0.58      0.33         6\n",
      "\n"
     ]
    }
   ],
   "source": [
    "# Print the imbalanced classification report\n",
    "from imblearn.metrics import classification_report_imbalanced\n",
    "\n",
    "print(\"Classification Report - Balanced Random Forest on Imbalanced Data\")\n",
    "print(classification_report_imbalanced(y_test, brf_pred))"
   ]
  },
  {
   "cell_type": "code",
   "execution_count": 690,
   "metadata": {},
   "outputs": [],
   "source": [
    "# Evaluating the Balanced Random Forest model in a nicer format\n",
    "\n",
    "# Calculating the confusion matrix\n",
    "cm_brf = confusion_matrix(y_test, brf_pred)\n",
    "cm_brf_df = pd.DataFrame(\n",
    "    cm_brf, index=[\"Actual -1\", \"Actual 1\"], columns=[\"Predicted -1\", \"Predicted 1\"]\n",
    ")\n",
    "\n",
    "# Calculating the accuracy score\n",
    "acc_brf_score = accuracy_score(y_test, brf_pred)"
   ]
  },
  {
   "cell_type": "code",
   "execution_count": 691,
   "metadata": {},
   "outputs": [
    {
     "name": "stdout",
     "output_type": "stream",
     "text": [
      "Confusion Matrix - Balanced Random Forest\n"
     ]
    },
    {
     "data": {
      "text/html": [
       "<div>\n",
       "<style scoped>\n",
       "    .dataframe tbody tr th:only-of-type {\n",
       "        vertical-align: middle;\n",
       "    }\n",
       "\n",
       "    .dataframe tbody tr th {\n",
       "        vertical-align: top;\n",
       "    }\n",
       "\n",
       "    .dataframe thead th {\n",
       "        text-align: right;\n",
       "    }\n",
       "</style>\n",
       "<table border=\"1\" class=\"dataframe\">\n",
       "  <thead>\n",
       "    <tr style=\"text-align: right;\">\n",
       "      <th></th>\n",
       "      <th>Predicted -1</th>\n",
       "      <th>Predicted 1</th>\n",
       "    </tr>\n",
       "  </thead>\n",
       "  <tbody>\n",
       "    <tr>\n",
       "      <th>Actual -1</th>\n",
       "      <td>1</td>\n",
       "      <td>2</td>\n",
       "    </tr>\n",
       "    <tr>\n",
       "      <th>Actual 1</th>\n",
       "      <td>0</td>\n",
       "      <td>3</td>\n",
       "    </tr>\n",
       "  </tbody>\n",
       "</table>\n",
       "</div>"
      ],
      "text/plain": [
       "           Predicted -1  Predicted 1\n",
       "Actual -1             1            2\n",
       "Actual 1              0            3"
      ]
     },
     "metadata": {},
     "output_type": "display_data"
    },
    {
     "name": "stdout",
     "output_type": "stream",
     "text": [
      "Accuracy Score : 0.6667\n",
      "Classification Report - Balaced Random Forest\n",
      "              precision    recall  f1-score   support\n",
      "\n",
      "        -1.0       1.00      0.33      0.50         3\n",
      "         1.0       0.60      1.00      0.75         3\n",
      "\n",
      "    accuracy                           0.67         6\n",
      "   macro avg       0.80      0.67      0.62         6\n",
      "weighted avg       0.80      0.67      0.62         6\n",
      "\n"
     ]
    }
   ],
   "source": [
    "# Displaying results\n",
    "print(\"Confusion Matrix - Balanced Random Forest\")\n",
    "display(cm_brf_df)\n",
    "print(f\"Accuracy Score : {acc_brf_score:,.04f}\")\n",
    "print(\"Classification Report - Balaced Random Forest\")\n",
    "print(classification_report(y_test, brf_pred))"
   ]
  },
  {
   "cell_type": "markdown",
   "metadata": {},
   "source": [
    "_**Easy Ensemble AdaBoost Classifier**_"
   ]
  },
  {
   "cell_type": "code",
   "execution_count": 692,
   "metadata": {},
   "outputs": [
    {
     "data": {
      "text/plain": [
       "EasyEnsembleClassifier(base_estimator=None, n_estimators=100, n_jobs=None,\n",
       "                       random_state=42, replacement=False,\n",
       "                       sampling_strategy='auto', verbose=0, warm_start=False)"
      ]
     },
     "execution_count": 692,
     "metadata": {},
     "output_type": "execute_result"
    }
   ],
   "source": [
    "from imblearn.ensemble import EasyEnsembleClassifier\n",
    "adb = EasyEnsembleClassifier(n_estimators=100, random_state=42)\n",
    "adb.fit(X_train, y_train)"
   ]
  },
  {
   "cell_type": "code",
   "execution_count": 693,
   "metadata": {},
   "outputs": [
    {
     "data": {
      "text/plain": [
       "0.3333333333333333"
      ]
     },
     "execution_count": 693,
     "metadata": {},
     "output_type": "execute_result"
    }
   ],
   "source": [
    "# Calculated the balanced accuracy score\n",
    "adb_pred = adb.predict(X_test)\n",
    "balanced_accuracy_score(y_test, adb_pred)"
   ]
  },
  {
   "cell_type": "code",
   "execution_count": 694,
   "metadata": {},
   "outputs": [
    {
     "name": "stdout",
     "output_type": "stream",
     "text": [
      "Confusion Matrix - Easy Emsemble AdaBoost\n"
     ]
    },
    {
     "data": {
      "text/plain": [
       "array([[1, 2],\n",
       "       [2, 1]])"
      ]
     },
     "execution_count": 694,
     "metadata": {},
     "output_type": "execute_result"
    }
   ],
   "source": [
    "# Display the confusion matrix\n",
    "print(\"Confusion Matrix - Easy Emsemble AdaBoost\")\n",
    "confusion_matrix(y_test, adb_pred)"
   ]
  },
  {
   "cell_type": "code",
   "execution_count": 695,
   "metadata": {},
   "outputs": [
    {
     "name": "stdout",
     "output_type": "stream",
     "text": [
      "Classification Report - Easy Ensemble AdaBoost on Imbalanced Data\n",
      "                   pre       rec       spe        f1       geo       iba       sup\n",
      "\n",
      "       -1.0       0.33      0.33      0.33      0.33      0.33      0.11         3\n",
      "        1.0       0.33      0.33      0.33      0.33      0.33      0.11         3\n",
      "\n",
      "avg / total       0.33      0.33      0.33      0.33      0.33      0.11         6\n",
      "\n"
     ]
    }
   ],
   "source": [
    "# Print the imbalanced classification report\n",
    "from imblearn.metrics import classification_report_imbalanced\n",
    "\n",
    "print(\"Classification Report - Easy Ensemble AdaBoost on Imbalanced Data\")\n",
    "print(classification_report_imbalanced(y_test, adb_pred))"
   ]
  },
  {
   "cell_type": "markdown",
   "metadata": {},
   "source": [
    "_**Gradient Boosting Classifier**_"
   ]
  },
  {
   "cell_type": "code",
   "execution_count": 696,
   "metadata": {},
   "outputs": [
    {
     "name": "stdout",
     "output_type": "stream",
     "text": [
      "Learning rate:  0.05\n",
      "Accuracy score (training): 1.000\n",
      "Accuracy score (validation): 0.500\n",
      "\n",
      "Learning rate:  0.1\n",
      "Accuracy score (training): 1.000\n",
      "Accuracy score (validation): 0.333\n",
      "\n",
      "Learning rate:  0.25\n",
      "Accuracy score (training): 1.000\n",
      "Accuracy score (validation): 0.500\n",
      "\n",
      "Learning rate:  0.5\n",
      "Accuracy score (training): 1.000\n",
      "Accuracy score (validation): 0.500\n",
      "\n",
      "Learning rate:  0.75\n",
      "Accuracy score (training): 1.000\n",
      "Accuracy score (validation): 0.667\n",
      "\n",
      "Learning rate:  1\n",
      "Accuracy score (training): 1.000\n",
      "Accuracy score (validation): 0.500\n",
      "\n"
     ]
    }
   ],
   "source": [
    "from sklearn.ensemble import GradientBoostingClassifier\n",
    "\n",
    "# Create a classifier object\n",
    "learning_rates = [0.05, 0.1, 0.25, 0.5, 0.75, 1]\n",
    "for learning_rate in learning_rates:\n",
    "    classifier = GradientBoostingClassifier(n_estimators=20,\n",
    "                                            learning_rate=learning_rate,\n",
    "                                            max_features=4,\n",
    "                                            max_depth=3,\n",
    "                                            random_state=0)\n",
    "\n",
    "    # Fit the model\n",
    "    classifier.fit(X_train.values, y_train.ravel())\n",
    "    print(\"Learning rate: \", learning_rate)\n",
    "\n",
    "    # Score the model\n",
    "    print(\"Accuracy score (training): {0:.3f}\".format(\n",
    "        classifier.score(\n",
    "            X_train,\n",
    "            y_train.ravel())))\n",
    "    print(\"Accuracy score (validation): {0:.3f}\".format(\n",
    "        classifier.score(\n",
    "            X_test,\n",
    "            y_test.ravel())))\n",
    "    print()"
   ]
  },
  {
   "cell_type": "code",
   "execution_count": 697,
   "metadata": {},
   "outputs": [
    {
     "data": {
      "text/html": [
       "<div>\n",
       "<style scoped>\n",
       "    .dataframe tbody tr th:only-of-type {\n",
       "        vertical-align: middle;\n",
       "    }\n",
       "\n",
       "    .dataframe tbody tr th {\n",
       "        vertical-align: top;\n",
       "    }\n",
       "\n",
       "    .dataframe thead th {\n",
       "        text-align: right;\n",
       "    }\n",
       "</style>\n",
       "<table border=\"1\" class=\"dataframe\">\n",
       "  <thead>\n",
       "    <tr style=\"text-align: right;\">\n",
       "      <th></th>\n",
       "      <th>Prediction</th>\n",
       "      <th>Actual</th>\n",
       "    </tr>\n",
       "  </thead>\n",
       "  <tbody>\n",
       "    <tr>\n",
       "      <th>0</th>\n",
       "      <td>1.0</td>\n",
       "      <td>1.0</td>\n",
       "    </tr>\n",
       "    <tr>\n",
       "      <th>1</th>\n",
       "      <td>-1.0</td>\n",
       "      <td>-1.0</td>\n",
       "    </tr>\n",
       "    <tr>\n",
       "      <th>2</th>\n",
       "      <td>-1.0</td>\n",
       "      <td>1.0</td>\n",
       "    </tr>\n",
       "    <tr>\n",
       "      <th>3</th>\n",
       "      <td>1.0</td>\n",
       "      <td>-1.0</td>\n",
       "    </tr>\n",
       "    <tr>\n",
       "      <th>4</th>\n",
       "      <td>1.0</td>\n",
       "      <td>1.0</td>\n",
       "    </tr>\n",
       "    <tr>\n",
       "      <th>5</th>\n",
       "      <td>1.0</td>\n",
       "      <td>-1.0</td>\n",
       "    </tr>\n",
       "  </tbody>\n",
       "</table>\n",
       "</div>"
      ],
      "text/plain": [
       "   Prediction  Actual\n",
       "0         1.0     1.0\n",
       "1        -1.0    -1.0\n",
       "2        -1.0     1.0\n",
       "3         1.0    -1.0\n",
       "4         1.0     1.0\n",
       "5         1.0    -1.0"
      ]
     },
     "execution_count": 697,
     "metadata": {},
     "output_type": "execute_result"
    }
   ],
   "source": [
    "# Learning rates produces identical outcome\n",
    "#Use learning_rate of 0.75 for it is higher compared to the rest\n",
    "\n",
    "classifier = GradientBoostingClassifier(n_estimators=20,\n",
    "                                        learning_rate=0.05,\n",
    "                                        max_features=4,\n",
    "                                        max_depth=3,\n",
    "                                        random_state=42)\n",
    "\n",
    "# Fit the model\n",
    "classifier.fit(X_train, y_train.ravel())\n",
    "\n",
    "# Make Prediction\n",
    "grad_pred = classifier.predict(X_test)\n",
    "pd.DataFrame({\"Prediction\": grad_pred, \"Actual\": y_test.ravel()}).head(20)"
   ]
  },
  {
   "cell_type": "code",
   "execution_count": 698,
   "metadata": {},
   "outputs": [
    {
     "name": "stdout",
     "output_type": "stream",
     "text": [
      "Accuracy Score : 0.5\n"
     ]
    }
   ],
   "source": [
    "# Calculating the accuracy score\n",
    "acc_score = accuracy_score(y_test, grad_pred)\n",
    "print(f\"Accuracy Score : {acc_score}\")"
   ]
  },
  {
   "cell_type": "code",
   "execution_count": 699,
   "metadata": {},
   "outputs": [
    {
     "name": "stdout",
     "output_type": "stream",
     "text": [
      "Confusion Matrix - Gradient Boosting\n"
     ]
    },
    {
     "data": {
      "text/html": [
       "<div>\n",
       "<style scoped>\n",
       "    .dataframe tbody tr th:only-of-type {\n",
       "        vertical-align: middle;\n",
       "    }\n",
       "\n",
       "    .dataframe tbody tr th {\n",
       "        vertical-align: top;\n",
       "    }\n",
       "\n",
       "    .dataframe thead th {\n",
       "        text-align: right;\n",
       "    }\n",
       "</style>\n",
       "<table border=\"1\" class=\"dataframe\">\n",
       "  <thead>\n",
       "    <tr style=\"text-align: right;\">\n",
       "      <th></th>\n",
       "      <th>Predicted 0</th>\n",
       "      <th>Predicted 1</th>\n",
       "    </tr>\n",
       "  </thead>\n",
       "  <tbody>\n",
       "    <tr>\n",
       "      <th>Actual 0</th>\n",
       "      <td>1</td>\n",
       "      <td>2</td>\n",
       "    </tr>\n",
       "    <tr>\n",
       "      <th>Actual 1</th>\n",
       "      <td>1</td>\n",
       "      <td>2</td>\n",
       "    </tr>\n",
       "  </tbody>\n",
       "</table>\n",
       "</div>"
      ],
      "text/plain": [
       "          Predicted 0  Predicted 1\n",
       "Actual 0            1            2\n",
       "Actual 1            1            2"
      ]
     },
     "metadata": {},
     "output_type": "display_data"
    }
   ],
   "source": [
    "# Generate the confusion matrix\n",
    "cm = confusion_matrix(y_test, grad_pred)\n",
    "cm_df = pd.DataFrame(\n",
    "    cm, index=[\"Actual 0\", \"Actual 1\"],\n",
    "    columns=[\"Predicted 0\", \"Predicted 1\"]\n",
    ")\n",
    "\n",
    "# Displaying results\n",
    "print(\"Confusion Matrix - Gradient Boosting\")\n",
    "display(cm_df)"
   ]
  },
  {
   "cell_type": "code",
   "execution_count": 700,
   "metadata": {},
   "outputs": [
    {
     "name": "stdout",
     "output_type": "stream",
     "text": [
      "Classification Report - Gradient Boosting on Imbalanced Data\n",
      "                   pre       rec       spe        f1       geo       iba       sup\n",
      "\n",
      "       -1.0       0.50      0.33      0.67      0.40      0.47      0.21         3\n",
      "        1.0       0.50      0.67      0.33      0.57      0.47      0.23         3\n",
      "\n",
      "avg / total       0.50      0.50      0.50      0.49      0.47      0.22         6\n",
      "\n"
     ]
    }
   ],
   "source": [
    "# Generate classification report\n",
    "print(\"Classification Report - Gradient Boosting on Imbalanced Data\")\n",
    "print(classification_report_imbalanced(y_test, grad_pred))"
   ]
  },
  {
   "cell_type": "code",
   "execution_count": 701,
   "metadata": {},
   "outputs": [
    {
     "data": {
      "image/png": "[encoded data removed]",
      "text/plain": [
       "<IPython.core.display.Image object>"
      ]
     },
     "execution_count": 701,
     "metadata": {},
     "output_type": "execute_result"
    }
   ],
   "source": [
    "# Graph tree\n",
    "from sklearn import tree\n",
    "\n",
    "# Needed for decision tree visualization\n",
    "import pydotplus\n",
    "from IPython.display import Image\n",
    "\n",
    "dot_data = tree.export_graphviz(\n",
    "    classifier.estimators_[12, 0],\n",
    "    out_file=None, filled=True,\n",
    "    rounded=True,\n",
    "    special_characters=True,\n",
    "    proportion=True,\n",
    ")\n",
    "graph = pydotplus.graph_from_dot_data(dot_data)\n",
    "Image(graph.create_png())"
   ]
  },
  {
   "cell_type": "code",
   "execution_count": 702,
   "metadata": {},
   "outputs": [
    {
     "data": {
      "text/plain": [
       "True"
      ]
     },
     "execution_count": 702,
     "metadata": {},
     "output_type": "execute_result"
    }
   ],
   "source": [
    "# Saving the tree as PDF\n",
    "graph.write_pdf(f\"../Images/{ticker}_GradientBoosting_tree_{training_window}_updated.pdf\")\n",
    "\n",
    "# Saving the tree as PNG\n",
    "graph.write_png(f\"../Images/{ticker}_GradientBoosting_tree_{training_window}_updated.png\")"
   ]
  },
  {
   "cell_type": "code",
   "execution_count": 703,
   "metadata": {},
   "outputs": [],
   "source": [
    "# Plot the Precision Recall Curvey for both the SMOTEENN + Logistic Regression model\n",
    "# and the Balanced Random Forest model\n",
    "from sklearn.metrics import precision_recall_curve\n",
    "\n",
    "probs_brf = brf.predict_proba(X_test)[:, 1]\n",
    "probs_adb = adb.predict_proba(X_test)[:, 1]\n",
    "probs_grad = classifier.predict_proba(X_test)[:, 1]\n",
    "\n",
    "precision_brf, recall_brf, _ = precision_recall_curve(y_test, probs_brf, pos_label=1)\n",
    "precision_adb, recall_adb, _ = precision_recall_curve(y_test, probs_adb, pos_label=1)\n",
    "precision_grad, recall_grad, _ = precision_recall_curve(y_test, probs_grad, pos_label=1)"
   ]
  },
  {
   "cell_type": "code",
   "execution_count": 704,
   "metadata": {},
   "outputs": [
    {
     "data": {
      "image/png": "[encoded data removed]",
      "text/plain": [
       "<Figure size 864x504 with 1 Axes>"
      ]
     },
     "metadata": {
      "needs_background": "light"
     },
     "output_type": "display_data"
    }
   ],
   "source": [
    "import matplotlib.pyplot as plt\n",
    "%matplotlib inline\n",
    "\n",
    "plt.figure(figsize=(12,7))\n",
    "\n",
    "plt.plot(recall_brf, precision_brf, marker='.', color='darkviolet')\n",
    "plt.plot(recall_adb, precision_adb, marker='x', color='green')\n",
    "plt.plot(recall_grad, precision_grad, marker='^', color='deeppink')\n",
    "\n",
    "plt.suptitle('Precision-Recall Curve for Random Forest [.], Easy Emsemble AdaBoost [x] and Gradient Boosting [^]')\n",
    "plt.show()"
   ]
  },
  {
   "cell_type": "code",
   "execution_count": 705,
   "metadata": {},
   "outputs": [
    {
     "data": {
      "text/plain": [
       "True"
      ]
     },
     "execution_count": 705,
     "metadata": {},
     "output_type": "execute_result"
    }
   ],
   "source": [
    "# Saving the tree as PDF\n",
    "graph.write_pdf(f\"../Images/pr_curve_brf_adb_grad_{ticker}_{training_window}d_updated.pdf\")\n",
    "\n",
    "# Saving the tree as PNG\n",
    "graph.write_png(f\"../Images/pr_curve_brf_adb_grad_{ticker}_{training_window}d_updated.png\")"
   ]
  }
 ],
 "metadata": {
  "kernelspec": {
   "display_name": "mlenv",
   "language": "python",
   "name": "mlenv"
  },
  "language_info": {
   "codemirror_mode": {
    "name": "ipython",
    "version": 3
   },
   "file_extension": ".py",
   "mimetype": "text/x-python",
   "name": "python",
   "nbconvert_exporter": "python",
   "pygments_lexer": "ipython3",
   "version": "3.7.6"
  }
 },
 "nbformat": 4,
 "nbformat_minor": 4
}
