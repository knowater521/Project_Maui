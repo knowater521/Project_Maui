{
 "cells": [
  {
   "cell_type": "markdown",
   "metadata": {},
   "source": [
    "# Section 1: Stock Selection\n",
    "\n",
    "## This file defines the stocks that a user can select to feed into the program. Stock selection is driven from a dropdown menu that passes a list as an output. This list will be fed into the IEX Finance and Reuters News API queries. "
   ]
  },
  {
   "cell_type": "code",
   "execution_count": null,
   "metadata": {},
   "outputs": [],
   "source": [
    "# importing libraries\n",
    "from pathlib import Path\n",
    "import pandas as pd\n",
    "import ipywidgets as widgets\n",
    "from ipywidgets import *\n",
    "from IPython.display import display\n",
    "from datetime import datetime, timedelta\n",
    "from iexfinance.stocks import get_historical_data\n",
    "import panel as pn\n",
    "%matplotlib inline\n",
    "pn.extension(\"plotly\")"
   ]
  },
  {
   "cell_type": "code",
   "execution_count": null,
   "metadata": {},
   "outputs": [],
   "source": [
    "# importing list of companies and converting to DataFrame\n",
    "sp500_csv = Path(\"Data/sp500_constituents.csv\")\n",
    "sp500_df = pd.read_csv(sp500_csv)\n",
    "sp500_df['Company'] = sp500_df['Name']\n",
    "sp500_df.drop(columns='Sector',inplace=True)\n",
    "sp500_df.set_index('Company', inplace=True)\n",
    "sp500_df.head()"
   ]
  },
  {
   "cell_type": "code",
   "execution_count": null,
   "metadata": {},
   "outputs": [],
   "source": [
    "# converting DataFrame to a dictionary of lists\n",
    "stock_dict = sp500_df.T.to_dict('list')"
   ]
  },
  {
   "cell_type": "code",
   "execution_count": null,
   "metadata": {},
   "outputs": [],
   "source": [
    "# creating an interactive widget that allows the user to select a company\n",
    "# TODO - export this widget to a panel along with the output widget to create the app's UI\n",
    "selector_widget = widgets.Dropdown(\n",
    "    options=stock_dict,\n",
    "    continuous_update=True)\n",
    "\n",
    "# creating panel row from widget for export to dashboard\n",
    "#row = pn.Row(selector_widget)\n",
    "\n",
    "display(selector_widget)"
   ]
  },
  {
   "cell_type": "code",
   "execution_count": null,
   "metadata": {},
   "outputs": [],
   "source": [
    "# saving the output of the selector value as a variable\n",
    "stock_selection = selector_widget.value\n",
    "\n",
    "keyword = f'{stock_selection[0]} AND {stock_selection[1]}'"
   ]
  },
  {
   "cell_type": "markdown",
   "metadata": {},
   "source": [
    "# Section 2: Stock Data Retrieval\n",
    "\n",
    "## This section pulls the last month of closing prices of a stock, calculates the daily returns, and exports the daily returns to a DataFrame. This DataFrame will be used as the target values for the machine learning model.\n",
    "\n",
    "## NOTE: to run this section, you must execute an IEX Finance API key."
   ]
  },
  {
   "cell_type": "code",
   "execution_count": null,
   "metadata": {},
   "outputs": [],
   "source": [
    "# setting the ticker to the output from the selector\n",
    "ticker = stock_selection[0]\n",
    "\n",
    "# setting start and end date for the past four weeks\n",
    "# 29 days needed instead of 28 days so that we get 28 days of return when we calculate\n",
    "end_date = datetime.now()\n",
    "start_date = end_date + timedelta(-31)\n",
    "\n",
    "# getting data from the API and adding to DataFrame\n",
    "df = get_historical_data(ticker,start_date,end_date,output_format='pandas')\n",
    "df.drop(columns=['open','high','low','volume'],inplace=True)\n",
    "df.head()"
   ]
  },
  {
   "cell_type": "code",
   "execution_count": null,
   "metadata": {},
   "outputs": [],
   "source": [
    "# checking need to clean data\n",
    "df.isnull().sum()"
   ]
  },
  {
   "cell_type": "code",
   "execution_count": null,
   "metadata": {},
   "outputs": [],
   "source": [
    "# calculating daily returns\n",
    "returns = df.pct_change() * 100\n",
    "returns.head(30)"
   ]
  },
  {
   "cell_type": "code",
   "execution_count": null,
   "metadata": {},
   "outputs": [],
   "source": [
    "# checking need to clean data\n",
    "returns.isnull().sum()"
   ]
  },
  {
   "cell_type": "code",
   "execution_count": null,
   "metadata": {},
   "outputs": [],
   "source": [
    "# cleaning returns data\n",
    "returns.dropna(inplace=True)\n",
    "returns.isnull().sum()\n",
    "returns.rename(columns={'close':'return'},inplace=True)\n",
    "returns.head(30)"
   ]
  },
  {
   "cell_type": "code",
   "execution_count": null,
   "metadata": {},
   "outputs": [],
   "source": [
    "# exporting data to CSV\n",
    "returns.to_csv('sample_returns_data.csv')"
   ]
  },
  {
   "cell_type": "markdown",
   "metadata": {},
   "source": [
    "# Section n: Buy/Sell Recommendations\n",
    "\n",
    "## This section is used to create the conditional statements that will display the outputs of the ML model, and offer buy/sell recommendations based on them. The outputs and recommendation will be displayed in a widget that will be exported to a panel dashboard along with the input widget to form the user interface."
   ]
  },
  {
   "cell_type": "code",
   "execution_count": null,
   "metadata": {},
   "outputs": [],
   "source": [
    "# importing test data\n",
    "# TODO - this will not be included in final code - this will be replaced with output from ML model below\n",
    "test_csv = Path(\"test_model_output.csv\")\n",
    "test_df = pd.read_csv(test_csv)\n",
    "\n",
    "test_df.head(8)"
   ]
  },
  {
   "cell_type": "code",
   "execution_count": null,
   "metadata": {},
   "outputs": [],
   "source": [
    "# creating accuracy selector widget for setting model accuracy threshold to feed into conditional statements\n",
    "accuracy_selector = widgets.IntSlider(\n",
    "    value=75,\n",
    "    min=0,\n",
    "    max=100,\n",
    "    step=1,\n",
    "    disabled=False,\n",
    "    continuous_update=True,\n",
    "    orientation='horizontal',\n",
    "    readout=True,\n",
    "    readout_format='d'\n",
    ")"
   ]
  },
  {
   "cell_type": "code",
   "execution_count": null,
   "metadata": {},
   "outputs": [],
   "source": [
    "# saving the output of the accuracy value as a variable\n",
    "accuracy_value = accuracy_selector.value"
   ]
  },
  {
   "cell_type": "code",
   "execution_count": null,
   "metadata": {},
   "outputs": [],
   "source": [
    "# referencing a row in the DataFrame\n",
    "# TODO - link up to actual outputs from ML model\n",
    "company_selector = 7\n",
    "\n",
    "# variables for recommendation bounds\n",
    "strong_buy_lower = .1\n",
    "buy_upper = strong_buy_lower\n",
    "buy_lower = .05\n",
    "pos_hold_upper = buy_lower\n",
    "pos_hold_lower = 0\n",
    "neg_hold_upper = pos_hold_lower\n",
    "neg_hold_lower = -.05\n",
    "sell_upper = neg_hold_lower\n",
    "sell_lower = -.1\n",
    "\n",
    "# creating conditional statement to determine buy/sell recommendations\n",
    "# TODO - link to interactive widgets that allow users to set their bands\n",
    "\n",
    "if (test_df.loc[company_selector][5]*100) > accuracy_value:\n",
    "    \n",
    "    if test_df.loc[company_selector][3] >= strong_buy_lower:\n",
    "        output = f'With a composite news sentiment score of {test_df.loc[company_selector][4]}, there is a {test_df.loc[company_selector][5]*100}% chance there will be a {test_df.loc[company_selector][3]*100}% price increase from ${test_df.loc[company_selector][1]} to ${test_df.loc[company_selector][2]}. Our recommendation: STRONG BUY.'\n",
    "    elif buy_lower <= test_df.loc[company_selector][3] < buy_upper:\n",
    "        output = f'With a composite news sentiment score of {test_df.loc[company_selector][4]}, there is a {test_df.loc[company_selector][5]*100}% chance there will be a {test_df.loc[company_selector][3]*100}% price increase from ${test_df.loc[company_selector][1]} to ${test_df.loc[company_selector][2]}. Our recommendation: BUY.'\n",
    "    elif pos_hold_lower < test_df.loc[company_selector][3] < pos_hold_upper:\n",
    "        output = f'With a composite news sentiment score of {test_df.loc[company_selector][4]}, there is a {test_df.loc[company_selector][5]*100}% chance there will be a {test_df.loc[company_selector][3]*100}% price increase from ${test_df.loc[company_selector][1]} to ${test_df.loc[company_selector][2]}. Our recommendation: HOLD.'\n",
    "    elif test_df.loc[company_selector][3] == 0:\n",
    "        output = f'With a composite news sentiment score of {test_df.loc[company_selector][4]}, there is a {test_df.loc[company_selector][5]*100}% chance there will be no price change. Our recommendation: HOLD.'\n",
    "    elif neg_hold_lower < test_df.loc[company_selector][3] < neg_hold_upper:\n",
    "        output = f'With a composite news sentiment score of {test_df.loc[company_selector][4]}, there is a {test_df.loc[company_selector][5]*100}% chance there will be a {test_df.loc[company_selector][3]*100}% price decrease from ${test_df.loc[company_selector][1]} to ${test_df.loc[company_selector][2]}. Our recommendation: HOLD.'\n",
    "    elif sell_lower < test_df.loc[company_selector][3] <= sell_upper:\n",
    "        output = f'With a composite news sentiment score of {test_df.loc[company_selector][4]}, there is a {test_df.loc[company_selector][5]*100}% chance there will be a {test_df.loc[company_selector][3]*100}% price decrease from ${test_df.loc[company_selector][1]} to ${test_df.loc[company_selector][2]}. Our recommendation: SELL.'\n",
    "    else:\n",
    "        output = f'With a composite news sentiment score of {test_df.loc[company_selector][4]}, there is a {test_df.loc[company_selector][5]*100}% chance there will be a {test_df.loc[company_selector][3]*100}% price decrease from ${test_df.loc[company_selector][1]} to ${test_df.loc[company_selector][2]}. Our recommendation: STRONG SELL.'\n",
    "        \n",
    "else: \n",
    "    output = f'Model accuracy is only {test_df.loc[company_selector][5]*100}%. We do not have enough confidence to provide an investment recommendation given the uncertainty.'\n",
    "    \n",
    "output"
   ]
  },
  {
   "cell_type": "markdown",
   "metadata": {},
   "source": [
    "# Section n: User Interface\n",
    "\n",
    "## This section is used to create the ipywidgets that will be used to trigger running the model based on user inputs, and display the model outputs + recommendations. \n"
   ]
  },
  {
   "cell_type": "code",
   "execution_count": null,
   "metadata": {},
   "outputs": [],
   "source": [
    "# creating input widget\n",
    "layout = Layout(border='solid 1.5px')\n",
    "\n",
    "selector_title = widgets.Output(layout=layout)\n",
    "selector_title.append_stdout('Choose Company:')\n",
    "\n",
    "accuracy_title = widgets.Output(layout=layout)\n",
    "accuracy_title.append_stdout('Required Model Accuracy (%):')\n",
    "\n",
    "run_button = widgets.Button(description=\"Run Model\",layout=layout)\n",
    "\n",
    "# TODO - update this function so that the whole model runs again with the new inputs when the user clicks the button\n",
    "def on_button_clicked(b):\n",
    "    display(output_widget)\n",
    "    \n",
    "run_button.on_click(on_button_clicked)\n",
    "\n",
    "input_widget = widgets.VBox([selector_title, selector_widget, \n",
    "                              accuracy_title, accuracy_selector, \n",
    "                              run_button],\n",
    "                             layout=layout\n",
    "                            )"
   ]
  },
  {
   "cell_type": "code",
   "execution_count": null,
   "metadata": {},
   "outputs": [],
   "source": [
    "# creating output widget\n",
    "\n",
    "output_text = widgets.Output()\n",
    "output_text.append_stdout(output)\n",
    "\n",
    "recommendation_title = widgets.Output(layout=layout)\n",
    "recommendation_title.append_stdout('Your Recommendation:')\n",
    "\n",
    "output_widget = widgets.VBox([recommendation_title, output_text])                            "
   ]
  },
  {
   "cell_type": "code",
   "execution_count": null,
   "metadata": {},
   "outputs": [],
   "source": [
    "# display widgets\n",
    "display(input_widget)"
   ]
  },
  {
   "cell_type": "code",
   "execution_count": null,
   "metadata": {},
   "outputs": [],
   "source": []
  }
 ],
 "metadata": {
  "kernelspec": {
   "display_name": "Python 3",
   "language": "python",
   "name": "python3"
  },
  "language_info": {
   "codemirror_mode": {
    "name": "ipython",
    "version": 3
   },
   "file_extension": ".py",
   "mimetype": "text/x-python",
   "name": "python",
   "nbconvert_exporter": "python",
   "pygments_lexer": "ipython3",
   "version": "3.7.4"
  }
 },
 "nbformat": 4,
 "nbformat_minor": 4
}
